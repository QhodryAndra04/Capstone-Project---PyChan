{
 "cells": [
  {
   "cell_type": "code",
   "execution_count": null,
   "metadata": {
    "colab": {
     "base_uri": "https://localhost:8080/"
    },
    "id": "4BTNuOLO8Aly",
    "outputId": "60469569-4993-4921-a86b-1fb5ac7e0c84"
   },
   "outputs": [
    {
     "name": "stderr",
     "output_type": "stream",
     "text": [
      "[nltk_data] Downloading package stopwords to\n",
      "[nltk_data]     C:\\Users\\USER\\AppData\\Roaming\\nltk_data...\n",
      "[nltk_data]   Package stopwords is already up-to-date!\n"
     ]
    }
   ],
   "source": [
    "import pandas as pd\n",
    "import numpy as np\n",
    "import matplotlib.pyplot as plt\n",
    "import tensorflow as tf\n",
    "from tensorflow.keras.models import Model\n",
    "import json\n",
    "import pickle\n",
    "import nltk\n",
    "from nltk.corpus import stopwords\n",
    "\n",
    "nltk.download('stopwords')\n",
    "stopWords = stopwords.words('indonesian')"
   ]
  },
  {
   "cell_type": "code",
   "execution_count": 2,
   "metadata": {},
   "outputs": [
    {
     "name": "stdout",
     "output_type": "stream",
     "text": [
      "['ada', 'adalah', 'adanya', 'adapun', 'agak', 'agaknya', 'agar', 'akan', 'akankah', 'akhir', 'akhiri', 'akhirnya', 'aku', 'akulah', 'amat', 'amatlah', 'anda', 'andalah', 'antar', 'antara', 'antaranya', 'apa', 'apaan', 'apabila', 'apakah', 'apalagi', 'apatah', 'artinya', 'asal', 'asalkan', 'atas', 'atau', 'ataukah', 'ataupun', 'awal', 'awalnya', 'bagai', 'bagaikan', 'bagaimana', 'bagaimanakah', 'bagaimanapun', 'bagi', 'bagian', 'bahkan', 'bahwa', 'bahwasanya', 'baik', 'bakal', 'bakalan', 'balik', 'banyak', 'bapak', 'baru', 'bawah', 'beberapa', 'begini', 'beginian', 'beginikah', 'beginilah', 'begitu', 'begitukah', 'begitulah', 'begitupun', 'bekerja', 'belakang', 'belakangan', 'belum', 'belumlah', 'benar', 'benarkah', 'benarlah', 'berada', 'berakhir', 'berakhirlah', 'berakhirnya', 'berapa', 'berapakah', 'berapalah', 'berapapun', 'berarti', 'berawal', 'berbagai', 'berdatangan', 'beri', 'berikan', 'berikut', 'berikutnya', 'berjumlah', 'berkali-kali', 'berkata', 'berkehendak', 'berkeinginan', 'berkenaan', 'berlainan', 'berlalu', 'berlangsung', 'berlebihan', 'bermacam', 'bermacam-macam', 'bermaksud', 'bermula', 'bersama', 'bersama-sama', 'bersiap', 'bersiap-siap', 'bertanya', 'bertanya-tanya', 'berturut', 'berturut-turut', 'bertutur', 'berujar', 'berupa', 'besar', 'betul', 'betulkah', 'biasa', 'biasanya', 'bila', 'bilakah', 'bisa', 'bisakah', 'boleh', 'bolehkah', 'bolehlah', 'buat', 'bukan', 'bukankah', 'bukanlah', 'bukannya', 'bulan', 'bung', 'cara', 'caranya', 'cukup', 'cukupkah', 'cukuplah', 'cuma', 'dahulu', 'dalam', 'dan', 'dapat', 'dari', 'daripada', 'datang', 'dekat', 'demi', 'demikian', 'demikianlah', 'dengan', 'depan', 'di', 'dia', 'diakhiri', 'diakhirinya', 'dialah', 'diantara', 'diantaranya', 'diberi', 'diberikan', 'diberikannya', 'dibuat', 'dibuatnya', 'didapat', 'didatangkan', 'digunakan', 'diibaratkan', 'diibaratkannya', 'diingat', 'diingatkan', 'diinginkan', 'dijawab', 'dijelaskan', 'dijelaskannya', 'dikarenakan', 'dikatakan', 'dikatakannya', 'dikerjakan', 'diketahui', 'diketahuinya', 'dikira', 'dilakukan', 'dilalui', 'dilihat', 'dimaksud', 'dimaksudkan', 'dimaksudkannya', 'dimaksudnya', 'diminta', 'dimintai', 'dimisalkan', 'dimulai', 'dimulailah', 'dimulainya', 'dimungkinkan', 'dini', 'dipastikan', 'diperbuat', 'diperbuatnya', 'dipergunakan', 'diperkirakan', 'diperlihatkan', 'diperlukan', 'diperlukannya', 'dipersoalkan', 'dipertanyakan', 'dipunyai', 'diri', 'dirinya', 'disampaikan', 'disebut', 'disebutkan', 'disebutkannya', 'disini', 'disinilah', 'ditambahkan', 'ditandaskan', 'ditanya', 'ditanyai', 'ditanyakan', 'ditegaskan', 'ditujukan', 'ditunjuk', 'ditunjuki', 'ditunjukkan', 'ditunjukkannya', 'ditunjuknya', 'dituturkan', 'dituturkannya', 'diucapkan', 'diucapkannya', 'diungkapkan', 'dong', 'dua', 'dulu', 'empat', 'enggak', 'enggaknya', 'entah', 'entahlah', 'guna', 'gunakan', 'hal', 'hampir', 'hanya', 'hanyalah', 'hari', 'harus', 'haruslah', 'harusnya', 'hendak', 'hendaklah', 'hendaknya', 'hingga', 'ia', 'ialah', 'ibarat', 'ibaratkan', 'ibaratnya', 'ibu', 'ikut', 'ingat', 'ingat-ingat', 'ingin', 'inginkah', 'inginkan', 'ini', 'inikah', 'inilah', 'itu', 'itukah', 'itulah', 'jadi', 'jadilah', 'jadinya', 'jangan', 'jangankan', 'janganlah', 'jauh', 'jawab', 'jawaban', 'jawabnya', 'jelas', 'jelaskan', 'jelaslah', 'jelasnya', 'jika', 'jikalau', 'juga', 'jumlah', 'jumlahnya', 'justru', 'kala', 'kalau', 'kalaulah', 'kalaupun', 'kalian', 'kami', 'kamilah', 'kamu', 'kamulah', 'kan', 'kapan', 'kapankah', 'kapanpun', 'karena', 'karenanya', 'kasus', 'kata', 'katakan', 'katakanlah', 'katanya', 'ke', 'keadaan', 'kebetulan', 'kecil', 'kedua', 'keduanya', 'keinginan', 'kelamaan', 'kelihatan', 'kelihatannya', 'kelima', 'keluar', 'kembali', 'kemudian', 'kemungkinan', 'kemungkinannya', 'kenapa', 'kepada', 'kepadanya', 'kesampaian', 'keseluruhan', 'keseluruhannya', 'keterlaluan', 'ketika', 'khususnya', 'kini', 'kinilah', 'kira', 'kira-kira', 'kiranya', 'kita', 'kitalah', 'kok', 'kurang', 'lagi', 'lagian', 'lah', 'lain', 'lainnya', 'lalu', 'lama', 'lamanya', 'lanjut', 'lanjutnya', 'lebih', 'lewat', 'lima', 'luar', 'macam', 'maka', 'makanya', 'makin', 'malah', 'malahan', 'mampu', 'mampukah', 'mana', 'manakala', 'manalagi', 'masa', 'masalah', 'masalahnya', 'masih', 'masihkah', 'masing', 'masing-masing', 'mau', 'maupun', 'melainkan', 'melakukan', 'melalui', 'melihat', 'melihatnya', 'memang', 'memastikan', 'memberi', 'memberikan', 'membuat', 'memerlukan', 'memihak', 'meminta', 'memintakan', 'memisalkan', 'memperbuat', 'mempergunakan', 'memperkirakan', 'memperlihatkan', 'mempersiapkan', 'mempersoalkan', 'mempertanyakan', 'mempunyai', 'memulai', 'memungkinkan', 'menaiki', 'menambahkan', 'menandaskan', 'menanti', 'menanti-nanti', 'menantikan', 'menanya', 'menanyai', 'menanyakan', 'mendapat', 'mendapatkan', 'mendatang', 'mendatangi', 'mendatangkan', 'menegaskan', 'mengakhiri', 'mengapa', 'mengatakan', 'mengatakannya', 'mengenai', 'mengerjakan', 'mengetahui', 'menggunakan', 'menghendaki', 'mengibaratkan', 'mengibaratkannya', 'mengingat', 'mengingatkan', 'menginginkan', 'mengira', 'mengucapkan', 'mengucapkannya', 'mengungkapkan', 'menjadi', 'menjawab', 'menjelaskan', 'menuju', 'menunjuk', 'menunjuki', 'menunjukkan', 'menunjuknya', 'menurut', 'menuturkan', 'menyampaikan', 'menyangkut', 'menyatakan', 'menyebutkan', 'menyeluruh', 'menyiapkan', 'merasa', 'mereka', 'merekalah', 'merupakan', 'meski', 'meskipun', 'meyakini', 'meyakinkan', 'minta', 'mirip', 'misal', 'misalkan', 'misalnya', 'mula', 'mulai', 'mulailah', 'mulanya', 'mungkin', 'mungkinkah', 'nah', 'naik', 'namun', 'nanti', 'nantinya', 'nyaris', 'nyatanya', 'oleh', 'olehnya', 'pada', 'padahal', 'padanya', 'pak', 'paling', 'panjang', 'pantas', 'para', 'pasti', 'pastilah', 'penting', 'pentingnya', 'per', 'percuma', 'perlu', 'perlukah', 'perlunya', 'pernah', 'persoalan', 'pertama', 'pertama-tama', 'pertanyaan', 'pertanyakan', 'pihak', 'pihaknya', 'pukul', 'pula', 'pun', 'punya', 'rasa', 'rasanya', 'rata', 'rupanya', 'saat', 'saatnya', 'saja', 'sajalah', 'saling', 'sama', 'sama-sama', 'sambil', 'sampai', 'sampai-sampai', 'sampaikan', 'sana', 'sangat', 'sangatlah', 'satu', 'saya', 'sayalah', 'se', 'sebab', 'sebabnya', 'sebagai', 'sebagaimana', 'sebagainya', 'sebagian', 'sebaik', 'sebaik-baiknya', 'sebaiknya', 'sebaliknya', 'sebanyak', 'sebegini', 'sebegitu', 'sebelum', 'sebelumnya', 'sebenarnya', 'seberapa', 'sebesar', 'sebetulnya', 'sebisanya', 'sebuah', 'sebut', 'sebutlah', 'sebutnya', 'secara', 'secukupnya', 'sedang', 'sedangkan', 'sedemikian', 'sedikit', 'sedikitnya', 'seenaknya', 'segala', 'segalanya', 'segera', 'seharusnya', 'sehingga', 'seingat', 'sejak', 'sejauh', 'sejenak', 'sejumlah', 'sekadar', 'sekadarnya', 'sekali', 'sekali-kali', 'sekalian', 'sekaligus', 'sekalipun', 'sekarang', 'sekarang', 'sekecil', 'seketika', 'sekiranya', 'sekitar', 'sekitarnya', 'sekurang-kurangnya', 'sekurangnya', 'sela', 'selain', 'selaku', 'selalu', 'selama', 'selama-lamanya', 'selamanya', 'selanjutnya', 'seluruh', 'seluruhnya', 'semacam', 'semakin', 'semampu', 'semampunya', 'semasa', 'semasih', 'semata', 'semata-mata', 'semaunya', 'sementara', 'semisal', 'semisalnya', 'sempat', 'semua', 'semuanya', 'semula', 'sendiri', 'sendirian', 'sendirinya', 'seolah', 'seolah-olah', 'seorang', 'sepanjang', 'sepantasnya', 'sepantasnyalah', 'seperlunya', 'seperti', 'sepertinya', 'sepihak', 'sering', 'seringnya', 'serta', 'serupa', 'sesaat', 'sesama', 'sesampai', 'sesegera', 'sesekali', 'seseorang', 'sesuatu', 'sesuatunya', 'sesudah', 'sesudahnya', 'setelah', 'setempat', 'setengah', 'seterusnya', 'setiap', 'setiba', 'setibanya', 'setidak-tidaknya', 'setidaknya', 'setinggi', 'seusai', 'sewaktu', 'siap', 'siapa', 'siapakah', 'siapapun', 'sini', 'sinilah', 'soal', 'soalnya', 'suatu', 'sudah', 'sudahkah', 'sudahlah', 'supaya', 'tadi', 'tadinya', 'tahu', 'tahun', 'tak', 'tambah', 'tambahnya', 'tampak', 'tampaknya', 'tandas', 'tandasnya', 'tanpa', 'tanya', 'tanyakan', 'tanyanya', 'tapi', 'tegas', 'tegasnya', 'telah', 'tempat', 'tengah', 'tentang', 'tentu', 'tentulah', 'tentunya', 'tepat', 'terakhir', 'terasa', 'terbanyak', 'terdahulu', 'terdapat', 'terdiri', 'terhadap', 'terhadapnya', 'teringat', 'teringat-ingat', 'terjadi', 'terjadilah', 'terjadinya', 'terkira', 'terlalu', 'terlebih', 'terlihat', 'termasuk', 'ternyata', 'tersampaikan', 'tersebut', 'tersebutlah', 'tertentu', 'tertuju', 'terus', 'terutama', 'tetap', 'tetapi', 'tiap', 'tiba', 'tiba-tiba', 'tidak', 'tidakkah', 'tidaklah', 'tiga', 'tinggi', 'toh', 'tunjuk', 'turut', 'tutur', 'tuturnya', 'ucap', 'ucapnya', 'ujar', 'ujarnya', 'umum', 'umumnya', 'ungkap', 'ungkapnya', 'untuk', 'usah', 'usai', 'waduh', 'wah', 'wahai', 'waktu', 'waktunya', 'walau', 'walaupun', 'wong', 'yaitu', 'yakin', 'yakni', 'yang']\n"
     ]
    }
   ],
   "source": [
    "print(stopWords)"
   ]
  },
  {
   "cell_type": "code",
   "execution_count": 3,
   "metadata": {
    "id": "F7HNBocz8Ggc"
   },
   "outputs": [],
   "source": [
    "path ='./datasets/medical-relatedID.json'\n",
    "with open(path,'rb') as file:\n",
    "    data = json.load(file)"
   ]
  },
  {
   "cell_type": "code",
   "execution_count": 4,
   "metadata": {
    "colab": {
     "base_uri": "https://localhost:8080/"
    },
    "id": "ePn_pVB48IOg",
    "outputId": "5723ca22-6c33-43af-8b3b-6b62aae6082d"
   },
   "outputs": [
    {
     "name": "stdout",
     "output_type": "stream",
     "text": [
      "246\n",
      "55\n",
      "246\n",
      "['Apa yang harus dilakukan jika terpotong?', 'Bagaimana cara menyembuhkan luka?', 'Obat apa yang harus dipakai untuk luka?', 'apa yang harus diaplikasikan pada luka?', 'Potongan', 'Bagaimana cara mengobati lecet?', 'Apakah abrasi menimbulkan bekas luka?', 'Lecet', 'apa yang harus dilakukan jika terjadi lecet?']\n",
      "['Potongan', 'Potongan', 'Potongan', 'Potongan', 'Potongan', 'Lecet', 'Lecet', 'Lecet', 'Lecet']\n"
     ]
    }
   ],
   "source": [
    "patterns = []\n",
    "tags = []\n",
    "responses = {}\n",
    "\n",
    "for intent in data['intents']:\n",
    "    for pattern in intent['patterns']:\n",
    "        patterns.append(pattern)\n",
    "        tags.append(intent['tag'])\n",
    "    responses[intent['tag']] = intent['responses']\n",
    "\n",
    "print(len(patterns))\n",
    "print(len(responses))\n",
    "print(len(tags))\n",
    "print(patterns[0:9])\n",
    "print(tags[0:9])\n",
    "\n",
    "pickle.dump(tags,open('./model/tags.pkl','wb'))\n",
    "pickle.dump(responses,open('./model/responses.pkl','wb'))"
   ]
  },
  {
   "cell_type": "code",
   "execution_count": 5,
   "metadata": {},
   "outputs": [],
   "source": [
    "factory = StemmerFactory()\n",
    "stemmer = factory.create_stemmer()"
   ]
  },
  {
   "cell_type": "code",
   "execution_count": 6,
   "metadata": {},
   "outputs": [
    {
     "name": "stdout",
     "output_type": "stream",
     "text": [
      "['apa yang harus laku jika potong', 'bagaimana cara sembuh luka', 'obat apa yang harus pakai untuk luka', 'apa yang harus aplikasi pada luka', 'potong', 'bagaimana cara obat lecet', 'apakah abrasi timbul bekas luka', 'lecet', 'apa yang harus laku jika jadi lecet', 'obat apa yang harus guna untuk luka lecet', 'bagaimana cara sembuh lecet', 'bagaimana anda obat sting', 'sengat', 'apa yang harus laku jika anda sengat', 'obat apa yang guna jika sengat', 'cara hilang serpih', 'bagaimana cara sembuh serpih', 'apa yang harus saya laku bila saya kena serpih', 'bagaimana cara anda bawa serpih ke muka', 'bagaimana cara obat kilir', 'apa yang harus saya laku jika saya kilir', 'krim apa yang harus guna jika saya kilir', 'obat apa yang harus guna jika saya kilir', 'bagaimana cara obat tegang', 'apa yang harus saya laku jika saya serang strain', 'krim apa yang harus guna jika saya serang tegang otot', 'obat apa yang harus saya guna jika saya serang strain', 'bagaimana anda diagnosis suatu strain', 'apakah panas atau es lebih baik untuk otot yang tarik', 'bagaimana cara obat demam ringan', 'apa yang harus saya laku jika saya demam ringan', 'obat apa yang harus minum jika saya demam ringan', 'demam', 'bagaimana cara obat hidung sumbat', 'apa yang harus saya laku jika hidung saya sumbat', 'obat apa yang harus minum jika saya hidung sumbat', 'apa yang harus saya laku jika hidung saya sumbat', 'bagaimana cara obat hidung sumbat', 'berapa lama hidung sumbat langsung', 'bagaimana cara sembuh batuk', 'bagaimana cara obat batuk', 'apa yang harus saya laku jika saya batuk', 'obat apa yang harus minum jika saya batuk', 'bagaimana cara hilang batuk', 'bagaimana cara obat sakit tenggorok', 'apa yang harus saya laku jika saya sakit tenggorok', 'obat apa yang harus saya minum jika saya sakit tenggorok', 'bagaimana cara sembuh sakit tenggorok', 'bagaimana anda atas masalah gas', 'apa yang harus saya laku jika saya milik masalah gastrointestinal', 'obat apa yang harus saya minum jika saya alami masalah gas', 'bagaimana cara atas masalah gas', 'bagaimana anda atas masalah kulit', 'apa yang harus saya laku jika saya kena alergi kulit', 'obat apa yang harus saya minum jika saya alami alergi kulit', 'bagaimana cara sembuh alergi kulit', 'bagaimana anda obat sakit perut', 'apa yang harus saya laku jika saya rasa sakit perut', 'obat apa yang harus minum jika saya rasa sakit perut', 'bagaimana cara sembuh sakit perut', 'bagaimana cara obat memar', 'apa yang harus saya laku jika saya dapat memar', 'obat apa yang harus saya minum jika saya alami memar', 'bagaimana cara sembuh memar', 'bagaimana cara obat jari kaki yang patah', 'apa yang harus saya laku jika jari kaki saya patah', 'obat apa yang harus saya minum jika saya alami patah jari kaki', 'bagaimana cara sembuh jari kaki patah', 'bagaimana cara obat sedak', 'apa yang harus saya laku jika saya sedak', 'obat apa yang harus saya minum jika saya sedak', 'bagaimana cara sembuh sedak', 'bagaimana cara rawat luka', 'apa yang harus saya laku jika saya dapat luka', 'obat apa yang harus saya minum jika saya luka', 'bagaimana cara sembuh luka', 'bagaimana cara obat diare', 'apa yang harus saya laku jika saya kena diare', 'obat apa yang harus minum jika saya kena diare', 'bagaimana cara sembuh diare', 'bagaimana cara obat gigit frost', 'apa yang harus saya laku jika saya kena gigit frost', 'obat apa yang harus saya minum jika saya kena gigit frost', 'bagaimana cara sembuh frost bite', 'bagaimana cara obat lelah akibat panas', 'apa yang harus saya laku jika saya rasa lelah karena panas', 'obat apa yang harus saya minum jika saya lelah', 'bagaimana cara sembuh lelah akibat panas', 'bagaimana cara obat sengat panas', 'apa yang harus saya laku jika saya kena heat stroke', 'obat apa yang harus saya minum jika saya kena stroke', 'bagaimana cara sembuh sengat panas', 'bagaimana cara obat gigit serangga', 'apa yang harus saya laku jika gigit serangga', 'obat apa yang harus saya minum jika saya gigit serangga', 'bagaimana cara sembuh gigit serangga', 'bagaimana cara obat hidung darah', 'apa yang harus laku jika hidung saya darah', 'obat apa yang harus minum jika saya mimisan', 'bagaimana cara sembuh mimisan', 'bagaimana cara obat otot yang tarik', 'apa yang harus saya laku jika otot saya tarik', 'obat apa yang harus saya minum jika otot saya tarik', 'bagaimana cara sembuh otot yang tarik', 'bagaimana cara obat darah rektal', 'apa yang harus saya laku jika saya alami darah rektal', 'obat apa yang harus minum jika saya alami darah rektal', 'bagaimana cara sembuh darah rektal', 'bagaimana cara obat kulit bakar akibat sinar matahari', 'apa yang harus saya laku jika saya bakar matahari', 'obat apa yang harus saya minum jika saya kena kulit bakar sinar matahari', 'bagaimana cara sembuh kulit bakar akibat sinar matahari', 'bagaimana cara obat nyeri testis', 'apa yang harus saya laku jika saya rasa nyeri testis', 'obat apa yang harus minum jika saya rasa nyeri testis', 'bagaimana cara sembuh nyeri testis', 'bagaimana cara obat vertigo', 'apa yang harus saya laku jika saya kena vertigo', 'obat apa yang harus minum jika saya kena vertigo', 'bagaimana cara sembuh vertigo', 'bagaimana cara obat darah', 'apa yang harus saya laku jika saya alami darah', 'obat apa yang harus saya minum jika saya alami darah', 'bagaimana cara sembuh darah', 'bagaimana cara obat cedera mata', 'apa yang harus saya laku jika saya alami cedera mata', 'obat apa yang harus minum jika mata saya cedera', 'bagaimana cara sembuh mata yang luka', 'bagaimana cara obat luka bakar kimia', 'apa yang harus saya laku jika saya kena luka bakar kimia', 'obat apa yang harus saya minum jika saya bakar akibat bahan kimia', 'bagaimana cara sembuh luka bakar kimia', 'bagaimana cara obat racun', 'apa yang harus saya laku jika saya kena racun', 'obat apa yang harus saya minum jika saya racun', 'bagaimana cara sembuh racun', 'bagaimana cara rawat gigi yang patah', 'apa yang harus saya laku jika gigi saya patah', 'obat apa yang harus saya minum jika gigi saya patah', 'sembuh gigi patah', 'bagaimana cara obat kejang', 'apa yang harus saya laku jika saya alami kejang', 'obat apa yang harus minum jika saya kejang', 'bagaimana cara sembuh kejang', 'bagaimana cara obat cedera kepala', 'apa yang harus saya laku jika saya alami cedera kepala', 'obat apa yang harus minum jika saya luka di kepala', 'bagaimana cara sembuh cedera kepala', 'bagaimana cara obat pingsan', 'apa yang harus saya laku jika saya rasa ingin pingsan', 'obat apa yang harus minum jika saya pingsan', 'bagaimana cara sembuh pingsan', 'bagaimana cara obat sakit kepala ringan', 'apa yang harus saya laku jika saya alami sakit kepala ringan', 'obat apa yang harus saya minum jika saya alami sakit kepala ringan', 'bagaimana cara sembuh sakit kepala ringan', 'bagaimana cara obat pilek', 'apa yang harus saya laku jika saya serang flu ringan', 'obat apa yang harus minum jika saya pilek', 'bagaimana cara sembuh pilek', 'bagaimana cara obat ruam', 'apa yang harus saya laku jika saya kena ruam', 'obat apa yang harus saya minum jika saya alami ruam', 'bagaimana cara sembuh ruam', 'bagaimana cara obat gigit ular', 'apa yang harus saya laku jika saya gigit ular', 'obat apa yang harus saya minum jika saya gigit ular', 'bagaimana cara sembuh gigit ular', 'aku gigit ular', 'bagaimana cara obat gigit hewan', 'bagaimana cara obat gigit monyet', 'bagaimana cara obat gigit anjing', 'apa yang harus saya laku jika saya gigit binatang', 'obat apa yang harus saya minum jika saya gigit monyet', 'bagaimana cara sembuh gigit anjing', 'aku gigit anjing', 'apa yang harus laku jika orang tenggelam', 'apa yang harus laku jika orang tenggelam', 'tindak apa yang harus ambil jika saya lihat orang tenggelam', 'bagaimana cara tolong orang yang tenggelam', 'bagaimana cara beri cpr', 'apa yang harus laku dalam cpr', 'langkah apa yang harus laku dalam cpr', 'bagaimana cara tolong orang yang tenggelam dengan cpr', 'bagaimana cara obat fraktur', 'apa yang harus saya laku jika saya kena patah tulang', 'obat apa yang harus saya minum jika saya alami patah tulang', 'bagaimana cara sembuh patah tulang', 'bagaimana cara obat luka bakar', 'awat luka bakar', 'apa yang harus guna pada luka bakar', 'obat apa yang guna untuk luka bakar', 'bagaimana cara sembuh luka bakar', 'luka bakar', 'bagaimana cara obat lepuh', 'apa yang harus laku jika bentuk lepuh', 'obat apa yang guna untuk obat lepuh', 'awat lepuh', 'lepuh', 'bagaimana cara obat kulit bakar matahari', 'apa yang harus laku jika bakar matahari', 'obat apa yang guna untuk kulit bakar matahari', 'obat kulit bakar sinar matahari', 'awat kulit bakar matahari', 'bagaimana cara obat radang dingin', 'apa yang harus laku jika alami radang dingin', 'obat apa yang guna untuk radang dingin', 'awat radang dingin', 'obat radang dingin', 'bagaimana cara henti mimisan', 'awat mimisan', 'apa yang harus laku jika mimisan jadi', 'bagaimana cara obat mimisan', 'mimisan', 'bagaimana cara obat reaksi alergi', 'awat reaksi alergi', 'apa yang harus laku jika jadi reaksi alergi', 'obat apa yang harus minum untuk reaksi alergi', 'reaksi alergi', 'bagaimana cara obat hipotermia', 'apa yang harus laku jika orang alami hipotermia', 'awat hipotermia', 'bagaimana cara cegah hipotermia', 'obat hipotermia', 'bagaimana cara obat racun makan', 'apa yang harus laku jika anda racun makan', 'awat racun makan', 'apa yang harus minum jika jadi racun makan', 'gejala racun makan', 'bagaimana cara obat mata gatal', 'apa obat baik untuk mata gatal', 'mata gatal', 'bagaimana cara sembuh mata gatal', 'mengapa mata gatal', 'bagaimana cara obat gatal', 'obat apa yang paling ampuh untuk atas gatal', 'gatal pada kulit', 'bagaimana cara sembuh kulit gatal', 'mengapa kulit saya gatal', 'mengapa saya rasa gatal', 'bagaimana cara obat sakit mata', 'apa obat baik untuk sakit mata', 'mengapa mata sakit', 'bagaimana cara hilang sakit mata', 'mata asa sakit', 'apa yang harus laku jika mata asa sakit']\n"
     ]
    }
   ],
   "source": [
    "newPatern = []\n",
    "\n",
    "for patern in patterns:\n",
    "    newPatern.append(stemmer.stem(patern))\n",
    "\n",
    "print(newPatern)\n",
    "\n",
    "pickle.dump(newPatern,open('./model/patterns.pkl','wb'))"
   ]
  },
  {
   "cell_type": "code",
   "execution_count": 7,
   "metadata": {
    "id": "hFRlXpaM8NsF"
   },
   "outputs": [],
   "source": [
    "def splitDataset(inputs, labels):\n",
    "    totalData = len(inputs)\n",
    "    valSize = int(totalData * 0.2)\n",
    "    valSplit = list(range(0, valSize * 5, 5))\n",
    "    trainSplit = [i for i in range(totalData) if i not in valSplit]\n",
    "\n",
    "\n",
    "    trainTexts = [inputs[i] for i in trainSplit]\n",
    "    valTexts = [inputs[i] for i in valSplit]\n",
    "    trainLabels = [labels[i] for i in trainSplit]\n",
    "    valLabels = [labels[i] for i in valSplit]\n",
    "\n",
    "    trainDataset = tf.data.Dataset.from_tensor_slices((trainTexts, trainLabels))\n",
    "    valDataset = tf.data.Dataset.from_tensor_slices((valTexts, valLabels))\n",
    "\n",
    "    return trainDataset, valDataset\n",
    "    \n",
    "trainDataset, valDataset = splitDataset(newPatern, tags)"
   ]
  },
  {
   "cell_type": "code",
   "execution_count": 8,
   "metadata": {
    "colab": {
     "base_uri": "https://localhost:8080/"
    },
    "id": "eSTJFVGu8dhb",
    "outputId": "e7c4ccdd-31cc-4d29-9718-e18316c4fa7a"
   },
   "outputs": [
    {
     "name": "stdout",
     "output_type": "stream",
     "text": [
      "There are 197 sentence-label pairs for training.\n",
      "\n",
      "There are 49 sentence-label pairs for validation.\n",
      "\n",
      "<_TensorSliceDataset element_spec=(TensorSpec(shape=(), dtype=tf.string, name=None), TensorSpec(shape=(), dtype=tf.string, name=None))>\n",
      "<_TensorSliceDataset element_spec=(TensorSpec(shape=(), dtype=tf.string, name=None), TensorSpec(shape=(), dtype=tf.string, name=None))>\n"
     ]
    }
   ],
   "source": [
    "print(f\"There are {trainDataset.cardinality()} sentence-label pairs for training.\\n\")\n",
    "print(f\"There are {valDataset.cardinality()} sentence-label pairs for validation.\\n\")\n",
    "\n",
    "print(trainDataset)\n",
    "print(valDataset)"
   ]
  },
  {
   "cell_type": "code",
   "execution_count": 9,
   "metadata": {},
   "outputs": [
    {
     "name": "stdout",
     "output_type": "stream",
     "text": [
      "(b'bagaimana cara sembuh luka', b'Potongan')\n",
      "(b'obat apa yang harus pakai untuk luka', b'Potongan')\n",
      "(b'apa yang harus aplikasi pada luka', b'Potongan')\n",
      "(b'potong', b'Potongan')\n",
      "(b'apakah abrasi timbul bekas luka', b'Lecet')\n",
      "(b'lecet', b'Lecet')\n",
      "(b'apa yang harus laku jika jadi lecet', b'Lecet')\n",
      "(b'obat apa yang harus guna untuk luka lecet', b'Lecet')\n",
      "(b'bagaimana anda obat sting', b'sengatan')\n",
      "(b'sengat', b'sengatan')\n",
      "(b'apa yang harus laku jika potong', b'Potongan')\n",
      "(b'bagaimana cara obat lecet', b'Lecet')\n",
      "(b'bagaimana cara sembuh lecet', b'Lecet')\n",
      "(b'cara hilang serpih', b'Terpecah')\n",
      "(b'apa yang harus saya laku jika saya kilir', b'Terkilir')\n",
      "(b'krim apa yang harus guna jika saya serang tegang otot', b'Ketegangan')\n",
      "(b'apa yang harus saya laku jika saya demam ringan', b'Demam')\n",
      "(b'obat apa yang harus minum jika saya hidung sumbat', b'Hidung tersumbat')\n",
      "(b'bagaimana cara obat batuk', b'Batuk')\n",
      "(b'apa yang harus saya laku jika saya sakit tenggorok', b'Sakit tenggorokan')\n"
     ]
    }
   ],
   "source": [
    "for data in trainDataset.take(10).as_numpy_iterator():\n",
    "    print(data)\n",
    "\n",
    "for data in valDataset.take(10).as_numpy_iterator():\n",
    "    print(data)"
   ]
  },
  {
   "cell_type": "code",
   "execution_count": 10,
   "metadata": {
    "id": "496qQ9qn88iM"
   },
   "outputs": [],
   "source": [
    "def standardizeFunc(sentence):\n",
    "    stopwords = stopWords\n",
    "    sentence = tf.strings.lower(sentence)\n",
    "\n",
    "    for word in stopwords:\n",
    "        if word[0] == \"'\":\n",
    "            sentence = tf.strings.regex_replace(sentence, rf\"{word}\\b\", \"\")\n",
    "        else:\n",
    "            sentence = tf.strings.regex_replace(sentence, rf\"\\b{word}\\b\", \"\")\n",
    "    sentence = tf.strings.regex_replace(sentence, r'[!\"#$%&()\\*\\+,-\\./:;<=>?@\\[\\\\\\]^_`{|}~\\']', \"\")\n",
    "\n",
    "    return sentence"
   ]
  },
  {
   "cell_type": "code",
   "execution_count": 11,
   "metadata": {
    "id": "dwmNSmLj9CNw"
   },
   "outputs": [],
   "source": [
    "maxLeght = 30\n",
    "def fitVectorizer(trainSentences, standardizeFunc):\n",
    "    vectorizer = tf.keras.layers.TextVectorization(\n",
    "\t\tstandardize=standardizeFunc,\n",
    "    output_sequence_length=maxLeght\n",
    "\t)\n",
    "    vectorizer.adapt(trainSentences)\n",
    "    return vectorizer"
   ]
  },
  {
   "cell_type": "code",
   "execution_count": 12,
   "metadata": {
    "colab": {
     "base_uri": "https://localhost:8080/"
    },
    "id": "p_gFkqd29HB1",
    "outputId": "a67c74de-a4e5-4c83-9783-b3efa01cad02"
   },
   "outputs": [
    {
     "name": "stdout",
     "output_type": "stream",
     "text": [
      "Vocabulary contains 108 words\n",
      "\n"
     ]
    }
   ],
   "source": [
    "textDataset = trainDataset.map(lambda text, label: text)\n",
    "vectorizer = fitVectorizer(textDataset, standardizeFunc)\n",
    "vocabSize = vectorizer.vocabulary_size()\n",
    "\n",
    "print(f\"Vocabulary contains {vocabSize} words\\n\")"
   ]
  },
  {
   "cell_type": "code",
   "execution_count": 13,
   "metadata": {
    "id": "5aP1mQyf9OWE"
   },
   "outputs": [],
   "source": [
    "def fitLabelEncoder(trainLabel, valLabel):\n",
    "    labels = trainLabel.concatenate(valLabel) \n",
    "\n",
    "    labelEncoder = tf.keras.layers.StringLookup(num_oov_indices=0)\n",
    "    labelEncoder.adapt(labels)\n",
    "\n",
    "    return labelEncoder"
   ]
  },
  {
   "cell_type": "code",
   "execution_count": 14,
   "metadata": {
    "colab": {
     "base_uri": "https://localhost:8080/"
    },
    "id": "4xd5fMz69PZL",
    "outputId": "4cffb0b2-f6bd-431b-b190-84de5de8e1ca"
   },
   "outputs": [
    {
     "name": "stdout",
     "output_type": "stream",
     "text": [
      "Unique labels: ['gigitan binatang', 'Sakit Mata', 'Luka bakar', 'Lecet', 'Ketegangan', 'Hidung tersumbat', 'Gatal', 'gigitan ular', 'Terbakar sinar matahari', 'Reaksi Alergi', 'Radang dingin', 'Potongan', 'Mimisan', 'Melepuh', 'Mata Gatal', 'Keracunan Makanan', 'Hipotermia', 'Batuk', 'sengatan', 'mimisan', 'kejang', 'Tersedak', 'Terpecah', 'Terkilir', 'Tenggelam', 'Serangan Panas', 'Sakit tenggorokan', 'Sakit kepala', 'Sakit Perut', 'Ruam', 'Resusitasi Jantung Paru (RJP)', 'Racun', 'Pusing', 'Pingsan', 'Perdarahan Normal', 'Pendarahan rektal', 'Patah', 'Otot Tertarik', 'Nyeri Testis', 'Memar', 'Masalah kulit', 'Masalah gastrointestinal', 'Luka Bakar Kimia', 'Luka', 'Kulit terbakar akibat sinar matahari', 'Kelelahan Akibat Panas', 'Jari Kaki Patah', 'Gigitan embun beku', 'Gigitan Serangga', 'Gigi', 'Dingin', 'Diare', 'Demam', 'Cedera Mata', 'Cedera Kepala']\n",
      "Number of unique labels: 55\n"
     ]
    }
   ],
   "source": [
    "trainLabels = trainDataset.map(lambda text, label: label)\n",
    "valLabels = valDataset.map(lambda text, label: label)\n",
    "\n",
    "labelEncoder = fitLabelEncoder(trainLabels,valLabels)\n",
    "uniqLabel = len(labelEncoder.get_vocabulary())\n",
    "\n",
    "print(f'Unique labels: {labelEncoder.get_vocabulary()}')\n",
    "print(f'Number of unique labels: {uniqLabel}')"
   ]
  },
  {
   "cell_type": "code",
   "execution_count": 15,
   "metadata": {
    "id": "kvsZcsA09lRE"
   },
   "outputs": [],
   "source": [
    "def preprocessDataset(dataset, textVectorizer, labelEncoder):\n",
    "    dataset = dataset.map(lambda text, label: (textVectorizer(text), labelEncoder(label)))\n",
    "    dataset = dataset.batch(8)\n",
    "\n",
    "    return dataset"
   ]
  },
  {
   "cell_type": "code",
   "execution_count": 16,
   "metadata": {
    "colab": {
     "base_uri": "https://localhost:8080/"
    },
    "id": "j1-v-fIB9uGd",
    "outputId": "b8d557d5-c9a6-4f5c-935a-907dcde58171"
   },
   "outputs": [
    {
     "name": "stdout",
     "output_type": "stream",
     "text": [
      "batch train dataset: 25\n",
      "batch validation dataset: 7\n",
      "Shape train batch: (8, 30)\n",
      "Shape validation batch: (8, 30)\n"
     ]
    }
   ],
   "source": [
    "trainProcDataset = preprocessDataset(trainDataset, vectorizer, labelEncoder)\n",
    "valProcDataset = preprocessDataset(valDataset, vectorizer, labelEncoder)\n",
    "\n",
    "print(f\"batch train dataset: {trainProcDataset.cardinality()}\")\n",
    "print(f\"batch validation dataset: {valProcDataset.cardinality()}\")\n",
    "\n",
    "trainBatch = next(trainProcDataset.as_numpy_iterator())\n",
    "valBatch = next(valProcDataset.as_numpy_iterator())\n",
    "\n",
    "print(f\"Shape train batch: {trainBatch[0].shape}\")\n",
    "print(f\"Shape validation batch: {valBatch[0].shape}\")"
   ]
  },
  {
   "cell_type": "code",
   "execution_count": 17,
   "metadata": {
    "id": "6AmMPNGg93U_"
   },
   "outputs": [],
   "source": [
    "def create_model():\n",
    "    inputLayer = tf.keras.Input(shape=(None,))\n",
    "\n",
    "    embedLayer = tf.keras.layers.Embedding(input_dim=vocabSize, output_dim=64)(inputLayer)\n",
    "    bilLSTM1 = tf.keras.layers.Bidirectional(tf.keras.layers.LSTM(64, return_sequences=False))(embedLayer)\n",
    "    dense1 = tf.keras.layers.Dense(32, activation='relu')(bilLSTM1)\n",
    "    dropout1 = tf.keras.layers.Dropout(0.3)(dense1)\n",
    "    outputLayer = tf.keras.layers.Dense(uniqLabel, activation='softmax')(dropout1)\n",
    "    \n",
    "    model = Model(inputs=inputLayer, outputs=outputLayer)\n",
    "\n",
    "    model.compile(\n",
    "        loss='sparse_categorical_crossentropy',\n",
    "        optimizer=tf.keras.optimizers.Adam(learning_rate=0.001),\n",
    "        metrics=['accuracy']\n",
    "    )\n",
    "\n",
    "    return model"
   ]
  },
  {
   "cell_type": "code",
   "execution_count": 18,
   "metadata": {
    "colab": {
     "base_uri": "https://localhost:8080/"
    },
    "id": "PWpnPSR2-Oew",
    "outputId": "d6b7d813-59ba-4044-af85-fdb9c22ed253"
   },
   "outputs": [
    {
     "data": {
      "text/html": [
       "<pre style=\"white-space:pre;overflow-x:auto;line-height:normal;font-family:Menlo,'DejaVu Sans Mono',consolas,'Courier New',monospace\"><span style=\"font-weight: bold\">Model: \"functional\"</span>\n",
       "</pre>\n"
      ],
      "text/plain": [
       "\u001b[1mModel: \"functional\"\u001b[0m\n"
      ]
     },
     "metadata": {},
     "output_type": "display_data"
    },
    {
     "data": {
      "text/html": [
       "<pre style=\"white-space:pre;overflow-x:auto;line-height:normal;font-family:Menlo,'DejaVu Sans Mono',consolas,'Courier New',monospace\">┏━━━━━━━━━━━━━━━━━━━━━━━━━━━━━━━━━┳━━━━━━━━━━━━━━━━━━━━━━━━┳━━━━━━━━━━━━━━━┓\n",
       "┃<span style=\"font-weight: bold\"> Layer (type)                    </span>┃<span style=\"font-weight: bold\"> Output Shape           </span>┃<span style=\"font-weight: bold\">       Param # </span>┃\n",
       "┡━━━━━━━━━━━━━━━━━━━━━━━━━━━━━━━━━╇━━━━━━━━━━━━━━━━━━━━━━━━╇━━━━━━━━━━━━━━━┩\n",
       "│ input_layer (<span style=\"color: #0087ff; text-decoration-color: #0087ff\">InputLayer</span>)        │ (<span style=\"color: #00d7ff; text-decoration-color: #00d7ff\">None</span>, <span style=\"color: #00d7ff; text-decoration-color: #00d7ff\">None</span>)           │             <span style=\"color: #00af00; text-decoration-color: #00af00\">0</span> │\n",
       "├─────────────────────────────────┼────────────────────────┼───────────────┤\n",
       "│ embedding (<span style=\"color: #0087ff; text-decoration-color: #0087ff\">Embedding</span>)           │ (<span style=\"color: #00d7ff; text-decoration-color: #00d7ff\">None</span>, <span style=\"color: #00d7ff; text-decoration-color: #00d7ff\">None</span>, <span style=\"color: #00af00; text-decoration-color: #00af00\">64</span>)       │         <span style=\"color: #00af00; text-decoration-color: #00af00\">6,912</span> │\n",
       "├─────────────────────────────────┼────────────────────────┼───────────────┤\n",
       "│ bidirectional (<span style=\"color: #0087ff; text-decoration-color: #0087ff\">Bidirectional</span>)   │ (<span style=\"color: #00d7ff; text-decoration-color: #00d7ff\">None</span>, <span style=\"color: #00af00; text-decoration-color: #00af00\">128</span>)            │        <span style=\"color: #00af00; text-decoration-color: #00af00\">66,048</span> │\n",
       "├─────────────────────────────────┼────────────────────────┼───────────────┤\n",
       "│ dense (<span style=\"color: #0087ff; text-decoration-color: #0087ff\">Dense</span>)                   │ (<span style=\"color: #00d7ff; text-decoration-color: #00d7ff\">None</span>, <span style=\"color: #00af00; text-decoration-color: #00af00\">32</span>)             │         <span style=\"color: #00af00; text-decoration-color: #00af00\">4,128</span> │\n",
       "├─────────────────────────────────┼────────────────────────┼───────────────┤\n",
       "│ dropout (<span style=\"color: #0087ff; text-decoration-color: #0087ff\">Dropout</span>)               │ (<span style=\"color: #00d7ff; text-decoration-color: #00d7ff\">None</span>, <span style=\"color: #00af00; text-decoration-color: #00af00\">32</span>)             │             <span style=\"color: #00af00; text-decoration-color: #00af00\">0</span> │\n",
       "├─────────────────────────────────┼────────────────────────┼───────────────┤\n",
       "│ dense_1 (<span style=\"color: #0087ff; text-decoration-color: #0087ff\">Dense</span>)                 │ (<span style=\"color: #00d7ff; text-decoration-color: #00d7ff\">None</span>, <span style=\"color: #00af00; text-decoration-color: #00af00\">55</span>)             │         <span style=\"color: #00af00; text-decoration-color: #00af00\">1,815</span> │\n",
       "└─────────────────────────────────┴────────────────────────┴───────────────┘\n",
       "</pre>\n"
      ],
      "text/plain": [
       "┏━━━━━━━━━━━━━━━━━━━━━━━━━━━━━━━━━┳━━━━━━━━━━━━━━━━━━━━━━━━┳━━━━━━━━━━━━━━━┓\n",
       "┃\u001b[1m \u001b[0m\u001b[1mLayer (type)                   \u001b[0m\u001b[1m \u001b[0m┃\u001b[1m \u001b[0m\u001b[1mOutput Shape          \u001b[0m\u001b[1m \u001b[0m┃\u001b[1m \u001b[0m\u001b[1m      Param #\u001b[0m\u001b[1m \u001b[0m┃\n",
       "┡━━━━━━━━━━━━━━━━━━━━━━━━━━━━━━━━━╇━━━━━━━━━━━━━━━━━━━━━━━━╇━━━━━━━━━━━━━━━┩\n",
       "│ input_layer (\u001b[38;5;33mInputLayer\u001b[0m)        │ (\u001b[38;5;45mNone\u001b[0m, \u001b[38;5;45mNone\u001b[0m)           │             \u001b[38;5;34m0\u001b[0m │\n",
       "├─────────────────────────────────┼────────────────────────┼───────────────┤\n",
       "│ embedding (\u001b[38;5;33mEmbedding\u001b[0m)           │ (\u001b[38;5;45mNone\u001b[0m, \u001b[38;5;45mNone\u001b[0m, \u001b[38;5;34m64\u001b[0m)       │         \u001b[38;5;34m6,912\u001b[0m │\n",
       "├─────────────────────────────────┼────────────────────────┼───────────────┤\n",
       "│ bidirectional (\u001b[38;5;33mBidirectional\u001b[0m)   │ (\u001b[38;5;45mNone\u001b[0m, \u001b[38;5;34m128\u001b[0m)            │        \u001b[38;5;34m66,048\u001b[0m │\n",
       "├─────────────────────────────────┼────────────────────────┼───────────────┤\n",
       "│ dense (\u001b[38;5;33mDense\u001b[0m)                   │ (\u001b[38;5;45mNone\u001b[0m, \u001b[38;5;34m32\u001b[0m)             │         \u001b[38;5;34m4,128\u001b[0m │\n",
       "├─────────────────────────────────┼────────────────────────┼───────────────┤\n",
       "│ dropout (\u001b[38;5;33mDropout\u001b[0m)               │ (\u001b[38;5;45mNone\u001b[0m, \u001b[38;5;34m32\u001b[0m)             │             \u001b[38;5;34m0\u001b[0m │\n",
       "├─────────────────────────────────┼────────────────────────┼───────────────┤\n",
       "│ dense_1 (\u001b[38;5;33mDense\u001b[0m)                 │ (\u001b[38;5;45mNone\u001b[0m, \u001b[38;5;34m55\u001b[0m)             │         \u001b[38;5;34m1,815\u001b[0m │\n",
       "└─────────────────────────────────┴────────────────────────┴───────────────┘\n"
      ]
     },
     "metadata": {},
     "output_type": "display_data"
    },
    {
     "data": {
      "text/html": [
       "<pre style=\"white-space:pre;overflow-x:auto;line-height:normal;font-family:Menlo,'DejaVu Sans Mono',consolas,'Courier New',monospace\"><span style=\"font-weight: bold\"> Total params: </span><span style=\"color: #00af00; text-decoration-color: #00af00\">78,903</span> (308.21 KB)\n",
       "</pre>\n"
      ],
      "text/plain": [
       "\u001b[1m Total params: \u001b[0m\u001b[38;5;34m78,903\u001b[0m (308.21 KB)\n"
      ]
     },
     "metadata": {},
     "output_type": "display_data"
    },
    {
     "data": {
      "text/html": [
       "<pre style=\"white-space:pre;overflow-x:auto;line-height:normal;font-family:Menlo,'DejaVu Sans Mono',consolas,'Courier New',monospace\"><span style=\"font-weight: bold\"> Trainable params: </span><span style=\"color: #00af00; text-decoration-color: #00af00\">78,903</span> (308.21 KB)\n",
       "</pre>\n"
      ],
      "text/plain": [
       "\u001b[1m Trainable params: \u001b[0m\u001b[38;5;34m78,903\u001b[0m (308.21 KB)\n"
      ]
     },
     "metadata": {},
     "output_type": "display_data"
    },
    {
     "data": {
      "text/html": [
       "<pre style=\"white-space:pre;overflow-x:auto;line-height:normal;font-family:Menlo,'DejaVu Sans Mono',consolas,'Courier New',monospace\"><span style=\"font-weight: bold\"> Non-trainable params: </span><span style=\"color: #00af00; text-decoration-color: #00af00\">0</span> (0.00 B)\n",
       "</pre>\n"
      ],
      "text/plain": [
       "\u001b[1m Non-trainable params: \u001b[0m\u001b[38;5;34m0\u001b[0m (0.00 B)\n"
      ]
     },
     "metadata": {},
     "output_type": "display_data"
    }
   ],
   "source": [
    "model = create_model()\n",
    "model.summary()"
   ]
  },
  {
   "cell_type": "code",
   "execution_count": 19,
   "metadata": {},
   "outputs": [],
   "source": [
    "class myCallback(tf.keras.callbacks.Callback):\n",
    "    def on_epoch_end(self, epoch, logs=None):\n",
    "        train_acc = logs.get('accuracy')\n",
    "        val_acc = logs.get('val_accuracy')\n",
    "\n",
    "        if train_acc >= 0.9 and val_acc >= 0.9:\n",
    "            self.model.stop_training = True"
   ]
  },
  {
   "cell_type": "code",
   "execution_count": 20,
   "metadata": {},
   "outputs": [
    {
     "name": "stdout",
     "output_type": "stream",
     "text": [
      "Epoch 1/50\n",
      "\u001b[1m25/25\u001b[0m \u001b[32m━━━━━━━━━━━━━━━━━━━━\u001b[0m\u001b[37m\u001b[0m \u001b[1m9s\u001b[0m 85ms/step - accuracy: 0.0240 - loss: 4.0152 - val_accuracy: 0.0000e+00 - val_loss: 4.0089\n",
      "Epoch 2/50\n",
      "\u001b[1m25/25\u001b[0m \u001b[32m━━━━━━━━━━━━━━━━━━━━\u001b[0m\u001b[37m\u001b[0m \u001b[1m2s\u001b[0m 45ms/step - accuracy: 0.0253 - loss: 3.9998 - val_accuracy: 0.0000e+00 - val_loss: 4.0057\n",
      "Epoch 3/50\n",
      "\u001b[1m25/25\u001b[0m \u001b[32m━━━━━━━━━━━━━━━━━━━━\u001b[0m\u001b[37m\u001b[0m \u001b[1m1s\u001b[0m 41ms/step - accuracy: 0.0377 - loss: 4.0000 - val_accuracy: 0.0000e+00 - val_loss: 4.0018\n",
      "Epoch 4/50\n",
      "\u001b[1m25/25\u001b[0m \u001b[32m━━━━━━━━━━━━━━━━━━━━\u001b[0m\u001b[37m\u001b[0m \u001b[1m2s\u001b[0m 42ms/step - accuracy: 0.0895 - loss: 3.9899 - val_accuracy: 0.0204 - val_loss: 3.9977\n",
      "Epoch 5/50\n",
      "\u001b[1m25/25\u001b[0m \u001b[32m━━━━━━━━━━━━━━━━━━━━\u001b[0m\u001b[37m\u001b[0m \u001b[1m2s\u001b[0m 43ms/step - accuracy: 0.0789 - loss: 3.9815 - val_accuracy: 0.0408 - val_loss: 3.9877\n",
      "Epoch 6/50\n",
      "\u001b[1m25/25\u001b[0m \u001b[32m━━━━━━━━━━━━━━━━━━━━\u001b[0m\u001b[37m\u001b[0m \u001b[1m2s\u001b[0m 54ms/step - accuracy: 0.0612 - loss: 3.9729 - val_accuracy: 0.0408 - val_loss: 3.9694\n",
      "Epoch 7/50\n",
      "\u001b[1m25/25\u001b[0m \u001b[32m━━━━━━━━━━━━━━━━━━━━\u001b[0m\u001b[37m\u001b[0m \u001b[1m2s\u001b[0m 53ms/step - accuracy: 0.0556 - loss: 3.9434 - val_accuracy: 0.0408 - val_loss: 3.9299\n",
      "Epoch 8/50\n",
      "\u001b[1m25/25\u001b[0m \u001b[32m━━━━━━━━━━━━━━━━━━━━\u001b[0m\u001b[37m\u001b[0m \u001b[1m2s\u001b[0m 50ms/step - accuracy: 0.0847 - loss: 3.8846 - val_accuracy: 0.0612 - val_loss: 3.8176\n",
      "Epoch 9/50\n",
      "\u001b[1m25/25\u001b[0m \u001b[32m━━━━━━━━━━━━━━━━━━━━\u001b[0m\u001b[37m\u001b[0m \u001b[1m2s\u001b[0m 44ms/step - accuracy: 0.0754 - loss: 3.7826 - val_accuracy: 0.0612 - val_loss: 3.7109\n",
      "Epoch 10/50\n",
      "\u001b[1m25/25\u001b[0m \u001b[32m━━━━━━━━━━━━━━━━━━━━\u001b[0m\u001b[37m\u001b[0m \u001b[1m2s\u001b[0m 43ms/step - accuracy: 0.0763 - loss: 3.5989 - val_accuracy: 0.0612 - val_loss: 3.5360\n",
      "Epoch 11/50\n",
      "\u001b[1m25/25\u001b[0m \u001b[32m━━━━━━━━━━━━━━━━━━━━\u001b[0m\u001b[37m\u001b[0m \u001b[1m2s\u001b[0m 43ms/step - accuracy: 0.1009 - loss: 3.4455 - val_accuracy: 0.1020 - val_loss: 3.3883\n",
      "Epoch 12/50\n",
      "\u001b[1m25/25\u001b[0m \u001b[32m━━━━━━━━━━━━━━━━━━━━\u001b[0m\u001b[37m\u001b[0m \u001b[1m2s\u001b[0m 41ms/step - accuracy: 0.0889 - loss: 3.3456 - val_accuracy: 0.1633 - val_loss: 3.1007\n",
      "Epoch 13/50\n",
      "\u001b[1m25/25\u001b[0m \u001b[32m━━━━━━━━━━━━━━━━━━━━\u001b[0m\u001b[37m\u001b[0m \u001b[1m2s\u001b[0m 44ms/step - accuracy: 0.1579 - loss: 2.9691 - val_accuracy: 0.1633 - val_loss: 3.0450\n",
      "Epoch 14/50\n",
      "\u001b[1m25/25\u001b[0m \u001b[32m━━━━━━━━━━━━━━━━━━━━\u001b[0m\u001b[37m\u001b[0m \u001b[1m2s\u001b[0m 46ms/step - accuracy: 0.1644 - loss: 2.9347 - val_accuracy: 0.1633 - val_loss: 2.7395\n",
      "Epoch 15/50\n",
      "\u001b[1m25/25\u001b[0m \u001b[32m━━━━━━━━━━━━━━━━━━━━\u001b[0m\u001b[37m\u001b[0m \u001b[1m2s\u001b[0m 46ms/step - accuracy: 0.2400 - loss: 2.7916 - val_accuracy: 0.2245 - val_loss: 2.5076\n",
      "Epoch 16/50\n",
      "\u001b[1m25/25\u001b[0m \u001b[32m━━━━━━━━━━━━━━━━━━━━\u001b[0m\u001b[37m\u001b[0m \u001b[1m2s\u001b[0m 44ms/step - accuracy: 0.2034 - loss: 2.6516 - val_accuracy: 0.2653 - val_loss: 2.4904\n",
      "Epoch 17/50\n",
      "\u001b[1m25/25\u001b[0m \u001b[32m━━━━━━━━━━━━━━━━━━━━\u001b[0m\u001b[37m\u001b[0m \u001b[1m2s\u001b[0m 43ms/step - accuracy: 0.3426 - loss: 2.3262 - val_accuracy: 0.4490 - val_loss: 2.2201\n",
      "Epoch 18/50\n",
      "\u001b[1m25/25\u001b[0m \u001b[32m━━━━━━━━━━━━━━━━━━━━\u001b[0m\u001b[37m\u001b[0m \u001b[1m2s\u001b[0m 41ms/step - accuracy: 0.2156 - loss: 2.4069 - val_accuracy: 0.4898 - val_loss: 2.0357\n",
      "Epoch 19/50\n",
      "\u001b[1m25/25\u001b[0m \u001b[32m━━━━━━━━━━━━━━━━━━━━\u001b[0m\u001b[37m\u001b[0m \u001b[1m2s\u001b[0m 42ms/step - accuracy: 0.2447 - loss: 2.2026 - val_accuracy: 0.5918 - val_loss: 1.8449\n",
      "Epoch 20/50\n",
      "\u001b[1m25/25\u001b[0m \u001b[32m━━━━━━━━━━━━━━━━━━━━\u001b[0m\u001b[37m\u001b[0m \u001b[1m2s\u001b[0m 45ms/step - accuracy: 0.3983 - loss: 1.9927 - val_accuracy: 0.5714 - val_loss: 1.7021\n",
      "Epoch 21/50\n",
      "\u001b[1m25/25\u001b[0m \u001b[32m━━━━━━━━━━━━━━━━━━━━\u001b[0m\u001b[37m\u001b[0m \u001b[1m2s\u001b[0m 43ms/step - accuracy: 0.4363 - loss: 1.9105 - val_accuracy: 0.6327 - val_loss: 1.5545\n",
      "Epoch 22/50\n",
      "\u001b[1m25/25\u001b[0m \u001b[32m━━━━━━━━━━━━━━━━━━━━\u001b[0m\u001b[37m\u001b[0m \u001b[1m1s\u001b[0m 38ms/step - accuracy: 0.4893 - loss: 1.8311 - val_accuracy: 0.6939 - val_loss: 1.4427\n",
      "Epoch 23/50\n",
      "\u001b[1m25/25\u001b[0m \u001b[32m━━━━━━━━━━━━━━━━━━━━\u001b[0m\u001b[37m\u001b[0m \u001b[1m1s\u001b[0m 39ms/step - accuracy: 0.4806 - loss: 1.6825 - val_accuracy: 0.6939 - val_loss: 1.3484\n",
      "Epoch 24/50\n",
      "\u001b[1m25/25\u001b[0m \u001b[32m━━━━━━━━━━━━━━━━━━━━\u001b[0m\u001b[37m\u001b[0m \u001b[1m2s\u001b[0m 42ms/step - accuracy: 0.5128 - loss: 1.5019 - val_accuracy: 0.6939 - val_loss: 1.2619\n",
      "Epoch 25/50\n",
      "\u001b[1m25/25\u001b[0m \u001b[32m━━━━━━━━━━━━━━━━━━━━\u001b[0m\u001b[37m\u001b[0m \u001b[1m2s\u001b[0m 40ms/step - accuracy: 0.5385 - loss: 1.5828 - val_accuracy: 0.7347 - val_loss: 1.1947\n",
      "Epoch 26/50\n",
      "\u001b[1m25/25\u001b[0m \u001b[32m━━━━━━━━━━━━━━━━━━━━\u001b[0m\u001b[37m\u001b[0m \u001b[1m2s\u001b[0m 40ms/step - accuracy: 0.6171 - loss: 1.3114 - val_accuracy: 0.7551 - val_loss: 1.0978\n",
      "Epoch 27/50\n",
      "\u001b[1m25/25\u001b[0m \u001b[32m━━━━━━━━━━━━━━━━━━━━\u001b[0m\u001b[37m\u001b[0m \u001b[1m1s\u001b[0m 39ms/step - accuracy: 0.6285 - loss: 1.3186 - val_accuracy: 0.7755 - val_loss: 1.0229\n",
      "Epoch 28/50\n",
      "\u001b[1m25/25\u001b[0m \u001b[32m━━━━━━━━━━━━━━━━━━━━\u001b[0m\u001b[37m\u001b[0m \u001b[1m2s\u001b[0m 42ms/step - accuracy: 0.6388 - loss: 1.1623 - val_accuracy: 0.8367 - val_loss: 0.9118\n",
      "Epoch 29/50\n",
      "\u001b[1m25/25\u001b[0m \u001b[32m━━━━━━━━━━━━━━━━━━━━\u001b[0m\u001b[37m\u001b[0m \u001b[1m2s\u001b[0m 41ms/step - accuracy: 0.7202 - loss: 1.0527 - val_accuracy: 0.8367 - val_loss: 0.8659\n",
      "Epoch 30/50\n",
      "\u001b[1m25/25\u001b[0m \u001b[32m━━━━━━━━━━━━━━━━━━━━\u001b[0m\u001b[37m\u001b[0m \u001b[1m1s\u001b[0m 39ms/step - accuracy: 0.6187 - loss: 1.1971 - val_accuracy: 0.8571 - val_loss: 0.8128\n",
      "Epoch 31/50\n",
      "\u001b[1m25/25\u001b[0m \u001b[32m━━━━━━━━━━━━━━━━━━━━\u001b[0m\u001b[37m\u001b[0m \u001b[1m2s\u001b[0m 42ms/step - accuracy: 0.6777 - loss: 1.0996 - val_accuracy: 0.8367 - val_loss: 0.7863\n",
      "Epoch 32/50\n",
      "\u001b[1m25/25\u001b[0m \u001b[32m━━━━━━━━━━━━━━━━━━━━\u001b[0m\u001b[37m\u001b[0m \u001b[1m2s\u001b[0m 38ms/step - accuracy: 0.7003 - loss: 1.0443 - val_accuracy: 0.8776 - val_loss: 0.7528\n",
      "Epoch 33/50\n",
      "\u001b[1m25/25\u001b[0m \u001b[32m━━━━━━━━━━━━━━━━━━━━\u001b[0m\u001b[37m\u001b[0m \u001b[1m1s\u001b[0m 42ms/step - accuracy: 0.7035 - loss: 1.0199 - val_accuracy: 0.8776 - val_loss: 0.7554\n",
      "Epoch 34/50\n",
      "\u001b[1m25/25\u001b[0m \u001b[32m━━━━━━━━━━━━━━━━━━━━\u001b[0m\u001b[37m\u001b[0m \u001b[1m2s\u001b[0m 46ms/step - accuracy: 0.6720 - loss: 1.0008 - val_accuracy: 0.8163 - val_loss: 0.6860\n",
      "Epoch 35/50\n",
      "\u001b[1m25/25\u001b[0m \u001b[32m━━━━━━━━━━━━━━━━━━━━\u001b[0m\u001b[37m\u001b[0m \u001b[1m2s\u001b[0m 43ms/step - accuracy: 0.7150 - loss: 0.8782 - val_accuracy: 0.8367 - val_loss: 0.6287\n",
      "Epoch 36/50\n",
      "\u001b[1m25/25\u001b[0m \u001b[32m━━━━━━━━━━━━━━━━━━━━\u001b[0m\u001b[37m\u001b[0m \u001b[1m2s\u001b[0m 42ms/step - accuracy: 0.7652 - loss: 0.8085 - val_accuracy: 0.8776 - val_loss: 0.6217\n",
      "Epoch 37/50\n",
      "\u001b[1m25/25\u001b[0m \u001b[32m━━━━━━━━━━━━━━━━━━━━\u001b[0m\u001b[37m\u001b[0m \u001b[1m1s\u001b[0m 38ms/step - accuracy: 0.8318 - loss: 0.7376 - val_accuracy: 0.8776 - val_loss: 0.6621\n",
      "Epoch 38/50\n",
      "\u001b[1m25/25\u001b[0m \u001b[32m━━━━━━━━━━━━━━━━━━━━\u001b[0m\u001b[37m\u001b[0m \u001b[1m2s\u001b[0m 41ms/step - accuracy: 0.8061 - loss: 0.7221 - val_accuracy: 0.8980 - val_loss: 0.5856\n",
      "Epoch 39/50\n",
      "\u001b[1m25/25\u001b[0m \u001b[32m━━━━━━━━━━━━━━━━━━━━\u001b[0m\u001b[37m\u001b[0m \u001b[1m2s\u001b[0m 52ms/step - accuracy: 0.7305 - loss: 0.7940 - val_accuracy: 0.8776 - val_loss: 0.6023\n",
      "Epoch 40/50\n",
      "\u001b[1m25/25\u001b[0m \u001b[32m━━━━━━━━━━━━━━━━━━━━\u001b[0m\u001b[37m\u001b[0m \u001b[1m2s\u001b[0m 42ms/step - accuracy: 0.7700 - loss: 0.7509 - val_accuracy: 0.8571 - val_loss: 0.5818\n",
      "Epoch 41/50\n",
      "\u001b[1m25/25\u001b[0m \u001b[32m━━━━━━━━━━━━━━━━━━━━\u001b[0m\u001b[37m\u001b[0m \u001b[1m2s\u001b[0m 44ms/step - accuracy: 0.7618 - loss: 0.7560 - val_accuracy: 0.8776 - val_loss: 0.5683\n",
      "Epoch 42/50\n",
      "\u001b[1m25/25\u001b[0m \u001b[32m━━━━━━━━━━━━━━━━━━━━\u001b[0m\u001b[37m\u001b[0m \u001b[1m2s\u001b[0m 46ms/step - accuracy: 0.7893 - loss: 0.7164 - val_accuracy: 0.8571 - val_loss: 0.5389\n",
      "Epoch 43/50\n",
      "\u001b[1m25/25\u001b[0m \u001b[32m━━━━━━━━━━━━━━━━━━━━\u001b[0m\u001b[37m\u001b[0m \u001b[1m2s\u001b[0m 46ms/step - accuracy: 0.7976 - loss: 0.7388 - val_accuracy: 0.8571 - val_loss: 0.5664\n",
      "Epoch 44/50\n",
      "\u001b[1m25/25\u001b[0m \u001b[32m━━━━━━━━━━━━━━━━━━━━\u001b[0m\u001b[37m\u001b[0m \u001b[1m2s\u001b[0m 48ms/step - accuracy: 0.8244 - loss: 0.6782 - val_accuracy: 0.8571 - val_loss: 0.5081\n",
      "Epoch 45/50\n",
      "\u001b[1m25/25\u001b[0m \u001b[32m━━━━━━━━━━━━━━━━━━━━\u001b[0m\u001b[37m\u001b[0m \u001b[1m1s\u001b[0m 37ms/step - accuracy: 0.8740 - loss: 0.5151 - val_accuracy: 0.8571 - val_loss: 0.4938\n",
      "Epoch 46/50\n",
      "\u001b[1m25/25\u001b[0m \u001b[32m━━━━━━━━━━━━━━━━━━━━\u001b[0m\u001b[37m\u001b[0m \u001b[1m2s\u001b[0m 41ms/step - accuracy: 0.8158 - loss: 0.5933 - val_accuracy: 0.8571 - val_loss: 0.5171\n",
      "Epoch 47/50\n",
      "\u001b[1m25/25\u001b[0m \u001b[32m━━━━━━━━━━━━━━━━━━━━\u001b[0m\u001b[37m\u001b[0m \u001b[1m2s\u001b[0m 47ms/step - accuracy: 0.8779 - loss: 0.4701 - val_accuracy: 0.8571 - val_loss: 0.5582\n",
      "Epoch 48/50\n",
      "\u001b[1m25/25\u001b[0m \u001b[32m━━━━━━━━━━━━━━━━━━━━\u001b[0m\u001b[37m\u001b[0m \u001b[1m2s\u001b[0m 47ms/step - accuracy: 0.8677 - loss: 0.4884 - val_accuracy: 0.8571 - val_loss: 0.4782\n",
      "Epoch 49/50\n",
      "\u001b[1m25/25\u001b[0m \u001b[32m━━━━━━━━━━━━━━━━━━━━\u001b[0m\u001b[37m\u001b[0m \u001b[1m2s\u001b[0m 46ms/step - accuracy: 0.8173 - loss: 0.5434 - val_accuracy: 0.8367 - val_loss: 0.4845\n",
      "Epoch 50/50\n",
      "\u001b[1m25/25\u001b[0m \u001b[32m━━━━━━━━━━━━━━━━━━━━\u001b[0m\u001b[37m\u001b[0m \u001b[1m2s\u001b[0m 47ms/step - accuracy: 0.8743 - loss: 0.4803 - val_accuracy: 0.8571 - val_loss: 0.4918\n"
     ]
    }
   ],
   "source": [
    "history = model.fit(trainProcDataset, epochs=50, validation_data=valProcDataset, callbacks=myCallback())"
   ]
  },
  {
   "cell_type": "code",
   "execution_count": 21,
   "metadata": {},
   "outputs": [
    {
     "data": {
      "image/png": "[encoded data removed]",
      "text/plain": [
       "<Figure size 640x480 with 1 Axes>"
      ]
     },
     "metadata": {},
     "output_type": "display_data"
    },
    {
     "data": {
      "image/png": "[encoded data removed]",
      "text/plain": [
       "<Figure size 640x480 with 1 Axes>"
      ]
     },
     "metadata": {},
     "output_type": "display_data"
    }
   ],
   "source": [
    "def plot_graphs(history, metric):\n",
    "    plt.plot(history.history[metric])\n",
    "    plt.plot(history.history[f'val_{metric}'])\n",
    "    plt.xlabel(\"Epochs\")\n",
    "    plt.ylabel(metric)\n",
    "    plt.legend([metric, f'val_{metric}'])\n",
    "    plt.show()\n",
    "\n",
    "plot_graphs(history, \"accuracy\")\n",
    "plot_graphs(history, \"loss\")"
   ]
  },
  {
   "cell_type": "code",
   "execution_count": 22,
   "metadata": {},
   "outputs": [
    {
     "name": "stderr",
     "output_type": "stream",
     "text": [
      "WARNING:absl:You are saving your model as an HDF5 file via `model.save()` or `keras.saving.save_model(model)`. This file format is considered legacy. We recommend using instead the native Keras format, e.g. `model.save('my_model.keras')` or `keras.saving.save_model(model, 'my_model.keras')`. \n"
     ]
    }
   ],
   "source": [
    "model.save('./model/chatbot_model.h5',history)"
   ]
  },
  {
   "cell_type": "code",
   "execution_count": 28,
   "metadata": {},
   "outputs": [
    {
     "name": "stdout",
     "output_type": "stream",
     "text": [
      "\u001b[1m1/1\u001b[0m \u001b[32m━━━━━━━━━━━━━━━━━━━━\u001b[0m\u001b[37m\u001b[0m \u001b[1m0s\u001b[0m 45ms/step\n",
      "User : Saya merasa demam \n",
      "PyChan:  Untuk mengobati demam di rumah: 1) Minum banyak cairan agar tetap terhidrasi. 2) Kenakan pakaian yang tipis. 3) Gunakan selimut tipis jika Anda merasa kedinginan, hingga rasa dinginnya hilang. 4) Minum asetaminofen (Tylenol, dan lain-lain) atau ibuprofen (Advil, Motrin IB, dan lain-lain). 5) Cari pertolongan medis jika demam berlangsung lebih dari lima hari berturut-turut.\n",
      "\u001b[1m1/1\u001b[0m \u001b[32m━━━━━━━━━━━━━━━━━━━━\u001b[0m\u001b[37m\u001b[0m \u001b[1m0s\u001b[0m 36ms/step\n",
      "User : bagaimana cara menghilangkan batuk\n",
      "PyChan:  1) Madu: Gunakan madu untuk mengobati batuk, campurkan 2 sendok teh (sdt) dengan air hangat atau teh herbal. Minum campuran ini sekali atau dua kali sehari. Jangan berikan madu kepada anak di bawah usia 1 tahun. 2) Jahe: Seduh teh jahe yang menenangkan dengan menambahkan 20–40 gram (g) irisan jahe segar ke dalam secangkir air panas. Biarkan terendam selama beberapa menit sebelum diminum. Tambahkan madu atau air jeruk lemon untuk meningkatkan rasa dan meredakan batuk lebih lanjut. 3) Cairan: Tetap terhidrasi sangat penting bagi mereka yang batuk atau pilek. Penelitian menunjukkan bahwa minum cairan pada suhu ruangan dapat meredakan batuk, pilek, dan bersin.\n"
     ]
    },
    {
     "ename": "KeyboardInterrupt",
     "evalue": "Interrupted by user",
     "output_type": "error",
     "traceback": [
      "\u001b[1;31m---------------------------------------------------------------------------\u001b[0m",
      "\u001b[1;31mKeyboardInterrupt\u001b[0m                         Traceback (most recent call last)",
      "Cell \u001b[1;32mIn[28], line 25\u001b[0m\n\u001b[0;32m     22\u001b[0m     \u001b[38;5;28mprint\u001b[39m(\u001b[38;5;124mf\u001b[39m\u001b[38;5;124m\"\u001b[39m\u001b[38;5;124mPyChan: \u001b[39m\u001b[38;5;124m\"\u001b[39m, response)\n\u001b[0;32m     24\u001b[0m \u001b[38;5;28;01mwhile\u001b[39;00m \u001b[38;5;28;01mTrue\u001b[39;00m:\n\u001b[1;32m---> 25\u001b[0m     \u001b[43mchatbot\u001b[49m\u001b[43m(\u001b[49m\u001b[43m)\u001b[49m\n",
      "Cell \u001b[1;32mIn[28], line 18\u001b[0m, in \u001b[0;36mchatbot\u001b[1;34m()\u001b[0m\n\u001b[0;32m     17\u001b[0m \u001b[38;5;28;01mdef\u001b[39;00m \u001b[38;5;21mchatbot\u001b[39m():\n\u001b[1;32m---> 18\u001b[0m     inputUser \u001b[38;5;241m=\u001b[39m \u001b[38;5;28;43minput\u001b[39;49m\u001b[43m(\u001b[49m\u001b[38;5;124;43m\"\u001b[39;49m\u001b[38;5;124;43mUser: \u001b[39;49m\u001b[38;5;124;43m\"\u001b[39;49m\u001b[43m)\u001b[49m\n\u001b[0;32m     19\u001b[0m     testInput \u001b[38;5;241m=\u001b[39m inputUser\n\u001b[0;32m     20\u001b[0m     predictTag, response, confidence \u001b[38;5;241m=\u001b[39m showRespon(testInput)\n",
      "File \u001b[1;32m~\\AppData\\Roaming\\Python\\Python312\\site-packages\\ipykernel\\kernelbase.py:1282\u001b[0m, in \u001b[0;36mKernel.raw_input\u001b[1;34m(self, prompt)\u001b[0m\n\u001b[0;32m   1280\u001b[0m     msg \u001b[38;5;241m=\u001b[39m \u001b[38;5;124m\"\u001b[39m\u001b[38;5;124mraw_input was called, but this frontend does not support input requests.\u001b[39m\u001b[38;5;124m\"\u001b[39m\n\u001b[0;32m   1281\u001b[0m     \u001b[38;5;28;01mraise\u001b[39;00m StdinNotImplementedError(msg)\n\u001b[1;32m-> 1282\u001b[0m \u001b[38;5;28;01mreturn\u001b[39;00m \u001b[38;5;28;43mself\u001b[39;49m\u001b[38;5;241;43m.\u001b[39;49m\u001b[43m_input_request\u001b[49m\u001b[43m(\u001b[49m\n\u001b[0;32m   1283\u001b[0m \u001b[43m    \u001b[49m\u001b[38;5;28;43mstr\u001b[39;49m\u001b[43m(\u001b[49m\u001b[43mprompt\u001b[49m\u001b[43m)\u001b[49m\u001b[43m,\u001b[49m\n\u001b[0;32m   1284\u001b[0m \u001b[43m    \u001b[49m\u001b[38;5;28;43mself\u001b[39;49m\u001b[38;5;241;43m.\u001b[39;49m\u001b[43m_parent_ident\u001b[49m\u001b[43m[\u001b[49m\u001b[38;5;124;43m\"\u001b[39;49m\u001b[38;5;124;43mshell\u001b[39;49m\u001b[38;5;124;43m\"\u001b[39;49m\u001b[43m]\u001b[49m\u001b[43m,\u001b[49m\n\u001b[0;32m   1285\u001b[0m \u001b[43m    \u001b[49m\u001b[38;5;28;43mself\u001b[39;49m\u001b[38;5;241;43m.\u001b[39;49m\u001b[43mget_parent\u001b[49m\u001b[43m(\u001b[49m\u001b[38;5;124;43m\"\u001b[39;49m\u001b[38;5;124;43mshell\u001b[39;49m\u001b[38;5;124;43m\"\u001b[39;49m\u001b[43m)\u001b[49m\u001b[43m,\u001b[49m\n\u001b[0;32m   1286\u001b[0m \u001b[43m    \u001b[49m\u001b[43mpassword\u001b[49m\u001b[38;5;241;43m=\u001b[39;49m\u001b[38;5;28;43;01mFalse\u001b[39;49;00m\u001b[43m,\u001b[49m\n\u001b[0;32m   1287\u001b[0m \u001b[43m\u001b[49m\u001b[43m)\u001b[49m\n",
      "File \u001b[1;32m~\\AppData\\Roaming\\Python\\Python312\\site-packages\\ipykernel\\kernelbase.py:1325\u001b[0m, in \u001b[0;36mKernel._input_request\u001b[1;34m(self, prompt, ident, parent, password)\u001b[0m\n\u001b[0;32m   1322\u001b[0m \u001b[38;5;28;01mexcept\u001b[39;00m \u001b[38;5;167;01mKeyboardInterrupt\u001b[39;00m:\n\u001b[0;32m   1323\u001b[0m     \u001b[38;5;66;03m# re-raise KeyboardInterrupt, to truncate traceback\u001b[39;00m\n\u001b[0;32m   1324\u001b[0m     msg \u001b[38;5;241m=\u001b[39m \u001b[38;5;124m\"\u001b[39m\u001b[38;5;124mInterrupted by user\u001b[39m\u001b[38;5;124m\"\u001b[39m\n\u001b[1;32m-> 1325\u001b[0m     \u001b[38;5;28;01mraise\u001b[39;00m \u001b[38;5;167;01mKeyboardInterrupt\u001b[39;00m(msg) \u001b[38;5;28;01mfrom\u001b[39;00m \u001b[38;5;28;01mNone\u001b[39;00m\n\u001b[0;32m   1326\u001b[0m \u001b[38;5;28;01mexcept\u001b[39;00m \u001b[38;5;167;01mException\u001b[39;00m:\n\u001b[0;32m   1327\u001b[0m     \u001b[38;5;28mself\u001b[39m\u001b[38;5;241m.\u001b[39mlog\u001b[38;5;241m.\u001b[39mwarning(\u001b[38;5;124m\"\u001b[39m\u001b[38;5;124mInvalid Message:\u001b[39m\u001b[38;5;124m\"\u001b[39m, exc_info\u001b[38;5;241m=\u001b[39m\u001b[38;5;28;01mTrue\u001b[39;00m)\n",
      "\u001b[1;31mKeyboardInterrupt\u001b[0m: Interrupted by user"
     ]
    }
   ],
   "source": [
    "def getResponse(predictTag, responses, confidence):\n",
    "    if confidence < 0.4:\n",
    "        return \"Maaf saya tidak mengerti.\"\n",
    "    return np.random.choice(responses[predictTag])\n",
    "\n",
    "\n",
    "def showRespon(input):\n",
    "    inputA = vectorizer([input])\n",
    "    prediction = model.predict(inputA)\n",
    "    predictClassIndex = np.argmax(prediction, axis=-1)\n",
    "    confidence = prediction[0][predictClassIndex[0]]\n",
    "    predictTag = labelEncoder.get_vocabulary()[predictClassIndex[0]]\n",
    "    response = getResponse(predictTag, responses, confidence)\n",
    "\n",
    "    return predictTag, response, confidence\n",
    "\n",
    "def chatbot():\n",
    "    inputUser = input(\"User: \")\n",
    "    testInput = inputUser\n",
    "    predictTag, response, confidence = showRespon(testInput)\n",
    "    print(f\"User :\",inputUser)\n",
    "    print(f\"PyChan: \", response)\n",
    "\n",
    "while True:\n",
    "    chatbot()"
   ]
  }
 ],
 "metadata": {
  "colab": {
   "provenance": []
  },
  "kernelspec": {
   "display_name": "Python 3",
   "language": "python",
   "name": "python3"
  },
  "language_info": {
   "codemirror_mode": {
    "name": "ipython",
    "version": 3
   },
   "file_extension": ".py",
   "mimetype": "text/x-python",
   "name": "python",
   "nbconvert_exporter": "python",
   "pygments_lexer": "ipython3",
   "version": "3.12.6"
  }
 },
 "nbformat": 4,
 "nbformat_minor": 0
}
