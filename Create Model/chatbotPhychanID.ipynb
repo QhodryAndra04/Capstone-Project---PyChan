{
 "cells": [
  {
   "cell_type": "code",
   "execution_count": 1,
   "metadata": {
    "colab": {
     "base_uri": "https://localhost:8080/",
     "height": 304,
     "referenced_widgets": [
      "557fcc22368c4c93b42ed8e6dd2e00c2",
      "48407d40b8a0485899f0d3440371d3c7",
      "319f35242b454d20abab2076bf8e0143",
      "004fd7dc4da54bdeae39da3f6de77cc9",
      "dda2f8cc19b94756aae367bbe799e3f7",
      "456f5b2fa5474d519be5da8be4d2848d",
      "2df5c2009657461a83d88f3839993423",
      "2debc273af2a441fb426349e59fd48f7",
      "25409aa56037480083ed67743d5ed597",
      "6c027d30ca6b42f6b774091c9ca819d6",
      "a78c2c08775a4fe58ad5d8d50cd402ed",
      "998dd26856b845dbac9834fadcfb579d",
      "5efaaeda758c458f9f4876311ad18445",
      "c744817445714e61b6364dafd03a2a40",
      "3c0fe6c76d87412a977577b5f5518f85",
      "fd23e97bc7db4e5aab62e151d6492da4",
      "04eca109dc0e437b8e41fed3dd7bc197",
      "92212bc725f64bd1afa55ac9f831467f",
      "0b17730b5f9b4bcaaeff4106f04c0bfd",
      "ac524145686c4305aac26c5e1e414c8a",
      "2177bb65495f46b2a63aae40264d932e",
      "1546e30a191c4263a45cbf2d0d06ad68",
      "a70a065095f947f3b4a579e240476afd",
      "1eecc68cce604bdabf95bfa4057c7e98",
      "6ad4dee5d877496a87863057107e865c",
      "6383ff19567844e183fcbfe043324e48",
      "8486983dc2ef403bb27a4dab183f7031",
      "246041af7bee43c1be8542877b918bae",
      "109b3419c95d46bfb54af90e42204345",
      "b280b74308c64f32bf350cd64c80d5b0",
      "d3d55245ecc04a94926aadb2432cb447",
      "1903372a67bc4dd196b48cbcaec1c490",
      "eb08da17d3e145579b2601c6740dc187",
      "d92b7dcfa3e947f2b8db7dea642b8bb5",
      "9a476ff265314577a846a8386e5be1a4",
      "fe5becfc36614c40bf80fc18261a03f6",
      "2c9c456e9d7a4ad68512fc04018d73f6",
      "2bc3d74e31b547d392dec828ce39ef70",
      "92a1e578a76b4dc7a98162bc2621d267",
      "40de4fe0f135439b837e72252b93b123",
      "f3e7242a0e9346b4ad675f6117f5d826",
      "7fc426c0e3c0425ba2b9168c7b264c24",
      "b3bbfe10df4f4f4aba52cbd4ec46aa8c",
      "769437a15805467f82e5b75b3fd3f1e7"
     ]
    },
    "id": "4BTNuOLO8Aly",
    "outputId": "5b3547ee-a5e5-4b69-e608-31515f135c93"
   },
   "outputs": [
    {
     "name": "stderr",
     "output_type": "stream",
     "text": [
      "[nltk_data] Error loading stopwords: Remote end closed connection\n",
      "[nltk_data]     without response\n"
     ]
    },
    {
     "data": {
      "text/plain": [
       "False"
      ]
     },
     "execution_count": 1,
     "metadata": {},
     "output_type": "execute_result"
    }
   ],
   "source": [
    "import pandas as pd\n",
    "import numpy as np\n",
    "import matplotlib.pyplot as plt\n",
    "import tensorflow as tf\n",
    "import json\n",
    "import nltk\n",
    "from nltk.corpus import stopwords\n",
    "from tensorflow.keras.models import Model\n",
    "from Sastrawi.Stemmer.StemmerFactory import StemmerFactory\n",
    "import pickle\n",
    "\n",
    "nltk.download('stopwords')"
   ]
  },
  {
   "cell_type": "code",
   "execution_count": 2,
   "metadata": {},
   "outputs": [],
   "source": [
    "factory = StemmerFactory()\n",
    "stemmer = factory.create_stemmer()"
   ]
  },
  {
   "cell_type": "code",
   "execution_count": 3,
   "metadata": {
    "id": "F7HNBocz8Ggc"
   },
   "outputs": [],
   "source": [
    "with open('datasets/greeting.json') as file:\n",
    "    dataGreet = json.load(file)\n",
    "\n",
    "with open('datasets/medical-relatedID.json') as file:\n",
    "    dataMed = json.load(file)"
   ]
  },
  {
   "cell_type": "code",
   "execution_count": 4,
   "metadata": {
    "colab": {
     "base_uri": "https://localhost:8080/"
    },
    "id": "ePn_pVB48IOg",
    "outputId": "c7684cb0-ab83-455f-f2a2-9f83493bc39f"
   },
   "outputs": [
    {
     "name": "stdout",
     "output_type": "stream",
     "text": [
      "263\n",
      "59\n",
      "263\n",
      "['Obat apa yang harus digunakan untuk luka lecet?', 'Bagaimana cara menyembuhkan lecet?', 'Bagaimana Anda mengobati Sting?', 'Sengatan', 'Apa yang harus dilakukan jika Anda tersengat?', 'Obat apa yang digunakan jika tersengat?', 'Cara menghilangkan serpihan', 'Bagaimana cara menyembuhkan serpihan?', 'Apa yang harus saya lakukan bila saya terkena serpihan?', 'Bagaimana cara Anda membawa serpihan ke permukaan?', 'Bagaimana cara mengobati terkilir?', 'apa yang harus saya lakukan jika saya terkilir?', 'Krim apa yang harus digunakan jika saya terkilir?', 'Obat apa yang harus digunakan jika saya terkilir?', 'Bagaimana cara mengobati ketegangan?', 'apa yang harus saya lakukan jika saya terserang strain?', 'Krim apa yang harus digunakan jika saya terserang tegang otot?', 'Obat apa yang harus saya gunakan jika saya terserang strain?', 'Bagaimana Anda mendiagnosis suatu strain?', 'Apakah panas atau es lebih baik untuk otot yang tertarik?', 'Bagaimana cara mengobati demam ringan?', 'apa yang harus saya lakukan jika saya demam ringan?', 'Obat apa yang harus diminum jika saya demam ringan?', 'demam', 'Bagaimana cara mengobati hidung tersumbat?', 'apa yang harus saya lakukan jika hidung saya tersumbat?', 'Obat apa yang harus diminum jika saya hidung tersumbat?', 'apa yang harus saya lakukan jika hidung saya tersumbat?', 'Bagaimana cara mengobati hidung tersumbat?', 'Berapa lama hidung tersumbat berlangsung?', 'Bagaimana cara menyembuhkan batuk?', 'Bagaimana cara mengobati batuk?', 'apa yang harus saya lakukan jika saya batuk?', 'Obat apa yang harus diminum jika saya batuk?', 'Bagaimana cara menghilangkan batuk?', 'Bagaimana cara mengobati sakit tenggorokan?', 'apa yang harus saya lakukan jika saya sakit tenggorokan?', 'Obat apa yang harus saya minum jika saya sakit tenggorokan?', 'Bagaimana cara menyembuhkan sakit tenggorokan?', 'Bagaimana Anda mengatasi masalah gas?', 'Apa yang harus saya lakukan jika saya memiliki masalah gastrointestinal?', 'Obat apa yang harus saya minum jika saya mengalami masalah gas?', 'Bagaimana cara mengatasi masalah Gas?', 'Bagaimana Anda mengatasi masalah kulit?', 'Apa yang harus saya lakukan jika saya terkena alergi kulit?', 'Obat apa yang harus saya minum jika saya mengalami alergi kulit?', 'Bagaimana cara menyembuhkan alergi kulit?', 'Bagaimana Anda mengobati sakit perut?', 'apa yang harus saya lakukan jika saya merasakan sakit perut?', 'Obat apa yang harus diminum jika saya merasakan sakit perut?', 'Bagaimana cara menyembuhkan sakit perut?', 'Bagaimana cara mengobati Memar?', 'apa yang harus saya lakukan jika saya mendapat Memar?', 'Obat apa yang harus saya minum jika saya mengalami memar?', 'Bagaimana cara menyembuhkan memar?', 'Bagaimana cara mengobati jari kaki yang patah?', 'apa yang harus saya lakukan jika jari kaki saya patah?', 'Obat apa yang harus saya minum jika saya mengalami patah jari kaki?', 'Bagaimana cara menyembuhkan jari kaki patah?', 'Bagaimana cara mengobati tersedak?', 'apa yang harus saya lakukan jika saya tersedak?', 'Obat apa yang harus saya minum jika saya tersedak?', 'Bagaimana cara menyembuhkan tersedak?', 'Bagaimana cara merawat luka?', 'apa yang harus saya lakukan jika saya mendapat luka?', 'Obat apa yang harus saya minum jika saya terluka?', 'Bagaimana cara menyembuhkan luka?', 'Bagaimana cara mengobati Diare?', 'apa yang harus saya lakukan jika saya terkena diare?', 'Obat apa yang harus diminum jika saya terkena Diare?', 'Bagaimana cara menyembuhkan Diare?', 'Bagaimana cara mengobati gigitan Frost?', 'apa yang harus saya lakukan jika saya terkena gigitan Frost?', 'Obat apa yang harus saya minum jika saya terkena gigitan Frost?', 'Bagaimana cara menyembuhkan Frost bite?', 'Bagaimana cara mengobati Kelelahan Akibat Panas?', 'apa yang harus saya lakukan jika saya merasa Lelah karena panas?', 'Obat apa yang harus saya minum jika saya Kelelahan?', 'Bagaimana cara menyembuhkan Kelelahan Akibat Panas?', 'Bagaimana cara mengobati Sengatan Panas?', 'apa yang harus saya lakukan jika saya terkena Heat Stroke?', 'Obat apa yang harus saya minum jika saya terkena Stroke?', 'Bagaimana cara menyembuhkan Sengatan Panas?', 'Bagaimana cara mengobati gigitan serangga?', 'apa yang harus saya lakukan jika digigit serangga?', 'Obat apa yang harus saya minum jika saya digigit serangga?', 'Bagaimana cara menyembuhkan gigitan serangga?', 'Bagaimana cara mengobati hidung berdarah?', 'apa yang harus dilakukan jika hidung saya berdarah?', 'Obat apa yang harus diminum jika saya mimisan?', 'Bagaimana cara menyembuhkan mimisan?', 'Bagaimana cara mengobati otot yang tertarik?', 'apa yang harus saya lakukan jika otot saya tertarik?', 'Obat apa yang harus saya minum jika otot saya tertarik?', 'Bagaimana cara menyembuhkan otot yang tertarik?', 'Bagaimana cara mengobati Pendarahan Rektal?', 'apa yang harus saya lakukan jika saya mengalami Pendarahan Rektal?', 'Obat apa yang harus diminum jika saya mengalami Pendarahan Rektal?', 'Bagaimana cara menyembuhkan Pendarahan Rektal?', 'Bagaimana cara mengobati kulit terbakar akibat sinar matahari?', 'apa yang harus saya lakukan jika saya terbakar matahari?', 'Obat apa yang harus saya minum jika saya terkena Kulit Terbakar Sinar Matahari?', 'Bagaimana cara menyembuhkan kulit terbakar akibat sinar matahari?', 'Bagaimana cara mengobati nyeri testis?', 'apa yang harus saya lakukan jika saya merasakan nyeri testis?', 'Obat apa yang harus diminum jika saya merasakan nyeri testis?', 'Bagaimana cara menyembuhkan nyeri testis?', 'Bagaimana cara mengobati Vertigo?', 'apa yang harus saya lakukan jika saya terkena Vertigo?', 'Obat apa yang harus diminum jika saya terkena Vertigo?', 'Bagaimana cara menyembuhkan Vertigo?', 'Bagaimana cara mengobati pendarahan?', 'apa yang harus saya lakukan jika saya mengalami Pendarahan?', 'Obat apa yang harus saya minum jika saya mengalami pendarahan?', 'Bagaimana cara menyembuhkan pendarahan?', 'Bagaimana cara mengobati cedera mata?', 'apa yang harus saya lakukan jika saya mengalami cedera mata?', 'Obat apa yang harus diminum jika mata saya cedera?', 'Bagaimana cara menyembuhkan mata yang terluka?', 'Bagaimana cara mengobati luka bakar kimia?', 'apa yang harus saya lakukan jika saya terkena luka bakar kimia?', 'Obat apa yang harus saya minum jika saya terbakar akibat bahan kimia?', 'Bagaimana cara menyembuhkan luka bakar kimia?', 'Bagaimana cara mengobati Racun?', 'apa yang harus saya lakukan jika saya terkena racun?', 'Obat apa yang harus saya minum jika saya keracunan?', 'Bagaimana cara menyembuhkan keracunan?', 'Bagaimana cara merawat gigi yang patah?', 'apa yang harus saya lakukan jika gigi saya patah?', 'Obat apa yang harus saya minum jika gigi saya patah?', 'menyembuhkan gigi patah?', 'Bagaimana cara mengobati kejang?', 'apa yang harus saya lakukan jika saya mengalami kejang?', 'Obat apa yang harus diminum jika saya kejang?', 'Bagaimana cara menyembuhkan kejang?', 'Bagaimana cara mengobati cedera kepala?', 'apa yang harus saya lakukan jika saya mengalami cedera kepala?', 'Obat apa yang harus diminum jika saya terluka di kepala?', 'Bagaimana cara menyembuhkan cedera kepala?', 'Bagaimana cara mengobati Pingsan?', 'apa yang harus saya lakukan jika saya merasa ingin pingsan?', 'Obat apa yang harus diminum jika saya pingsan?', 'Bagaimana cara menyembuhkan pingsan?', 'Bagaimana cara mengobati sakit kepala ringan?', 'apa yang harus saya lakukan jika saya mengalami sakit kepala ringan?', 'Obat apa yang harus saya minum jika saya mengalami sakit kepala ringan?', 'Bagaimana cara menyembuhkan sakit kepala ringan?', 'Bagaimana cara mengobati pilek?', 'apa yang harus saya lakukan jika saya terserang flu ringan?', 'Obat apa yang harus diminum jika saya pilek?', 'Bagaimana cara menyembuhkan pilek?', 'Bagaimana cara mengobati Ruam?', 'apa yang harus saya lakukan jika saya terkena Ruam?', 'Obat apa yang harus saya minum jika saya mengalami Ruam?', 'Bagaimana cara menyembuhkan Ruam?', 'Bagaimana cara mengobati gigitan ular?', 'apa yang harus saya lakukan jika saya digigit ular?', 'Obat apa yang harus saya minum jika saya digigit ular?', 'Bagaimana cara menyembuhkan gigitan ular?', 'aku digigit ular', 'Bagaimana cara mengobati gigitan hewan?', 'Bagaimana cara mengobati gigitan monyet?', 'Bagaimana cara mengobati gigitan anjing?', 'apa yang harus saya lakukan jika saya digigit binatang?', 'Obat apa yang harus saya minum jika saya digigit monyet?', 'Bagaimana cara menyembuhkan gigitan anjing?', 'aku digigit anjing', 'Apa yang harus dilakukan jika seseorang tenggelam?', 'apa yang harus dilakukan jika seseorang tenggelam?', 'Tindakan apa yang harus diambil jika saya melihat orang tenggelam?', 'Bagaimana cara menolong orang yang tenggelam?', 'Bagaimana cara memberikan CPR??', 'apa yang harus dilakukan dalam CPR?', 'Langkah apa yang harus dilakukan dalam CPR?', 'Bagaimana cara menolong orang yang tenggelam dengan CPR?', 'Bagaimana cara mengobati Fraktur?', 'apa yang harus saya lakukan jika saya terkena patah tulang?', 'Obat apa yang harus saya minum jika saya mengalami patah tulang?', 'Bagaimana cara menyembuhkan patah tulang?', 'Bagaimana cara mengobati luka bakar?', 'Perawatan luka bakar', 'Apa yang harus digunakan pada luka bakar?', 'Obat apa yang digunakan untuk luka bakar?', 'Bagaimana cara menyembuhkan luka bakar?', 'Luka bakar', 'Bagaimana cara mengobati lepuh?', 'Apa yang harus dilakukan jika terbentuk lepuh?', 'Obat apa yang digunakan untuk mengobati lepuh?', 'Perawatan lepuh', 'Melepuh', 'Bagaimana cara mengobati kulit terbakar matahari?', 'Apa yang harus dilakukan jika terbakar matahari?', 'Obat apa yang digunakan untuk kulit terbakar matahari?', 'Pengobatan Kulit Terbakar Sinar Matahari', 'Perawatan kulit terbakar matahari', 'Bagaimana cara mengobati radang dingin?', 'Apa yang harus dilakukan jika mengalami radang dingin?', 'Obat apa yang digunakan untuk radang dingin?', 'Perawatan radang dingin', 'Pengobatan radang dingin', 'Bagaimana cara menghentikan mimisan?', 'Perawatan Mimisan', 'Apa yang harus dilakukan jika mimisan terjadi?', 'Bagaimana cara mengobati mimisan?', 'Mimisan', 'Bagaimana cara mengobati reaksi alergi?', 'Perawatan reaksi alergi', 'Apa yang harus dilakukan jika terjadi reaksi alergi?', 'Obat apa yang harus diminum untuk reaksi alergi?', 'Reaksi alergi', 'Bagaimana cara mengobati hipotermia?', 'Apa yang harus dilakukan jika seseorang mengalami hipotermia?', 'Perawatan hipotermia', 'Bagaimana cara mencegah hipotermia?', 'Pengobatan hipotermia', 'Bagaimana cara mengobati keracunan makanan?', 'Apa yang harus dilakukan jika Anda keracunan makanan?', 'Perawatan keracunan makanan', 'Apa yang harus diminum jika terjadi keracunan makanan?', 'Gejala keracunan makanan', 'Bagaimana cara mengobati mata gatal?', 'Apa obat terbaik untuk mata gatal?', 'Mataku gatal', 'Bagaimana cara menyembuhkan mata gatal?', 'Mengapa mataku gatal?', 'Bagaimana cara mengobati gatal?', 'Obat apa yang paling ampuh untuk mengatasi gatal?', 'Gatal pada kulit', 'Bagaimana cara menyembuhkan kulit gatal?', 'Mengapa kulit saya gatal?', 'Mengapa saya merasa gatal?', 'Bagaimana cara mengobati sakit mata?', 'Apa obat terbaik untuk sakit mata?', 'Mengapa mataku sakit?', 'Bagaimana cara menghilangkan sakit mata?', 'Mataku terasa sakit', 'Apa yang harus dilakukan jika mata terasa sakit?', 'Halo Pychan', 'Halo', 'Pychan', 'Hai', 'Selamat tinggal', 'Goodbye', 'selamat jalan', 'Terima kasih', 'Terimakasih', 'Bagus', 'Keren', 'Hebat', 'Mantap', 'Apa yang bisa kamu bantu', 'Jelaskan apa yang bisa kamu lakukan', 'Layanan apa yang kamu tawarkan', 'Bisakah kamu membantu dengan kesehatan?']\n",
      "['Potongan', 'Potongan', 'Potongan', 'Potongan', 'Potongan', 'Lecet', 'Lecet', 'Lecet', 'Lecet']\n",
      "{'Potongan': ['Cuci luka dengan benar untuk mencegah infeksi dan menghentikan pendarahan dengan memberikan tekanan selama 1-2 menit hingga pendarahan berhenti. Oleskan Petroleum Jelly untuk memastikan luka tetap lembap agar cepat sembuh. Terakhir, tutup luka dengan perban steril. Pereda nyeri seperti asetaminofen dapat diberikan.'], 'Lecet': ['Mulailah dengan tangan yang sudah dicuci. Bersihkan area tersebut dengan lembut menggunakan air dingin hingga hangat dan sabun lembut. Singkirkan kotoran atau partikel lain dari luka menggunakan pinset yang disterilkan. Untuk goresan ringan yang tidak berdarah, biarkan luka tetap terbuka. Jika luka berdarah, gunakan kain bersih atau perban, dan berikan tekanan lembut pada area tersebut untuk menghentikan pendarahan. Tutupi luka yang berdarah dengan lapisan tipis salep antibiotik topikal, seperti Bacitracin, atau salep penghalang kelembapan steril, seperti Aquaphor. Tutupi dengan perban atau kain kasa bersih. Bersihkan luka dengan lembut dan ganti salep dan perban sekali sehari. Perhatikan area tersebut untuk tanda-tanda infeksi, seperti nyeri atau kemerahan dan bengkak. Temui dokter Anda jika Anda mencurigai adanya infeksi.'], 'sengatan': ['Segera singkirkan semua sengat. Beberapa ahli menyarankan untuk mengikis sengat dengan kartu kredit. Mengompres bagian yang tersengat dengan es dapat sedikit meredakan nyeri. Kompres bagian yang tersengat dengan es selama 20 menit setiap jam sesuai kebutuhan. Bungkus es dengan handuk atau letakkan kain di antara es dan kulit agar kulit tidak membeku. Mengonsumsi antihistamin seperti difenhidramin (Benadryl) atau antihistamin nonsedatif seperti loratadin (Claritin) akan membantu mengatasi rasa gatal dan bengkak. Minum asetaminofen (Tylenol) atau ibuprofen (Motrin) untuk meredakan nyeri sesuai kebutuhan. Cuci bagian yang tersengat dengan sabun dan air. Mengoleskan krim hidrokortison pada bagian yang tersengat dapat membantu meredakan kemerahan, gatal, dan bengkak.'], 'Terpecah': ['1. RENDAM DALAM GARAM EPSOM. Larutkan secangkir garam ke dalam bak mandi air hangat dan rendam bagian tubuh mana pun yang terkena serpihan. Jika tidak berhasil, Anda juga dapat menaruh sebagian garam ke bantalan perban dan membiarkannya tertutup selama sehari; ini pada akhirnya akan membantu mengeluarkan serpihan ke permukaan. 2. CUKA ATAU MINYAK. Cara mudah lainnya untuk mengeluarkan serpihan yang membandel adalah dengan merendam area yang terkena dalam minyak (zaitun atau jagung) atau cuka putih. Tuangkan sedikit ke dalam mangkuk dan rendam area tersebut selama sekitar 20 hingga 30 menit,'], 'Terkilir': ['Segera gunakan kompres es atau mandi air es selama 15 hingga 20 menit dan ulangi setiap dua hingga tiga jam saat Anda terjaga. Untuk membantu menghentikan pembengkakan, kompres pergelangan kaki dengan perban elastis hingga pembengkakan berhenti. Dalam kebanyakan kasus, pereda nyeri â€” seperti ibuprofen (Advil, Motrin IB, lainnya) atau naproxen sodium (Aleve, lainnya) atau asetaminofen (Tylenol, lainnya) sudah cukup untuk mengatasi nyeri akibat pergelangan kaki terkilir.'], 'Ketegangan': ['Istirahat, Es, Kompresi, dan Elevasi dapat digunakan untuk menyembuhkan cedera. Hindari penggunaan otot selama beberapa hari, terutama jika gerakan menyebabkan peningkatan rasa sakit dan juga Tempelkan es segera setelah cedera pada otot. Ini akan meminimalkan pembengkakan. Jangan menempelkan es langsung ke kulit Anda. Gunakan kompres es atau bungkus es dengan handuk. Untuk mengurangi pembengkakan, balut area yang terkena dengan perban elastis hingga pembengkakan mereda.'], 'Demam': ['Untuk mengobati demam di rumah: 1) Minum banyak cairan agar tetap terhidrasi. 2) Kenakan pakaian yang tipis. 3) Gunakan selimut tipis jika Anda merasa kedinginan, hingga rasa dinginnya hilang. 4) Minum asetaminofen (Tylenol, dan lain-lain) atau ibuprofen (Advil, Motrin IB, dan lain-lain). 5) Cari pertolongan medis jika demam berlangsung lebih dari lima hari berturut-turut.'], 'Hidung tersumbat': ['Saat hidung tersumbat, fokuslah untuk menjaga kelembapan saluran hidung dan sinus. Untuk menjaga kelembapan saluran hidung, Anda dapat: 1) Menggunakan pelembap udara atau alat penguap. 2) Minum banyak cairan. Ini akan mengencerkan lendir, yang dapat membantu mencegah penyumbatan sinus. 3) Letakkan handuk basah dan hangat di wajah. Ini dapat meredakan ketidaknyamanan dan membuka saluran hidung.'], 'Batuk': ['1) Madu: Gunakan madu untuk mengobati batuk, campurkan 2 sendok teh (sdt) dengan air hangat atau teh herbal. Minum campuran ini sekali atau dua kali sehari. Jangan berikan madu kepada anak di bawah usia 1 tahun. 2) Jahe: Seduh teh jahe yang menenangkan dengan menambahkan 20â€“40 gram (g) irisan jahe segar ke dalam secangkir air panas. Biarkan terendam selama beberapa menit sebelum diminum. Tambahkan madu atau air jeruk lemon untuk meningkatkan rasa dan meredakan batuk lebih lanjut. 3) Cairan: Tetap terhidrasi sangat penting bagi mereka yang batuk atau pilek. Penelitian menunjukkan bahwa minum cairan pada suhu ruangan dapat meredakan batuk, pilek, dan bersin.'], 'Sakit tenggorokan': ['1) Pastikan Anda cukup istirahat dan minum banyak cairan. 2) Hirup uapnya, siram air panas di wastafel. Tutupi tubuh Anda dengan handuk untuk menahan uapnya, dan minta orang tersebut mencondongkan tubuh di wastafel dengan air yang mengalir. Minta dia untuk bernapas dalam-dalam melalui mulut dan hidungnya selama 5 hingga 10 menit. Ulangi beberapa kali sehari. 3) Minta dia menyeruput kaldu ayam atau teh hangat dengan madu. Jangan berikan madu kepada anak di bawah usia 12 bulan.'], 'Masalah gastrointestinal': ['1) Mengisi kembali cairan tubuh. 2) Jangan mengonsumsi obat antidiare, pencahar, atau obat pereda nyeri, kecuali atas anjuran dokter. 3) Mengonsumsi antasida dapat membantu, sesuai anjuran dokter. 4) Jika sering mengalami nyeri ulu hati, segera cari pertolongan medis. 5) Mengonsumsi makanan yang tidak pedas secara teratur dapat meredakan nyeri maag. 6) Segera cari pertolongan medis, jika kondisi terus berlanjut atau memburuk.'], 'Masalah kulit': ['1) Krim hidrokortison. 2) Salep seperti losion kalamin. 3) Antihistamin. 4) Kompres dingin. 5) Mandi oatmeal. 6) Bicarakan dengan dokter Anda tentang apa yang terbaik untuk ruam spesifik Anda.'], 'Sakit Perut': ['1) Berikan cairan bening untuk diminum, seperti air, kaldu, atau jus buah yang diencerkan dengan air. 2) Sajikan makanan hambar, seperti biskuit asin, roti tawar, roti panggang kering, nasi, agar-agar, atau saus apel. 3) Hindari makanan pedas atau berminyak dan minuman berkafein atau berkarbonasi hingga 48 jam setelah semua gejala hilang.'], 'Memar': ['1) Kompres bagian yang memar dengan kompres es yang dibungkus handuk. 2) Diamkan selama 10 hingga 20 menit. 3) Ulangi beberapa kali sehari selama satu atau dua hari sesuai kebutuhan. 4) Kompres bagian yang memar jika membengkak, menggunakan perban elastis.'], 'Jari Kaki Patah': ['1) Untuk membantu mengurangi nyeri dan pembengkakan pada jari kaki yang patah, tinggikan kaki, kompres dingin pada bagian yang cedera, dan jangan menggerakkan kaki. 2) Tergantung pada tingkat keparahan patah tulang, jari kaki mungkin perlu dikembalikan ke tempatnya (direduksi), dan beberapa patah tulang jari kaki majemuk mungkin memerlukan pembedahan. 3) Sebagian besar jari kaki yang patah sembuh tanpa komplikasi dalam waktu enam minggu.'], 'Tersedak': ['1) Dorong mereka untuk terus batuk guna mencoba membersihkan sumbatan. 2) Minta mereka untuk mencoba meludahkan benda tersebut jika ada di mulut mereka. 3) Jika batuk tidak berhasil, mulailah dengan pukulan punggung dan dorongan perut.'], 'Luka': ['1) Bilas luka dengan air dan tekan dengan kain kasa steril, perban, atau kain bersih. 2) Jika darah merembes melalui perban, letakkan perban lain di atas perban pertama dan terus tekan. 3) Angkat bagian tubuh yang cedera untuk memperlambat pendarahan. 4) Jika pendarahan berhenti, tutup luka dengan perban baru yang bersih.'], 'Diare': ['1) Tubuh yang terhidrasi sangat penting untuk pulih dari diare. Hal ini menyebabkan tubuh kehilangan elektrolit seperti natrium dan klorida. 2) Sangat disarankan untuk menghindari produk susu, karena dapat memperburuk diare pada sebagian orang. 3) Namun, jika diare berlangsung lebih dari 2 hari, carilah saran medis untuk menghindari komplikasi.'], 'Gigitan embun beku': ['1) Keluar dari tempat yang dingin. Setelah berada di tempat yang hangat, lepaskan pakaian basah dan bungkus tubuh dengan selimut hangat. 2) Hangatkan kembali bagian yang terkena radang dingin dengan lembut. Rendam jari tangan, kaki, atau bagian tubuh lainnya yang terkena radang dingin dalam air hangat â€” 105 hingga 110 F (sekitar 40 hingga 43 C). Jika termometer tidak tersedia, uji air dengan meletakkan tangan atau siku yang tidak cedera di dalamnya â€” air seharusnya terasa sangat hangat, tidak panas. Rendam selama 20 hingga 30 menit atau sampai kulit kembali ke warna normal atau mati rasa. Untuk wajah atau telinga, gunakan waslap basah yang hangat.'], 'Kelelahan Akibat Panas': ['1) Pindahkan korban ke tempat yang teduh atau ber-AC, jauh dari panas. Baringkan korban dan angkat kaki sedikit. Lepaskan pakaian yang ketat atau berat. Minta korban minum air dingin atau minuman nonalkohol lainnya tanpa kafein.'], 'Serangan Panas': ['1) Dinginkan seluruh tubuh korban dengan spons atau semprotan air dingin, dan kipasi korban untuk membantu menurunkan suhu tubuh korban. Perhatikan tanda-tanda serangan panas yang cepat, seperti kejang, tidak sadarkan diri selama lebih dari beberapa detik, dan kesulitan bernapas sedang hingga berat.'], 'Gigitan Serangga': ['1) Cuci bagian yang terkena dengan sabun dan air. Tempelkan kompres dingin (seperti kain flanel atau kain yang didinginkan dengan air dingin) atau kompres es pada bagian yang bengkak selama minimal 10 menit. Angkat bagian yang terkena jika memungkinkan, karena ini dapat membantu mengurangi pembengkakan.'], 'mimisan': ['1) Cuci bagian yang terkena dengan sabun dan air. Tempelkan kompres dingin (seperti kain flanel atau kain yang didinginkan dengan air dingin) atau kompres es pada bagian yang bengkak selama minimal 10 menit. Angkat bagian yang terkena jika memungkinkan, karena ini dapat membantu mengurangi pembengkakan.'], 'Otot Tertarik': ['1) Kompres dengan es selama 10 hingga 15 menit setiap 1 jam pada hari pertama dan setiap 3 hingga 4 jam setelahnya. Kompres dengan es selama 3 hari pertama. Setelah 3 hari, kompres panas atau es dapat membantu jika Anda masih merasakan nyeri. Istirahatkan otot yang tertarik setidaknya selama satu hari.'], 'Pendarahan rektal': ['1) Untuk pendarahan minimal akibat wasir atau fisura rektum, dokter biasanya akan memberikan perawatan di rumah dengan banyak air, kompres es, dan mungkin salep atau supositoria yang dijual bebas untuk melancarkan buang air besar atau melunakkan tinja. Perawatan darurat mungkin termasuk infus jika terjadi dehidrasi.'], 'Kulit terbakar akibat sinar matahari': ['1) Dinginkan kulit, 2) Minum air putih untuk mencegah dehidrasi, 3) Minum obat pereda nyeri seperti ibuprofen (Advil, Motrin IB, lainnya) untuk membantu meredakan ketidaknyamanan dan pembengkakan akibat sengatan matahari.'], 'Nyeri Testis': ['1) Untuk mengatasi nyeri, minumlah obat yang dijual bebas seperti asetaminofen (Tylenol) atau ibuprofen (Advil, Motrin). Untuk mengatasi pembengkakan, kompres skrotum dengan es.'], 'Pusing': ['1) Meredakan atau Mencegah Pusing. Minta orang tersebut berbaring dan beristirahat, 2) Jaga Orang tersebut Tetap Aman. Bantu orang tersebut agar tidak terjatuh, 3) Hubungi Penyedia Layanan Kesehatan. Setiap tanda dan gejala vertigo yang baru harus diperiksa oleh penyedia layanan kesehatan.'], 'Perdarahan Normal': ['1) Tindakan pertolongan pertama untuk menangani pendarahan luar meliputi pemberian tekanan langsung pada luka, mempertahankan tekanan menggunakan bantalan dan perban, serta, mengangkat anggota tubuh yang cedera di atas ketinggian jantung jika memungkinkan.'], 'Cedera Mata': ['1) JANGAN menggosok mata, 2) Berkedip beberapa kali dan biarkan air mata membilas partikel, 3) Angkat kelopak mata atas di atas bulu mata kelopak mata bawah agar bulu mata mencoba menyikat partikel keluar., 4) Gunakan obat cuci mata, larutan garam atau air keran mengalir untuk membilas mata.'], 'Luka Bakar Kimia': ['1) bilas dengan air Â· Bilas area tersebut setidaknya selama 20 menit. Â· Saat Anda menyiram area tersebut, lepaskan semua pakaian atau perhiasan yang terkena bahan kimia tersebut ,2) Jangan gunakan aliran air yang deras, jika memungkinkan., 3) Jangan mencoba menetralkan luka bakar dengan asam atau alkali. Hal ini dapat menyebabkan reaksi kimia yang memperburuk luka bakar, 4) Jangan mengoleskan salep antibiotik pada luka bakar.'], 'Racun': ['1) Segera dapatkan udara segar. Hubungi saluran Bantuan Racun bebas pulsa (1-800-222-1222), yang menghubungkan Anda ke pusat penanganan racun setempat. 2) Lepaskan semua pakaian yang terkena racun. Bilas kulit dengan air mengalir selama 15 hingga 20 menit. Hubungi saluran Bantuan Racun bebas pulsa (1-800-222-1222), yang menghubungkan Anda ke pusat penanganan racun setempat. 3) Jika orang tersebut menelan obat yang salah atau terlalu banyak obat: Hubungi Bantuan Racun (1-800-222-1222), yang menghubungkan Anda ke pusat penanganan racun setempat. 4) Setiap keracunan berbeda.'], 'Gigi': ['1) jilat gigi hingga bersih jika kotor, atau bilas dengan air. pasang kembali pada posisi semula (hanya untuk gigi orang dewasa); jangan pernah mencoba memasukkan kembali gigi susu (lihat di bawah) gigit sapu tangan untuk menahan gigi pada tempatnya. pergi ke dokter gigi sebagai tindakan darurat'], 'kejang': ['1) Tetap tenang dan tetaplah bersama orang tersebut, 2) Jika mereka memiliki makanan atau cairan di mulut mereka, segera gulingkan mereka ke samping, 3) Letakkan sesuatu yang lembut di bawah kepala mereka dan kendurkan pakaian ketat apa pun.'], 'Cedera Kepala': ['1) Tekan luka dengan kuat menggunakan kain kasa steril atau kain bersih. Namun, jangan menekan luka secara langsung jika Anda menduga adanya fraktur tengkorak.'], 'Pingsan': ['1) Berbaring atau duduk. Untuk mengurangi kemungkinan pingsan lagi, jangan bangun terlalu cepat, 2) Letakkan kepala di antara lutut jika Anda duduk, 3) Posisikan orang tersebut dalam posisi telentang. Jika tidak ada cedera dan orang tersebut bernapas, angkat kaki orang tersebut di atas ketinggian jantung â€” sekitar 12 inci (30 sentimeter) â€” jika memungkinkan. Kendurkan ikat pinggang, kerah, atau pakaian ketat lainnya.'], 'Sakit kepala': ['Berikan ibuprofen (Advil, Motrin), aspirin, atau asetaminofen (Tylenol) untuk meredakan nyeri. Hindari ibuprofen dan NSAID lainnya jika orang tersebut mengalami gagal jantung atau gagal ginjal. Jangan berikan aspirin kepada anak di bawah usia 18 tahun.'], 'Dingin': [\"1) Menjaga tubuh tetap terhidrasi sangat penting untuk membantu 'mengeluarkan' flu, serta melegakan hidung tersumbat dan menjaga tenggorokan tetap lembap. 2) Vitamin C sangat membantu dalam melawan infeksi, jadi saat gejala pertama flu muncul, pastikan untuk menambah asupan dengan mengonsumsi banyak buah beri, buah jeruk, pepaya, brokoli, dan paprika merah yang akan membantu melindungi tubuh. 3) Dalam melawan flu, Vitamin D sangat penting dalam membantu mengatur respons imun.\"], 'Ruam': ['1) Minyak zaitun membantu penyembuhan dan mempercepat pembaruan kulit karena mengandung vitamin E dan antioksidan. Minyak ini juga menenangkan kulit dan mengurangi rasa gatal. 2) Soda kue berguna untuk mengeringkan ruam kulit serta meredakan rasa gatal dan peradangan. 3) Lidah Buaya, Berkat sifat antibakteri, antijamur, antiradang, dan emoliennya, lidah buaya sangat baik untuk mengobati sejumlah penyakit kulit termasuk ruam serta menenangkan kulit.'], 'gigitan ular': ['Sambil menunggu pertolongan medis: 1) Pindahkan korban ke tempat yang lebih jauh dari jangkauan ular. 2) Baringkan korban dengan luka di bawah jantung. 3) Jaga korban tetap tenang dan istirahat, sebisa mungkin tetap diam untuk mencegah racun menyebar. 4) Tutup luka dengan perban longgar dan steril. 5) Lepaskan semua perhiasan dari bagian yang digigit. 6) Lepaskan sepatu jika kaki atau telapak kakinya digigit.'], 'gigitan binatang': ['1) Cuci luka dengan sabun dan air hangat. 2) Tekan perlahan kain bersih di atas luka untuk menghentikan aliran darah. 3) Oleskan salep antibakteri ke luka. 4) Tutup dengan perban steril. 5) Perhatikan tanda-tanda infeksi. 6) Cari bantuan jika Anda mencurigai adanya infeksi atau kemungkinan terpapar rabies, atau jika lukanya parah.'], 'Tenggelam': ['1) Tempelkan telinga Anda di dekat mulut dan hidung korban. Apakah Anda merasakan udara di pipi Anda? 2) Lihat apakah dada korban bergerak. Jika Korban Tidak Bernapas, Periksa Denyut Nadi. 3) Periksa denyut nadi korban selama 10 detik. Jika Tidak Ada Denyut Nadi, Mulai CPR.'], 'Resusitasi Jantung Paru (RJP)': ['1) Untuk orang dewasa atau anak-anak, letakkan tumit salah satu tangan di tengah dada pada garis puting. Anda juga dapat menekan dengan satu tangan di atas tangan lainnya. Untuk bayi, letakkan dua jari pada tulang dada. 2) Untuk orang dewasa atau anak-anak, tekan ke bawah setidaknya 2 inci. Pastikan untuk tidak menekan tulang rusuk. Untuk bayi, tekan ke bawah sekitar 1 dan 1/2 inci. Pastikan untuk tidak menekan ujung tulang dada. 3) Lakukan kompresi dada saja, dengan kecepatan 100-120 per menit atau lebih. Biarkan dada terangkat sepenuhnya di antara setiap tekanan. 4) Periksa untuk melihat apakah orang tersebut sudah mulai bernapas.'], 'Patah': ['1) Hentikan pendarahan. Tekan luka dengan perban steril, kain bersih, atau sepotong pakaian bersih. 2) Imobilisasi area yang cedera. Jangan mencoba meluruskan kembali tulang atau mendorong tulang yang mencuat ke dalam. Jika Anda telah dilatih cara membidai dan bantuan profesional tidak tersedia, gunakan bidai pada area di atas dan di bawah lokasi fraktur. Bantalan bidai dapat membantu mengurangi rasa tidak nyaman. 3) Gunakan kompres es untuk membatasi pembengkakan dan membantu meredakan nyeri. Jangan menempelkan es langsung ke kulit. Bungkus es dengan handuk, sepotong kain, atau bahan lainnya. 4) Rawat syok. Jika orang tersebut merasa pingsan atau bernapas pendek dan cepat, baringkan orang tersebut dengan kepala sedikit lebih rendah dari badan dan, jika memungkinkan, tinggikan kakinya.'], 'Luka bakar': ['Dinginkan luka bakar dengan air dingin (bukan air es) selama minimal 10 menit. Tutup luka bakar dengan perban steril anti lengket atau kain bersih. Jangan mengoleskan mentega, minyak, atau krim langsung pada luka bakar. Obat pereda nyeri yang dijual bebas seperti ibuprofen atau asetaminofen dapat membantu meredakan nyeri. Jika luka bakar parah, segera cari pertolongan medis.'], 'Melepuh': ['Cuci bagian yang terkena dengan lembut menggunakan sabun dan air. Tutupi lepuh dengan perban atau pembalut steril. Jika lepuh pecah, oleskan salep antibiotik ke bagian yang terkena dan tutupi dengan pembalut steril. Jangan lepaskan bagian atas lepuh; biarkan sembuh secara alami. Pereda nyeri seperti asetaminofen dapat membantu meredakan rasa tidak nyaman.'], 'Terbakar sinar matahari': ['Dinginkan kulit dengan mandi air dingin atau kompres dingin. Oleskan gel aloe vera atau losion pelembap untuk menenangkan kulit. Minum banyak air putih agar tetap terhidrasi. Pereda nyeri yang dijual bebas seperti ibuprofen dapat membantu meredakan nyeri dan peradangan. Hindari paparan sinar matahari hingga kulit terbakar sembuh.'], 'Radang dingin': ['Segera pindah ke tempat yang hangat dan lepaskan semua pakaian yang basah. Hangatkan bagian yang terkena radang dingin menggunakan panas tubuh atau air hangat (bukan air panas). Jangan menggosok bagian yang terkena. Cari pertolongan medis jika radang dinginnya parah atau meliputi area yang luas.'], 'Mimisan': ['Duduklah dan condongkan tubuh sedikit ke depan. Jepit bagian hidung yang lunak dengan ibu jari dan jari telunjuk, berikan tekanan yang kuat selama sekitar 10 menit. Bernapaslah melalui mulut dan jangan berbaring. Tempelkan kompres dingin pada pangkal hidung untuk membantu menyempitkan pembuluh darah. Cari pertolongan medis jika pendarahan tidak berhenti setelah 20 menit.'], 'Reaksi Alergi': ['Minum antihistamin seperti diphenhydramine (Benadryl) untuk mengurangi gejala. Gunakan kompres dingin untuk menenangkan kulit. Jika Anda mengalami kesulitan bernapas, gunakan suntikan epinefrin jika diresepkan dan segera cari pertolongan medis darurat.'], 'Hipotermia': ['Pindahkan korban ke lingkungan yang hangat. Lepaskan pakaian yang basah dan tutupi dengan selimut. Gunakan kompres hangat dan kering pada leher, dada, atau selangkangan. Hindari panas langsung seperti bantal pemanas atau air panas. Cari pertolongan medis jika kondisinya tidak membaik.'], 'Keracunan Makanan': ['Tetap terhidrasi dengan minum banyak cairan. Beristirahatlah sebanyak mungkin. Hindari makanan padat sampai muntah dan diare mereda. Mulailah dengan makanan hambar seperti roti panggang, nasi, atau pisang setelah gejala membaik. Cari pertolongan medis jika gejalanya parah atau terus-menerus.'], 'Mata Gatal': ['Cuci tangan sebelum menyentuh mata. Hindari menggosok mata untuk mencegah iritasi lebih lanjut. Gunakan kompres dingin pada mata yang gatal untuk mengurangi peradangan. Tetes mata antihistamin seperti ketotifen dapat membantu mengurangi rasa gatal. Jika alergi adalah penyebabnya, hindari alergen yang memicu gejala. Jika gejala berlanjut, konsultasikan dengan dokter mata.'], 'Gatal': ['Bersihkan bagian yang gatal dengan sabun lembut dan air. Hindari menggaruk untuk mencegah iritasi lebih lanjut. Gunakan losion kalamin atau krim antihistamin untuk meredakan gatal. Kompres dingin pada bagian yang gatal dapat membantu mengurangi rasa tidak nyaman. Jika rasa gatal berlanjut atau disertai gejala lain, temui dokter.'], 'Sakit Mata': ['Istirahatkan mata Anda dan hindari terlalu lama menatap layar. Gunakan obat tetes mata untuk menjaga mata tetap lembap. Kompres hangat dapat membantu meredakan ketegangan mata. Jika mata terasa kering, gunakan air mata buatan. Konsultasikan dengan dokter mata jika rasa sakit tidak kunjung hilang atau disertai gejala lain seperti penglihatan kabur.'], 'greeting': ['Hai, ada yang bisa saya bantu?'], 'goodbye': ['Sampai jumpa lagi'], 'thanks': ['Senang bisa membantu'], 'pychan': ['Saya adalah chatbot kesehatan yang memberikan informasi dan saran kesehatan.']}\n"
     ]
    }
   ],
   "source": [
    "patterns = []\n",
    "tags = []\n",
    "responses = {}\n",
    "\n",
    "for intent in dataMed['intents']:\n",
    "    for pattern in intent['patterns']:\n",
    "        patterns.append(pattern)\n",
    "        tags.append(intent['tag'])\n",
    "    responses[intent['tag']] = intent['responses']\n",
    "\n",
    "for intent in dataGreet['intents']:\n",
    "    for pattern in intent['patterns']:\n",
    "        patterns.append(pattern)\n",
    "        tags.append(intent['tag'])\n",
    "    responses[intent['tag']] = intent['responses']\n",
    "\n",
    "print(len(patterns))\n",
    "print(len(responses))\n",
    "print(len(tags))\n",
    "print(patterns[9:])\n",
    "print(tags[0:9])\n",
    "print(responses)"
   ]
  },
  {
   "cell_type": "code",
   "execution_count": 5,
   "metadata": {},
   "outputs": [],
   "source": [
    "SteamPattterns = []\n",
    "\n",
    "for pattern in patterns:\n",
    "    stemming = stemmer.stem(pattern)\n",
    "    SteamPattterns.append(stemming)\n"
   ]
  },
  {
   "cell_type": "code",
   "execution_count": 6,
   "metadata": {},
   "outputs": [
    {
     "name": "stdout",
     "output_type": "stream",
     "text": [
      "263\n",
      "59\n",
      "263\n",
      "['apa yang harus laku jika potong', 'bagaimana cara sembuh luka', 'obat apa yang harus pakai untuk luka', 'apa yang harus aplikasi pada luka', 'potong', 'bagaimana cara obat lecet', 'apakah abrasi timbul bekas luka', 'lecet', 'apa yang harus laku jika jadi lecet']\n",
      "['Potongan', 'Potongan', 'Potongan', 'Potongan', 'Potongan', 'Lecet', 'Lecet', 'Lecet', 'Lecet']\n"
     ]
    }
   ],
   "source": [
    "print(len(SteamPattterns))\n",
    "print(len(responses))\n",
    "print(len(tags))\n",
    "print(SteamPattterns[0:9])\n",
    "print(tags[0:9])"
   ]
  },
  {
   "cell_type": "code",
   "execution_count": 7,
   "metadata": {},
   "outputs": [],
   "source": [
    "pickle.dump(tags,open('./model/tags.pkl','wb'))\n",
    "pickle.dump(responses,open('./model/responses.pkl','wb'))\n",
    "pickle.dump(SteamPattterns,open('./model/patterns.pkl','wb'))"
   ]
  },
  {
   "cell_type": "code",
   "execution_count": 8,
   "metadata": {
    "id": "hFRlXpaM8NsF"
   },
   "outputs": [],
   "source": [
    "def splitDataset(inputs, labels):\n",
    "    totalData = len(inputs)\n",
    "    valSize = int(totalData * 0.2)\n",
    "    valSplit = list(range(0, valSize * 5, 5))\n",
    "    trainSplit = [i for i in range(totalData) if i not in valSplit]\n",
    "\n",
    "\n",
    "    trainTexts = [inputs[i] for i in trainSplit]\n",
    "    valTexts = [inputs[i] for i in valSplit]\n",
    "    trainLabels = [labels[i] for i in trainSplit]\n",
    "    valLabels = [labels[i] for i in valSplit]\n",
    "\n",
    "    trainDataset = tf.data.Dataset.from_tensor_slices((trainTexts, trainLabels))\n",
    "    valDataset = tf.data.Dataset.from_tensor_slices((valTexts, valLabels))\n",
    "\n",
    "    return trainDataset, valDataset"
   ]
  },
  {
   "cell_type": "code",
   "execution_count": 9,
   "metadata": {
    "colab": {
     "base_uri": "https://localhost:8080/"
    },
    "id": "eSTJFVGu8dhb",
    "outputId": "a472431c-f5f3-46ae-8e30-79450bcf935e"
   },
   "outputs": [
    {
     "name": "stdout",
     "output_type": "stream",
     "text": [
      "There are 211 sentence-label pairs for training.\n",
      "\n",
      "There are 52 sentence-label pairs for validation.\n",
      "\n",
      "<_TensorSliceDataset element_spec=(TensorSpec(shape=(), dtype=tf.string, name=None), TensorSpec(shape=(), dtype=tf.string, name=None))>\n",
      "<_TensorSliceDataset element_spec=(TensorSpec(shape=(), dtype=tf.string, name=None), TensorSpec(shape=(), dtype=tf.string, name=None))>\n"
     ]
    }
   ],
   "source": [
    "trainDataset, valDataset = splitDataset(SteamPattterns, tags)\n",
    "\n",
    "print(f\"There are {trainDataset.cardinality()} sentence-label pairs for training.\\n\")\n",
    "print(f\"There are {valDataset.cardinality()} sentence-label pairs for validation.\\n\")\n",
    "\n",
    "print(trainDataset)\n",
    "print(valDataset)"
   ]
  },
  {
   "cell_type": "code",
   "execution_count": 10,
   "metadata": {
    "colab": {
     "base_uri": "https://localhost:8080/"
    },
    "id": "u_f9K2m18rl4",
    "outputId": "efc900b9-8f68-4ce3-ac05-a132da0eb5aa"
   },
   "outputs": [
    {
     "name": "stdout",
     "output_type": "stream",
     "text": [
      "(b'bagaimana cara sembuh luka', b'Potongan')\n",
      "(b'obat apa yang harus pakai untuk luka', b'Potongan')\n",
      "(b'apa yang harus aplikasi pada luka', b'Potongan')\n",
      "(b'potong', b'Potongan')\n",
      "(b'apakah abrasi timbul bekas luka', b'Lecet')\n",
      "(b'lecet', b'Lecet')\n",
      "(b'apa yang harus laku jika jadi lecet', b'Lecet')\n",
      "(b'obat apa yang harus guna untuk luka lecet', b'Lecet')\n",
      "(b'bagaimana anda obat sting', b'sengatan')\n",
      "(b'sengat', b'sengatan')\n",
      "(b'apa yang harus laku jika potong', b'Potongan')\n",
      "(b'bagaimana cara obat lecet', b'Lecet')\n",
      "(b'bagaimana cara sembuh lecet', b'Lecet')\n",
      "(b'cara hilang serpih', b'Terpecah')\n",
      "(b'apa yang harus saya laku jika saya kilir', b'Terkilir')\n"
     ]
    }
   ],
   "source": [
    "for data in trainDataset.take(10).as_numpy_iterator():\n",
    "    print(data)\n",
    "\n",
    "for data in valDataset.take(5).as_numpy_iterator():\n",
    "    print(data)"
   ]
  },
  {
   "cell_type": "code",
   "execution_count": 11,
   "metadata": {
    "colab": {
     "base_uri": "https://localhost:8080/"
    },
    "id": "WeiKkZ7O8yxa",
    "outputId": "6339a210-79e9-44a9-ba6c-891d295fa001"
   },
   "outputs": [
    {
     "name": "stdout",
     "output_type": "stream",
     "text": [
      "['ada', 'adalah', 'adanya', 'adapun', 'agak', 'agaknya', 'agar', 'akan', 'akankah', 'akhir', 'akhiri', 'akhirnya', 'aku', 'akulah', 'amat', 'amatlah', 'anda', 'andalah', 'antar', 'antara', 'antaranya', 'apa', 'apaan', 'apabila', 'apakah', 'apalagi', 'apatah', 'artinya', 'asal', 'asalkan', 'atas', 'atau', 'ataukah', 'ataupun', 'awal', 'awalnya', 'bagai', 'bagaikan', 'bagaimana', 'bagaimanakah', 'bagaimanapun', 'bagi', 'bagian', 'bahkan', 'bahwa', 'bahwasanya', 'baik', 'bakal', 'bakalan', 'balik', 'banyak', 'bapak', 'baru', 'bawah', 'beberapa', 'begini', 'beginian', 'beginikah', 'beginilah', 'begitu', 'begitukah', 'begitulah', 'begitupun', 'bekerja', 'belakang', 'belakangan', 'belum', 'belumlah', 'benar', 'benarkah', 'benarlah', 'berada', 'berakhir', 'berakhirlah', 'berakhirnya', 'berapa', 'berapakah', 'berapalah', 'berapapun', 'berarti', 'berawal', 'berbagai', 'berdatangan', 'beri', 'berikan', 'berikut', 'berikutnya', 'berjumlah', 'berkali-kali', 'berkata', 'berkehendak', 'berkeinginan', 'berkenaan', 'berlainan', 'berlalu', 'berlangsung', 'berlebihan', 'bermacam', 'bermacam-macam', 'bermaksud', 'bermula', 'bersama', 'bersama-sama', 'bersiap', 'bersiap-siap', 'bertanya', 'bertanya-tanya', 'berturut', 'berturut-turut', 'bertutur', 'berujar', 'berupa', 'besar', 'betul', 'betulkah', 'biasa', 'biasanya', 'bila', 'bilakah', 'bisa', 'bisakah', 'boleh', 'bolehkah', 'bolehlah', 'buat', 'bukan', 'bukankah', 'bukanlah', 'bukannya', 'bulan', 'bung', 'cara', 'caranya', 'cukup', 'cukupkah', 'cukuplah', 'cuma', 'dahulu', 'dalam', 'dan', 'dapat', 'dari', 'daripada', 'datang', 'dekat', 'demi', 'demikian', 'demikianlah', 'dengan', 'depan', 'di', 'dia', 'diakhiri', 'diakhirinya', 'dialah', 'diantara', 'diantaranya', 'diberi', 'diberikan', 'diberikannya', 'dibuat', 'dibuatnya', 'didapat', 'didatangkan', 'digunakan', 'diibaratkan', 'diibaratkannya', 'diingat', 'diingatkan', 'diinginkan', 'dijawab', 'dijelaskan', 'dijelaskannya', 'dikarenakan', 'dikatakan', 'dikatakannya', 'dikerjakan', 'diketahui', 'diketahuinya', 'dikira', 'dilakukan', 'dilalui', 'dilihat', 'dimaksud', 'dimaksudkan', 'dimaksudkannya', 'dimaksudnya', 'diminta', 'dimintai', 'dimisalkan', 'dimulai', 'dimulailah', 'dimulainya', 'dimungkinkan', 'dini', 'dipastikan', 'diperbuat', 'diperbuatnya', 'dipergunakan', 'diperkirakan', 'diperlihatkan', 'diperlukan', 'diperlukannya', 'dipersoalkan', 'dipertanyakan', 'dipunyai', 'diri', 'dirinya', 'disampaikan', 'disebut', 'disebutkan', 'disebutkannya', 'disini', 'disinilah', 'ditambahkan', 'ditandaskan', 'ditanya', 'ditanyai', 'ditanyakan', 'ditegaskan', 'ditujukan', 'ditunjuk', 'ditunjuki', 'ditunjukkan', 'ditunjukkannya', 'ditunjuknya', 'dituturkan', 'dituturkannya', 'diucapkan', 'diucapkannya', 'diungkapkan', 'dong', 'dua', 'dulu', 'empat', 'enggak', 'enggaknya', 'entah', 'entahlah', 'guna', 'gunakan', 'hal', 'hampir', 'hanya', 'hanyalah', 'hari', 'harus', 'haruslah', 'harusnya', 'hendak', 'hendaklah', 'hendaknya', 'hingga', 'ia', 'ialah', 'ibarat', 'ibaratkan', 'ibaratnya', 'ibu', 'ikut', 'ingat', 'ingat-ingat', 'ingin', 'inginkah', 'inginkan', 'ini', 'inikah', 'inilah', 'itu', 'itukah', 'itulah', 'jadi', 'jadilah', 'jadinya', 'jangan', 'jangankan', 'janganlah', 'jauh', 'jawab', 'jawaban', 'jawabnya', 'jelas', 'jelaskan', 'jelaslah', 'jelasnya', 'jika', 'jikalau', 'juga', 'jumlah', 'jumlahnya', 'justru', 'kala', 'kalau', 'kalaulah', 'kalaupun', 'kalian', 'kami', 'kamilah', 'kamu', 'kamulah', 'kan', 'kapan', 'kapankah', 'kapanpun', 'karena', 'karenanya', 'kasus', 'kata', 'katakan', 'katakanlah', 'katanya', 'ke', 'keadaan', 'kebetulan', 'kecil', 'kedua', 'keduanya', 'keinginan', 'kelamaan', 'kelihatan', 'kelihatannya', 'kelima', 'keluar', 'kembali', 'kemudian', 'kemungkinan', 'kemungkinannya', 'kenapa', 'kepada', 'kepadanya', 'kesampaian', 'keseluruhan', 'keseluruhannya', 'keterlaluan', 'ketika', 'khususnya', 'kini', 'kinilah', 'kira', 'kira-kira', 'kiranya', 'kita', 'kitalah', 'kok', 'kurang', 'lagi', 'lagian', 'lah', 'lain', 'lainnya', 'lalu', 'lama', 'lamanya', 'lanjut', 'lanjutnya', 'lebih', 'lewat', 'lima', 'luar', 'macam', 'maka', 'makanya', 'makin', 'malah', 'malahan', 'mampu', 'mampukah', 'mana', 'manakala', 'manalagi', 'masa', 'masalah', 'masalahnya', 'masih', 'masihkah', 'masing', 'masing-masing', 'mau', 'maupun', 'melainkan', 'melakukan', 'melalui', 'melihat', 'melihatnya', 'memang', 'memastikan', 'memberi', 'memberikan', 'membuat', 'memerlukan', 'memihak', 'meminta', 'memintakan', 'memisalkan', 'memperbuat', 'mempergunakan', 'memperkirakan', 'memperlihatkan', 'mempersiapkan', 'mempersoalkan', 'mempertanyakan', 'mempunyai', 'memulai', 'memungkinkan', 'menaiki', 'menambahkan', 'menandaskan', 'menanti', 'menanti-nanti', 'menantikan', 'menanya', 'menanyai', 'menanyakan', 'mendapat', 'mendapatkan', 'mendatang', 'mendatangi', 'mendatangkan', 'menegaskan', 'mengakhiri', 'mengapa', 'mengatakan', 'mengatakannya', 'mengenai', 'mengerjakan', 'mengetahui', 'menggunakan', 'menghendaki', 'mengibaratkan', 'mengibaratkannya', 'mengingat', 'mengingatkan', 'menginginkan', 'mengira', 'mengucapkan', 'mengucapkannya', 'mengungkapkan', 'menjadi', 'menjawab', 'menjelaskan', 'menuju', 'menunjuk', 'menunjuki', 'menunjukkan', 'menunjuknya', 'menurut', 'menuturkan', 'menyampaikan', 'menyangkut', 'menyatakan', 'menyebutkan', 'menyeluruh', 'menyiapkan', 'merasa', 'mereka', 'merekalah', 'merupakan', 'meski', 'meskipun', 'meyakini', 'meyakinkan', 'minta', 'mirip', 'misal', 'misalkan', 'misalnya', 'mula', 'mulai', 'mulailah', 'mulanya', 'mungkin', 'mungkinkah', 'nah', 'naik', 'namun', 'nanti', 'nantinya', 'nyaris', 'nyatanya', 'oleh', 'olehnya', 'pada', 'padahal', 'padanya', 'pak', 'paling', 'panjang', 'pantas', 'para', 'pasti', 'pastilah', 'penting', 'pentingnya', 'per', 'percuma', 'perlu', 'perlukah', 'perlunya', 'pernah', 'persoalan', 'pertama', 'pertama-tama', 'pertanyaan', 'pertanyakan', 'pihak', 'pihaknya', 'pukul', 'pula', 'pun', 'punya', 'rasa', 'rasanya', 'rata', 'rupanya', 'saat', 'saatnya', 'saja', 'sajalah', 'saling', 'sama', 'sama-sama', 'sambil', 'sampai', 'sampai-sampai', 'sampaikan', 'sana', 'sangat', 'sangatlah', 'satu', 'saya', 'sayalah', 'se', 'sebab', 'sebabnya', 'sebagai', 'sebagaimana', 'sebagainya', 'sebagian', 'sebaik', 'sebaik-baiknya', 'sebaiknya', 'sebaliknya', 'sebanyak', 'sebegini', 'sebegitu', 'sebelum', 'sebelumnya', 'sebenarnya', 'seberapa', 'sebesar', 'sebetulnya', 'sebisanya', 'sebuah', 'sebut', 'sebutlah', 'sebutnya', 'secara', 'secukupnya', 'sedang', 'sedangkan', 'sedemikian', 'sedikit', 'sedikitnya', 'seenaknya', 'segala', 'segalanya', 'segera', 'seharusnya', 'sehingga', 'seingat', 'sejak', 'sejauh', 'sejenak', 'sejumlah', 'sekadar', 'sekadarnya', 'sekali', 'sekali-kali', 'sekalian', 'sekaligus', 'sekalipun', 'sekarang', 'sekarang', 'sekecil', 'seketika', 'sekiranya', 'sekitar', 'sekitarnya', 'sekurang-kurangnya', 'sekurangnya', 'sela', 'selain', 'selaku', 'selalu', 'selama', 'selama-lamanya', 'selamanya', 'selanjutnya', 'seluruh', 'seluruhnya', 'semacam', 'semakin', 'semampu', 'semampunya', 'semasa', 'semasih', 'semata', 'semata-mata', 'semaunya', 'sementara', 'semisal', 'semisalnya', 'sempat', 'semua', 'semuanya', 'semula', 'sendiri', 'sendirian', 'sendirinya', 'seolah', 'seolah-olah', 'seorang', 'sepanjang', 'sepantasnya', 'sepantasnyalah', 'seperlunya', 'seperti', 'sepertinya', 'sepihak', 'sering', 'seringnya', 'serta', 'serupa', 'sesaat', 'sesama', 'sesampai', 'sesegera', 'sesekali', 'seseorang', 'sesuatu', 'sesuatunya', 'sesudah', 'sesudahnya', 'setelah', 'setempat', 'setengah', 'seterusnya', 'setiap', 'setiba', 'setibanya', 'setidak-tidaknya', 'setidaknya', 'setinggi', 'seusai', 'sewaktu', 'siap', 'siapa', 'siapakah', 'siapapun', 'sini', 'sinilah', 'soal', 'soalnya', 'suatu', 'sudah', 'sudahkah', 'sudahlah', 'supaya', 'tadi', 'tadinya', 'tahu', 'tahun', 'tak', 'tambah', 'tambahnya', 'tampak', 'tampaknya', 'tandas', 'tandasnya', 'tanpa', 'tanya', 'tanyakan', 'tanyanya', 'tapi', 'tegas', 'tegasnya', 'telah', 'tempat', 'tengah', 'tentang', 'tentu', 'tentulah', 'tentunya', 'tepat', 'terakhir', 'terasa', 'terbanyak', 'terdahulu', 'terdapat', 'terdiri', 'terhadap', 'terhadapnya', 'teringat', 'teringat-ingat', 'terjadi', 'terjadilah', 'terjadinya', 'terkira', 'terlalu', 'terlebih', 'terlihat', 'termasuk', 'ternyata', 'tersampaikan', 'tersebut', 'tersebutlah', 'tertentu', 'tertuju', 'terus', 'terutama', 'tetap', 'tetapi', 'tiap', 'tiba', 'tiba-tiba', 'tidak', 'tidakkah', 'tidaklah', 'tiga', 'tinggi', 'toh', 'tunjuk', 'turut', 'tutur', 'tuturnya', 'ucap', 'ucapnya', 'ujar', 'ujarnya', 'umum', 'umumnya', 'ungkap', 'ungkapnya', 'untuk', 'usah', 'usai', 'waduh', 'wah', 'wahai', 'waktu', 'waktunya', 'walau', 'walaupun', 'wong', 'yaitu', 'yakin', 'yakni', 'yang']\n"
     ]
    }
   ],
   "source": [
    "stopWords = stopwords.words('indonesian')\n",
    "print(stopWords)"
   ]
  },
  {
   "cell_type": "code",
   "execution_count": 12,
   "metadata": {
    "id": "496qQ9qn88iM"
   },
   "outputs": [],
   "source": [
    "def standardizeFunc(sentence):\n",
    "    stopwords = stopWords\n",
    "    \n",
    "    sentence = tf.strings.lower(sentence)\n",
    "\n",
    "    for word in stopwords:\n",
    "        if word[0] == \"'\":\n",
    "            sentence = tf.strings.regex_replace(sentence, rf\"{word}\\b\", \"\")\n",
    "        else:\n",
    "            sentence = tf.strings.regex_replace(sentence, rf\"\\b{word}\\b\", \"\")\n",
    "    sentence = tf.strings.regex_replace(sentence, r'[!\"#$%&()\\*\\+,-\\./:;<=>?@\\[\\\\\\]^_`{|}~\\']', \"\")\n",
    "\n",
    "    return sentence"
   ]
  },
  {
   "cell_type": "code",
   "execution_count": 13,
   "metadata": {
    "id": "dwmNSmLj9CNw"
   },
   "outputs": [],
   "source": [
    "maxLeght = 30\n",
    "def fitVectorizer(trainSentences, standardizeFunc):\n",
    "  vectorizer = tf.keras.layers.TextVectorization(\n",
    "    standardize=standardizeFunc,\n",
    "    output_sequence_length=maxLeght\n",
    "  )\n",
    "\n",
    "  vectorizer.adapt(trainSentences)\n",
    "  return vectorizer"
   ]
  },
  {
   "cell_type": "code",
   "execution_count": 15,
   "metadata": {
    "colab": {
     "base_uri": "https://localhost:8080/"
    },
    "id": "p_gFkqd29HB1",
    "outputId": "6c4fde5a-4c24-46af-f1ef-d930081b303c"
   },
   "outputs": [
    {
     "name": "stdout",
     "output_type": "stream",
     "text": [
      "Vocabulary contains 124 words\n",
      "\n"
     ]
    }
   ],
   "source": [
    "textDataset = trainDataset.map(lambda text, label: text)\n",
    "vectorizer = fitVectorizer(textDataset, standardizeFunc)\n",
    "vocabSize = vectorizer.vocabulary_size()\n",
    "\n",
    "print(f\"Vocabulary contains {vocabSize} words\\n\")"
   ]
  },
  {
   "cell_type": "code",
   "execution_count": 16,
   "metadata": {},
   "outputs": [
    {
     "name": "stdout",
     "output_type": "stream",
     "text": [
      "Vocabulary: ['', '[UNK]', 'obat', 'laku', 'sembuh', 'minum', 'luka', 'bakar', 'sakit', 'gigit', 'kulit', 'kena', 'mata', 'alami', 'patah', 'gatal', 'darah', 'racun', 'matahari', 'hidung', 'ringan', 'mimisan', 'kepala', 'awat', 'alergi', 'tenggelam', 'sumbat', 'sengat', 'panas', 'orang', 'vertigo', 'ular', 'tarik', 'reaksi', 'radang', 'perut', 'otot', 'makan', 'lepuh', 'hipotermia', 'gigi', 'dingin', 'diare', 'cedera', 'batuk', 'akibat', 'testis', 'tenggorok', 'strain', 'sinar', 'serpih', 'serangga', 'serang', 'sedak', 'ruam', 'rektal', 'pingsan', 'pilek', 'nyeri', 'memar', 'lelah', 'lecet', 'kimia', 'kilir', 'kejang', 'kaki', 'jari', 'frost', 'demam', 'cpr', 'tulang', 'tolong', 'rawat', 'pychan', 'hilang', 'halo', 'gas', 'bantu', 'anjing', 'tindak', 'timbul', 'terimakasih', 'terima', 'tegang', 'tawar', 'stroke', 'sting', 'selamat', 'sehat', 'potong', 'pakai', 'muka', 'monyet', 'milik', 'mantap', 'lihat', 'layan', 'langsung', 'langkah', 'krim', 'keren', 'kasih', 'jalan', 'hewan', 'henti', 'hebat', 'heat', 'hai', 'goodbye', 'gejala', 'gastrointestinal', 'fraktur', 'flu', 'es', 'diagnosis', 'cegah', 'bite', 'binatang', 'bekas', 'bawa', 'asa', 'aplikasi', 'ambil', 'abrasi']\n",
      "Vocabulary size: 124\n"
     ]
    }
   ],
   "source": [
    "vocabulary = vectorizer.get_vocabulary()\n",
    "print(\"Vocabulary:\", vocabulary)\n",
    "print(\"Vocabulary size:\", len(vocabulary))\n"
   ]
  },
  {
   "cell_type": "code",
   "execution_count": 17,
   "metadata": {
    "id": "5aP1mQyf9OWE"
   },
   "outputs": [],
   "source": [
    "def fitLabelEncoder(trainLabel, valLabel):\n",
    "    trainLabel = list(trainLabel.as_numpy_iterator())\n",
    "    valLabel = list(valLabel.as_numpy_iterator())\n",
    "    labels = trainLabel + valLabel\n",
    "\n",
    "    labelEncoder = tf.keras.layers.StringLookup(num_oov_indices=0)\n",
    "    labelEncoder.adapt(labels)\n",
    "\n",
    "    return labelEncoder"
   ]
  },
  {
   "cell_type": "code",
   "execution_count": 18,
   "metadata": {
    "colab": {
     "base_uri": "https://localhost:8080/"
    },
    "id": "4xd5fMz69PZL",
    "outputId": "ab20c231-ff36-48f2-b0e4-551065b026b9"
   },
   "outputs": [
    {
     "name": "stdout",
     "output_type": "stream",
     "text": [
      "Unique labels: ['gigitan binatang', 'thanks', 'Sakit Mata', 'Luka bakar', 'Lecet', 'Ketegangan', 'Hidung tersumbat', 'Gatal', 'gigitan ular', 'Terbakar sinar matahari', 'Reaksi Alergi', 'Radang dingin', 'Potongan', 'Mimisan', 'Melepuh', 'Mata Gatal', 'Keracunan Makanan', 'Hipotermia', 'Batuk', 'sengatan', 'pychan', 'mimisan', 'kejang', 'greeting', 'Tersedak', 'Terpecah', 'Terkilir', 'Tenggelam', 'Serangan Panas', 'Sakit tenggorokan', 'Sakit kepala', 'Sakit Perut', 'Ruam', 'Resusitasi Jantung Paru (RJP)', 'Racun', 'Pusing', 'Pingsan', 'Perdarahan Normal', 'Pendarahan rektal', 'Patah', 'Otot Tertarik', 'Nyeri Testis', 'Memar', 'Masalah kulit', 'Masalah gastrointestinal', 'Luka Bakar Kimia', 'Luka', 'Kulit terbakar akibat sinar matahari', 'Kelelahan Akibat Panas', 'Jari Kaki Patah', 'Gigitan embun beku', 'Gigitan Serangga', 'Gigi', 'Dingin', 'Diare', 'Demam', 'Cedera Mata', 'Cedera Kepala', 'goodbye']\n",
      "Num of unique labels: 59\n"
     ]
    }
   ],
   "source": [
    "trainLabels = trainDataset.map(lambda text, label: label)\n",
    "valLabels = valDataset.map(lambda text, label: label)\n",
    "\n",
    "labelEncoder = fitLabelEncoder(trainLabels,valLabels)\n",
    "uniqLabel = len(labelEncoder.get_vocabulary())\n",
    "\n",
    "print(f'Unique labels: {labelEncoder.get_vocabulary()}')\n",
    "print(f'Num of unique labels: {uniqLabel}')"
   ]
  },
  {
   "cell_type": "code",
   "execution_count": 19,
   "metadata": {
    "id": "kvsZcsA09lRE"
   },
   "outputs": [],
   "source": [
    "def preprocessDataset(dataset, textVectorizer, labelEncoder):\n",
    "    dataset = dataset.map(lambda text, label: (textVectorizer(text), labelEncoder(label)))\n",
    "    dataset = dataset.batch(8)\n",
    "\n",
    "    return dataset"
   ]
  },
  {
   "cell_type": "code",
   "execution_count": 20,
   "metadata": {
    "colab": {
     "base_uri": "https://localhost:8080/"
    },
    "id": "j1-v-fIB9uGd",
    "outputId": "d4d9be24-eaca-4c03-8eb5-52b35c6ae550"
   },
   "outputs": [
    {
     "name": "stdout",
     "output_type": "stream",
     "text": [
      "Total train Batch: 27\n",
      "Total validation Batch: 7\n",
      "Shape train batch: (8, 30)\n",
      "Shape validation batch: (8, 30)\n"
     ]
    }
   ],
   "source": [
    "trainProcDataset = preprocessDataset(trainDataset, vectorizer, labelEncoder)\n",
    "valProcDataset = preprocessDataset(valDataset, vectorizer, labelEncoder)\n",
    "\n",
    "print(f\"Total train Batch: {trainProcDataset.cardinality()}\")\n",
    "print(f\"Total validation Batch: {valProcDataset.cardinality()}\")\n",
    "\n",
    "trainBatch = next(trainProcDataset.as_numpy_iterator())\n",
    "valBatch = next(valProcDataset.as_numpy_iterator())\n",
    "\n",
    "print(f\"Shape train batch: {trainBatch[0].shape}\")\n",
    "print(f\"Shape validation batch: {valBatch[0].shape}\")"
   ]
  },
  {
   "cell_type": "code",
   "execution_count": 21,
   "metadata": {
    "colab": {
     "base_uri": "https://localhost:8080/"
    },
    "id": "EWVNZUXw9yTk",
    "outputId": "e21d355c-33bd-4545-d28b-4ee2e48fe092"
   },
   "outputs": [
    {
     "name": "stdout",
     "output_type": "stream",
     "text": [
      "Sample text: [[  4   6   0   0   0   0   0   0   0   0   0   0   0   0   0   0   0   0\n",
      "    0   0   0   0   0   0   0   0   0   0   0   0]\n",
      " [  2  90   6   0   0   0   0   0   0   0   0   0   0   0   0   0   0   0\n",
      "    0   0   0   0   0   0   0   0   0   0   0   0]\n",
      " [121   6   0   0   0   0   0   0   0   0   0   0   0   0   0   0   0   0\n",
      "    0   0   0   0   0   0   0   0   0   0   0   0]\n",
      " [ 89   0   0   0   0   0   0   0   0   0   0   0   0   0   0   0   0   0\n",
      "    0   0   0   0   0   0   0   0   0   0   0   0]\n",
      " [123  80 118   6   0   0   0   0   0   0   0   0   0   0   0   0   0   0\n",
      "    0   0   0   0   0   0   0   0   0   0   0   0]\n",
      " [ 61   0   0   0   0   0   0   0   0   0   0   0   0   0   0   0   0   0\n",
      "    0   0   0   0   0   0   0   0   0   0   0   0]\n",
      " [  3  61   0   0   0   0   0   0   0   0   0   0   0   0   0   0   0   0\n",
      "    0   0   0   0   0   0   0   0   0   0   0   0]\n",
      " [  2   6  61   0   0   0   0   0   0   0   0   0   0   0   0   0   0   0\n",
      "    0   0   0   0   0   0   0   0   0   0   0   0]]\n",
      "Sample label: [12 12 12 12  4  4  4  4]\n",
      "Sample text: [[  2  86   0   0   0   0   0   0   0   0   0   0   0   0   0   0   0   0\n",
      "    0   0   0   0   0   0   0   0   0   0   0   0]\n",
      " [ 27   0   0   0   0   0   0   0   0   0   0   0   0   0   0   0   0   0\n",
      "    0   0   0   0   0   0   0   0   0   0   0   0]\n",
      " [  3  27   0   0   0   0   0   0   0   0   0   0   0   0   0   0   0   0\n",
      "    0   0   0   0   0   0   0   0   0   0   0   0]\n",
      " [  2  27   0   0   0   0   0   0   0   0   0   0   0   0   0   0   0   0\n",
      "    0   0   0   0   0   0   0   0   0   0   0   0]\n",
      " [  4  50   0   0   0   0   0   0   0   0   0   0   0   0   0   0   0   0\n",
      "    0   0   0   0   0   0   0   0   0   0   0   0]\n",
      " [  3  11  50   0   0   0   0   0   0   0   0   0   0   0   0   0   0   0\n",
      "    0   0   0   0   0   0   0   0   0   0   0   0]\n",
      " [119  50  91   0   0   0   0   0   0   0   0   0   0   0   0   0   0   0\n",
      "    0   0   0   0   0   0   0   0   0   0   0   0]\n",
      " [  2  63   0   0   0   0   0   0   0   0   0   0   0   0   0   0   0   0\n",
      "    0   0   0   0   0   0   0   0   0   0   0   0]]\n",
      "Sample label: [19 19 19 19 25 25 25 26]\n",
      "Sample text: [[ 99  63   0   0   0   0   0   0   0   0   0   0   0   0   0   0   0   0\n",
      "    0   0   0   0   0   0   0   0   0   0   0   0]\n",
      " [  2  63   0   0   0   0   0   0   0   0   0   0   0   0   0   0   0   0\n",
      "    0   0   0   0   0   0   0   0   0   0   0   0]\n",
      " [  2  83   0   0   0   0   0   0   0   0   0   0   0   0   0   0   0   0\n",
      "    0   0   0   0   0   0   0   0   0   0   0   0]\n",
      " [  3  52  48   0   0   0   0   0   0   0   0   0   0   0   0   0   0   0\n",
      "    0   0   0   0   0   0   0   0   0   0   0   0]\n",
      " [  2  52  48   0   0   0   0   0   0   0   0   0   0   0   0   0   0   0\n",
      "    0   0   0   0   0   0   0   0   0   0   0   0]\n",
      " [114  48   0   0   0   0   0   0   0   0   0   0   0   0   0   0   0   0\n",
      "    0   0   0   0   0   0   0   0   0   0   0   0]\n",
      " [ 28 113  36  32   0   0   0   0   0   0   0   0   0   0   0   0   0   0\n",
      "    0   0   0   0   0   0   0   0   0   0   0   0]\n",
      " [  2  68  20   0   0   0   0   0   0   0   0   0   0   0   0   0   0   0\n",
      "    0   0   0   0   0   0   0   0   0   0   0   0]]\n",
      "Sample label: [26 26  5  5  5  5  5 55]\n",
      "Sample text: [[ 2  5 68 20  0  0  0  0  0  0  0  0  0  0  0  0  0  0  0  0  0  0  0  0\n",
      "   0  0  0  0  0  0]\n",
      " [68  0  0  0  0  0  0  0  0  0  0  0  0  0  0  0  0  0  0  0  0  0  0  0\n",
      "   0  0  0  0  0  0]\n",
      " [ 2 19 26  0  0  0  0  0  0  0  0  0  0  0  0  0  0  0  0  0  0  0  0  0\n",
      "   0  0  0  0  0  0]\n",
      " [ 3 19 26  0  0  0  0  0  0  0  0  0  0  0  0  0  0  0  0  0  0  0  0  0\n",
      "   0  0  0  0  0  0]\n",
      " [ 3 19 26  0  0  0  0  0  0  0  0  0  0  0  0  0  0  0  0  0  0  0  0  0\n",
      "   0  0  0  0  0  0]\n",
      " [ 2 19 26  0  0  0  0  0  0  0  0  0  0  0  0  0  0  0  0  0  0  0  0  0\n",
      "   0  0  0  0  0  0]\n",
      " [19 26 97  0  0  0  0  0  0  0  0  0  0  0  0  0  0  0  0  0  0  0  0  0\n",
      "   0  0  0  0  0  0]\n",
      " [ 4 44  0  0  0  0  0  0  0  0  0  0  0  0  0  0  0  0  0  0  0  0  0  0\n",
      "   0  0  0  0  0  0]]\n",
      "Sample label: [55 55  6  6  6  6  6 18]\n",
      "Sample text: [[  3  44   0   0   0   0   0   0   0   0   0   0   0   0   0   0   0   0\n",
      "    0   0   0   0   0   0   0   0   0   0   0   0]\n",
      " [  2   5  44   0   0   0   0   0   0   0   0   0   0   0   0   0   0   0\n",
      "    0   0   0   0   0   0   0   0   0   0   0   0]\n",
      " [ 74  44   0   0   0   0   0   0   0   0   0   0   0   0   0   0   0   0\n",
      "    0   0   0   0   0   0   0   0   0   0   0   0]\n",
      " [  2   8  47   0   0   0   0   0   0   0   0   0   0   0   0   0   0   0\n",
      "    0   0   0   0   0   0   0   0   0   0   0   0]\n",
      " [  2   5   8  47   0   0   0   0   0   0   0   0   0   0   0   0   0   0\n",
      "    0   0   0   0   0   0   0   0   0   0   0   0]\n",
      " [  4   8  47   0   0   0   0   0   0   0   0   0   0   0   0   0   0   0\n",
      "    0   0   0   0   0   0   0   0   0   0   0   0]\n",
      " [ 76   0   0   0   0   0   0   0   0   0   0   0   0   0   0   0   0   0\n",
      "    0   0   0   0   0   0   0   0   0   0   0   0]\n",
      " [  3  93 110   0   0   0   0   0   0   0   0   0   0   0   0   0   0   0\n",
      "    0   0   0   0   0   0   0   0   0   0   0   0]]\n",
      "Sample label: [18 18 18 29 29 29 44 44]\n",
      "Sample text: [[ 3 89  0  0  0  0  0  0  0  0  0  0  0  0  0  0  0  0  0  0  0  0  0  0\n",
      "   0  0  0  0  0  0]\n",
      " [ 2 61  0  0  0  0  0  0  0  0  0  0  0  0  0  0  0  0  0  0  0  0  0  0\n",
      "   0  0  0  0  0  0]\n",
      " [ 4 61  0  0  0  0  0  0  0  0  0  0  0  0  0  0  0  0  0  0  0  0  0  0\n",
      "   0  0  0  0  0  0]\n",
      " [74 50  0  0  0  0  0  0  0  0  0  0  0  0  0  0  0  0  0  0  0  0  0  0\n",
      "   0  0  0  0  0  0]\n",
      " [ 3 63  0  0  0  0  0  0  0  0  0  0  0  0  0  0  0  0  0  0  0  0  0  0\n",
      "   0  0  0  0  0  0]\n",
      " [99 52 83 36  0  0  0  0  0  0  0  0  0  0  0  0  0  0  0  0  0  0  0  0\n",
      "   0  0  0  0  0  0]\n",
      " [ 3 68 20  0  0  0  0  0  0  0  0  0  0  0  0  0  0  0  0  0  0  0  0  0\n",
      "   0  0  0  0  0  0]\n",
      " [ 2  5 19 26  0  0  0  0  0  0  0  0  0  0  0  0  0  0  0  0  0  0  0  0\n",
      "   0  0  0  0  0  0]]\n",
      "Sample label: [12  4  4 25 26  5 55  6]\n",
      "Sample text: [[ 2 44  0  0  0  0  0  0  0  0  0  0  0  0  0  0  0  0  0  0  0  0  0  0\n",
      "   0  0  0  0  0  0]\n",
      " [ 3  8 47  0  0  0  0  0  0  0  0  0  0  0  0  0  0  0  0  0  0  0  0  0\n",
      "   0  0  0  0  0  0]\n",
      " [ 2  5 13 76  0  0  0  0  0  0  0  0  0  0  0  0  0  0  0  0  0  0  0  0\n",
      "   0  0  0  0  0  0]\n",
      " [ 4 24 10  0  0  0  0  0  0  0  0  0  0  0  0  0  0  0  0  0  0  0  0  0\n",
      "   0  0  0  0  0  0]\n",
      " [ 2 59  0  0  0  0  0  0  0  0  0  0  0  0  0  0  0  0  0  0  0  0  0  0\n",
      "   0  0  0  0  0  0]\n",
      " [ 3 66 65 14  0  0  0  0  0  0  0  0  0  0  0  0  0  0  0  0  0  0  0  0\n",
      "   0  0  0  0  0  0]\n",
      " [ 2  5 53  0  0  0  0  0  0  0  0  0  0  0  0  0  0  0  0  0  0  0  0  0\n",
      "   0  0  0  0  0  0]\n",
      " [ 4  6  0  0  0  0  0  0  0  0  0  0  0  0  0  0  0  0  0  0  0  0  0  0\n",
      "   0  0  0  0  0  0]]\n",
      "Sample label: [18 29 44 43 42 49 24 46]\n",
      "Sample text: [[ 2  9 67  0  0  0  0  0  0  0  0  0  0  0  0  0  0  0  0  0  0  0  0  0\n",
      "   0  0  0  0  0  0]\n",
      " [ 3 60 28  0  0  0  0  0  0  0  0  0  0  0  0  0  0  0  0  0  0  0  0  0\n",
      "   0  0  0  0  0  0]\n",
      " [ 2  5 11 85  0  0  0  0  0  0  0  0  0  0  0  0  0  0  0  0  0  0  0  0\n",
      "   0  0  0  0  0  0]\n",
      " [ 4  9 51  0  0  0  0  0  0  0  0  0  0  0  0  0  0  0  0  0  0  0  0  0\n",
      "   0  0  0  0  0  0]\n",
      " [ 2 36 32  0  0  0  0  0  0  0  0  0  0  0  0  0  0  0  0  0  0  0  0  0\n",
      "   0  0  0  0  0  0]\n",
      " [ 3 13 16 55  0  0  0  0  0  0  0  0  0  0  0  0  0  0  0  0  0  0  0  0\n",
      "   0  0  0  0  0  0]\n",
      " [ 2  5 11 10  7 49 18  0  0  0  0  0  0  0  0  0  0  0  0  0  0  0  0  0\n",
      "   0  0  0  0  0  0]\n",
      " [ 4 58 46  0  0  0  0  0  0  0  0  0  0  0  0  0  0  0  0  0  0  0  0  0\n",
      "   0  0  0  0  0  0]]\n",
      "Sample label: [50 48 28 51 40 38 47 41]\n",
      "Sample text: [[ 2 16  0  0  0  0  0  0  0  0  0  0  0  0  0  0  0  0  0  0  0  0  0  0\n",
      "   0  0  0  0  0  0]\n",
      " [ 3 13 43 12  0  0  0  0  0  0  0  0  0  0  0  0  0  0  0  0  0  0  0  0\n",
      "   0  0  0  0  0  0]\n",
      " [ 2  5  7 45  1 62  0  0  0  0  0  0  0  0  0  0  0  0  0  0  0  0  0  0\n",
      "   0  0  0  0  0  0]\n",
      " [ 4 17  0  0  0  0  0  0  0  0  0  0  0  0  0  0  0  0  0  0  0  0  0  0\n",
      "   0  0  0  0  0  0]\n",
      " [ 2 64  0  0  0  0  0  0  0  0  0  0  0  0  0  0  0  0  0  0  0  0  0  0\n",
      "   0  0  0  0  0  0]\n",
      " [ 3 13 43 22  0  0  0  0  0  0  0  0  0  0  0  0  0  0  0  0  0  0  0  0\n",
      "   0  0  0  0  0  0]\n",
      " [ 2  5 56  0  0  0  0  0  0  0  0  0  0  0  0  0  0  0  0  0  0  0  0  0\n",
      "   0  0  0  0  0  0]\n",
      " [ 4  8 22 20  0  0  0  0  0  0  0  0  0  0  0  0  0  0  0  0  0  0  0  0\n",
      "   0  0  0  0  0  0]]\n",
      "Sample label: [37 56 45 34 22 57 36 30]\n",
      "Sample text: [[ 2 54  0  0  0  0  0  0  0  0  0  0  0  0  0  0  0  0  0  0  0  0  0  0\n",
      "   0  0  0  0  0  0]\n",
      " [ 3  9 31  0  0  0  0  0  0  0  0  0  0  0  0  0  0  0  0  0  0  0  0  0\n",
      "   0  0  0  0  0  0]\n",
      " [ 2  9 92  0  0  0  0  0  0  0  0  0  0  0  0  0  0  0  0  0  0  0  0  0\n",
      "   0  0  0  0  0  0]\n",
      " [ 9 78  0  0  0  0  0  0  0  0  0  0  0  0  0  0  0  0  0  0  0  0  0  0\n",
      "   0  0  0  0  0  0]\n",
      " [69  0  0  0  0  0  0  0  0  0  0  0  0  0  0  0  0  0  0  0  0  0  0  0\n",
      "   0  0  0  0  0  0]\n",
      " [ 3 11 14 70  0  0  0  0  0  0  0  0  0  0  0  0  0  0  0  0  0  0  0  0\n",
      "   0  0  0  0  0  0]\n",
      " [ 6  7  0  0  0  0  0  0  0  0  0  0  0  0  0  0  0  0  0  0  0  0  0  0\n",
      "   0  0  0  0  0  0]\n",
      " [ 3  1 38  0  0  0  0  0  0  0  0  0  0  0  0  0  0  0  0  0  0  0  0  0\n",
      "   0  0  0  0  0  0]]\n",
      "Sample label: [32  8  0  0 33 39  3 14]\n"
     ]
    }
   ],
   "source": [
    "for text, label in trainProcDataset.take(5):\n",
    "    print(\"Sample text:\", text.numpy())\n",
    "    print(\"Sample label:\", label.numpy())\n",
    "\n",
    "for text, label in valProcDataset.take(5):\n",
    "    print(\"Sample text:\", text.numpy())\n",
    "    print(\"Sample label:\", label.numpy())"
   ]
  },
  {
   "cell_type": "code",
   "execution_count": 22,
   "metadata": {
    "id": "6AmMPNGg93U_"
   },
   "outputs": [],
   "source": [
    "def createModel():\n",
    "    inputLayer = tf.keras.Input(shape=(None,))\n",
    "\n",
    "    embedLayer = tf.keras.layers.Embedding(input_dim=vocabSize, output_dim=64)(inputLayer)\n",
    "    bilLSTM1 = tf.keras.layers.Bidirectional(tf.keras.layers.LSTM(64, return_sequences=False))(embedLayer)\n",
    "    dense1 = tf.keras.layers.Dense(32, activation='relu')(bilLSTM1)\n",
    "    dropout1 = tf.keras.layers.Dropout(0.2)(dense1)\n",
    "    outputLayer = tf.keras.layers.Dense(uniqLabel, activation='softmax')(dropout1)\n",
    "    \n",
    "    model = Model(inputs=inputLayer, outputs=outputLayer)\n",
    "\n",
    "    model.compile(\n",
    "        loss='sparse_categorical_crossentropy',\n",
    "        optimizer=tf.keras.optimizers.Adam(learning_rate=0.001),\n",
    "        metrics=['accuracy']\n",
    "    )\n",
    "\n",
    "    return model"
   ]
  },
  {
   "cell_type": "code",
   "execution_count": 55,
   "metadata": {},
   "outputs": [
    {
     "data": {
      "text/html": [
       "<pre style=\"white-space:pre;overflow-x:auto;line-height:normal;font-family:Menlo,'DejaVu Sans Mono',consolas,'Courier New',monospace\"><span style=\"font-weight: bold\">Model: \"functional_1\"</span>\n",
       "</pre>\n"
      ],
      "text/plain": [
       "\u001b[1mModel: \"functional_1\"\u001b[0m\n"
      ]
     },
     "metadata": {},
     "output_type": "display_data"
    },
    {
     "data": {
      "text/html": [
       "<pre style=\"white-space:pre;overflow-x:auto;line-height:normal;font-family:Menlo,'DejaVu Sans Mono',consolas,'Courier New',monospace\">┏━━━━━━━━━━━━━━━━━━━━━━━━━━━━━━━━━┳━━━━━━━━━━━━━━━━━━━━━━━━┳━━━━━━━━━━━━━━━┓\n",
       "┃<span style=\"font-weight: bold\"> Layer (type)                    </span>┃<span style=\"font-weight: bold\"> Output Shape           </span>┃<span style=\"font-weight: bold\">       Param # </span>┃\n",
       "┡━━━━━━━━━━━━━━━━━━━━━━━━━━━━━━━━━╇━━━━━━━━━━━━━━━━━━━━━━━━╇━━━━━━━━━━━━━━━┩\n",
       "│ input_layer_1 (<span style=\"color: #0087ff; text-decoration-color: #0087ff\">InputLayer</span>)      │ (<span style=\"color: #00d7ff; text-decoration-color: #00d7ff\">None</span>, <span style=\"color: #00d7ff; text-decoration-color: #00d7ff\">None</span>)           │             <span style=\"color: #00af00; text-decoration-color: #00af00\">0</span> │\n",
       "├─────────────────────────────────┼────────────────────────┼───────────────┤\n",
       "│ embedding_1 (<span style=\"color: #0087ff; text-decoration-color: #0087ff\">Embedding</span>)         │ (<span style=\"color: #00d7ff; text-decoration-color: #00d7ff\">None</span>, <span style=\"color: #00d7ff; text-decoration-color: #00d7ff\">None</span>, <span style=\"color: #00af00; text-decoration-color: #00af00\">64</span>)       │         <span style=\"color: #00af00; text-decoration-color: #00af00\">7,936</span> │\n",
       "├─────────────────────────────────┼────────────────────────┼───────────────┤\n",
       "│ bidirectional_1 (<span style=\"color: #0087ff; text-decoration-color: #0087ff\">Bidirectional</span>) │ (<span style=\"color: #00d7ff; text-decoration-color: #00d7ff\">None</span>, <span style=\"color: #00af00; text-decoration-color: #00af00\">128</span>)            │        <span style=\"color: #00af00; text-decoration-color: #00af00\">66,048</span> │\n",
       "├─────────────────────────────────┼────────────────────────┼───────────────┤\n",
       "│ dense_2 (<span style=\"color: #0087ff; text-decoration-color: #0087ff\">Dense</span>)                 │ (<span style=\"color: #00d7ff; text-decoration-color: #00d7ff\">None</span>, <span style=\"color: #00af00; text-decoration-color: #00af00\">32</span>)             │         <span style=\"color: #00af00; text-decoration-color: #00af00\">4,128</span> │\n",
       "├─────────────────────────────────┼────────────────────────┼───────────────┤\n",
       "│ dropout_1 (<span style=\"color: #0087ff; text-decoration-color: #0087ff\">Dropout</span>)             │ (<span style=\"color: #00d7ff; text-decoration-color: #00d7ff\">None</span>, <span style=\"color: #00af00; text-decoration-color: #00af00\">32</span>)             │             <span style=\"color: #00af00; text-decoration-color: #00af00\">0</span> │\n",
       "├─────────────────────────────────┼────────────────────────┼───────────────┤\n",
       "│ dense_3 (<span style=\"color: #0087ff; text-decoration-color: #0087ff\">Dense</span>)                 │ (<span style=\"color: #00d7ff; text-decoration-color: #00d7ff\">None</span>, <span style=\"color: #00af00; text-decoration-color: #00af00\">59</span>)             │         <span style=\"color: #00af00; text-decoration-color: #00af00\">1,947</span> │\n",
       "└─────────────────────────────────┴────────────────────────┴───────────────┘\n",
       "</pre>\n"
      ],
      "text/plain": [
       "┏━━━━━━━━━━━━━━━━━━━━━━━━━━━━━━━━━┳━━━━━━━━━━━━━━━━━━━━━━━━┳━━━━━━━━━━━━━━━┓\n",
       "┃\u001b[1m \u001b[0m\u001b[1mLayer (type)                   \u001b[0m\u001b[1m \u001b[0m┃\u001b[1m \u001b[0m\u001b[1mOutput Shape          \u001b[0m\u001b[1m \u001b[0m┃\u001b[1m \u001b[0m\u001b[1m      Param #\u001b[0m\u001b[1m \u001b[0m┃\n",
       "┡━━━━━━━━━━━━━━━━━━━━━━━━━━━━━━━━━╇━━━━━━━━━━━━━━━━━━━━━━━━╇━━━━━━━━━━━━━━━┩\n",
       "│ input_layer_1 (\u001b[38;5;33mInputLayer\u001b[0m)      │ (\u001b[38;5;45mNone\u001b[0m, \u001b[38;5;45mNone\u001b[0m)           │             \u001b[38;5;34m0\u001b[0m │\n",
       "├─────────────────────────────────┼────────────────────────┼───────────────┤\n",
       "│ embedding_1 (\u001b[38;5;33mEmbedding\u001b[0m)         │ (\u001b[38;5;45mNone\u001b[0m, \u001b[38;5;45mNone\u001b[0m, \u001b[38;5;34m64\u001b[0m)       │         \u001b[38;5;34m7,936\u001b[0m │\n",
       "├─────────────────────────────────┼────────────────────────┼───────────────┤\n",
       "│ bidirectional_1 (\u001b[38;5;33mBidirectional\u001b[0m) │ (\u001b[38;5;45mNone\u001b[0m, \u001b[38;5;34m128\u001b[0m)            │        \u001b[38;5;34m66,048\u001b[0m │\n",
       "├─────────────────────────────────┼────────────────────────┼───────────────┤\n",
       "│ dense_2 (\u001b[38;5;33mDense\u001b[0m)                 │ (\u001b[38;5;45mNone\u001b[0m, \u001b[38;5;34m32\u001b[0m)             │         \u001b[38;5;34m4,128\u001b[0m │\n",
       "├─────────────────────────────────┼────────────────────────┼───────────────┤\n",
       "│ dropout_1 (\u001b[38;5;33mDropout\u001b[0m)             │ (\u001b[38;5;45mNone\u001b[0m, \u001b[38;5;34m32\u001b[0m)             │             \u001b[38;5;34m0\u001b[0m │\n",
       "├─────────────────────────────────┼────────────────────────┼───────────────┤\n",
       "│ dense_3 (\u001b[38;5;33mDense\u001b[0m)                 │ (\u001b[38;5;45mNone\u001b[0m, \u001b[38;5;34m59\u001b[0m)             │         \u001b[38;5;34m1,947\u001b[0m │\n",
       "└─────────────────────────────────┴────────────────────────┴───────────────┘\n"
      ]
     },
     "metadata": {},
     "output_type": "display_data"
    },
    {
     "data": {
      "text/html": [
       "<pre style=\"white-space:pre;overflow-x:auto;line-height:normal;font-family:Menlo,'DejaVu Sans Mono',consolas,'Courier New',monospace\"><span style=\"font-weight: bold\"> Total params: </span><span style=\"color: #00af00; text-decoration-color: #00af00\">80,059</span> (312.73 KB)\n",
       "</pre>\n"
      ],
      "text/plain": [
       "\u001b[1m Total params: \u001b[0m\u001b[38;5;34m80,059\u001b[0m (312.73 KB)\n"
      ]
     },
     "metadata": {},
     "output_type": "display_data"
    },
    {
     "data": {
      "text/html": [
       "<pre style=\"white-space:pre;overflow-x:auto;line-height:normal;font-family:Menlo,'DejaVu Sans Mono',consolas,'Courier New',monospace\"><span style=\"font-weight: bold\"> Trainable params: </span><span style=\"color: #00af00; text-decoration-color: #00af00\">80,059</span> (312.73 KB)\n",
       "</pre>\n"
      ],
      "text/plain": [
       "\u001b[1m Trainable params: \u001b[0m\u001b[38;5;34m80,059\u001b[0m (312.73 KB)\n"
      ]
     },
     "metadata": {},
     "output_type": "display_data"
    },
    {
     "data": {
      "text/html": [
       "<pre style=\"white-space:pre;overflow-x:auto;line-height:normal;font-family:Menlo,'DejaVu Sans Mono',consolas,'Courier New',monospace\"><span style=\"font-weight: bold\"> Non-trainable params: </span><span style=\"color: #00af00; text-decoration-color: #00af00\">0</span> (0.00 B)\n",
       "</pre>\n"
      ],
      "text/plain": [
       "\u001b[1m Non-trainable params: \u001b[0m\u001b[38;5;34m0\u001b[0m (0.00 B)\n"
      ]
     },
     "metadata": {},
     "output_type": "display_data"
    }
   ],
   "source": [
    "modelPhychan = createModel()\n",
    "modelPhychan.summary()"
   ]
  },
  {
   "cell_type": "code",
   "execution_count": 56,
   "metadata": {},
   "outputs": [],
   "source": [
    "class myCallback(tf.keras.callbacks.Callback):\n",
    "    def on_epoch_end(self, epoch, logs=None):\n",
    "        train_acc = logs.get('accuracy')\n",
    "        val_acc = logs.get('val_accuracy')\n",
    "\n",
    "        if train_acc >= 0.9 and val_acc >= 0.9:\n",
    "            self.model.stop_training = True\n"
   ]
  },
  {
   "cell_type": "code",
   "execution_count": 57,
   "metadata": {
    "colab": {
     "base_uri": "https://localhost:8080/"
    },
    "id": "PWpnPSR2-Oew",
    "outputId": "761861b3-542b-46ce-c788-761b6054c004"
   },
   "outputs": [
    {
     "name": "stdout",
     "output_type": "stream",
     "text": [
      "Epoch 1/50\n",
      "\u001b[1m27/27\u001b[0m \u001b[32m━━━━━━━━━━━━━━━━━━━━\u001b[0m\u001b[37m\u001b[0m \u001b[1m7s\u001b[0m 65ms/step - accuracy: 0.0000e+00 - loss: 4.0896 - val_accuracy: 0.0000e+00 - val_loss: 4.0764\n",
      "Epoch 2/50\n",
      "\u001b[1m27/27\u001b[0m \u001b[32m━━━━━━━━━━━━━━━━━━━━\u001b[0m\u001b[37m\u001b[0m \u001b[1m2s\u001b[0m 48ms/step - accuracy: 0.0546 - loss: 4.0704 - val_accuracy: 0.0192 - val_loss: 4.0740\n",
      "Epoch 3/50\n",
      "\u001b[1m27/27\u001b[0m \u001b[32m━━━━━━━━━━━━━━━━━━━━\u001b[0m\u001b[37m\u001b[0m \u001b[1m2s\u001b[0m 43ms/step - accuracy: 0.0672 - loss: 4.0675 - val_accuracy: 0.0385 - val_loss: 4.0700\n",
      "Epoch 4/50\n",
      "\u001b[1m27/27\u001b[0m \u001b[32m━━━━━━━━━━━━━━━━━━━━\u001b[0m\u001b[37m\u001b[0m \u001b[1m2s\u001b[0m 43ms/step - accuracy: 0.0786 - loss: 4.0627 - val_accuracy: 0.0769 - val_loss: 4.0640\n",
      "Epoch 5/50\n",
      "\u001b[1m27/27\u001b[0m \u001b[32m━━━━━━━━━━━━━━━━━━━━\u001b[0m\u001b[37m\u001b[0m \u001b[1m2s\u001b[0m 44ms/step - accuracy: 0.1238 - loss: 4.0524 - val_accuracy: 0.1538 - val_loss: 4.0487\n",
      "Epoch 6/50\n",
      "\u001b[1m27/27\u001b[0m \u001b[32m━━━━━━━━━━━━━━━━━━━━\u001b[0m\u001b[37m\u001b[0m \u001b[1m2s\u001b[0m 44ms/step - accuracy: 0.1182 - loss: 4.0339 - val_accuracy: 0.0962 - val_loss: 4.0075\n",
      "Epoch 7/50\n",
      "\u001b[1m27/27\u001b[0m \u001b[32m━━━━━━━━━━━━━━━━━━━━\u001b[0m\u001b[37m\u001b[0m \u001b[1m2s\u001b[0m 48ms/step - accuracy: 0.0828 - loss: 3.9859 - val_accuracy: 0.1154 - val_loss: 3.9070\n",
      "Epoch 8/50\n",
      "\u001b[1m27/27\u001b[0m \u001b[32m━━━━━━━━━━━━━━━━━━━━\u001b[0m\u001b[37m\u001b[0m \u001b[1m2s\u001b[0m 48ms/step - accuracy: 0.0687 - loss: 3.8695 - val_accuracy: 0.1154 - val_loss: 3.6805\n",
      "Epoch 9/50\n",
      "\u001b[1m27/27\u001b[0m \u001b[32m━━━━━━━━━━━━━━━━━━━━\u001b[0m\u001b[37m\u001b[0m \u001b[1m2s\u001b[0m 44ms/step - accuracy: 0.0657 - loss: 3.6359 - val_accuracy: 0.1346 - val_loss: 3.4559\n",
      "Epoch 10/50\n",
      "\u001b[1m27/27\u001b[0m \u001b[32m━━━━━━━━━━━━━━━━━━━━\u001b[0m\u001b[37m\u001b[0m \u001b[1m2s\u001b[0m 43ms/step - accuracy: 0.1159 - loss: 3.3692 - val_accuracy: 0.1731 - val_loss: 3.2436\n",
      "Epoch 11/50\n",
      "\u001b[1m27/27\u001b[0m \u001b[32m━━━━━━━━━━━━━━━━━━━━\u001b[0m\u001b[37m\u001b[0m \u001b[1m2s\u001b[0m 44ms/step - accuracy: 0.1304 - loss: 3.1893 - val_accuracy: 0.2500 - val_loss: 3.0368\n",
      "Epoch 12/50\n",
      "\u001b[1m27/27\u001b[0m \u001b[32m━━━━━━━━━━━━━━━━━━━━\u001b[0m\u001b[37m\u001b[0m \u001b[1m2s\u001b[0m 46ms/step - accuracy: 0.1071 - loss: 2.9988 - val_accuracy: 0.2500 - val_loss: 2.7945\n",
      "Epoch 13/50\n",
      "\u001b[1m27/27\u001b[0m \u001b[32m━━━━━━━━━━━━━━━━━━━━\u001b[0m\u001b[37m\u001b[0m \u001b[1m2s\u001b[0m 47ms/step - accuracy: 0.2364 - loss: 2.7891 - val_accuracy: 0.2692 - val_loss: 2.7055\n",
      "Epoch 14/50\n",
      "\u001b[1m27/27\u001b[0m \u001b[32m━━━━━━━━━━━━━━━━━━━━\u001b[0m\u001b[37m\u001b[0m \u001b[1m2s\u001b[0m 48ms/step - accuracy: 0.1460 - loss: 2.7491 - val_accuracy: 0.3077 - val_loss: 2.5306\n",
      "Epoch 15/50\n",
      "\u001b[1m27/27\u001b[0m \u001b[32m━━━━━━━━━━━━━━━━━━━━\u001b[0m\u001b[37m\u001b[0m \u001b[1m2s\u001b[0m 48ms/step - accuracy: 0.2348 - loss: 2.5183 - val_accuracy: 0.3077 - val_loss: 2.3982\n",
      "Epoch 16/50\n",
      "\u001b[1m27/27\u001b[0m \u001b[32m━━━━━━━━━━━━━━━━━━━━\u001b[0m\u001b[37m\u001b[0m \u001b[1m2s\u001b[0m 43ms/step - accuracy: 0.2268 - loss: 2.3818 - val_accuracy: 0.4615 - val_loss: 2.1215\n",
      "Epoch 17/50\n",
      "\u001b[1m27/27\u001b[0m \u001b[32m━━━━━━━━━━━━━━━━━━━━\u001b[0m\u001b[37m\u001b[0m \u001b[1m2s\u001b[0m 46ms/step - accuracy: 0.3614 - loss: 2.1872 - val_accuracy: 0.5192 - val_loss: 1.9520\n",
      "Epoch 18/50\n",
      "\u001b[1m27/27\u001b[0m \u001b[32m━━━━━━━━━━━━━━━━━━━━\u001b[0m\u001b[37m\u001b[0m \u001b[1m2s\u001b[0m 46ms/step - accuracy: 0.3246 - loss: 2.1089 - val_accuracy: 0.5000 - val_loss: 1.8810\n",
      "Epoch 19/50\n",
      "\u001b[1m27/27\u001b[0m \u001b[32m━━━━━━━━━━━━━━━━━━━━\u001b[0m\u001b[37m\u001b[0m \u001b[1m2s\u001b[0m 50ms/step - accuracy: 0.3876 - loss: 1.9907 - val_accuracy: 0.5962 - val_loss: 1.8080\n",
      "Epoch 20/50\n",
      "\u001b[1m27/27\u001b[0m \u001b[32m━━━━━━━━━━━━━━━━━━━━\u001b[0m\u001b[37m\u001b[0m \u001b[1m2s\u001b[0m 47ms/step - accuracy: 0.4646 - loss: 1.7491 - val_accuracy: 0.6154 - val_loss: 1.6856\n",
      "Epoch 21/50\n",
      "\u001b[1m27/27\u001b[0m \u001b[32m━━━━━━━━━━━━━━━━━━━━\u001b[0m\u001b[37m\u001b[0m \u001b[1m2s\u001b[0m 51ms/step - accuracy: 0.4769 - loss: 1.6555 - val_accuracy: 0.6731 - val_loss: 1.5874\n",
      "Epoch 22/50\n",
      "\u001b[1m27/27\u001b[0m \u001b[32m━━━━━━━━━━━━━━━━━━━━\u001b[0m\u001b[37m\u001b[0m \u001b[1m2s\u001b[0m 49ms/step - accuracy: 0.5202 - loss: 1.5787 - val_accuracy: 0.6923 - val_loss: 1.4027\n",
      "Epoch 23/50\n",
      "\u001b[1m27/27\u001b[0m \u001b[32m━━━━━━━━━━━━━━━━━━━━\u001b[0m\u001b[37m\u001b[0m \u001b[1m2s\u001b[0m 52ms/step - accuracy: 0.6098 - loss: 1.5354 - val_accuracy: 0.7308 - val_loss: 1.3116\n",
      "Epoch 24/50\n",
      "\u001b[1m27/27\u001b[0m \u001b[32m━━━━━━━━━━━━━━━━━━━━\u001b[0m\u001b[37m\u001b[0m \u001b[1m2s\u001b[0m 43ms/step - accuracy: 0.5335 - loss: 1.4052 - val_accuracy: 0.7308 - val_loss: 1.3099\n",
      "Epoch 25/50\n",
      "\u001b[1m27/27\u001b[0m \u001b[32m━━━━━━━━━━━━━━━━━━━━\u001b[0m\u001b[37m\u001b[0m \u001b[1m2s\u001b[0m 48ms/step - accuracy: 0.6571 - loss: 1.3140 - val_accuracy: 0.7500 - val_loss: 1.1407\n",
      "Epoch 26/50\n",
      "\u001b[1m27/27\u001b[0m \u001b[32m━━━━━━━━━━━━━━━━━━━━\u001b[0m\u001b[37m\u001b[0m \u001b[1m2s\u001b[0m 44ms/step - accuracy: 0.6556 - loss: 1.2900 - val_accuracy: 0.7885 - val_loss: 1.1036\n",
      "Epoch 27/50\n",
      "\u001b[1m27/27\u001b[0m \u001b[32m━━━━━━━━━━━━━━━━━━━━\u001b[0m\u001b[37m\u001b[0m \u001b[1m2s\u001b[0m 44ms/step - accuracy: 0.6387 - loss: 1.1463 - val_accuracy: 0.7885 - val_loss: 1.0323\n",
      "Epoch 28/50\n",
      "\u001b[1m27/27\u001b[0m \u001b[32m━━━━━━━━━━━━━━━━━━━━\u001b[0m\u001b[37m\u001b[0m \u001b[1m2s\u001b[0m 44ms/step - accuracy: 0.7025 - loss: 1.0598 - val_accuracy: 0.8269 - val_loss: 1.0044\n",
      "Epoch 29/50\n",
      "\u001b[1m27/27\u001b[0m \u001b[32m━━━━━━━━━━━━━━━━━━━━\u001b[0m\u001b[37m\u001b[0m \u001b[1m2s\u001b[0m 43ms/step - accuracy: 0.7820 - loss: 0.9076 - val_accuracy: 0.8269 - val_loss: 0.9383\n",
      "Epoch 30/50\n",
      "\u001b[1m27/27\u001b[0m \u001b[32m━━━━━━━━━━━━━━━━━━━━\u001b[0m\u001b[37m\u001b[0m \u001b[1m2s\u001b[0m 43ms/step - accuracy: 0.7500 - loss: 0.8775 - val_accuracy: 0.8269 - val_loss: 0.8833\n",
      "Epoch 31/50\n",
      "\u001b[1m27/27\u001b[0m \u001b[32m━━━━━━━━━━━━━━━━━━━━\u001b[0m\u001b[37m\u001b[0m \u001b[1m2s\u001b[0m 44ms/step - accuracy: 0.7059 - loss: 0.9580 - val_accuracy: 0.8077 - val_loss: 0.8390\n",
      "Epoch 32/50\n",
      "\u001b[1m27/27\u001b[0m \u001b[32m━━━━━━━━━━━━━━━━━━━━\u001b[0m\u001b[37m\u001b[0m \u001b[1m2s\u001b[0m 44ms/step - accuracy: 0.7390 - loss: 0.9211 - val_accuracy: 0.7885 - val_loss: 0.8143\n",
      "Epoch 33/50\n",
      "\u001b[1m27/27\u001b[0m \u001b[32m━━━━━━━━━━━━━━━━━━━━\u001b[0m\u001b[37m\u001b[0m \u001b[1m2s\u001b[0m 43ms/step - accuracy: 0.8493 - loss: 0.6546 - val_accuracy: 0.8462 - val_loss: 0.7974\n",
      "Epoch 34/50\n",
      "\u001b[1m27/27\u001b[0m \u001b[32m━━━━━━━━━━━━━━━━━━━━\u001b[0m\u001b[37m\u001b[0m \u001b[1m2s\u001b[0m 47ms/step - accuracy: 0.7321 - loss: 0.8754 - val_accuracy: 0.8462 - val_loss: 0.7439\n",
      "Epoch 35/50\n",
      "\u001b[1m27/27\u001b[0m \u001b[32m━━━━━━━━━━━━━━━━━━━━\u001b[0m\u001b[37m\u001b[0m \u001b[1m2s\u001b[0m 43ms/step - accuracy: 0.7847 - loss: 0.7353 - val_accuracy: 0.8654 - val_loss: 0.7660\n",
      "Epoch 36/50\n",
      "\u001b[1m27/27\u001b[0m \u001b[32m━━━━━━━━━━━━━━━━━━━━\u001b[0m\u001b[37m\u001b[0m \u001b[1m2s\u001b[0m 46ms/step - accuracy: 0.8268 - loss: 0.7106 - val_accuracy: 0.8462 - val_loss: 0.7420\n",
      "Epoch 37/50\n",
      "\u001b[1m27/27\u001b[0m \u001b[32m━━━━━━━━━━━━━━━━━━━━\u001b[0m\u001b[37m\u001b[0m \u001b[1m3s\u001b[0m 44ms/step - accuracy: 0.8151 - loss: 0.6943 - val_accuracy: 0.8654 - val_loss: 0.7275\n",
      "Epoch 38/50\n",
      "\u001b[1m27/27\u001b[0m \u001b[32m━━━━━━━━━━━━━━━━━━━━\u001b[0m\u001b[37m\u001b[0m \u001b[1m2s\u001b[0m 44ms/step - accuracy: 0.8616 - loss: 0.6979 - val_accuracy: 0.8462 - val_loss: 0.6833\n",
      "Epoch 39/50\n",
      "\u001b[1m27/27\u001b[0m \u001b[32m━━━━━━━━━━━━━━━━━━━━\u001b[0m\u001b[37m\u001b[0m \u001b[1m2s\u001b[0m 43ms/step - accuracy: 0.8154 - loss: 0.6112 - val_accuracy: 0.8846 - val_loss: 0.6215\n",
      "Epoch 40/50\n",
      "\u001b[1m27/27\u001b[0m \u001b[32m━━━━━━━━━━━━━━━━━━━━\u001b[0m\u001b[37m\u001b[0m \u001b[1m2s\u001b[0m 43ms/step - accuracy: 0.8718 - loss: 0.5507 - val_accuracy: 0.8462 - val_loss: 0.6310\n",
      "Epoch 41/50\n",
      "\u001b[1m27/27\u001b[0m \u001b[32m━━━━━━━━━━━━━━━━━━━━\u001b[0m\u001b[37m\u001b[0m \u001b[1m2s\u001b[0m 49ms/step - accuracy: 0.9292 - loss: 0.3825 - val_accuracy: 0.8654 - val_loss: 0.5717\n",
      "Epoch 42/50\n",
      "\u001b[1m27/27\u001b[0m \u001b[32m━━━━━━━━━━━━━━━━━━━━\u001b[0m\u001b[37m\u001b[0m \u001b[1m2s\u001b[0m 47ms/step - accuracy: 0.8405 - loss: 0.5117 - val_accuracy: 0.9038 - val_loss: 0.5996\n",
      "Epoch 43/50\n",
      "\u001b[1m27/27\u001b[0m \u001b[32m━━━━━━━━━━━━━━━━━━━━\u001b[0m\u001b[37m\u001b[0m \u001b[1m2s\u001b[0m 46ms/step - accuracy: 0.9203 - loss: 0.5109 - val_accuracy: 0.8846 - val_loss: 0.6063\n",
      "Epoch 44/50\n",
      "\u001b[1m27/27\u001b[0m \u001b[32m━━━━━━━━━━━━━━━━━━━━\u001b[0m\u001b[37m\u001b[0m \u001b[1m2s\u001b[0m 47ms/step - accuracy: 0.8641 - loss: 0.5242 - val_accuracy: 0.8654 - val_loss: 0.5365\n",
      "Epoch 45/50\n",
      "\u001b[1m27/27\u001b[0m \u001b[32m━━━━━━━━━━━━━━━━━━━━\u001b[0m\u001b[37m\u001b[0m \u001b[1m3s\u001b[0m 43ms/step - accuracy: 0.9143 - loss: 0.4310 - val_accuracy: 0.8269 - val_loss: 0.5950\n",
      "Epoch 46/50\n",
      "\u001b[1m27/27\u001b[0m \u001b[32m━━━━━━━━━━━━━━━━━━━━\u001b[0m\u001b[37m\u001b[0m \u001b[1m2s\u001b[0m 47ms/step - accuracy: 0.8964 - loss: 0.3759 - val_accuracy: 0.8654 - val_loss: 0.5603\n",
      "Epoch 47/50\n",
      "\u001b[1m27/27\u001b[0m \u001b[32m━━━━━━━━━━━━━━━━━━━━\u001b[0m\u001b[37m\u001b[0m \u001b[1m2s\u001b[0m 43ms/step - accuracy: 0.8350 - loss: 0.5063 - val_accuracy: 0.8846 - val_loss: 0.4961\n",
      "Epoch 48/50\n",
      "\u001b[1m27/27\u001b[0m \u001b[32m━━━━━━━━━━━━━━━━━━━━\u001b[0m\u001b[37m\u001b[0m \u001b[1m2s\u001b[0m 48ms/step - accuracy: 0.8963 - loss: 0.3665 - val_accuracy: 0.8462 - val_loss: 0.5072\n",
      "Epoch 49/50\n",
      "\u001b[1m27/27\u001b[0m \u001b[32m━━━━━━━━━━━━━━━━━━━━\u001b[0m\u001b[37m\u001b[0m \u001b[1m2s\u001b[0m 43ms/step - accuracy: 0.8549 - loss: 0.4282 - val_accuracy: 0.8077 - val_loss: 0.5609\n",
      "Epoch 50/50\n",
      "\u001b[1m27/27\u001b[0m \u001b[32m━━━━━━━━━━━━━━━━━━━━\u001b[0m\u001b[37m\u001b[0m \u001b[1m3s\u001b[0m 46ms/step - accuracy: 0.8949 - loss: 0.3587 - val_accuracy: 0.8654 - val_loss: 0.6155\n"
     ]
    }
   ],
   "source": [
    "history = modelPhychan.fit(trainProcDataset, epochs=50, validation_data=valProcDataset, callbacks=myCallback())"
   ]
  },
  {
   "cell_type": "code",
   "execution_count": 58,
   "metadata": {
    "colab": {
     "base_uri": "https://localhost:8080/",
     "height": 881
    },
    "id": "cHTT17YD-TO2",
    "outputId": "c6e7c519-951f-4292-8392-fe1cd62fb1a2"
   },
   "outputs": [
    {
     "data": {
      "image/png": "[encoded data removed]",
      "text/plain": [
       "<Figure size 640x480 with 1 Axes>"
      ]
     },
     "metadata": {},
     "output_type": "display_data"
    },
    {
     "data": {
      "image/png": "[encoded data removed]",
      "text/plain": [
       "<Figure size 640x480 with 1 Axes>"
      ]
     },
     "metadata": {},
     "output_type": "display_data"
    }
   ],
   "source": [
    "def plotGraphs(history, metric):\n",
    "    plt.plot(history.history[metric])\n",
    "    plt.plot(history.history[f'val_{metric}'])\n",
    "    plt.xlabel(\"Epochs\")\n",
    "    plt.ylabel(metric)\n",
    "    plt.legend([metric, f'val_{metric}'])\n",
    "    plt.show()\n",
    "\n",
    "plotGraphs(history, \"accuracy\")\n",
    "plotGraphs(history, \"loss\")"
   ]
  },
  {
   "cell_type": "code",
   "execution_count": 66,
   "metadata": {},
   "outputs": [],
   "source": [
    "def getResponse(predictTag, responses, confidence):\n",
    "    if confidence < 0.6:\n",
    "        return \"Maaf, input yang Anda masukkan kurang jelas.\"\n",
    "    return np.random.choice(responses[predictTag])"
   ]
  },
  {
   "cell_type": "code",
   "execution_count": 67,
   "metadata": {},
   "outputs": [],
   "source": [
    "def showRespon(input):\n",
    "    stemming = stemmer.stem(input)\n",
    "    inputA = vectorizer([stemming])\n",
    "    prediction = modelPhychan.predict(inputA)\n",
    "\n",
    "    predictClassIndex = np.argmax(prediction, axis=-1)\n",
    "    confidence = prediction[0][predictClassIndex[0]]\n",
    "    predictTag = labelEncoder.get_vocabulary()[predictClassIndex[0]]\n",
    "    response = getResponse(predictTag, responses, confidence)\n",
    "\n",
    "    return predictTag, response, confidence\n"
   ]
  },
  {
   "cell_type": "code",
   "execution_count": 73,
   "metadata": {},
   "outputs": [
    {
     "name": "stdout",
     "output_type": "stream",
     "text": [
      "\u001b[1m1/1\u001b[0m \u001b[32m━━━━━━━━━━━━━━━━━━━━\u001b[0m\u001b[37m\u001b[0m \u001b[1m0s\u001b[0m 41ms/step\n",
      "Predicted tag: Hidung tersumbat\n",
      "Confidence: 0.97\n",
      "Response: Saat hidung tersumbat, fokuslah untuk menjaga kelembapan saluran hidung dan sinus. Untuk menjaga kelembapan saluran hidung, Anda dapat: 1) Menggunakan pelembap udara atau alat penguap. 2) Minum banyak cairan. Ini akan mengencerkan lendir, yang dapat membantu mencegah penyumbatan sinus. 3) Letakkan handuk basah dan hangat di wajah. Ini dapat meredakan ketidaknyamanan dan membuka saluran hidung.\n"
     ]
    }
   ],
   "source": [
    "testInput = \"apa yang harus saya lakukan jika hidung saya tersumbat\"\n",
    "\n",
    "predictTag, response, confidence = showRespon(testInput)\n",
    "\n",
    "print(f\"Predicted tag: {predictTag}\")\n",
    "print(f\"Confidence: {confidence:.2f}\")\n",
    "print(f\"Response: {response}\")"
   ]
  },
  {
   "cell_type": "code",
   "execution_count": 74,
   "metadata": {},
   "outputs": [
    {
     "name": "stderr",
     "output_type": "stream",
     "text": [
      "WARNING:absl:You are saving your model as an HDF5 file via `model.save()` or `keras.saving.save_model(model)`. This file format is considered legacy. We recommend using instead the native Keras format, e.g. `model.save('my_model.keras')` or `keras.saving.save_model(model, 'my_model.keras')`. \n"
     ]
    }
   ],
   "source": [
    "modelPhychan.save('./model/chatbot_model.h5',history)"
   ]
  }
 ],
 "metadata": {
  "colab": {
   "provenance": []
  },
  "kernelspec": {
   "display_name": "Phychan-47nDl_JA",
   "language": "python",
   "name": "python3"
  },
  "language_info": {
   "codemirror_mode": {
    "name": "ipython",
    "version": 3
   },
   "file_extension": ".py",
   "mimetype": "text/x-python",
   "name": "python",
   "nbconvert_exporter": "python",
   "pygments_lexer": "ipython3",
   "version": "3.12.7"
  },
  "widgets": {
   "application/vnd.jupyter.widget-state+json": {
    "004fd7dc4da54bdeae39da3f6de77cc9": {
     "model_module": "@jupyter-widgets/controls",
     "model_module_version": "1.5.0",
     "model_name": "HTMLModel",
     "state": {
      "_dom_classes": [],
      "_model_module": "@jupyter-widgets/controls",
      "_model_module_version": "1.5.0",
      "_model_name": "HTMLModel",
      "_view_count": null,
      "_view_module": "@jupyter-widgets/controls",
      "_view_module_version": "1.5.0",
      "_view_name": "HTMLView",
      "description": "",
      "description_tooltip": null,
      "layout": "IPY_MODEL_6c027d30ca6b42f6b774091c9ca819d6",
      "placeholder": "​",
      "style": "IPY_MODEL_a78c2c08775a4fe58ad5d8d50cd402ed",
      "value": " 49.0/49.0 [00:00&lt;00:00, 348B/s]"
     }
    },
    "04eca109dc0e437b8e41fed3dd7bc197": {
     "model_module": "@jupyter-widgets/base",
     "model_module_version": "1.2.0",
     "model_name": "LayoutModel",
     "state": {
      "_model_module": "@jupyter-widgets/base",
      "_model_module_version": "1.2.0",
      "_model_name": "LayoutModel",
      "_view_count": null,
      "_view_module": "@jupyter-widgets/base",
      "_view_module_version": "1.2.0",
      "_view_name": "LayoutView",
      "align_content": null,
      "align_items": null,
      "align_self": null,
      "border": null,
      "bottom": null,
      "display": null,
      "flex": null,
      "flex_flow": null,
      "grid_area": null,
      "grid_auto_columns": null,
      "grid_auto_flow": null,
      "grid_auto_rows": null,
      "grid_column": null,
      "grid_gap": null,
      "grid_row": null,
      "grid_template_areas": null,
      "grid_template_columns": null,
      "grid_template_rows": null,
      "height": null,
      "justify_content": null,
      "justify_items": null,
      "left": null,
      "margin": null,
      "max_height": null,
      "max_width": null,
      "min_height": null,
      "min_width": null,
      "object_fit": null,
      "object_position": null,
      "order": null,
      "overflow": null,
      "overflow_x": null,
      "overflow_y": null,
      "padding": null,
      "right": null,
      "top": null,
      "visibility": null,
      "width": null
     }
    },
    "0b17730b5f9b4bcaaeff4106f04c0bfd": {
     "model_module": "@jupyter-widgets/base",
     "model_module_version": "1.2.0",
     "model_name": "LayoutModel",
     "state": {
      "_model_module": "@jupyter-widgets/base",
      "_model_module_version": "1.2.0",
      "_model_name": "LayoutModel",
      "_view_count": null,
      "_view_module": "@jupyter-widgets/base",
      "_view_module_version": "1.2.0",
      "_view_name": "LayoutView",
      "align_content": null,
      "align_items": null,
      "align_self": null,
      "border": null,
      "bottom": null,
      "display": null,
      "flex": null,
      "flex_flow": null,
      "grid_area": null,
      "grid_auto_columns": null,
      "grid_auto_flow": null,
      "grid_auto_rows": null,
      "grid_column": null,
      "grid_gap": null,
      "grid_row": null,
      "grid_template_areas": null,
      "grid_template_columns": null,
      "grid_template_rows": null,
      "height": null,
      "justify_content": null,
      "justify_items": null,
      "left": null,
      "margin": null,
      "max_height": null,
      "max_width": null,
      "min_height": null,
      "min_width": null,
      "object_fit": null,
      "object_position": null,
      "order": null,
      "overflow": null,
      "overflow_x": null,
      "overflow_y": null,
      "padding": null,
      "right": null,
      "top": null,
      "visibility": null,
      "width": null
     }
    },
    "109b3419c95d46bfb54af90e42204345": {
     "model_module": "@jupyter-widgets/controls",
     "model_module_version": "1.5.0",
     "model_name": "DescriptionStyleModel",
     "state": {
      "_model_module": "@jupyter-widgets/controls",
      "_model_module_version": "1.5.0",
      "_model_name": "DescriptionStyleModel",
      "_view_count": null,
      "_view_module": "@jupyter-widgets/base",
      "_view_module_version": "1.2.0",
      "_view_name": "StyleView",
      "description_width": ""
     }
    },
    "1546e30a191c4263a45cbf2d0d06ad68": {
     "model_module": "@jupyter-widgets/controls",
     "model_module_version": "1.5.0",
     "model_name": "DescriptionStyleModel",
     "state": {
      "_model_module": "@jupyter-widgets/controls",
      "_model_module_version": "1.5.0",
      "_model_name": "DescriptionStyleModel",
      "_view_count": null,
      "_view_module": "@jupyter-widgets/base",
      "_view_module_version": "1.2.0",
      "_view_name": "StyleView",
      "description_width": ""
     }
    },
    "1903372a67bc4dd196b48cbcaec1c490": {
     "model_module": "@jupyter-widgets/base",
     "model_module_version": "1.2.0",
     "model_name": "LayoutModel",
     "state": {
      "_model_module": "@jupyter-widgets/base",
      "_model_module_version": "1.2.0",
      "_model_name": "LayoutModel",
      "_view_count": null,
      "_view_module": "@jupyter-widgets/base",
      "_view_module_version": "1.2.0",
      "_view_name": "LayoutView",
      "align_content": null,
      "align_items": null,
      "align_self": null,
      "border": null,
      "bottom": null,
      "display": null,
      "flex": null,
      "flex_flow": null,
      "grid_area": null,
      "grid_auto_columns": null,
      "grid_auto_flow": null,
      "grid_auto_rows": null,
      "grid_column": null,
      "grid_gap": null,
      "grid_row": null,
      "grid_template_areas": null,
      "grid_template_columns": null,
      "grid_template_rows": null,
      "height": null,
      "justify_content": null,
      "justify_items": null,
      "left": null,
      "margin": null,
      "max_height": null,
      "max_width": null,
      "min_height": null,
      "min_width": null,
      "object_fit": null,
      "object_position": null,
      "order": null,
      "overflow": null,
      "overflow_x": null,
      "overflow_y": null,
      "padding": null,
      "right": null,
      "top": null,
      "visibility": null,
      "width": null
     }
    },
    "1eecc68cce604bdabf95bfa4057c7e98": {
     "model_module": "@jupyter-widgets/controls",
     "model_module_version": "1.5.0",
     "model_name": "HTMLModel",
     "state": {
      "_dom_classes": [],
      "_model_module": "@jupyter-widgets/controls",
      "_model_module_version": "1.5.0",
      "_model_name": "HTMLModel",
      "_view_count": null,
      "_view_module": "@jupyter-widgets/controls",
      "_view_module_version": "1.5.0",
      "_view_name": "HTMLView",
      "description": "",
      "description_tooltip": null,
      "layout": "IPY_MODEL_246041af7bee43c1be8542877b918bae",
      "placeholder": "​",
      "style": "IPY_MODEL_109b3419c95d46bfb54af90e42204345",
      "value": "special_tokens_map.json: 100%"
     }
    },
    "2177bb65495f46b2a63aae40264d932e": {
     "model_module": "@jupyter-widgets/base",
     "model_module_version": "1.2.0",
     "model_name": "LayoutModel",
     "state": {
      "_model_module": "@jupyter-widgets/base",
      "_model_module_version": "1.2.0",
      "_model_name": "LayoutModel",
      "_view_count": null,
      "_view_module": "@jupyter-widgets/base",
      "_view_module_version": "1.2.0",
      "_view_name": "LayoutView",
      "align_content": null,
      "align_items": null,
      "align_self": null,
      "border": null,
      "bottom": null,
      "display": null,
      "flex": null,
      "flex_flow": null,
      "grid_area": null,
      "grid_auto_columns": null,
      "grid_auto_flow": null,
      "grid_auto_rows": null,
      "grid_column": null,
      "grid_gap": null,
      "grid_row": null,
      "grid_template_areas": null,
      "grid_template_columns": null,
      "grid_template_rows": null,
      "height": null,
      "justify_content": null,
      "justify_items": null,
      "left": null,
      "margin": null,
      "max_height": null,
      "max_width": null,
      "min_height": null,
      "min_width": null,
      "object_fit": null,
      "object_position": null,
      "order": null,
      "overflow": null,
      "overflow_x": null,
      "overflow_y": null,
      "padding": null,
      "right": null,
      "top": null,
      "visibility": null,
      "width": null
     }
    },
    "246041af7bee43c1be8542877b918bae": {
     "model_module": "@jupyter-widgets/base",
     "model_module_version": "1.2.0",
     "model_name": "LayoutModel",
     "state": {
      "_model_module": "@jupyter-widgets/base",
      "_model_module_version": "1.2.0",
      "_model_name": "LayoutModel",
      "_view_count": null,
      "_view_module": "@jupyter-widgets/base",
      "_view_module_version": "1.2.0",
      "_view_name": "LayoutView",
      "align_content": null,
      "align_items": null,
      "align_self": null,
      "border": null,
      "bottom": null,
      "display": null,
      "flex": null,
      "flex_flow": null,
      "grid_area": null,
      "grid_auto_columns": null,
      "grid_auto_flow": null,
      "grid_auto_rows": null,
      "grid_column": null,
      "grid_gap": null,
      "grid_row": null,
      "grid_template_areas": null,
      "grid_template_columns": null,
      "grid_template_rows": null,
      "height": null,
      "justify_content": null,
      "justify_items": null,
      "left": null,
      "margin": null,
      "max_height": null,
      "max_width": null,
      "min_height": null,
      "min_width": null,
      "object_fit": null,
      "object_position": null,
      "order": null,
      "overflow": null,
      "overflow_x": null,
      "overflow_y": null,
      "padding": null,
      "right": null,
      "top": null,
      "visibility": null,
      "width": null
     }
    },
    "25409aa56037480083ed67743d5ed597": {
     "model_module": "@jupyter-widgets/controls",
     "model_module_version": "1.5.0",
     "model_name": "ProgressStyleModel",
     "state": {
      "_model_module": "@jupyter-widgets/controls",
      "_model_module_version": "1.5.0",
      "_model_name": "ProgressStyleModel",
      "_view_count": null,
      "_view_module": "@jupyter-widgets/base",
      "_view_module_version": "1.2.0",
      "_view_name": "StyleView",
      "bar_color": null,
      "description_width": ""
     }
    },
    "2bc3d74e31b547d392dec828ce39ef70": {
     "model_module": "@jupyter-widgets/base",
     "model_module_version": "1.2.0",
     "model_name": "LayoutModel",
     "state": {
      "_model_module": "@jupyter-widgets/base",
      "_model_module_version": "1.2.0",
      "_model_name": "LayoutModel",
      "_view_count": null,
      "_view_module": "@jupyter-widgets/base",
      "_view_module_version": "1.2.0",
      "_view_name": "LayoutView",
      "align_content": null,
      "align_items": null,
      "align_self": null,
      "border": null,
      "bottom": null,
      "display": null,
      "flex": null,
      "flex_flow": null,
      "grid_area": null,
      "grid_auto_columns": null,
      "grid_auto_flow": null,
      "grid_auto_rows": null,
      "grid_column": null,
      "grid_gap": null,
      "grid_row": null,
      "grid_template_areas": null,
      "grid_template_columns": null,
      "grid_template_rows": null,
      "height": null,
      "justify_content": null,
      "justify_items": null,
      "left": null,
      "margin": null,
      "max_height": null,
      "max_width": null,
      "min_height": null,
      "min_width": null,
      "object_fit": null,
      "object_position": null,
      "order": null,
      "overflow": null,
      "overflow_x": null,
      "overflow_y": null,
      "padding": null,
      "right": null,
      "top": null,
      "visibility": null,
      "width": null
     }
    },
    "2c9c456e9d7a4ad68512fc04018d73f6": {
     "model_module": "@jupyter-widgets/controls",
     "model_module_version": "1.5.0",
     "model_name": "HTMLModel",
     "state": {
      "_dom_classes": [],
      "_model_module": "@jupyter-widgets/controls",
      "_model_module_version": "1.5.0",
      "_model_name": "HTMLModel",
      "_view_count": null,
      "_view_module": "@jupyter-widgets/controls",
      "_view_module_version": "1.5.0",
      "_view_name": "HTMLView",
      "description": "",
      "description_tooltip": null,
      "layout": "IPY_MODEL_b3bbfe10df4f4f4aba52cbd4ec46aa8c",
      "placeholder": "​",
      "style": "IPY_MODEL_769437a15805467f82e5b75b3fd3f1e7",
      "value": " 462/462 [00:00&lt;00:00, 3.77kB/s]"
     }
    },
    "2debc273af2a441fb426349e59fd48f7": {
     "model_module": "@jupyter-widgets/base",
     "model_module_version": "1.2.0",
     "model_name": "LayoutModel",
     "state": {
      "_model_module": "@jupyter-widgets/base",
      "_model_module_version": "1.2.0",
      "_model_name": "LayoutModel",
      "_view_count": null,
      "_view_module": "@jupyter-widgets/base",
      "_view_module_version": "1.2.0",
      "_view_name": "LayoutView",
      "align_content": null,
      "align_items": null,
      "align_self": null,
      "border": null,
      "bottom": null,
      "display": null,
      "flex": null,
      "flex_flow": null,
      "grid_area": null,
      "grid_auto_columns": null,
      "grid_auto_flow": null,
      "grid_auto_rows": null,
      "grid_column": null,
      "grid_gap": null,
      "grid_row": null,
      "grid_template_areas": null,
      "grid_template_columns": null,
      "grid_template_rows": null,
      "height": null,
      "justify_content": null,
      "justify_items": null,
      "left": null,
      "margin": null,
      "max_height": null,
      "max_width": null,
      "min_height": null,
      "min_width": null,
      "object_fit": null,
      "object_position": null,
      "order": null,
      "overflow": null,
      "overflow_x": null,
      "overflow_y": null,
      "padding": null,
      "right": null,
      "top": null,
      "visibility": null,
      "width": null
     }
    },
    "2df5c2009657461a83d88f3839993423": {
     "model_module": "@jupyter-widgets/controls",
     "model_module_version": "1.5.0",
     "model_name": "DescriptionStyleModel",
     "state": {
      "_model_module": "@jupyter-widgets/controls",
      "_model_module_version": "1.5.0",
      "_model_name": "DescriptionStyleModel",
      "_view_count": null,
      "_view_module": "@jupyter-widgets/base",
      "_view_module_version": "1.2.0",
      "_view_name": "StyleView",
      "description_width": ""
     }
    },
    "319f35242b454d20abab2076bf8e0143": {
     "model_module": "@jupyter-widgets/controls",
     "model_module_version": "1.5.0",
     "model_name": "FloatProgressModel",
     "state": {
      "_dom_classes": [],
      "_model_module": "@jupyter-widgets/controls",
      "_model_module_version": "1.5.0",
      "_model_name": "FloatProgressModel",
      "_view_count": null,
      "_view_module": "@jupyter-widgets/controls",
      "_view_module_version": "1.5.0",
      "_view_name": "ProgressView",
      "bar_style": "success",
      "description": "",
      "description_tooltip": null,
      "layout": "IPY_MODEL_2debc273af2a441fb426349e59fd48f7",
      "max": 49,
      "min": 0,
      "orientation": "horizontal",
      "style": "IPY_MODEL_25409aa56037480083ed67743d5ed597",
      "value": 49
     }
    },
    "3c0fe6c76d87412a977577b5f5518f85": {
     "model_module": "@jupyter-widgets/controls",
     "model_module_version": "1.5.0",
     "model_name": "HTMLModel",
     "state": {
      "_dom_classes": [],
      "_model_module": "@jupyter-widgets/controls",
      "_model_module_version": "1.5.0",
      "_model_name": "HTMLModel",
      "_view_count": null,
      "_view_module": "@jupyter-widgets/controls",
      "_view_module_version": "1.5.0",
      "_view_name": "HTMLView",
      "description": "",
      "description_tooltip": null,
      "layout": "IPY_MODEL_2177bb65495f46b2a63aae40264d932e",
      "placeholder": "​",
      "style": "IPY_MODEL_1546e30a191c4263a45cbf2d0d06ad68",
      "value": " 213k/213k [00:00&lt;00:00, 2.52MB/s]"
     }
    },
    "40de4fe0f135439b837e72252b93b123": {
     "model_module": "@jupyter-widgets/controls",
     "model_module_version": "1.5.0",
     "model_name": "DescriptionStyleModel",
     "state": {
      "_model_module": "@jupyter-widgets/controls",
      "_model_module_version": "1.5.0",
      "_model_name": "DescriptionStyleModel",
      "_view_count": null,
      "_view_module": "@jupyter-widgets/base",
      "_view_module_version": "1.2.0",
      "_view_name": "StyleView",
      "description_width": ""
     }
    },
    "456f5b2fa5474d519be5da8be4d2848d": {
     "model_module": "@jupyter-widgets/base",
     "model_module_version": "1.2.0",
     "model_name": "LayoutModel",
     "state": {
      "_model_module": "@jupyter-widgets/base",
      "_model_module_version": "1.2.0",
      "_model_name": "LayoutModel",
      "_view_count": null,
      "_view_module": "@jupyter-widgets/base",
      "_view_module_version": "1.2.0",
      "_view_name": "LayoutView",
      "align_content": null,
      "align_items": null,
      "align_self": null,
      "border": null,
      "bottom": null,
      "display": null,
      "flex": null,
      "flex_flow": null,
      "grid_area": null,
      "grid_auto_columns": null,
      "grid_auto_flow": null,
      "grid_auto_rows": null,
      "grid_column": null,
      "grid_gap": null,
      "grid_row": null,
      "grid_template_areas": null,
      "grid_template_columns": null,
      "grid_template_rows": null,
      "height": null,
      "justify_content": null,
      "justify_items": null,
      "left": null,
      "margin": null,
      "max_height": null,
      "max_width": null,
      "min_height": null,
      "min_width": null,
      "object_fit": null,
      "object_position": null,
      "order": null,
      "overflow": null,
      "overflow_x": null,
      "overflow_y": null,
      "padding": null,
      "right": null,
      "top": null,
      "visibility": null,
      "width": null
     }
    },
    "48407d40b8a0485899f0d3440371d3c7": {
     "model_module": "@jupyter-widgets/controls",
     "model_module_version": "1.5.0",
     "model_name": "HTMLModel",
     "state": {
      "_dom_classes": [],
      "_model_module": "@jupyter-widgets/controls",
      "_model_module_version": "1.5.0",
      "_model_name": "HTMLModel",
      "_view_count": null,
      "_view_module": "@jupyter-widgets/controls",
      "_view_module_version": "1.5.0",
      "_view_name": "HTMLView",
      "description": "",
      "description_tooltip": null,
      "layout": "IPY_MODEL_456f5b2fa5474d519be5da8be4d2848d",
      "placeholder": "​",
      "style": "IPY_MODEL_2df5c2009657461a83d88f3839993423",
      "value": "tokenizer_config.json: 100%"
     }
    },
    "557fcc22368c4c93b42ed8e6dd2e00c2": {
     "model_module": "@jupyter-widgets/controls",
     "model_module_version": "1.5.0",
     "model_name": "HBoxModel",
     "state": {
      "_dom_classes": [],
      "_model_module": "@jupyter-widgets/controls",
      "_model_module_version": "1.5.0",
      "_model_name": "HBoxModel",
      "_view_count": null,
      "_view_module": "@jupyter-widgets/controls",
      "_view_module_version": "1.5.0",
      "_view_name": "HBoxView",
      "box_style": "",
      "children": [
       "IPY_MODEL_48407d40b8a0485899f0d3440371d3c7",
       "IPY_MODEL_319f35242b454d20abab2076bf8e0143",
       "IPY_MODEL_004fd7dc4da54bdeae39da3f6de77cc9"
      ],
      "layout": "IPY_MODEL_dda2f8cc19b94756aae367bbe799e3f7"
     }
    },
    "5efaaeda758c458f9f4876311ad18445": {
     "model_module": "@jupyter-widgets/controls",
     "model_module_version": "1.5.0",
     "model_name": "HTMLModel",
     "state": {
      "_dom_classes": [],
      "_model_module": "@jupyter-widgets/controls",
      "_model_module_version": "1.5.0",
      "_model_name": "HTMLModel",
      "_view_count": null,
      "_view_module": "@jupyter-widgets/controls",
      "_view_module_version": "1.5.0",
      "_view_name": "HTMLView",
      "description": "",
      "description_tooltip": null,
      "layout": "IPY_MODEL_04eca109dc0e437b8e41fed3dd7bc197",
      "placeholder": "​",
      "style": "IPY_MODEL_92212bc725f64bd1afa55ac9f831467f",
      "value": "vocab.txt: 100%"
     }
    },
    "6383ff19567844e183fcbfe043324e48": {
     "model_module": "@jupyter-widgets/controls",
     "model_module_version": "1.5.0",
     "model_name": "HTMLModel",
     "state": {
      "_dom_classes": [],
      "_model_module": "@jupyter-widgets/controls",
      "_model_module_version": "1.5.0",
      "_model_name": "HTMLModel",
      "_view_count": null,
      "_view_module": "@jupyter-widgets/controls",
      "_view_module_version": "1.5.0",
      "_view_name": "HTMLView",
      "description": "",
      "description_tooltip": null,
      "layout": "IPY_MODEL_1903372a67bc4dd196b48cbcaec1c490",
      "placeholder": "​",
      "style": "IPY_MODEL_eb08da17d3e145579b2601c6740dc187",
      "value": " 112/112 [00:00&lt;00:00, 891B/s]"
     }
    },
    "6ad4dee5d877496a87863057107e865c": {
     "model_module": "@jupyter-widgets/controls",
     "model_module_version": "1.5.0",
     "model_name": "FloatProgressModel",
     "state": {
      "_dom_classes": [],
      "_model_module": "@jupyter-widgets/controls",
      "_model_module_version": "1.5.0",
      "_model_name": "FloatProgressModel",
      "_view_count": null,
      "_view_module": "@jupyter-widgets/controls",
      "_view_module_version": "1.5.0",
      "_view_name": "ProgressView",
      "bar_style": "success",
      "description": "",
      "description_tooltip": null,
      "layout": "IPY_MODEL_b280b74308c64f32bf350cd64c80d5b0",
      "max": 112,
      "min": 0,
      "orientation": "horizontal",
      "style": "IPY_MODEL_d3d55245ecc04a94926aadb2432cb447",
      "value": 112
     }
    },
    "6c027d30ca6b42f6b774091c9ca819d6": {
     "model_module": "@jupyter-widgets/base",
     "model_module_version": "1.2.0",
     "model_name": "LayoutModel",
     "state": {
      "_model_module": "@jupyter-widgets/base",
      "_model_module_version": "1.2.0",
      "_model_name": "LayoutModel",
      "_view_count": null,
      "_view_module": "@jupyter-widgets/base",
      "_view_module_version": "1.2.0",
      "_view_name": "LayoutView",
      "align_content": null,
      "align_items": null,
      "align_self": null,
      "border": null,
      "bottom": null,
      "display": null,
      "flex": null,
      "flex_flow": null,
      "grid_area": null,
      "grid_auto_columns": null,
      "grid_auto_flow": null,
      "grid_auto_rows": null,
      "grid_column": null,
      "grid_gap": null,
      "grid_row": null,
      "grid_template_areas": null,
      "grid_template_columns": null,
      "grid_template_rows": null,
      "height": null,
      "justify_content": null,
      "justify_items": null,
      "left": null,
      "margin": null,
      "max_height": null,
      "max_width": null,
      "min_height": null,
      "min_width": null,
      "object_fit": null,
      "object_position": null,
      "order": null,
      "overflow": null,
      "overflow_x": null,
      "overflow_y": null,
      "padding": null,
      "right": null,
      "top": null,
      "visibility": null,
      "width": null
     }
    },
    "769437a15805467f82e5b75b3fd3f1e7": {
     "model_module": "@jupyter-widgets/controls",
     "model_module_version": "1.5.0",
     "model_name": "DescriptionStyleModel",
     "state": {
      "_model_module": "@jupyter-widgets/controls",
      "_model_module_version": "1.5.0",
      "_model_name": "DescriptionStyleModel",
      "_view_count": null,
      "_view_module": "@jupyter-widgets/base",
      "_view_module_version": "1.2.0",
      "_view_name": "StyleView",
      "description_width": ""
     }
    },
    "7fc426c0e3c0425ba2b9168c7b264c24": {
     "model_module": "@jupyter-widgets/controls",
     "model_module_version": "1.5.0",
     "model_name": "ProgressStyleModel",
     "state": {
      "_model_module": "@jupyter-widgets/controls",
      "_model_module_version": "1.5.0",
      "_model_name": "ProgressStyleModel",
      "_view_count": null,
      "_view_module": "@jupyter-widgets/base",
      "_view_module_version": "1.2.0",
      "_view_name": "StyleView",
      "bar_color": null,
      "description_width": ""
     }
    },
    "8486983dc2ef403bb27a4dab183f7031": {
     "model_module": "@jupyter-widgets/base",
     "model_module_version": "1.2.0",
     "model_name": "LayoutModel",
     "state": {
      "_model_module": "@jupyter-widgets/base",
      "_model_module_version": "1.2.0",
      "_model_name": "LayoutModel",
      "_view_count": null,
      "_view_module": "@jupyter-widgets/base",
      "_view_module_version": "1.2.0",
      "_view_name": "LayoutView",
      "align_content": null,
      "align_items": null,
      "align_self": null,
      "border": null,
      "bottom": null,
      "display": null,
      "flex": null,
      "flex_flow": null,
      "grid_area": null,
      "grid_auto_columns": null,
      "grid_auto_flow": null,
      "grid_auto_rows": null,
      "grid_column": null,
      "grid_gap": null,
      "grid_row": null,
      "grid_template_areas": null,
      "grid_template_columns": null,
      "grid_template_rows": null,
      "height": null,
      "justify_content": null,
      "justify_items": null,
      "left": null,
      "margin": null,
      "max_height": null,
      "max_width": null,
      "min_height": null,
      "min_width": null,
      "object_fit": null,
      "object_position": null,
      "order": null,
      "overflow": null,
      "overflow_x": null,
      "overflow_y": null,
      "padding": null,
      "right": null,
      "top": null,
      "visibility": null,
      "width": null
     }
    },
    "92212bc725f64bd1afa55ac9f831467f": {
     "model_module": "@jupyter-widgets/controls",
     "model_module_version": "1.5.0",
     "model_name": "DescriptionStyleModel",
     "state": {
      "_model_module": "@jupyter-widgets/controls",
      "_model_module_version": "1.5.0",
      "_model_name": "DescriptionStyleModel",
      "_view_count": null,
      "_view_module": "@jupyter-widgets/base",
      "_view_module_version": "1.2.0",
      "_view_name": "StyleView",
      "description_width": ""
     }
    },
    "92a1e578a76b4dc7a98162bc2621d267": {
     "model_module": "@jupyter-widgets/base",
     "model_module_version": "1.2.0",
     "model_name": "LayoutModel",
     "state": {
      "_model_module": "@jupyter-widgets/base",
      "_model_module_version": "1.2.0",
      "_model_name": "LayoutModel",
      "_view_count": null,
      "_view_module": "@jupyter-widgets/base",
      "_view_module_version": "1.2.0",
      "_view_name": "LayoutView",
      "align_content": null,
      "align_items": null,
      "align_self": null,
      "border": null,
      "bottom": null,
      "display": null,
      "flex": null,
      "flex_flow": null,
      "grid_area": null,
      "grid_auto_columns": null,
      "grid_auto_flow": null,
      "grid_auto_rows": null,
      "grid_column": null,
      "grid_gap": null,
      "grid_row": null,
      "grid_template_areas": null,
      "grid_template_columns": null,
      "grid_template_rows": null,
      "height": null,
      "justify_content": null,
      "justify_items": null,
      "left": null,
      "margin": null,
      "max_height": null,
      "max_width": null,
      "min_height": null,
      "min_width": null,
      "object_fit": null,
      "object_position": null,
      "order": null,
      "overflow": null,
      "overflow_x": null,
      "overflow_y": null,
      "padding": null,
      "right": null,
      "top": null,
      "visibility": null,
      "width": null
     }
    },
    "998dd26856b845dbac9834fadcfb579d": {
     "model_module": "@jupyter-widgets/controls",
     "model_module_version": "1.5.0",
     "model_name": "HBoxModel",
     "state": {
      "_dom_classes": [],
      "_model_module": "@jupyter-widgets/controls",
      "_model_module_version": "1.5.0",
      "_model_name": "HBoxModel",
      "_view_count": null,
      "_view_module": "@jupyter-widgets/controls",
      "_view_module_version": "1.5.0",
      "_view_name": "HBoxView",
      "box_style": "",
      "children": [
       "IPY_MODEL_5efaaeda758c458f9f4876311ad18445",
       "IPY_MODEL_c744817445714e61b6364dafd03a2a40",
       "IPY_MODEL_3c0fe6c76d87412a977577b5f5518f85"
      ],
      "layout": "IPY_MODEL_fd23e97bc7db4e5aab62e151d6492da4"
     }
    },
    "9a476ff265314577a846a8386e5be1a4": {
     "model_module": "@jupyter-widgets/controls",
     "model_module_version": "1.5.0",
     "model_name": "HTMLModel",
     "state": {
      "_dom_classes": [],
      "_model_module": "@jupyter-widgets/controls",
      "_model_module_version": "1.5.0",
      "_model_name": "HTMLModel",
      "_view_count": null,
      "_view_module": "@jupyter-widgets/controls",
      "_view_module_version": "1.5.0",
      "_view_name": "HTMLView",
      "description": "",
      "description_tooltip": null,
      "layout": "IPY_MODEL_92a1e578a76b4dc7a98162bc2621d267",
      "placeholder": "​",
      "style": "IPY_MODEL_40de4fe0f135439b837e72252b93b123",
      "value": "config.json: 100%"
     }
    },
    "a70a065095f947f3b4a579e240476afd": {
     "model_module": "@jupyter-widgets/controls",
     "model_module_version": "1.5.0",
     "model_name": "HBoxModel",
     "state": {
      "_dom_classes": [],
      "_model_module": "@jupyter-widgets/controls",
      "_model_module_version": "1.5.0",
      "_model_name": "HBoxModel",
      "_view_count": null,
      "_view_module": "@jupyter-widgets/controls",
      "_view_module_version": "1.5.0",
      "_view_name": "HBoxView",
      "box_style": "",
      "children": [
       "IPY_MODEL_1eecc68cce604bdabf95bfa4057c7e98",
       "IPY_MODEL_6ad4dee5d877496a87863057107e865c",
       "IPY_MODEL_6383ff19567844e183fcbfe043324e48"
      ],
      "layout": "IPY_MODEL_8486983dc2ef403bb27a4dab183f7031"
     }
    },
    "a78c2c08775a4fe58ad5d8d50cd402ed": {
     "model_module": "@jupyter-widgets/controls",
     "model_module_version": "1.5.0",
     "model_name": "DescriptionStyleModel",
     "state": {
      "_model_module": "@jupyter-widgets/controls",
      "_model_module_version": "1.5.0",
      "_model_name": "DescriptionStyleModel",
      "_view_count": null,
      "_view_module": "@jupyter-widgets/base",
      "_view_module_version": "1.2.0",
      "_view_name": "StyleView",
      "description_width": ""
     }
    },
    "ac524145686c4305aac26c5e1e414c8a": {
     "model_module": "@jupyter-widgets/controls",
     "model_module_version": "1.5.0",
     "model_name": "ProgressStyleModel",
     "state": {
      "_model_module": "@jupyter-widgets/controls",
      "_model_module_version": "1.5.0",
      "_model_name": "ProgressStyleModel",
      "_view_count": null,
      "_view_module": "@jupyter-widgets/base",
      "_view_module_version": "1.2.0",
      "_view_name": "StyleView",
      "bar_color": null,
      "description_width": ""
     }
    },
    "b280b74308c64f32bf350cd64c80d5b0": {
     "model_module": "@jupyter-widgets/base",
     "model_module_version": "1.2.0",
     "model_name": "LayoutModel",
     "state": {
      "_model_module": "@jupyter-widgets/base",
      "_model_module_version": "1.2.0",
      "_model_name": "LayoutModel",
      "_view_count": null,
      "_view_module": "@jupyter-widgets/base",
      "_view_module_version": "1.2.0",
      "_view_name": "LayoutView",
      "align_content": null,
      "align_items": null,
      "align_self": null,
      "border": null,
      "bottom": null,
      "display": null,
      "flex": null,
      "flex_flow": null,
      "grid_area": null,
      "grid_auto_columns": null,
      "grid_auto_flow": null,
      "grid_auto_rows": null,
      "grid_column": null,
      "grid_gap": null,
      "grid_row": null,
      "grid_template_areas": null,
      "grid_template_columns": null,
      "grid_template_rows": null,
      "height": null,
      "justify_content": null,
      "justify_items": null,
      "left": null,
      "margin": null,
      "max_height": null,
      "max_width": null,
      "min_height": null,
      "min_width": null,
      "object_fit": null,
      "object_position": null,
      "order": null,
      "overflow": null,
      "overflow_x": null,
      "overflow_y": null,
      "padding": null,
      "right": null,
      "top": null,
      "visibility": null,
      "width": null
     }
    },
    "b3bbfe10df4f4f4aba52cbd4ec46aa8c": {
     "model_module": "@jupyter-widgets/base",
     "model_module_version": "1.2.0",
     "model_name": "LayoutModel",
     "state": {
      "_model_module": "@jupyter-widgets/base",
      "_model_module_version": "1.2.0",
      "_model_name": "LayoutModel",
      "_view_count": null,
      "_view_module": "@jupyter-widgets/base",
      "_view_module_version": "1.2.0",
      "_view_name": "LayoutView",
      "align_content": null,
      "align_items": null,
      "align_self": null,
      "border": null,
      "bottom": null,
      "display": null,
      "flex": null,
      "flex_flow": null,
      "grid_area": null,
      "grid_auto_columns": null,
      "grid_auto_flow": null,
      "grid_auto_rows": null,
      "grid_column": null,
      "grid_gap": null,
      "grid_row": null,
      "grid_template_areas": null,
      "grid_template_columns": null,
      "grid_template_rows": null,
      "height": null,
      "justify_content": null,
      "justify_items": null,
      "left": null,
      "margin": null,
      "max_height": null,
      "max_width": null,
      "min_height": null,
      "min_width": null,
      "object_fit": null,
      "object_position": null,
      "order": null,
      "overflow": null,
      "overflow_x": null,
      "overflow_y": null,
      "padding": null,
      "right": null,
      "top": null,
      "visibility": null,
      "width": null
     }
    },
    "c744817445714e61b6364dafd03a2a40": {
     "model_module": "@jupyter-widgets/controls",
     "model_module_version": "1.5.0",
     "model_name": "FloatProgressModel",
     "state": {
      "_dom_classes": [],
      "_model_module": "@jupyter-widgets/controls",
      "_model_module_version": "1.5.0",
      "_model_name": "FloatProgressModel",
      "_view_count": null,
      "_view_module": "@jupyter-widgets/controls",
      "_view_module_version": "1.5.0",
      "_view_name": "ProgressView",
      "bar_style": "success",
      "description": "",
      "description_tooltip": null,
      "layout": "IPY_MODEL_0b17730b5f9b4bcaaeff4106f04c0bfd",
      "max": 213450,
      "min": 0,
      "orientation": "horizontal",
      "style": "IPY_MODEL_ac524145686c4305aac26c5e1e414c8a",
      "value": 213450
     }
    },
    "d3d55245ecc04a94926aadb2432cb447": {
     "model_module": "@jupyter-widgets/controls",
     "model_module_version": "1.5.0",
     "model_name": "ProgressStyleModel",
     "state": {
      "_model_module": "@jupyter-widgets/controls",
      "_model_module_version": "1.5.0",
      "_model_name": "ProgressStyleModel",
      "_view_count": null,
      "_view_module": "@jupyter-widgets/base",
      "_view_module_version": "1.2.0",
      "_view_name": "StyleView",
      "bar_color": null,
      "description_width": ""
     }
    },
    "d92b7dcfa3e947f2b8db7dea642b8bb5": {
     "model_module": "@jupyter-widgets/controls",
     "model_module_version": "1.5.0",
     "model_name": "HBoxModel",
     "state": {
      "_dom_classes": [],
      "_model_module": "@jupyter-widgets/controls",
      "_model_module_version": "1.5.0",
      "_model_name": "HBoxModel",
      "_view_count": null,
      "_view_module": "@jupyter-widgets/controls",
      "_view_module_version": "1.5.0",
      "_view_name": "HBoxView",
      "box_style": "",
      "children": [
       "IPY_MODEL_9a476ff265314577a846a8386e5be1a4",
       "IPY_MODEL_fe5becfc36614c40bf80fc18261a03f6",
       "IPY_MODEL_2c9c456e9d7a4ad68512fc04018d73f6"
      ],
      "layout": "IPY_MODEL_2bc3d74e31b547d392dec828ce39ef70"
     }
    },
    "dda2f8cc19b94756aae367bbe799e3f7": {
     "model_module": "@jupyter-widgets/base",
     "model_module_version": "1.2.0",
     "model_name": "LayoutModel",
     "state": {
      "_model_module": "@jupyter-widgets/base",
      "_model_module_version": "1.2.0",
      "_model_name": "LayoutModel",
      "_view_count": null,
      "_view_module": "@jupyter-widgets/base",
      "_view_module_version": "1.2.0",
      "_view_name": "LayoutView",
      "align_content": null,
      "align_items": null,
      "align_self": null,
      "border": null,
      "bottom": null,
      "display": null,
      "flex": null,
      "flex_flow": null,
      "grid_area": null,
      "grid_auto_columns": null,
      "grid_auto_flow": null,
      "grid_auto_rows": null,
      "grid_column": null,
      "grid_gap": null,
      "grid_row": null,
      "grid_template_areas": null,
      "grid_template_columns": null,
      "grid_template_rows": null,
      "height": null,
      "justify_content": null,
      "justify_items": null,
      "left": null,
      "margin": null,
      "max_height": null,
      "max_width": null,
      "min_height": null,
      "min_width": null,
      "object_fit": null,
      "object_position": null,
      "order": null,
      "overflow": null,
      "overflow_x": null,
      "overflow_y": null,
      "padding": null,
      "right": null,
      "top": null,
      "visibility": null,
      "width": null
     }
    },
    "eb08da17d3e145579b2601c6740dc187": {
     "model_module": "@jupyter-widgets/controls",
     "model_module_version": "1.5.0",
     "model_name": "DescriptionStyleModel",
     "state": {
      "_model_module": "@jupyter-widgets/controls",
      "_model_module_version": "1.5.0",
      "_model_name": "DescriptionStyleModel",
      "_view_count": null,
      "_view_module": "@jupyter-widgets/base",
      "_view_module_version": "1.2.0",
      "_view_name": "StyleView",
      "description_width": ""
     }
    },
    "f3e7242a0e9346b4ad675f6117f5d826": {
     "model_module": "@jupyter-widgets/base",
     "model_module_version": "1.2.0",
     "model_name": "LayoutModel",
     "state": {
      "_model_module": "@jupyter-widgets/base",
      "_model_module_version": "1.2.0",
      "_model_name": "LayoutModel",
      "_view_count": null,
      "_view_module": "@jupyter-widgets/base",
      "_view_module_version": "1.2.0",
      "_view_name": "LayoutView",
      "align_content": null,
      "align_items": null,
      "align_self": null,
      "border": null,
      "bottom": null,
      "display": null,
      "flex": null,
      "flex_flow": null,
      "grid_area": null,
      "grid_auto_columns": null,
      "grid_auto_flow": null,
      "grid_auto_rows": null,
      "grid_column": null,
      "grid_gap": null,
      "grid_row": null,
      "grid_template_areas": null,
      "grid_template_columns": null,
      "grid_template_rows": null,
      "height": null,
      "justify_content": null,
      "justify_items": null,
      "left": null,
      "margin": null,
      "max_height": null,
      "max_width": null,
      "min_height": null,
      "min_width": null,
      "object_fit": null,
      "object_position": null,
      "order": null,
      "overflow": null,
      "overflow_x": null,
      "overflow_y": null,
      "padding": null,
      "right": null,
      "top": null,
      "visibility": null,
      "width": null
     }
    },
    "fd23e97bc7db4e5aab62e151d6492da4": {
     "model_module": "@jupyter-widgets/base",
     "model_module_version": "1.2.0",
     "model_name": "LayoutModel",
     "state": {
      "_model_module": "@jupyter-widgets/base",
      "_model_module_version": "1.2.0",
      "_model_name": "LayoutModel",
      "_view_count": null,
      "_view_module": "@jupyter-widgets/base",
      "_view_module_version": "1.2.0",
      "_view_name": "LayoutView",
      "align_content": null,
      "align_items": null,
      "align_self": null,
      "border": null,
      "bottom": null,
      "display": null,
      "flex": null,
      "flex_flow": null,
      "grid_area": null,
      "grid_auto_columns": null,
      "grid_auto_flow": null,
      "grid_auto_rows": null,
      "grid_column": null,
      "grid_gap": null,
      "grid_row": null,
      "grid_template_areas": null,
      "grid_template_columns": null,
      "grid_template_rows": null,
      "height": null,
      "justify_content": null,
      "justify_items": null,
      "left": null,
      "margin": null,
      "max_height": null,
      "max_width": null,
      "min_height": null,
      "min_width": null,
      "object_fit": null,
      "object_position": null,
      "order": null,
      "overflow": null,
      "overflow_x": null,
      "overflow_y": null,
      "padding": null,
      "right": null,
      "top": null,
      "visibility": null,
      "width": null
     }
    },
    "fe5becfc36614c40bf80fc18261a03f6": {
     "model_module": "@jupyter-widgets/controls",
     "model_module_version": "1.5.0",
     "model_name": "FloatProgressModel",
     "state": {
      "_dom_classes": [],
      "_model_module": "@jupyter-widgets/controls",
      "_model_module_version": "1.5.0",
      "_model_name": "FloatProgressModel",
      "_view_count": null,
      "_view_module": "@jupyter-widgets/controls",
      "_view_module_version": "1.5.0",
      "_view_name": "ProgressView",
      "bar_style": "success",
      "description": "",
      "description_tooltip": null,
      "layout": "IPY_MODEL_f3e7242a0e9346b4ad675f6117f5d826",
      "max": 462,
      "min": 0,
      "orientation": "horizontal",
      "style": "IPY_MODEL_7fc426c0e3c0425ba2b9168c7b264c24",
      "value": 462
     }
    }
   }
  }
 },
 "nbformat": 4,
 "nbformat_minor": 0
}
