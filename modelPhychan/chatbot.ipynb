{
 "cells": [
  {
   "cell_type": "code",
   "execution_count": 190,
   "metadata": {
    "colab": {
     "base_uri": "https://localhost:8080/",
     "height": 304,
     "referenced_widgets": [
      "557fcc22368c4c93b42ed8e6dd2e00c2",
      "48407d40b8a0485899f0d3440371d3c7",
      "319f35242b454d20abab2076bf8e0143",
      "004fd7dc4da54bdeae39da3f6de77cc9",
      "dda2f8cc19b94756aae367bbe799e3f7",
      "456f5b2fa5474d519be5da8be4d2848d",
      "2df5c2009657461a83d88f3839993423",
      "2debc273af2a441fb426349e59fd48f7",
      "25409aa56037480083ed67743d5ed597",
      "6c027d30ca6b42f6b774091c9ca819d6",
      "a78c2c08775a4fe58ad5d8d50cd402ed",
      "998dd26856b845dbac9834fadcfb579d",
      "5efaaeda758c458f9f4876311ad18445",
      "c744817445714e61b6364dafd03a2a40",
      "3c0fe6c76d87412a977577b5f5518f85",
      "fd23e97bc7db4e5aab62e151d6492da4",
      "04eca109dc0e437b8e41fed3dd7bc197",
      "92212bc725f64bd1afa55ac9f831467f",
      "0b17730b5f9b4bcaaeff4106f04c0bfd",
      "ac524145686c4305aac26c5e1e414c8a",
      "2177bb65495f46b2a63aae40264d932e",
      "1546e30a191c4263a45cbf2d0d06ad68",
      "a70a065095f947f3b4a579e240476afd",
      "1eecc68cce604bdabf95bfa4057c7e98",
      "6ad4dee5d877496a87863057107e865c",
      "6383ff19567844e183fcbfe043324e48",
      "8486983dc2ef403bb27a4dab183f7031",
      "246041af7bee43c1be8542877b918bae",
      "109b3419c95d46bfb54af90e42204345",
      "b280b74308c64f32bf350cd64c80d5b0",
      "d3d55245ecc04a94926aadb2432cb447",
      "1903372a67bc4dd196b48cbcaec1c490",
      "eb08da17d3e145579b2601c6740dc187",
      "d92b7dcfa3e947f2b8db7dea642b8bb5",
      "9a476ff265314577a846a8386e5be1a4",
      "fe5becfc36614c40bf80fc18261a03f6",
      "2c9c456e9d7a4ad68512fc04018d73f6",
      "2bc3d74e31b547d392dec828ce39ef70",
      "92a1e578a76b4dc7a98162bc2621d267",
      "40de4fe0f135439b837e72252b93b123",
      "f3e7242a0e9346b4ad675f6117f5d826",
      "7fc426c0e3c0425ba2b9168c7b264c24",
      "b3bbfe10df4f4f4aba52cbd4ec46aa8c",
      "769437a15805467f82e5b75b3fd3f1e7"
     ]
    },
    "id": "4BTNuOLO8Aly",
    "outputId": "5b3547ee-a5e5-4b69-e608-31515f135c93"
   },
   "outputs": [
    {
     "name": "stderr",
     "output_type": "stream",
     "text": [
      "[nltk_data] Downloading package stopwords to C:\\Users\\Ari\n",
      "[nltk_data]     Widyatama\\AppData\\Roaming\\nltk_data...\n",
      "[nltk_data]   Package stopwords is already up-to-date!\n"
     ]
    },
    {
     "data": {
      "text/plain": [
       "True"
      ]
     },
     "execution_count": 190,
     "metadata": {},
     "output_type": "execute_result"
    }
   ],
   "source": [
    "import numpy as np\n",
    "import pandas as pd\n",
    "import matplotlib.pyplot as plt\n",
    "import tensorflow as tf\n",
    "import json\n",
    "import nltk\n",
    "from nltk.corpus import stopwords\n",
    "from tensorflow.keras.models import Model\n",
    "from Sastrawi.Stemmer.StemmerFactory import StemmerFactory\n",
    "import pickle\n",
    "\n",
    "nltk.download('stopwords')"
   ]
  },
  {
   "cell_type": "code",
   "execution_count": 191,
   "metadata": {},
   "outputs": [],
   "source": [
    "#inialization Steamer\n",
    "factory = StemmerFactory()\n",
    "stemmer = factory.create_stemmer()"
   ]
  },
  {
   "cell_type": "code",
   "execution_count": 192,
   "metadata": {
    "id": "F7HNBocz8Ggc"
   },
   "outputs": [],
   "source": [
    "#Import Dataset\n",
    "with open('./datasets/greeting.json') as file:\n",
    "    dataGreet = json.load(file)\n",
    "\n",
    "with open('./datasets/asamLambung.json') as file:\n",
    "    dataMed = json.load(file)"
   ]
  },
  {
   "cell_type": "code",
   "execution_count": 193,
   "metadata": {
    "colab": {
     "base_uri": "https://localhost:8080/"
    },
    "id": "ePn_pVB48IOg",
    "outputId": "c7684cb0-ab83-455f-f2a2-9f83493bc39f"
   },
   "outputs": [
    {
     "name": "stdout",
     "output_type": "stream",
     "text": [
      "405\n",
      "67\n",
      "405\n",
      "['Saya merasa mual jika sedang stress', 'Saya sering merasa mual setelah makan', 'Apa yang bisa membantu menghilangkan mual?', 'Apa saran untuk meredakan mual akibat asam lambung?', 'Bagaimana cara mengatasi rasa mual ini?', 'Saya merasa mual dan tidak nyaman', 'Kenapa saya sering merasa mual setelah makan pedas?', 'Mual saya tidak kunjung reda, apa yang bisa dilakukan?', 'Makanan apa saja yang bisa memperburuk asam lambung?']\n",
      "['mual', 'mual', 'mual', 'mual', 'mual', 'mual', 'mual', 'mual', 'makanan_pemicu']\n",
      "{'mual': ['1. Minum Air Putih yang Cukup\\nMual dapat diredakan dengan minum air putih. Hal ini karena dehidrasi atau kekurangan cairan bisa memperburuk kondisi mual. Namun, minum air putih sebaiknya dalam jumlah sedikit tetapi sering untuk menghindari perut terasa penuh yang justru bisa memperparah mual.\\n2. Konsumsi makanan yang mudah dicerna\\nMenghilangkan mual juga bisa dilakukan dengan mengonsumsi makanan yang mudah dicerna, seperti pisang, nasi, biskuit, dan bubur. Konsumsilah makanan tersebut sedikit-sedikit namun sering agar bisa dicerna secara perlahan\\n3. Hindari makanan dan minuman tertentu sperti Kopi, minuman bersoda ataupun minaman berakolhol\\nHindari makanan yang digoreng, makanan pedas, kopi, minuman bersoda, atau makanan berbau menyengat sampai mual reda. Terkadang, aroma dari makanan atau minuman tertentu juga dapat menimbulkan mual atau memperparah mual, terutama yang disebabkan oleh peningkatan asam lambung.\\n4. Konsumsi jahe atau minuman jahe\\nJahe sudah lama dikenal dalam pengobatan tradisional untuk meredakan mual. Zat kimia yang terdapat dalam jahe dipercaya dapat memengaruhi sistem saraf, lambung, dan usus untuk membantu mengurangi rasa mual.\\n5. Berbaring\\nBeraktivitas saat mual dapat memperparah mual dan memicu muntah. Oleh karena itu, hentikan dulu aktivitas dan beristirahatlah dalam posisi duduk atau berbaring. Usahakan agar posisi kepala lebih tinggi dari bagian tubuh lain\\n6. Atur napas\\nMenenangkan pikiran juga dapat menjadi cara menghilangkan mual, terutama jika disebabkan oleh stres. Tariklah napas pelan-pelan melalui hidung dan tahan napas selama tiga detik, lalu embuskan secara perlahan. Lakukan cara ini sampai mual mereda\\n\\nBiasanya mual akan reda sendiri dalam beberapa jam. Namun jika cara menghilangkan mual di atas tidak berhasil meredakan mual yang Anda rasakan, sebaiknya segera periksakan diri ke dokter.untuk mendapat penanganan yang tepat.'], 'makanan_pemicu': ['Pada penderita penyakit asam lambung, sangat tidak disarankan mengonsumsi makanan yang bersifat asam seperti :\\n1.Makanan yang tinggi akan gula\\n2.Makanan / minuman dari olahan susu\\n3. Gandum\\n4. Makanan yang sudah diproses\\n5. Makanan yang tinggi akan protein\\n6. Minuman bersoda\\n7. Buah tertentu seperti golongan buah jeruk (citrus), nanas, dan tomat\\nMakanan dan minuman ini tidak disarankan untuk dikonsumsi dikarenakan tubuh akan merangsang lambung untuk menghasilkan asam lambung lebih banyak lagi guna mencerna makanan-makanan tersebut, sehingga pada penderita penyakit asam lambung akan memicu atau memperberat keluhan-keluhan yang ada, bahkan bila terus menerus dibiarkan, dapat saja memicu terbentuknya luka pada dinding lambung atau usus halus.', 'Makanan dan Minuman yang Harus Dihindari Pengidap GERD \\n1. Makanan yang pedas\\nMakanan yang pedas memang bisa meningkatkan selera makan seseorang. Namun, jika kamu pengidap asam lambung, sebaiknya hindari makanan dengan cita rasa pedas karena dapat memicu kambuhnya asam lambung. \\nHal ini karena makanan pedas umumnya terbuat dari cabai yang memiliki kandungan capsaicin. Senyawa ini dapat memicu iritasi pada kerongkongan yang mengakibatkan naiknya asam lambung.\\n2. Makanan berlemak\\nSelain makanan pedas, makanan berlemak juga harus pengidap GERD hindari. Makanan yang berlemak membuat sfingter esofagus bagian bawah menjadi lebih rileks. \\nKondisi ini menyebabkan kenaikan asam lambung menuju kerongkongan yang lebih banyak. Untuk itu, pastikan kamu mengurangi total asupan lemak harian untuk mencegah gejala asam lambung kambuh.\\n3. Buah dengan rasa asam\\nMakanan pantangan pengidap GERD selanjutnya adalah buah dengan rasa asam. Buah merupakan makanan yang sangat penting untuk memenuhi kebutuhan nutrisi setiap harinya. \\nAkan tetapi, jika kamu memiliki riwayat asam lambung, sebaiknya hindari mengonsumsi buah yang memiliki cita rasa asam. Ada beberapa jenis buah yang sebaiknya kamu hindari, seperti: Nanas, Jeruk, Tomat, Lemon, Jeruk Nipis\\n4. Cokelat\\nSelain manis, cokelat juga memiliki rasa yang lezat untuk kamu konsumsi sebagai camilan. Namun, batasi pengonsumsian cokelat jika kamu mengidap GERD.\\nKandungan methylxanthine pada cokelat menyebabkan sfingter esofagus bagian bawah menjadi lebih rileks. Hal ini memicu munculnya gejala asam lambung yang dapat mengganggu aktivitas sehari-hari.\\n5. Minuman mengandung kafein\\nBukan hanya kopi, teh juga merupakan minuman yang memiliki kandungan kafein. Jika kamu memiliki GERD, sebaiknya hindari minuman ini karena menjadi pantangan penyakit asam lambung. ', '1. Gorengan\\nGorengan termasuk dalam makanan penyebab asam lambung naik karena kadar lemaknya yang tinggi. Makanan yang mengandung banyak lemak dapat memicu produksi hormon kolesistokinin. \\nSalah satu efek yang ditimbulkan hormon ini adalah melemasnya otot sfingter antara lambung dan kerongkongan yang berguna untuk menahan makanan tetap berada di dalam lambung. Jika otot ini terbuka, asam lambung bisa naik ke kerongkongan.\\n2. Makanan asam\\nHindarilah buah maupun makanan-makanan yang rasanya asam, termasuk jeruk, lemon, stroberi, atau makanan yang mengandung cuka. Kandungan asam pada makanan ini dapat memicu nyeri ulu hati yang terasa perih seperti terbakar, apalagi jika makanan dikonsumsi ketika perut dalam keadaan kosong.\\n3. Makanan pedas\\nMakanan pedas juga termasuk ke dalam makanan penyebab asam lambung naik. Kandungan capsaicin pada makanan pedas diketahui dapat memperlambat pengolahan makanan di lambung, sehingga lambung menjadi penuh dalam waktu yang lebih lama. Hal ini dapat memicu kambuhnya nyeri ulu hati.\\n4. Makanan berlemak\\nSeperti yang telah dijelaskan di awal, makanan berlemak dapat memicu naiknya asam lambung. Ini mencakup makanan-makanan yang secara alami kaya akan lemak, misalnya daging sapi, daging kambing, susu full cream, dan produk olahan susu, seperti keju, yogurt, dan butter.\\n5. Cokelat\\nSayang sekali, makanan enak ini juga harus dihindari jika Anda tidak ingin asam lambung naik. Cokelat mengandung kokoa, lemak, kafein, dan teobromine yang semuanya dapat memicu refluks.'], 'minumam_beresiko': ['1. Minuman Mengandung Lemak sperti susu\\nTak hanya makanan yang memiliki kandungan lemak, kandungan ini juga bisa terdapat pada minuman. Tidak masalah jika dikonsumsi dalam jumlah yang rendah. Namun, jika minuman ini terlalu banyak dikonsumsi, gejala maag bisa saja muncul. Hal tersebut terjadi karena minuman berlemak tinggi dapat melemahkan otot katup kerongkongan bagian bawah.\\n2. Cokelat\\nBagi seseorang yang tidak menyukai cokelat dan mengidap penyakit asam lambung, menghindari minuman yang satu ini bukanlah masalah besar. Namun hal ini menjadi kabar buruk bagi penggemar cokelat yang juga mengidap asam lambung. Cokelat mengandung zat-zat yang dapat memicu peningkatan asam lambung.\\n3. Kopi\\nSudah jadi rahasia umum, pengidap asam lambung harus sangat berhati-hati jika ingin mengonsumsi minuman yang satu ini. Pengidap asam lambung tidak dianjurkan untuk mengonsumsi kopi. Jika sangat diperlukan untuk fokus dalam bekerja, disarankan untuk membatasi asupan guna menghindari munculnya gejala. Kopi sendiri mengandung kafein di dalamnya yang terbukti dapat melemahkan otot pada katup kerongkongan bagian bawah. \\n4. Minuman Bersoda\\nSoda tak hanya membuat perut terasa kembung. Minuman berkarbonasi ini juga dapat menjadi pemicu meningkatnya asam lambung, sehingga timbul gejala-gejala maag. Beberapa minuman bersoda bahkan mengandung kafein yang akan semakin mempermudah gejala maag untuk muncul.\\n5. Alkohol\\nSama halnya dengan soda dan kopi, jenis alkohol apapun dapat menjadi penyebab munculnya gejala maag. Tak hanya menimbulkan berbagai gejala penyakit di kemudian hari, terlalu sering mengonsumsi minuman yang satu ini dapat mengiritasi tenggorokan, jika diminum secara berlebihan dan dalam jangka waktu yang panjang. Ketika hal ini terjadi, tenggorokan akan lebih sensitif terhadap gejala-gejala asam lambung.\\n6. Minuman bercita rasa asam seperti Minuman olahan jeruk, lemon dan jeruk nipis\\nMinuman jenis ini dapat kamu temukan pada produk olahan jeruk, lemon, atau jeruk nipis. Sama seperti minuman yang wajib dihindari, minuman bercita rasa asam ini dapat memicu munculnya gejala asam lambung'], 'merokok': ['Kebiasaan merokok bisa memicu Asam lambung karenan menyebabkan kondisi di Bawah ini, yaitu:\\n1. Merusak selaput lendir.\\n2. Memperlambat atau mencegah refleks otot di tenggorokan.\\n3. Memicu perut untuk membuat lebih banyak asam.\\n4. Mencegah otot lower esophageal sphincter bekerja dengan baik.\\n5. Mengurangi air liur yang dapat menetralkan efek asam.\\n6. Merokok juga meningkatkan risiko terjadinya kanker esofagus.\\nRokok juga menyebabkan ancaman lain bagi tubuh anda seperti :\\n1. Berbagai jenis kanker.\\n2. Penyakit jantung, stroke, dan penyakit paru-paru.\\n3. Diabetes.\\n4. Penyakit paru obstruktif kronis (PPOK), yang meliputi emfisema dan bronkitis kronis.\\n5. Merokok juga meningkatkan risiko TBC, penyakit mata tertentu, dan masalah sistem kekebalan tubuh, termasuk rheumatoid arthritis.\\n6. Meningkatkan risiko disfungsi ereksi pada pria.'], 'gejala': ['Penderita asam lambung biasanya merasakan beberapa gejala berikut: \\n\\nHeartburn: Sensasi terbakar di dada yang sering terjadi setelah makan atau saat berbaring. Rasanya seperti nyeri dada yang dimulai dari belakang tulang dada dan bergerak ke atas menuju leher dan tenggorokan. \\nRegurgitasi: Naiknya asam atau makanan kembali ke mulut atau tenggorokan, sering kali meninggalkan rasa asam atau pahit. \\nNyeri perut bagian atas atau dada: Rasa tidak nyaman atau sakit pada perut bagian atas atau dada. \\nKesulitan menelan (disfagia): Penderita merasa kesulitan atau sakit saat menelan makanan. \\nSensasi benjolan di tenggorokan: Seperti ada sesuatu yang terjepit di tenggorokan. \\nMual dan muntah: Terutama setelah makan, dapat merasa mual atau bahkan muntah. \\nBau mulut: Bau mulut yang disebabkan oleh refluks asam. \\nKesulitan bernapas: Dalam beberapa kasus, GERD dapat menyebabkan sesak napas atau gejala mirip asma. \\nGejala ini sering kali diperburuk setelah makan, berbaring, atau membungkuk.', 'tanda-tanda atau gejala yang menunjukkan asam lambung lanjut \\n1.Sensasi Terbakar di Dada \\nRasa terbakar yang sering muncul di dada, terutama setelah makan atau saat berbaring, merupakan gejala utama GERD. \\n2. Kesulitan Menelan \\nAkibat iritasi terus-menerus pada kerongkongan, mungkin merasa kesulitan atau nyeri saat menelan makanan atau cairan.\\n3. Muntah Darah atau Muntah Berwarna Gelap\\nJika GERD sudah menyebabkan luka atau pendarahan pada kerongkongan, mungkin mengalami muntah darah atau muntah yang tampak berwarna gelap.\\n4. Batuk Kronis\\nAsam lambung yang naik ke tenggorokan dapat menyebabkan batuk kronis, terutama saat tidur.\\n5. Suara Serak atau Tenggorokan Terasa Tersumbat\\nIritasi asam lambung pada tenggorokan dapat menyebabkan suara serak, radang tenggorokan, atau rasa seperti ada yang mengganjal di tenggorokan.', 'Gejala Penyakit Asam Lambung\\nGejala GERD yang paling umum adalah heartburn atau sensasi terbakar di dada. Rasanya seperti nyeri dada terbakar yang dimulai dari belakang tulang dada dan bergerak ke atas ke leher dan tenggorokan. Makanan seperti masuk kembali ke mulut sehingga meninggalkan rasa asam atau pahit. Heartburn biasanya terjadi setelah makan, yang bisa lebih buruk di malam hari atau saat berbaring.\\n\\nGejala penyakit asam lambung lainnya adalah:\\n1. regurgitasi (naiknya asam ke tenggorokan dan mulut)\\n2. sakit perut bagian atas atau dada \\n3. kesulitan menelan (disfagia)\\n4. sensasi benjolan di tenggorokan \\n5. mual dan muntah\\n6. bau mulut\\n7. kesulitan bernapas', 'Asam lambung, atau secara medis dikenal sebagai GERD (Gastroesophageal Reflux Disease), terjadi ketika asam lambung naik kembali ke kerongkongan. Kondisi ini dapat menyebabkan berbagai gejala yang tidak nyaman, seperti\\n1. Sering bersendawa setelah makan: Ini adalah tanda umum bahwa ada gas berlebih di saluran pencernaan, yang seringkali dipicu oleh asam lambung.\\n2. Kesulitan menelan makanan: Asam lambung yang sering naik dapat menyebabkan iritasi pada kerongkongan, sehingga membuat menelan menjadi sulit.\\n3. Merasa mual jika stres: Stres dapat memicu produksi asam lambung berlebih, sehingga menyebabkan mual.\\n4. Nyeri di bagian atas perut atau dada: Rasa nyeri atau tidak nyaman di bagian atas perut atau dada adalah gejala khas asam lambung, seringkali terasa seperti terbakar.\\n5. Rasa panas di dada setelah makan atau saat berbaring: Ini adalah gejala yang paling umum dari asam lambung, dikenal sebagai heartburn.\\n6. Sakit tenggorokan atau suara serak: Asam lambung yang sering naik dapat mengiritasi tenggorokan dan pita suara, sehingga menyebabkan sakit tenggorokan atau suara menjadi serak.\\n7. Perut kembung: Perut kembung seringkali terjadi bersamaan dengan gejala asam lambung lainnya, seperti bersendawa dan mual.\\n8. Regurgitasi: Makanan atau cairan asam naik kembali ke mulut.\\n9. Batuk kronis: Asam lambung yang sering naik dapat memicu batuk terus-menerus.\\n10. Bau mulut: Asam lambung dapat menyebabkan bau mulut yang tidak sedap.\\n11. Mulut terasa asam: Rasa pahit atau asam di mulut seringkali terjadi setelah asam lambung naik.'], 'diagnosa': ['Gejala asam lambung biasanya termasuk rasa terbakar di dada (heartburn), perasaan kembung, sering sendawa, dan rasa asam atau pahit di mulut. Kalau kamu sering merasakannya setelah makan atau ketika berbaring, mungkin itu bisa jadi tanda asam lambung. \\nAnda juga bisa mengunakan fitur aplikasi kami untuk klasifikasi apakah terkena asam lambung atau tidak dan anda juga bisa melakukan pemeriksaan ke dokter terdekat untuk mengetahui lebih lanjut'], 'kambuh': ['1. Minum air hangat \\nMinumlah air hangat secara perlahan, karena minum dengan terburu-buru bisa memperburuk gejala asam lambung. \\n2. Beristirahat \\nCoba lah untuk memenangkan diri dan beristirahat sejenak dari aktivitas yang sedang kamu lakukan. Bila kamu ingin berbaring, hindari berbaring sejajar. Pastikan posisi dada ke atas lebih tinggi dari perut. \\n3. Konsumsi jahe \\nJahe bisa meredakan berbagai masalah pencernaan, seperti mual, diare, dan kehilangan nafsu makan. Oleh karena itu, rempah-rempah tersebut juga dipercaya bisa menjadi cara mengatasi asam lambung naik. Saat asam lambung naik, kamu bisa mengonsumsi jahe yang sudah dalam bentuk kapsul atau minum air rebusan jahe. \\n4. Mengunyah permen karet \\nSaat kamu mengunyah permen karet, air liur yang dihasilkan bisa membantu melancarkan pergerakan makanan melalui kerongkongan, sehingga meredakan gejala heartburn \\n5. Minum obat maag \\nBila cara mengatasi asam lambung alami di atas tidak mampu meredakan gejala yang tidak nyaman, minumlah obat maag. Salah satu obat yang bisa kamu minum saat asam lambung naik adalah antacid. Obat ini bisa menetralkan asam di lambung, sehingga efektif meredakan refluks asam.'], 'perut_kembung': ['1. Minyak peppermint\\nCara pertama yang bisa kamu lakukan untuk mengatasi perut kembung ringan adalah dengan menggunakan minyak peppermint. \\nKembung bisa disebabkan oleh perubahan fungsi otot-otot di saluran pencernaan. Oleh karena itu, penggunaan obat-obatan yang disebut antispasmodik dapat membantu mengurangi kejang otot dan telah terbukti bermanfaat. \\nMelansir Healthline, minyak peppermint adalah zat alami yang diyakini berfungsi dengan cara yang sama dengan obat ini. \\n2. Konsumsi probiotik\\nUmumnya, penyebab utama kembung adalah dari gas yang dihasilkan oleh bakteri di usus. \\nAda banyak jenis bakteri yang bertempat tinggal di sana, dan mereka dapat bervariasi antar individu. \\nTampaknya logis bahwa jumlah dan jenis bakteri mungkin ada hubungannya dengan produksi gas, dan ada beberapa penelitian yang mendukung hal ini. \\nBeberapa studi klinis menunjukkan suplemen probiotik tertentu membantu mengurangi produksi gas dan kembung pada orang dengan masalah pencernaan. \\nNamun, penelitian lain menunjukkan bahwa probiotik dapat membantu mengurangi gas, tetapi bukan gejala kembung. \\nKondisi ini tergantung pada individu, serta jenis strain probiotik yang digunakan.\\n3. Minum air jahe\\nJahe bisa mengurangi kadar gas dalam perut serta memberikan rasa lega dan hangat diperut. \\nJahe bisa dikonsumsi dengan cara dikunyah langsung atau diparut kemudian diseduh dengan air hangat atau teh hangat. Kamu juga bisa menambahkan jahe dalam jus sayur-sayuran.\\n4. Kunyit\\nKhasiat kunyit untuk mengatasi berbagai masalah pencernaan, mulai dari sakit perut, mulas, sampai perut kembung sudah tidak diragukan lagi. \\nKunyit mampu menenangkan sistem pencernaan kamu dan mengeluarkan gas yang terjebak di dalam perutmu. \\nUntuk mengatasi perut kembung, kamu bisa minum jamu sari kunyit atau mencampurkannya dalam makanan.\\n5. Lakukan kardio atau olahraga ringan selama 5 menit.\\nOlahraga mampu meningkatkan pernapasan, detak jantung, serta merangsang otot dan saraf agar bekerja secara optimal. \\nKondisi ini merangsang usus untuk berkontraksi secara alamiah. \\nOtot usus yang berkontraksi secara efisien memperlancar pengeluaran makanan di usus dan membantu mengeluarkan gas penyebab perut kembung.'], 'tidur_dan_berbaring_setelah_makan': ['Tidur setelah makan tidak baik untuk kesehatan lambung, terutama setelah makan dalam porsi banyak sekaligus. Langsung tidur setelah makan kenyang akan menyebabkan tekanan di dalam lambung meningkat, sehingga makanan dan cairan lambung dapat naik kembali ke kerongkongan. Jika ini terjadi terus-menerus, dapat menimbulkan penyakit asam lambung (GERD).\\n\\nSering berbaring kurang dari 2-3 jam setelah makan juga dapat meningkatkan risiko terjadinya asam lambung karena:\\n\\n1. Tekanan pada lambung: Ketika kita berbaring atau tidur, posisi tubuh membuat asam lambung lebih mudah naik ke kerongkongan. Jika kita makan terlalu dekat dengan waktu tidur, makanan yang belum sepenuhnya dicerna akan memberikan tekanan tambahan pada lambung, sehingga meningkatkan risiko asam lambung naik.\\n\\n2. Pelemahan otot sfingter esofagus bawah: Otot ini berfungsi seperti katup yang mencegah asam lambung naik ke kerongkongan. Posisi berbaring dapat melemahkan otot ini, sehingga asam lambung lebih mudah naik.\\n\\n3. Proses pencernaan terganggu: Jika kita tidur terlalu cepat setelah makan, proses pencernaan tidak berjalan optimal. Makanan yang belum sepenuhnya tercerna akan memberikan beban tambahan pada lambung dan meningkatkan produksi asam lambung.\\n\\n### Tips Mengurangi Risiko:\\n- Makan 2-3 jam sebelum waktu tidur, termasuk untuk camilan.\\n- Jika benar-benar merasa lapar dan ingin makan saat larut malam, pilih camilan yang mudah dicerna seperti buah-buahan atau makanan rendah kalori.\\n- Usahakan untuk duduk tegak selama 20-30 menit setelah makan untuk membantu proses pencernaan.'], 'panas_di_dada': ['Asam Lambung biasanya menimbulkan keluhan berupa rasa panas seperti terbakar di bagian tengah dada, kadang menjalar ke leher, kadang disertai rasa mengganjal di tenggorokan, mulut terasa asam atau pahit.\\nGejala berupa panas menjalar di dada ini yang menyerupai gejala serangan jantung sehingga perlu dilakukan pemeriksaan lebih lanjut untuk mengetahui penyebabnya.\\nUntuk melihat adanya radang atau ada tidaknya kelainan pada otot lingkar esofagus yang mencegah refluk dari lambung dapat dilakukan pemeriksaan endoskopi di dokter atau fasilitas kesehatan yang terdekat.'], 'alkohol': ['Mengonsumsi alkohol dapat menyebabkan kerusakan pada mukosa esofagus. Kandungan asetaldehid beracun yang demetalisasi dari alkohol dapat memengaruhi fungsi kerongkongan dan lambung. \\n\\nSelain itu, disfungsi pada Lower Esophageal Sphincter (LES), peristaltik esofagus, hingga sekresi asam lambung yang abnormal, mungkin terlibat pada gangguan GERD terkait alkohol.\\nJadi seseorang dengan gejala GERD sering dianjurkan untuk menghindari konsumsi alkohol atau mengkonsumsi alkohol dalam jumlah sedang.\\n\\nberikut alasan lainnya jika minuman beralkohol bisa memicu asam lambung:\\n1. Minuman alkohol dapat mengiritasi tenggorokan atau perut karena kandungan bahan kimianya.\\n2. Alkohol dapat mengendurkan otot yang menuju perut, sehingga isi perut mudah untuk â€˜bocorâ€™.\\n3. Alkohol dapat membuat lambung lebih banyak memproduksi asam, sehingga GERD rentan kambuh.'], 'kopi': ['Keseringan minum kopi memang dapat memicu masalah asam lambung, terutama bagi mereka yang memiliki gangguan lambung seperti GERD. Hal ini disebabkan oleh kafein dalam kopi yang dapat membuat cincin otot kerongkongan bagian bawah menjadi rileks, sehingga asam lambung lebih mudah naik ke kerongkongan. Selain itu, kopi, termasuk kopi tanpa kafein, dapat menstimulasi produksi asam lambung, terutama jika dikonsumsi saat perut kosong.\\n\\nKondisi ini dapat menyebabkan gejala seperti perut mulas, heartburn (sensasi panas dan terbakar di tenggorokan atau dada), serta masalah pencernaan lainnya. Untuk orang dengan kondisi lambung yang sehat, konsumsi kopi hingga 200 miligram per hari (sekitar 2-3 cangkir) biasanya aman. Namun, proses pemanggangan kopi juga memengaruhi kadar kafein. Kopi dengan pemanggangan ringan (light roast) cenderung mengandung lebih banyak kafein dan sebaiknya dihindari oleh pengidap penyakit asam lambung.'], 'soda': ['Mengonsumsi minuman berkarbonasi atau bersoda dapat meningkatkan risiko terkena asam lambung.\\n1. Meningkatkan produksi asam lambung: Minuman bersoda mengandung gas karbon dioksida yang dapat merangsang produksi asam lambung. Semakin banyak asam lambung yang dihasilkan, semakin besar kemungkinan asam lambung naik ke kerongkongan.\\n2. Meningkatkan tekanan dalam perut: Gas karbon dioksida dalam minuman bersoda dapat menyebabkan perut kembung dan meningkatkan tekanan dalam perut. Tekanan yang meningkat ini dapat mendorong asam lambung naik ke kerongkongan.\\n3. Mengiritasi lapisan lambung: Beberapa minuman bersoda mengandung asam fosfat yang dapat mengiritasi lapisan lambung dan memperparah gejala asam lambung.', 'Mengonsumsi minuman bersoda dapat melepaskan dahaga dengan cepat. Namun, kamu perlu waspada karena ternyata minuman ini dapat menyebabkan perut terasa kembung hingga naiknya asam lambung. \\nMinuman ini merusak lambung dan lapisan kerongkongan dengan cara mengiritasinya. Akibatnya, asam lambung semakin banyak dihasilkan lalu naik ke kerongkongan karena otot-ototnya mulai melemah. \\nLebih bahayanya lagi, hampir semua minuman bersoda juga mengandung kafein seperti kopi. Itu sebabnya, minuman ini tidak dianjurkan dikonsumsi oleh pengidap asam lambung.'], 'berat_badan': ['Obesitas atau kelebihan berat badan merupakan penyebab asam lambung naik yang paling sering terjadi. Lemak yang menumpuk di perut dapat meningkatkan tekanan pada lambung, sehingga mendorong asam lambung naik kembali ke kerongkongan. Hernia hiatal, Kondisi di mana bagian atas lambung menonjol ke dalam rongga dada. Kondisi ini lebih sering terjadi pada orang obesitas dan dapat memperparah gejala asam lambung.'], 'bahaya': [\"Asam lambung penting untuk pencernaan, tetapi kelebihan asam atau refluks dapat menyebabkan masalah kesehatan serius.\\n\\nBahaya utama:\\n1. GERD (Penyakit Refluks Gastroesofagus): Sensasi terbakar di dada (mulas), kerusakan kerongkongan, dan risiko kanker.\\n2. Esofagitis: Peradangan kerongkongan yang menyebabkan nyeri, sulit menelan, dan pendarahan.\\n3. Barrett's Esophagus: Perubahan sel akibat asam kronis yang meningkatkan risiko kanker kerongkongan.\\n4. Ulkus Peptikum: Luka pada lambung yang bisa menyebabkan nyeri hebat hingga komplikasi serius.\\n\\nAkibat jika tidak diobati:\\n1. Striktur Esofagus: Penyempitan kerongkongan karena jaringan parut.\\n2. Tukak Esofagus: Luka terbuka akibat paparan asam lambung.\\n3. Esofagus Barrett: Perubahan sel pra-kanker pada kerongkongan.\\n\\nSolusi:\\n- Hindari makanan pemicu, alkohol, dan rokok.\\n- Atur pola makan (porsi kecil, rendah lemak, tinggi serat).\\n- Gunakan obat sesuai rekomendasi dokter.\\n- Konsultasikan dengan dokter jika gejala semakin sering atau berat.\\n\\nPenanganan yang tepat dapat mencegah komplikasi serius.\"], 'mengobati': ['Mengatasi GERD tidak hanya melulu melalui obat-obatan. Memodifikasi gaya hidup juga penting dilakukan untuk mendukung pemulihan penyakit asam lambung. Berikut beberapa panduan gaya hidup sehat yang dapat diterapkan untuk menghindari dan mengatasi asam lambung atau GERD adalah:\\n1. Menurunkan berat badan.\\n2. Berhenti merokok.\\n3. Menghindari makan dalam porsi besar dan berat di malam hari.\\n4. Menghindari makanan pemicu seperti cokelat, kafein, dan alkohol.\\n5. Makan maksimal 3 jam sebelum tidur.\\n6. Tidak langsung berbaring setelah makan.\\n7. Meninggikan posisi kepala saat berbaring.'], 'menghindari': ['1. Menurunkan berat badan berlebih\\n2. Menjalani gaya hidup sehat dengan pola makan sehat dan rutin berolahraga\\n3. Menghindari berbaring atau tidur setidaknya 2 - 3 jam setelah makan\\n4. Berhenti merokok dan mengonsumsi alkohol\\n5. Konsumsi snack di sela waktu makan, agar perut tidak dalam kondisi kosong dalam jangka waktu lama\\n6. Mengatur porsi makan, sebaiknya konsumsi makanan dengan porsi kecil tetapi lebih sering\\n7. Kunyah makanan dengan perlahan, setidaknya sekitar 20 kali kunyahan per suapan\\n8. Saat perut kosong, hindari konsumsi makanan yang dapat menyebabkan produksi gas lambung berlebihan, termasuk dairy product (keju dan susu)\\n9. Menghindari makanan dan minuman pemicu asam lambung, seperti kopi, cokelat, buah-buahan yang asam, dan yang berminyak\\n10. Atur posisi tidur, tubuh bagian atas lebih tinggi daripada tubuh bagian bawah\\n'], 'penyakit_turunan': ['Ada cukup banyak bukti yang menunjukkan hubungan antara gen dengan penyakit asam lambung. Penelitian yang dilakukan pada orang dengan gejala refluks asam dan GERD telah mengidentifikasi penanda umum dalam DNA yang terkait dengan refluks asam. Berikut ini beberapa penelitian sebagai bukti bahwa genetik dan asam lambung memiliki keterkaitan. \\nJika refluks asam bersifat genetik, ini berarti bahwa banyak anggota keluarga lebih mungkin mengidap kondisi tersebut. Penelitian di Universitas Amsterdam menemukan pola pewarisan GERD di antara anggota keluarga multigenerasi. Dari 28 anggota keluarga yang berpartisipasi dalam penelitian ini, 17 anggota dari empat generasi terkena GERD. Namun, para peneliti tidak dapat menentukan gen tertentu yang berkaitan.'], 'penyebab': ['Penyebab asam lambung atau GERD adalah karena melemahnya sfingter esofagus atau otot-otot pembatas antara kerongkongan dan lambung sehingga menyebabkan refluks (aliran balik) atau asam lambung naik ke saluran esofagus (kerongkongan). Paparan asam lambung yang berulang-ulang naik ke esofagus akan mengakibatkan iritasi pada lapisan esofagus atau kerongkongan.'], 'makanan_penunjang': ['Bagi penderita asam lambung, memilih makanan yang tepat sangat penting untuk mencegah gejala kambuh dan menjaga kesehatan lambung. Berikut adalah beberapa pilihan makanan yang aman:\\n\\nSayuran Rendah Gula dan Lemak\\nPilihan seperti brokoli, kembang kol, asparagus, kacang hijau, kentang, dan bayam sangat baik karena rendah lemak, rendah gula, serta kaya serat yang mendukung kesehatan lambung.\\n\\nOatmeal\\nSebagai makanan kaya serat, oatmeal membantu menyerap asam lambung berlebih, memberikan rasa kenyang lebih lama, dan menenangkan perut.\\n\\nBuah Non-Sitrus\\nBuah seperti pisang, apel (hindari apel hijau), pepaya, melon, dan alpukat sangat direkomendasikan. Buah ini bersifat basa, kaya serat, dan memiliki kandungan nutrisi yang membantu menetralkan asam lambung.\\n\\nDaging Tanpa Lemak dan Seafood\\nDaging ayam, kalkun, ikan, serta makanan laut aman dikonsumsi asal diolah dengan cara yang sehat, seperti dipanggang, direbus, atau dikukus, tanpa tambahan lemak berlebih.\\n\\nMakanan Tinggi Air\\nMentimun dan semangka adalah pilihan yang dapat membantu mengencerkan asam lambung dan mencegah gejala seperti nyeri ulu hati.\\n\\nBrokoli: Tinggi serat, membantu kenyang lebih lama, dan baik untuk kesehatan saluran cerna.\\nKentang: Sumber karbohidrat dengan serat tinggi, mengurangi keinginan ngemil tidak sehat.\\nWortel: Mengandung vitamin A dan karbohidrat kompleks, baik untuk saluran pencernaan.\\nPisang: Buah bersifat basa yang menetralkan asam lambung dan mencegah sembelit.\\nMelon: Aman untuk lambung dan melindungi dinding lambung dari iritasi.\\nOatmeal: Menenangkan lapisan perut dan tinggi serat.\\nKacang Almond: Sumber lemak sehat yang menetralkan asam lambung.\\nMentimun: Makanan tinggi air yang membantu mengencerkan asam lambung.\\nSemangka: Segar dan menenangkan tenggorokan akibat refluks asam lambung.\\nBayam: Sayuran hijau tinggi serat, aman untuk lambung.\\nDaging tanpa lemak: Pilih daging ayam atau sapi tanpa lemak, jangan digoreng.\\nAlpukat: Kaya lemak tak jenuh yang baik untuk saluran cerna dan meningkatkan bakteri baik.\\n\\nDengan memilih makanan-makanan di atas dan menghindari makanan pedas, bersantan, berminyak, atau mengandung kafein, gejala asam lambung dapat diminimalkan.'], 'sembuh': ['Asam lambung bisa sembuh jika penyebabnya diatasi dengan pengobatan yang tepat dan perubahan pola hidup. Namun, bagi pengidap GERD (gastroesophageal reflux disease), penyembuhan total sulit dicapai. Gejala mungkin berkurang atau menghilang sementara, tetapi dapat kembali jika pengobatan dihentikan atau pola hidup yang sehat tidak dijaga. Oleh karena itu, pengelolaan penyakit ini lebih mengarah pada pengendalian gejala agar tidak memburuk. Mengadopsi pola makan sehat, menghindari makanan pemicu, serta pengobatan yang teratur dapat membantu mengontrol dan mencegah kambuhnya gejala.'], 'pola_hidup_pengaruh_asam_lambung': ['Pola Hidup yang Mempengaruhi Asam Lambung\\nPola hidup yang tidak sehat dapat menjadi faktor utama penyebab asam lambung naik. Beberapa kebiasaan yang harus dihindari meliputi:\\n\\n1. Jadwal Makan Tidak Teratur\\nMakan larut malam, terutama kurang dari dua jam sebelum tidur, dapat menyebabkan asam lambung naik karena tubuh tidak memiliki waktu cukup untuk mencerna makanan.\\n\\n2. Gaya Hidup Tidak Sehat\\nKebiasaan seperti merokok, konsumsi alkohol, minuman bersoda, dan kopi dalam jumlah berlebihan dapat memicu gejala asam lambung.\\n\\n3. Makan Berlebihan\\nKekenyangan dapat meningkatkan produksi asam lambung, sehingga meningkatkan risiko naiknya asam ke kerongkongan.\\n\\n4. Obesitas\\nLemak di perut memberikan tekanan pada lambung, yang menyebabkan risiko GERD meningkat.\\n\\n5. Ngemil Sebelum Tidur\\nNgemil dalam porsi kecil sebenarnya aman, tetapi jika berlebihan, ini dapat menyebabkan asam lambung naik.\\n\\n6. Konsumsi Makanan Tertentu\\nMakanan pedas, berminyak, asam, atau berlemak sering menjadi pemicu naiknya asam lambung.\\n\\nCara Mengatasi Asam Lambung dengan Pola Hidup Sehat\\nUntuk menjaga kesehatan lambung, berikut adalah pola hidup yang dapat diadopsi:\\n\\n1. Makan dalam porsi kecil, teratur, dan hindari makan terlalu dekat dengan waktu tidur.\\n2. Menjaga berat badan ideal untuk mengurangi tekanan pada perut.\\n3. Hindari rokok, alkohol, dan minuman berkafein.\\n4. Tinggikan kepala saat tidur untuk mencegah refluks.\\n5. Konsumsi makanan sehat yang tidak memicu produksi asam lambung, seperti buah-buahan non-sitrus, sayuran rendah lemak, dan oatmeal.\\nJika pola hidup sehat belum cukup, konsultasikan dengan dokter untuk mendapatkan pengobatan lebih lanjut,'], 'kondisi_kritis': ['Bila penyakit asam lambung tidak ditangani sampai tuntas, komplikasi berupa peradangan pada saluran kerongkongan atau esofagus dapat terjadi. Seiring berjalannya waktu, peradangan kronis dapat berkembang dan menyebabkan komplikasi berikut:\\n\\nPenyempitan kerongkongan (striktur esofagus). Peradangan yang terjadi pada kerongkongan dapat menyebabkan jaringan parut terbentuk. Jaringan parut tersebut dapat mempersempit jalur makanan, sehingga pengidap akan sulit menelan.\\n\\nLuka terbuka di kerongkongan (borok esofagus). Asam lambung dapat menghilangkan jaringan di kerongkongan dan menyebabkan luka terbuka. Ulkus esofagus dapat berdarah dan menimbulkan rasa sakit, sehingga pengidap akan kesulitan untuk menelan makanan.\\n\\nPerubahan prakanker pada esofagus (Barrettâ€™s esophagus). Kerusakan kerongkongan akibat refluks asam lambung dapat menyebabkan perubahan jaringan yang melapisi esofagus bagian bawah. Perubahan-perubahan ini dikaitkan dengan peningkatan risiko kanker kerongkongan.'], 'tanda_parah': ['Ciri-ciri asam lambung yang parah adalah ketika gejalanya terasa semakin memburuk dan sudah mengganggu aktivitas sehari-hari. Untuk lebih jelasnya, berikut ini adalah ciri-ciri yang menjadi tanda asam lambung sudah parah:\\n\\n1. Nyeri dada yang parah\\nNaiknya asam lambung ke kerongkongan bisa membuat dada terasa nyeri dan terbakar (heartburn). Ketika asam lambung sudah tergolong parah, nyeri dada ini bisa menjadi sangat berat dan muncul secara intens, bahkan bisa sampai mengganggu aktivitas sehari-hari.\\n\\n2. Sulit atau nyeri saat menelan\\nCiri-ciri asam lambung yang parah lainnya adalah kesulitan menelan atau disebut juga disfagia. Kondisi ini ditandai dengan batuk atau tersedak saat makan dan minum serta merasakan sensasi seolah-olah ada yang menyangkut di dalam kerongkongan.\\n\\nSelain itu, asam lambung yang sudah parah bisa menyebabkan penderitanya mengalami nyeri saat menelan. Rasa nyeri ini sering terasa seperti sensasi diremas atau terbakar di sepanjang leher atau di belakang tulang dada.\\n\\n3. Anemia\\nAsam lambung yang sudah parah ditandai dengan anemia. Kondisi kekurangan darah merah ini terjadi karena peningkatan produksi asam lambung secara berkepanjangan sehingga mengganggu proses penyerapan zat besi.\\n\\nGERD juga dapat menyebabkan luka pada esofagus dan memicu perdarahan tak kasat mata. Bila digabungkan dengan kurangnya asupan zat besi dalam tubuh, kondisi ini dapat menyebabkan anemia.\\n\\n4. Mual dan muntah\\nPenderita GERD yang parah bisa mengalami mual dan muntah, terutama setelah makan, bersendawa, atau batuk. Asam lambung yang mencapai mulut bisa menyebabkan rasa asam atau pahit, sehingga muncul refleks mual dan muntah. Iritasi di kerongkongan akibat naiknya asam lambung juga dapat memicu rasa mual.\\n\\n5. Muntah berdarah disertai feses berwarna hitam\\nTidak hanya mual dan muntah, muntah berdarah juga termasuk dalam ciri-ciri asam lambung yang parah. Asam lambung dapat melukai lapisan dinding kerongkongan atau esofagus sehingga menyebabkan perdarahan. Terjadinya perdarahan ini dapat bercampur dengan isi lambung dan keluar bersamaan dengan muntah.\\n\\nMuntah berdarah juga dapat disertai dengan feses berwarna hitam. Perubahan warna tinja ini terjadi karena darah bercampur dengan asam lambung. \\n\\n6. Penurunan berat badan\\nPenurunan berat badan secara drastis bisa menjadi salah satu ciri-ciri asam lambung yang parah. Hal ini terjadi karena asam lambung yang parah bisa membuat penderitanya kehilangan nafsu makan dan memiliki pola makan yang tidak teratur, sehingga berat badan pun akan berkurang, bahkan secara drastis.\\n\\nBerbagai ciri-ciri asam lambung yang parah di atas adalah keadaan darurat medis dan memerlukan penanganan segera. Oleh karena itu, apabila Anda atau orang terdekat mengalami salah satu dari tanda-tanda di atas, segeralah pergi ke dokter untuk mendapatkan bantuan medis yang sesuai.'], 'olahraga': ['Kurangnya aktivitas fisik atau olahraga secara teratur dapat menjadi salah satu faktor yang berkontribusi pada munculnya masalah asam lambung karena\\n1. Perlambatan Pencernaan: Kurang olahraga dapat memperlambat proses pencernaan. Makanan yang tidak tercerna dengan baik akan berada lebih lama di dalam lambung, sehingga meningkatkan produksi asam lambung dan meningkatkan risiko refluks asam.\\n2. Meningkatnya Berat Badan: Kurang aktivitas fisik seringkali dikaitkan dengan peningkatan berat badan. Kelebihan berat badan dapat menekan lambung dan meningkatkan tekanan pada sfingter esofagus bawah, sehingga mempermudah asam lambung naik ke kerongkongan.\\n3. Kelemahan Otot: Kurang olahraga dapat menyebabkan otot-otot tubuh, termasuk otot-otot yang mendukung pencernaan, menjadi lemah. Kelemahan otot ini dapat mengganggu fungsi normal pencernaan dan memperparah gejala asam lambung.', 'Olahraga rutin memang bisa menjaga tubuh tetap bugar dan sehat. Namun sayangnya, bagi banyak orang yang mengalami penyakit refluks gastroesofageal, olahraga seringkali berarti bisa memperburuk gejala GERD (gastroesophageal reflux disease) yang tidak nyaman.\\nTermasuk refluks asam dan heartburn. Bahkan, jenis olahraga tertentu dapat memperburuk gejala GERD. Jadi, bagi Anda yang mempunyai penyakit ini memerhatikan pola makan dan gaya hidup hukumnya wajib, agar GERD tidak mudah kambuh. \\nTapi olahraga ringan dapate meminimalisir asam lambung seperti olahraga dibawah ini:\\n1. Jalan santai\\nBerjalan santai menjadi pilihan olahraga terbaik untuk orang yang menderita GERD tapi tetap ingin berolahraga. Walaupun tidak berkeringat banyak, jalan kaki sangat efektif dan layak dicoba.\\nAnda bisa berjalan di sekeliling halaman rumah atau taman sambil menikmati pemandangan. Atau coba berjalan keliling kompleks bersama anjing peliharaan. Dengan begini, penyakit GERD pun bisa lebih dikendalikan.\\n2. Berenang\\nOlahraga berikutnya adalah berenang. Saat berenang, semua otot pada tubuh akan bekerja dan bagus untuk tubuh Anda. Gerakan ini pun dapat menghindari tekanan pada perut, sehingga risiko lonjakan asam lambung dapat diminimalisasi.\\nNamun, jangan buru-buru langsung berenang setelah makan, apalagi dengan perut yang penuh. Hal ini justru bisa meningkatkan risiko asam lambung. Oleh karenanya, tunggu sekitar 1-2 jam terlebih dahulu sebelum mulai berenang.\\n3. Senam\\nSenam juga bisa menjadi opsi untuk Anda berolahraga. Namun, sebaiknya pilih gerakan senam dengan gerakan yang ringan. Sebaiknya, jangan memilih senam dengan intensitas tinggi, karena akan meningkatkan risiko kambuhnya asam lambung. Anda pun juga bisa melakukan senam aerobik dengan gerakan ringan\\n4. Bersepeda\\nBersepeda ringan dan teratur bisa membantu menurunkan dan menstabilkan berat badan dalam mengatasi GERD. Pastikan juga Anda mengenakan pakaian yang longgar dan nyaman saat bersepeda. \\n5. Yoga\\nYoga adalah olahraga low-impact yang dapat membantu Anda merasa lebih kuat dan fleksibel tanpa memperparah GERD. Yoga pun juga telah terbukti dapat membantu pencernaan pada beberapa orang. Dengan meregangkan otot di sekitar perut, tekanan di dalam lambung pun akan berkurang.'], 'maag': ['asam lambung dan sakit maag adalah dua hal yang berbeda namun masih saling terkait. Secara sederhana, asam lambung adalah kondisi di mana kandungan asam lambung naik hingga ke kerongkongan. Dalam kondisi kronis atau lebih parah, asam lambung dapat menyebabkan GERD. Dan sakit maag atau perasaan mulas adalah salah satu dari gejala asam lambung dan GERD.'], 'cara_Kerja': ['Penyakit asam lambung atau GERD adalah kondisi ketika asam lambung naik ke esofagus atau kerongkongan.\\nKondisi yang disebut juga sebagai penyakit refluks gastroesofagus ini dapat menimbulkan nyeri pada ulu hati, heartburn, serta berbagai gejala lainnya pada area dada bagian bawah dan perut. \\nOrang yang mengidap penyakit ini biasanya mengalami refluks asam yang ringan paling tidak dua kali seminggu, serta gangguan yang parah paling tidak sekali dalam seminggu. \\nOleh karena itu, pengidap gastroesophageal reflux disease (GERD) perlu mengetahui cara untuk meredam gejala, misalnya dengan perubahan gaya hidup dan mengonsumsi obat-obatan.\\nSalah satu penyebab penyakit asam lambung atau penyakit refluks gastroesofagus yang paling umum adalah hernia hiatus. Masalah ini terjadi ketika bagian atas perut dan sfingter bergerak di atas diafragma, yaitu otot yang memisahkan perut dari dada.'], 'definisi': ['Asam lambung adalah cairan asam yang diproduksi oleh kelenjar lambung untuk membantu dalam proses pencernaan makanan. Produksi asam lambung merupakan bagian penting dari sistem pencernaan, karena asam ini membantu dalam menguraikan makanan yang dikonsumsi, khususnya protein, sehingga nutrisi dapat diserap lebih efisien oleh tubuh. Namun, ketika produksinya berlebihan atau terjadi kebocoran dari lambung ke kerongkongan, asam lambung dapat menyebabkan berbagai masalah kesehatan yang serius.'], 'stress': ['Sangat mungkin sering merasa tertekan atau stres dapat menyebabkan asam lambung karena:\\n\\n1. Meningkatkan produksi asam lambung: Ketika kita stres, tubuh melepaskan hormon kortisol. Hormon ini dapat meningkatkan produksi asam lambung.\\n2. Melemahkan otot sfingter esofagus bawah: Otot ini berfungsi seperti katup yang mencegah asam lambung naik ke kerongkongan. Stres dapat melemahkan otot ini, sehingga asam lambung lebih mudah naik.\\n3. Mengganggu proses pencernaan: Stres dapat mengganggu sistem saraf yang mengatur pencernaan, sehingga memperlambat proses pencernaan dan meningkatkan risiko asam lambung.', 'Berbagai macam stress juga dapat menjadi pemicu seseorang mengalami GERD. Beberapa kemungkinan alasan fisik dengan kaitan hubungan stres dan penyakit asam lambung dapat terjadi, yaitu:\\n\\n1. Stres dan kecemasan mengurangi tekanan pada katup kerongkongan bawah, yaitu pita otot yang menjaga perut tetap tertutup dan mencegah asam kembali ke kerongkongan.\\n2. Respon stres dan kecemasan menyebabkan ketegangan otot yang berlangsung lama. Jika hal ini memengaruhi otot-otot di sekitar perut, dapat meningkatkan tekanan pada organ ini dan mendorong asam naik ke atas.\\n3. Tingkat stres yang tinggi meningkatkan produksi asam lambung.\\nPada orang yang memiliki tingkat stres tinggi, gejala penyakit asam lambung seperti nyeri dan mulas, akan terasa lebih parah dibanding orang yang tidak stres. Selain itu, penyakit asam lambung juga dapat menjadi sumber utama stres bagi manusia.'], 'makan tidak teratur': ['makan yang tidak teratur atau buruk dapat meningkatkan risiko asam lambung. Beberapa faktor pemicu asam lambung adalah:\\n1. Menunda Makan: Makan terlambat atau menunda makan bisa meningkatkan asam lambung berlebih. Asam lambung yang berlebihan bisa naik ke kerongkongan dan menyebabkan masalah seperti GERD.\\n2. Makan Berlebihan: Makan terlalu banyak dalam sekali waktu dapat menyebabkan lambung bekerja lebih keras, yang berisiko meningkatkan tekanan pada katup esofagus dan memicu asam lambung naik.\\n3. Kelaparan Berkepanjangan: Jika kita kelaparan, tubuh memproduksi lebih banyak asam lambung. Makan besar setelah kelaparan bisa memicu lonjakan asam lambung.\\n4. Makan Terlalu Dekat dengan Tidur: Makan dekat dengan waktu tidur bisa memicu refluks asam karena posisi tubuh yang berbaring memudahkan asam lambung kembali ke kerongkongan.\\n5. Melewatkan Makan: Melewatkan makan juga bisa meningkatkan produksi asam lambung, yang kemudian berisiko menyebabkan gangguan pencernaan.'], 'waktu_makan_terbaik': ['Waktu makan yang tepat agar tidak terkena asam lambung: \\n1. Sarapan Pagi (Pukul 06.00â€“08.00): Sarapan di pagi hari sangat penting untuk mengatur metabolisme tubuh. Pilihlah menu sarapan yang ringan dan mudah dicerna, seperti oatmeal, roti gandum, atau pisang. \\n2. Makan dengan Porsi Kecil dan Teratur: Makan lebih sering dalam porsi kecil dapat membantu mencegah penumpukan asam lambung yang berlebihan. Cobalah makan setiap 3â€“4 jam sekali. Ini membantu menjaga perut tetap terisi. \\n3. Makan Siang (Pukul 12.00â€“13.00): Makan siang dengan porsi moderat penting agar tubuh mendapat energi cukup tanpa membuat perut bekerja terlalu keras. Pilih makanan yang rendah lemak dan hindari makanan pedas atau terlalu berlemak yang bisa meningkatkan risiko asam lambung. \\n4. Makan Malam Lebih Awal (Pukul 18.00â€“19.00): Hindari makan malam terlalu larut, setidaknya 2â€“3 jam sebelum tidur. Makan malam lebih awal memberikan waktu bagi tubuh untuk mencerna makanan sebelum tidur. \\n5. Camilan Sehat di Antara Makan (Pukul 09.30â€“11.30 dan 16.00): Jika merasa lapar di antara waktu makan utama, pilih camilan sehat yang rendah lemak dan tinggi serat, seperti buah pepaya, melon, atau kacang-kacangan.', 'Waktu Makan Terbaik \\n1. Pagi Hari: Sarapan sebaiknya dilakukan antara pukul 06.00-08.00 atau sebelum pukul 09.00 pagi. Pilih menu sarapan rendah lemak, seperti sereal, oatmeal, atau pisang. Setelah sarapan, disarankan untuk camilan sehat antara pukul 09.30-11.30, seperti kentang rebus, roti gandum, atau buah pepaya. \\n2. Siang Hari: Waktu makan siang yang baik adalah pukul 12.00-13.00. Menu makan siang yang direkomendasikan mencakup nasi, ayam, ikan, daging, telur, dan sayur. Usahakan makan perlahan dengan porsi yang cukup. \\n3. Sore Hari: Pada pukul 16.00, makan camilan sehat seperti bubur kacang hijau, air kelapa, atau kacang-kacangan. \\n4. Malam Hari: Usahakan ada jeda 2-3 jam antara makan malam dan tidur. Ini memberi waktu bagi tubuh untuk mencerna makanan sebelum tidur, yang membantu mencegah asam lambung naik ke kerongkongan. \\nPola Makan yang Baik untuk Penderita Asam Lambung: \\n1. Makan dengan porsi yang cukup, hindari makan berlebihan dan makan 3 jam sebelum tidur. \\n2. Batasi konsumsi makanan yang digoreng dan pilih makanan yang direbus, dikukus, atau dipanggang. \\n3. Hindari makanan pedas, tinggi lemak, asam, atau yang mengandung gas. \\n4.Pilih makanan aman seperti pisang dan melon. \\n5. Hindari minuman beralkohol, kafein, dan bersoda.'], 'makanan_berminyak': ['Pada dasarnya penderita penyakit lambung sangat tidak disarankan untuk konsumsi makanan yang terlalu berminyak. Secara umum minyak dapat menyebabkan perlambatan pengosongan lambung. Kondisi ini tidak baik bagi penderita penyakit lambung seperti GERD (penyakit asam lambung), karena dapat menyebabkan makanan dan asam lambung kembali naik dan menyebabkan iritasi di esofagus.'], 'air_kelapa': ['Air kelapa merupakan minuman alami yang bermanfaat untuk membantu mengatasi asam lambung. Berikut adalah alasan mengapa air kelapa baik bagi penderita asam lambung:\\n\\n1. Menurunkan pH Asam Lambung\\nAir kelapa memiliki sifat alkali yang dapat menetralkan pH tubuh dan menurunkan keasaman di lambung, sehingga meredakan gejala asam lambung seperti sensasi terbakar di ulu hati (heartburn).\\n\\n2. Mengandung Elektrolit Alami\\nKandungan elektrolit seperti kalium pada air kelapa dapat menetralkan asam di lambung dan membantu menjaga keseimbangan pH tubuh.\\n\\n3. Melindungi Lambung\\nAir kelapa membantu tubuh memproduksi lendir yang berfungsi melapisi dinding lambung, sehingga melindungi lambung dari iritasi dan mengurangi produksi asam yang berlebihan.\\n\\n4. Aman untuk Pencernaan\\nSelain menenangkan lambung, air kelapa juga rendah kalori dan mudah dicerna, sehingga cocok dikonsumsi oleh penderita asam lambung tanpa risiko memperburuk gejala.\\n\\nNamun, perlu diingat bahwa setiap orang memiliki respons tubuh yang berbeda terhadap makanan dan minuman tertentu. Jika Anda merasa tidak nyaman setelah mengonsumsi air kelapa, sebaiknya konsultasikan dengan dokter.'], 'konsumsi_obat': ['Sering mengonsumsi obat-obatan tertentu dapat memicu asam lambung naik. Berikut adalah beberapa jenis obat yang diketahui dapat menyebabkan asam lambung kambuh beserta penjelasannya:\\n\\n1. Ibuprofen dan Aspirin\\nKedua obat ini termasuk dalam kategori NSAID (non-steroidal anti-inflammatory drugs) yang dapat meningkatkan produksi asam lambung dan mengiritasi lapisan lambung.\\n\\n2. Obat Osteoporosis\\nJenis bisphosphenates seperti alendronate, ibandronate, dan risedronate diketahui memicu gangguan pencernaan dan asam lambung naik.\\n\\n3. Obat Hipertensi\\nObat untuk tekanan darah tinggi seperti calcium channel blockers dan beta blockers dapat mengendurkan klep pengontrol asam lambung (sfingter esofagus bagian bawah), sehingga memudahkan asam lambung naik ke kerongkongan.\\n\\n4. Obat Penenang dan Antidepresan\\nSama seperti obat hipertensi, beberapa obat ini juga dapat melemahkan sfingter esofagus bagian bawah, memicu naiknya asam lambung.\\n\\n5. Suplemen Zat Besi dan Kalium\\nSuplemen ini terkadang dapat membuat lapisan lambung menipis, sehingga meningkatkan risiko iritasi, maag, dan asam lambung naik.\\n\\n6. Antibiotik\\nBeberapa jenis antibiotik seperti tetrasiklin dapat menyebabkan gangguan pencernaan seperti asam lambung naik, diare, dan rasa tidak nyaman di perut.\\n\\nTips Mengurangi Risiko Asam Lambung Naik Akibat Obat-obatan:\\n\\nHindari menghentikan konsumsi obat tanpa anjuran dokter. Jika mengalami efek samping, konsultasikan untuk mendapatkan alternatif obat.\\nDuduk tegak selama 20 menit setelah mengonsumsi obat untuk mencegah asam lambung naik.\\nMinum obat dengan segelas air putih untuk membantu mengurangi iritasi lambung.\\nJika Anda sedang menjalani pengobatan dan sering mengalami gejala asam lambung, sebaiknya diskusikan dengan dokter untuk solusi terbaik.', 'Banyak jenis obat memiliki efek samping yang dapat mengganggu sistem pencernaan, termasuk meningkatkan produksi asam lambung atau merusak lapisan pelindung lambung.\\n\\n1. Obat antiinflamasi nonsteroid (OAINS): Obat seperti ibuprofen, naproxen, dan aspirin sering digunakan untuk meredakan nyeri dan peradangan. Namun, obat-obatan ini dapat mengiritasi lapisan lambung dan meningkatkan produksi asam lambung.\\n\\n2. Aspirin: Aspirin dosis rendah sering digunakan untuk mencegah serangan jantung dan stroke. Namun, aspirin juga dapat meningkatkan risiko perdarahan lambung dan iritasi.\\n\\n3. Kortikosteroid: Obat ini sering digunakan untuk mengobati peradangan dan penyakit autoimun. Namun, penggunaan jangka panjang kortikosteroid dapat meningkatkan risiko osteoporosis, meningkatkan tekanan darah, dan juga dapat mengganggu produksi asam lambung.\\n\\n4. Bisfosfonat: Obat ini digunakan untuk mengobati osteoporosis. Beberapa orang yang mengonsumsi bisfosfonat mengalami gejala seperti mual, muntah, dan nyeri ulu hati.\\n\\n5. Beberapa jenis antibiotik: Beberapa antibiotik dapat mengganggu keseimbangan bakteri baik dalam saluran pencernaan, sehingga meningkatkan risiko infeksi dan peradangan.'], 'sakit_tenggorokan': ['Sakit tenggorokan ternyata tak hanya terjadi karena adanya masalah pada organ tersebut. Masalah kesehatan yang satu ini juga dapat dipicu oleh adanya asam lambung kronis, sehingga pengidap akan mengalami kesulitan dalam menelan. Sakit tenggorokan pada pengidap asam lambung sendiri disebabkan oleh asam lambung yang mengalir kembali menuju kerongkongan. \\nKemudian, cairan asam lambung yang bersifat asam tersebut menyebabkan iritasi pada dinding kerongkongan, sehingga menyebabkan nyeri saat menelan. Jika dibiarkan begitu saja, asam lambung dapat memicu terjadinya gangguan pernapasan. Beberapa hal yang dapat menyebabkan asam lambung, yaitu obesitas, stres, mengonsumsi soda, atau makanan dan minuman lain yang dapat menjadi pemicu naiknya asam lambung.'], 'bersendawa': ['Sering sendawa bisa menjadi tanda asam lambung naik, terutama jika disertai gejala lain seperti rasa asam di mulut, nyeri dada, atau perut kembung.\\nSendawa memang hal yang wajar, menjadi tidak wajar apabila terjadi berlebihan dan berulang. Apabila sendawa berlebihan terjadi secara terus menerus hingga mengganggu aktivitas sehari-hari, dan mempengaruhi kualitas hidup Anda, segeralah berkonsultasi dengan dokter spesialis penyakit dalam konsultan gastroenterologi dan hepatologi. \\n'], 'sulit_menelan': ['Asam lambung dapat menyebabkan kesulitan menelan. Kondisi ini terjadi pada penderita GERD (Gastroesophageal Reflux Disease) akibat refluks asam yang mengiritasi kerongkongan. Refluks kronis dapat menyebabkan jaringan parut, mempersempit esofagus (striktur esofagus), dan mengakibatkan kesulitan menelan. Gejalanya bisa berupa rasa ada makanan tersangkut di tenggorokan, nyeri saat menelan, atau sensasi terbakar di dada. Jika mengalami gejala ini, sebaiknya konsultasikan dengan dokter untuk pengobatan yang tepat.'], 'madu_meredakan': ['Madu dipercaya dapat mengatasi berbagai masalah pencernaan, salah satunya asam lambung, yaitu dengan membantu meringankan gejala refluks asam. Berikut beberapa manfaat madu untuk pencernaan yang perlu Anda ketahui:\\n\\n1. Berperan dalam mengurangi peradangan di kerongkongan.\\n2. Sumber antioksidan dan penangkal radikal bebas yang berisiko merusak sel-sel yang melapisi saluran pencernaan.\\n3. Tekstur madu memungkinkannya untuk melapisi selaput lendir kerongkongan dengan lebih baik, sehingga membuatnya lebih sehat dan terlindungi.'], 'diet_vegetarian': ['Diet vegetarian atau vegan dapat dilakukan oleh penderita asam lambung, tetapi perlu perhatian khusus dalam memilih makanan. Beberapa makanan vegan, seperti buah-buahan asam (jeruk, tomat), makanan pedas, atau makanan berlemak tinggi dapat memicu gejala asam lambung. Untuk itu, penderita GERD disarankan memilih sayuran dan buah yang rendah asam seperti bayam, brokoli, pir, atau melon. Makanan tinggi serat seperti biji-bijian dan kacang-kacangan juga dianjurkan, sementara lemak sehat seperti minyak zaitun dan alpukat bisa dikonsumsi dalam jumlah moderat. Selain itu, perlu dihindari makanan yang mengandung banyak asam, makanan pedas, dan minuman berkafein. Mengatur porsi makan yang lebih kecil, menghindari makan sebelum tidur, serta memilih metode memasak sehat seperti merebus atau memanggang dapat membantu mencegah gejala asam lambung.'], 'faktor_umur': ['Siapa pun dan berapa pun usianya tetap dapat mengalami penyakit asam lambung (GERD), namun beberapa di antaranya memiliki risiko lebih tinggi. Kemungkinan menderita asam lambung sendiri entah itu ringan atau parah bisa meningkat setelah usia 40 tahun.\\nSelain itu seseorang juga menjadi rentan terkena penyakit asam lambung (GERD) apabila:\\n- Memiliki berat badan berlebih atau obesitas.\\n- Sedang hamil.\\n- Sering merokok atau menghirup asap rokok.\\n- Pola makan yang buruk\\n- Kekurangan berolahraga\\n- Gangguan jaringan ikat seperti scleroderma.\\n- Hernia hiatus (tonjolan dari bagian lambung yang melewati celah diafragma dan dapat menghalangi makanan masuk ke lambung).\\n\\nPenyakit asam lambung dapat menyerang siapa saja, termasuk generasi milenial yang berusia antara 20 hingga 40 tahun. Pada usia muda ini, banyak orang cenderung lupa menjaga kesehatan, meskipun justru pada usia ini sangat penting untuk memperhatikan pola makan dan gaya hidup agar terhindar dari penyakit degeneratif seperti asam lambung, diabetes, dan hipertensi.\\nFaktor gaya hidup sangat berperan, terutama di era yang serba instan ini, di mana banyak orang, khususnya milenial, menghabiskan waktu bekerja dengan gadget atau laptop, yang membuat mereka kurang bergerak. Padahal, aktivitas fisik dan olahraga rutin sangat penting untuk mencegah gangguan kesehatan seperti asam lambung. Oleh karena itu, menjaga pola makan sehat dan gaya hidup aktif sangat disarankan untuk mencegah penyakit ini.'], 'hidup_sehat_untuk_penderita': ['Mengubah gaya hidup menjadi lebih sehat adalah kunci utama mengatasi asam lambung. Ini contoh gaya hidup sehat sehat untuk mengelola penyakit asam lambung yang kamu miliki: \\n1. Turunkan Berat Badan \\nObesitas adalah penyebab utama GERD, penyakit asam lambung kronis. Lemak perut yang berlebih dapat memberi tekanan pada perut, sehingga mendorong cairan lambung naik ke kerongkongan. Maka dari itu, kamu mungkin perlu menurunkan badan jika memiliki kelebihan berat badan. Turunkan berat badan dengan cara yang sehat seperti rutin berolahraga dan pilih makanan sehat yang rendah lemak serta rendah kalori. \\n2. Hindari Makanan Pemicu Refluks \\nBanyak sekali makanan yang mudah memicu refluks asam. Jika kamu mengidap penyakit asam lambung, sebaiknya hindari jenis makanan berikut: \\n- Makanan berlemak. \\n- Makanan pedas. \\n- Makanan asam, seperti tomat dan jeruk. \\n- Kopi atau minuman berkafein. \\n-Minuman berkarbonasi. \\nMakanan dan minuman di atas terbukti dapat memicu refluks asam. Oleh karenanya, kurangi atau hindari konsumsinya sama sekali. \\n3. Makan dalam Porsi Kecil \\nMakan dalam porsi besar sekaligus dapat dan memberi tekanan pada otot kerongkongan bagian bawah yang kemudian dapat memicu refluks asam. Maka dari itu, pastikan kamu makan dalam porsi yang secukupnya. \\n4. Jangan Berbaring setelah Makan \\nBerbaring setelah makan sering menjadi kebiasaan yang banyak orang tidak sadari. Padahal, kebiasaan yang satu ini menjadi salah satu penyebab utama naiknya asam lambung. Tunggu setidaknya tiga jam sebelum kamu berbaring setelah makan. \\n5. Berhenti Merokok \\nBeberapa penelitian menemukan bahwa nikotin dapat mengendurkan otot-otot kerongkongan bagian bawah dan juga dapat mengganggu kemampuan air liur untuk membersihkan asam dari kerongkongan. \\n6. Batasi Konsumsi Minuman Beralkohol \\nSeperti halnya merokok, alkohol dapat menyebabkan otot kerongkongan bagian bawah menjadi rileks. Kandungan dalam alkohol juga dapat menambah jumlah asam dalam perut dan mengiritasi kerongkongan. \\n7. Kenakan Pakaian Longgar \\nSepele tapi banyak orang yang tidak sadar kalau mengenakan pakaian atau ikat pinggang ketat bisa mengencangkan perut dan memicu naiknya asam lambung.'], 'asam': ['makanan asam dan pedas dapat memperburuk gejala asam lambung, \\n1. Makanan Pedas\\nMakanan pedas mengandung capsaicin, senyawa yang dapat memperlambat proses pencernaan dan menyebabkan makanan bertahan lebih lama di perut. Hal ini meningkatkan kemungkinan asam lambung naik ke kerongkongan, yang dapat menyebabkan sensasi terbakar di dada (mulas). Selain itu, capsaicin juga dapat mengiritasi lapisan lambung dan usus, memperburuk gejala sakit maag, dan menyebabkan peradangan pada saluran cerna.\\n\\nTanda-tanda jika makanan pedas memicu asam lambung:\\n\\nMulas atau sensasi terbakar di dada\\nJerawat akibat peningkatan produksi minyak pada kulit\\nDiare akibat iritasi pada usus\\nBau mulut yang tidak sedap\\nInsomnia karena mulas yang mengganggu tidur\\nSuara parau akibat iritasi tenggorokan\\n\\n2. Makanan Asam\\nMakanan asam, seperti jeruk, tomat, atau makanan yang mengandung cuka, dapat meningkatkan produksi asam lambung, yang memicu refluks asam ke kerongkongan. Ini menyebabkan iritasi pada lapisan esofagus dan memperburuk gejala sakit maag.\\n\\nCara Meredakan Gejala Asam Lambung setelah Makan Pedas atau Asam:\\nSoda kue: Larutkan satu sendok teh soda kue dalam air untuk menetralkan asam lambung.\\nJus lidah buaya: Dikenal dapat meredakan iritasi akibat refluks asam.\\nCuka sari apel: Dapat membantu menyeimbangkan pH perut dan mengurangi gejala asam lambung.\\nPisang: Mengandung antasida alami yang bisa meredakan gejala refluks asam.\\nJika kamu sering mengalami gejala asam lambung setelah mengonsumsi makanan pedas atau asam, disarankan untuk mengurangi konsumsi jenis makanan tersebut dan mencoba langkah-langkah di atas untuk meredakan gejalanya.'], 'pedas': ['Mengonsumsi makanan pedas menjadi pemicu asam lambung karena\\n1. Kandungan Capsaicin pada Cabai: Zat yang memberikan rasa pedas pada makanan dapat merangsang produksi asam lambung dan mengiritasi lapisan lambung.\\n2. Peradangan: Iritasi yang diakibatkan oleh capsaicin dapat memicu peradangan pada lapisan lambung, sehingga memperparah gejala asam lambung.\\n3. Tekanan pada sfingter esofagus bawah: Makanan pedas dapat memicu peningkatan produksi asam lambung dan meningkatkan tekanan pada sfingter esofagus bawah (katup antara kerongkongan dan lambung). Hal ini dapat menyebabkan asam lambung lebih mudah naik ke kerongkongan.'], 'cokelat': ['Cokelat dapat memicu naiknya asam lambung, terutama bagi mereka yang memiliki masalah dengan asam lambung. Hal ini disebabkan oleh beberapa faktor: \\n\\nMengendurkan LES (Lower Esophageal Sphincter) \\nCokelat mengandung zat yang disebut methylxanthine, yang dapat membuat otot LES, yaitu otot katup yang mengontrol aliran asam dari lambung ke kerongkongan, menjadi rileks. Ketika LES rileks, asam lambung dapat dengan mudah naik ke kerongkongan dan menyebabkan iritasi. \\n\\nMemperlambat Pengosongan Perut \\nCokelat juga dapat memperlambat proses pengosongan perut, yang meningkatkan kemungkinan asam lambung bergerak ke kerongkongan, memicu sensasi terbakar atau mulas. \\n\\nSelain cokelat, makanan berlemak tinggi seperti makanan yang digoreng, keju, dan bacon juga dapat memperburuk gejala asam lambung karena memperlambat pengosongan perut dan menyebabkan LES rileks. \\n\\nUntuk mencegah naiknya asam lambung, disarankan untuk mengurangi konsumsi cokelat dan makanan tinggi lemak, serta mengikuti langkah-langkah pencegahan lainnya seperti makan dalam porsi kecil, menghindari berbaring setelah makan, dan menjaga berat badan ideal.'], 'pengaruh_asam_lambung_pada_kehidupan': ['Asam lambung yang naik ke kerongkongan dapat menyebabkan iritasi dan peradangan pada saluran pencernaan bagian atas. Ini terjadi ketika sfingter esofagus bagian bawah (LES) melemah atau tidak berfungsi dengan baik, sehingga memungkinkan asam lambung naik kembali ke esofagus. \\nKondisi ini dapat mengganggu kualitas hidup, terutama jika gejala terjadi secara teratur. Faktor risiko seperti obesitas, merokok, atau konsumsi makanan tertentu dapat memperburuk kondisi ini. Pengidap GERD perlu melakukan perubahan gaya hidup, seperti menghindari makanan berat sebelum tidur dan mengonsumsi obat-obatan untuk meredakan gejalanya. Jika tidak ditangani, GERD bisa menurunkan kualitas hidup seseorang secara signifikan.'], 'menular': ['Asam lambung itu sendiri tidak menular, karena merupakan kondisi yang dipengaruhi oleh faktor internal seperti produksi asam lambung yang berlebihan atau gangguan pada otot sfingter esofagus bawah. Namun, infeksi yang dapat terjadi pada lambung, seperti infeksi Helicobacter pylori (H. pylori), bisa menular, karena bakteri ini dapat berpindah antar individu melalui kontak langsung, makanan, atau air yang terkontaminasi.'], 'genetik': ['Genetik dapat mempengaruhi risiko seseorang mengalami masalah asam lambung, seperti refluks asam atau GERD (Gastroesophageal Reflux Disease). Beberapa penelitian menunjukkan bahwa kondisi ini bisa diwariskan, terutama pada keluarga dengan riwayat masalah lambung. Studi pada anak kembar, misalnya, menunjukkan bahwa kembar identik lebih mungkin mengalami GERD jika salah satu kembarannya mengalaminya. Selain itu, ada pula bukti bahwa varian gen tertentu dapat meningkatkan risiko komplikasi serius akibat asam lambung, seperti esofagus Barrett yang dapat menyebabkan kanker esofagus. Namun, meskipun faktor genetik berperan, gaya hidup juga memiliki pengaruh besar. Dengan mengadopsi gaya hidup sehat, seperti pola makan yang tepat, menghindari makanan pemicu, dan menjaga berat badan yang sehat, risiko terkena gangguan asam lambung dapat dikurangi.'], 'kematian': ['Penyakit asam lambung atau GERD (Gastroesophageal Reflux Disease) sendiri tidak langsung menyebabkan kematian mendadak. Namun, jika tidak ditangani dengan baik, GERD dapat menyebabkan komplikasi serius yang meningkatkan risiko masalah kesehatan lainnya. Beberapa komplikasi tersebut meliputi: \\n1. Luka pada Kerongkongan: Asam lambung yang naik secara terus-menerus dapat mengikis dinding kerongkongan, menyebabkan luka yang bisa berdarah dan menyebabkan rasa sakit saat menelan. \\n2. Iritasi dan Penyempitan Kerongkongan: Asam lambung yang naik bisa menyebabkan iritasi kronis pada kerongkongan, yang lama-kelamaan dapat membentuk jaringan parut, menyempitkan kerongkongan, dan menyulitkan menelan makanan. \\n3. Kanker Esofagus: GERD yang parah dapat menyebabkan perubahan sel pada kerongkongan (esofagus Barrett), yang dapat meningkatkan risiko kanker esofagus.\\n\\nMeskipun GERD tidak menyebabkan kematian mendadak seperti penyakit jantung, komplikasi-komplikasi tersebut bisa sangat serius dan memerlukan pengobatan yang tepat untuk mencegah kerusakan lebih lanjut. '], 'mengelola_stres': ['Untuk mengelola stres dan mencegah kambuhnya asam lambung\\n1. Rutin olahraga. \\nJangan sepelekan, olahraga bisa membantu relaksasi otot dan merilis hormon yang bisa membuat perasaanmu menjadi lebih baik. \\n2. Menghindari semua pemicunya. \\nStres memang bisa membuat kamu lupa makan, atau justru makan berlebihan. Sebaiknya, hindari semua makanan pemicu asam lambung saat sedang stres, seperti cokelat, kopi, makanan pedas, asam, atau makanan berlemak. \\n3. Istirahat cukup. \\nIstirahat cukup bisa menjadi pereda stres terbaik. Pun, stres yang berkurang akan membuat kamu bisa tidur lebih nyenyak.\\n4. Lakukan teknik relaksasi. \\nKamu bisa melakukan yoga, mendengarkan musik lembut, atau berlatih pernapasan untuk mengurangi stres. \\n5. Cobalah untuk menolak apa yang tidak sesuai dengan keinginanmu. \\nJadi, kamu tidak selalu menuruti semua hal yang sebenarnya tidak cocok dengan skala prioritas atau tujuan hidupmu. Jangan membebani diri lebih dari itu, ya!\\n6. Perbanyak tertawa. \\nKamu harus tahu kalau tertawa bisa membantu mengurangi stres. Carilah kebahagiaan menurut versimu sendiri, dan stres pun akan pergi. '], 'berlemak': ['Mengonsumsi makanan berlemak dan berminyak memang dapat memicu asam lambung karena\\n1. Proses pencernaan yang lebih lama: Makanan berlemak dan berminyak membutuhkan waktu lebih lama untuk dicerna oleh tubuh. Proses pencernaan yang lambat ini dapat meningkatkan tekanan pada lambung dan mendorong asam lambung naik ke kerongkongan.\\n2. Produksi asam lambung meningkat: Makanan berlemak merangsang produksi asam lambung yang lebih banyak. Semakin banyak asam lambung yang dihasilkan, semakin besar kemungkinan asam lambung naik ke kerongkongan.\\n3. Pelemahan otot sfingter esofagus bawah: Otot ini berfungsi seperti katup yang mencegah asam lambung naik ke kerongkongan. Makanan berlemak dapat melemahkan otot ini sehingga asam lambung lebih mudah naik.\\nSelain itu, makanan berlemak dan berminyak juga seringkali tinggi kalori dan dapat menyebabkan kenaikan berat badan. Obesitas merupakan salah satu faktor risiko yang meningkatkan kemungkinan terjadinya asam lambung.'], 'air_dingin': ['Minum air dingin atau air es bisa mempengaruhi kondisi asam lambung, beberapa alasan mengapa penderita asam lambung perlu berhati-hati dalam mengonsumsi air es: \\n1. Kontraksi Otot Lambung\\nAir es yang masuk ke dalam lambung dapat menyebabkan otot-otot lambung berkontraksi lebih cepat. Hal ini dapat memicu produksi asam lambung yang lebih banyak atau membuat lambung menjadi lebih sensitif.\\n2. Menghambat Proses Pencernaan\\nTubuh perlu menyesuaikan suhu air dingin dengan suhu tubuh, yang dapat memperlambat proses pencernaan. Untuk penderita asam lambung, ini bisa menyebabkan perut terasa kembung atau tidak nyaman.\\n3. Peningkatan Risiko Refluks Asam\\nAir es dapat memperlambat pengosongan lambung, yang berarti makanan dan minuman berada lebih lama di perut. Ini meningkatkan kemungkinan asam lambung naik ke kerongkongan.'], 'pahit_di_mulut': ['Cara mengatasi pahit di mulut akibat asam lambung\\nSalah satu cara mengatasi mulut pahit adalah dengan menggosok gigi. Namun, jika mulut pahit yang terjadi disebabkan oleh naiknya asam lambung, gosok gigi tidak disarankan.\\nSebagai gantinya, beberapa cara mengatasi mulut pahit karena asam lambung yang dapat lakukan:\\n1. Memperbanyak minum air putih\\nCara mengatasi mulut pahit karena asam lambung yang pertama adalah dengan memperbanyak minum air putih. Selain untuk menghidrasi tubuh, minum lebih banyak air putih juga dapat membersihkan sisa-sisa asam lambung yang naik ke kerongkongan atau mulut.\\n2. Berkumur dengan obat kumur\\nRasa pahit di mulut yang disebabkan oleh asam lambung dapat diatasi menggunakan obat kumur bebas fluoride. Cairan ini dapat memberikan sensasi segar dan mengatasi mulut pahit karena asam lambung.\\n3. Mengunyah permen karet bebas gula\\nMengatasi mulut pahit karena asam lambung juga bisa Anda lakukan dengan mengunyah permen karet bebas gula. Dengan mengunyah permen karet bebas gula, produksi air liur akan meningkat, sehingga dapat membersihkan sisa cairan asam lambung yang naik ke mulut dan menghilangkan rasa pahit yang ditimbulkan.\\n4. Makan pisang\\nSelain mengunyah permen karet, mengonsumsi pisang juga bisa menjadi pilihan untuk mengatasi mulut pahit karena asam lambung. Alasannya, pisang memiliki kadar pH yang tinggi, atau bersifat basa, sehingga dapat menetralkan asam lambung. Dengan begitu, rasa pahit di mulut karena asam lambung pun dapat berkurang.\\n5. Mengonsumsi obat asam lambung\\nBila beberapa cara sebelumnya belum mengurangi keluhan yang Anda rasakan, cobalah konsumsi obat asam lambung untuk mengatasi mulut pahit karena asam lambung.'], 'sesak_napas': ['asam lambung yang naik, bisa menyebabkan sesak napas. Ketika asam lambung naik ke kerongkongan, hal ini dapat mengiritasi saluran napas, menyebabkan peradangan, dan membuat saluran pernapasan menyempit, yang bisa mengarah pada sesak napas. Selain itu, GERD juga berhubungan dengan asma, yang bisa memperburuk gejala pernapasan. Jadi, sesak napas yang terjadi akibat asam lambung bisa mirip dengan gejala asma, seperti batuk, mengi, atau napas pendek. Jika gejala ini sering terjadi, lebih baik berkonsultasi dengan dokter untuk pemeriksaan lebih lanjut. \\n\\ncara untuk mengatasi sesak napas akibat asam lambung:\\n1. Duduk Tegak\\nPosisi duduk yang lebih tegak dapat membantu mengurangi tekanan pada perut, sehingga mengurangi kemungkinan asam lambung naik ke kerongkongan.\\n2. Minum Air Putih Hangat\\nAir putih hangat dapat membantu menetralkan asam lambung dan mengurangi rasa tidak nyaman di dada.\\n3. Hindari Berbaring\\nJangan langsung berbaring setelah mengalami sesak napas atau setelah makan, karena posisi ini dapat mempermudah asam lambung untuk naik.\\n4. Longgarkan Pakaian\\nJika mengenakan pakaian ketat, longgarkan untuk mengurangi tekanan pada perut dan dada, yang bisa memperburuk sesak napas.\\n5. Tarik Napas Dalam\\nLakukan latihan pernapasan dalam untuk membantu menenangkan diri dan membuka saluran udara.'], 'mengatasi_rasa_perih_di_ulu_hati': ['Cara Mengatasi Nyeri Ulu Hati Hilang Timbul\\nPada kasus yang tergolong ringan seperti naiknya asam lambung, nyeri ulu hati hilang timbul bisa ditangani dengan pengobatan sederhana di rumah, di antaranya:\\n1. Kenakan pakaian yang longgar\\n2. Tidur dengan posisi kepala lebih tinggi daripada tubuh\\n3. Tidur dengan posisi miring ke kiri\\n4. Minum air rebusan jahe atau sirih\\n5. Konsumsi pisang matang\\n6. Konsumsi obat antasida untuk menetralkan asam lambung sekaligus meredakan nyeri ulu hati'], 'nasi_putih': ['Nasi putih sebenarnya aman untuk penderita asam lambung. Nasi putih cenderung rendah serat dan mengandung karbohidrat sederhana, sehingga mudah dicerna dan tidak memicu peningkatan asam lambung. Bahkan, nasi bisa memberikan energi karena kandungan karbohidratnya. Namun, penting untuk tidak mengonsumsi nasi dalam porsi besar, karena makan dalam porsi kecil tetapi sering lebih dianjurkan bagi penderita asam lambung.'], 'kentang_goreng': ['Kandungan lemak dan gas yang cukup tinggi dalam kentang goreng dapat memicu asam lambung naik dengan lebih cepat. Oleh karena itu, makanan ini sangat tidak disarankan untuk dikonsumsi ketika kalian sedang dalam kondisi asam lambung naik.'], 'rekomendasi_buah': ['Rekomendasi Buah untuk Penderita Asam Lambung\\n1. Pisang\\nPisang merupakan salah satu buah rendah asam sehingga sangat aman dikonsumsi oleh penderita asam lambung. Pisang mampu melapisi kerongkongan yang teriritasi akibat naiknya asam lambung. Buah berwarna kuning ini juga diyakini dapat membantu dalam penetralan asam lambung hingga meringankan gejala maag.\\n2. Kelapa\\nAir pada buah kelapa dikenal memiliki banyak manfaat yang baik bagi tubuh, salah satunya mengandung mineral kalium dan berbagai senyawa yang membantu kelancaran sistem pencernaan. Sehingga, buah ini cocok dikonsumsi bagi Anda yang sering mengalami gejala GERD.\\n3. Semangka\\nSemangka termasuk ke dalam kategori buah yang baik untuk asam lambung. Buah satu ini terkenal akan kandungan airnya yang cukup tinggi. Di mana hal tersebut baik untuk membantu memenuhi kebutuhan cairan tubuh sekaligus menetralkan asam lambung. Selain baik untuk asam lambung, semangka juga menjadi salah satu sumber likopen yang turut berperan dalam mencegah kerusakan sel-sel tubuh.\\n4. Alpukat\\nAlpukat merupakan salah satu buah yang dapat diolah menjadi berbagai varian makanan atau minuman seperti jus, campuran es buah, atau sebagai isian roti lapis. Beruntungnya, alpukat tergolong dalam buah rendah asam sehingga aman dikonsumsi oleh penderita GERD dan maag.\\n5. Melon\\nMelon juga merupakan buah untuk penderita asam lambung yang sangat direkomendasikan. Bukan tanpa alasan, buah melon memiliki kandungan mineral magnesium yang membuatnya bersifat basa. Sehingga, Anda tak perlu khawatir atau takut asam lambung akan naik setelah makan buah satu ini. Selain itu, rupanya melon juga mengandung kalium yang baik dikonsumsi untuk kesehatan jantung serta antioksidan yang membantu dalam pencegahan peradangan.\\n6. Pepaya\\nBagi Anda yang sedang bertarung dengan gejala asam lambung, mengonsumsi pepaya bisa menjadi solusinya. Pepaya adalah salah satu buah rekomendasi untuk asam lambung yang dapat Anda coba. Pepaya mengandung enzim papain yang bermanfaat dalam melancarkan proses pencernaan sekaligus mempermudah penguraian protein, sehingga protein lebih mudah dipecah menjadi asam amino.\\n7. Apel\\nBuah untuk penderita asam lambung selanjutnya adalah apel. Hal ini dikarenakan apel merupakan buah yang kaya akan serat sekaligus menjadi sumber kalsium, kalium dan magnesium.'], 'kanker': ['Asam lambung yang naik secara kronis (terjadi dua kali atau lebih per minggu) dapat meningkatkan risiko terkena kanker esofagus. Asam lambung yang naik bisa merusak jaringan di esofagus (kerongkongan) karena esofagus tidak memiliki lapisan pelindung seperti lambung. Kerusakan jaringan ini, dalam beberapa kasus, dapat menyebabkan kondisi yang disebut esofagus Barrett, yang meningkatkan risiko sel-sel prakanker berkembang menjadi kanker esofagus.'], 'bahaya_dari_diet': ['Diet yang tidak tepat bisa memperburuk gejala asam lambung. Namun, dengan memilih makanan yang tepat, diet bisa membantu mengendalikan gejala asam lambung. Beberapa makanan pemicu, seperti makanan tinggi lemak, produk olahan susu tinggi lemak, tomat, buah-buahan sitrus, cokelat, makanan pedas, serta minuman berkafein, sebaiknya dihindari oleh penderita asam lambung.\\nSebaliknya, makanan yang baik untuk penderita asam lambung meliputi protein rendah kolesterol seperti ikan salmon dan ayam tanpa lemak, sayuran hijau seperti brokoli dan bayam, buah-buahan yang kaya serat dan vitamin C seperti apel, pisang, dan alpukat, serta karbohidrat sehat seperti kentang dan biji-bijian.'], 'cemilan_sehat': ['Camilan untuk Penderita Asam Lambung \\nDengan pemilihan makanan yang tepat, Anda dapat menikmati camilan yang nikmat tanpa khawatir tentang refluks asam. Berikut adalah beberapa pilihan camilan sehat yang cocok untuk penderita asam lambung: \\n1. Buah \\nBuah-buahan segar merupakan pilihan camilan yang sangat baik untuk penderita asam lambung. Buah-buahan umum seperti apel, pir, dan pisang sehingga cenderung tidak memicu refluks asam. Selain itu, buah-buahan kaya akan serat, vitamin, dan antioksidan yang baik untuk kesehatan pencernaan dan secara alami membantu menetralkan asam lambung berlebihan.\\n2. Sayuran Hijau \\nSayuran berdaun hijau seperti bayam, kale, atau selada hijau adalah pilihan camilan yang rendah asam dan tinggi serat. Serat dalam sayuran hijau membantu menjaga pencernaan yang sehat dan mencegah refluks asam.\\n3. Roti Gandum \\nRoti gandum dianggap lebih aman bagi penderita asam lambung dibandingkan dengan roti putih, karena seratnya membantu menetralkan asam lambung dan mengurangi kemungkinan terjadinya refluks asam. Namun, Anda tetap harus memperhatikan topping yang ditambahkan ke roti, seperti saus tomat yang tinggi asam.\\n4. Oatmeal \\nOatmeal menjadi camilan untuk penderita asam lambung yang bisa Anda coba. Hal ini karena serat larutnya membantu mengurangi gejala refluks asam. Anda dapat mencoba menambahkan buah-buahan yang rendah asam seperti pisang atau blueberry ke dalam oatmeal untuk memperkaya rasa dan manfaatnya. \\n5. Keripik Panggang \\nJika Anda menginginkan camilan yang renyah dan gurih, keripik panggang bisa menjadi pilihan lebih sehat. Anda dapat memilih keripik panggang yang dibuat tanpa minyak berlebihan dan tanpa tambahan lemak jenuh. Opsi ini cenderung lebih rendah kalori dan lemak daripada keripik goreng dalam minyak dalam jumlah besar.\\n6. Popcorn \\nPopcorn merupakan camilan yang cukup populer dan bisa menjadi pilihan baik bagi penderita asam lambung jika diolah dengan benar. Popcorn tanpa tambahan mentega atau minyak berlebihan adalah sumber serat yang baik dan rendah kalori. Serat dalam popcorn dapat membantu menjaga pencernaan tetap lancar dan mengurangi risiko refluks asam.\\n7. Sari Kacang Hijau \\nSari kacang hijau adalah camilan untuk penderita asam lambung yang sering diabaikan, tetapi sangat sehat. Kacang hijau mengandung nutrisi penting seperti serat, protein, vitamin, dan mineral. Camilan ini rendah lemak jenuh dan tinggi serat sehingga membantu menjaga perut terasa kenyang lebih lama.\\n8. Kurma \\nKurma memiliki keistimewaan untuk memberikan rasa manis alami tanpa khawatir memicu asam lambung naik. Buah ini mengandung serat alami dan nutrisi penting, termasuk magnesium, vitamin B-Complex, dan potassium. Kandungan serat dalam kurma membantu menjaga pencernaan yang sehat dan mencegah sembelit yang sering dialami oleh penderita asam lambung. '], 'jenis_kelamin': ['Baik pria maupun wanita sama-sama bisa terkena asam lambung. Beberapa penelitian menunjukkan bahwa wanita mungkin sedikit lebih sering mengalaminya, faktor ini tidak selalu menjadi penentu utama. Hal tersebut dikarenakan:\\n1. Hormon: Perubahan hormon pada wanita, terutama selama kehamilan dan menopause, bisa mempengaruhi otot-otot pencernaan dan meningkatkan risiko asam lambung\\n2. Kehamilan: Tekanan rahim yang membesar pada ibu hamil dapat menekan lambung dan menyebabkan asam lambung naik\\n3. Obat-obatan: Beberapa jenis obat, seperti obat pereda nyeri dan obat-obatan tertentu untuk penyakit jantung, dapat memicu asam lambung pada kedua jenis kelamin\\n4. Gaya Hidup: Faktor gaya hidup seperti pola makan tidak sehat, obesitas, merokok, dan konsumsi alkohol juga dapat meningkatkan risiko asam lambung tanpa memandang jenis kelamin\\nMeskipun ada sedikit perbedaan dalam prevalensi asam lambung antara pria dan wanita, faktor gaya hidup dan kondisi medis yang mendasarinya jauh lebih penting dalam menentukan risikonya.'], 'tinggi_badan': ['Tinggi badan bukanlah faktor risiko utama untuk asam lambung. Tidak ada bukti ilmiah yang kuat yang menunjukkan bahwa tinggi badan secara langsung mempengaruhi risiko seseorang terkena asam lambung. Asam lambung lebih berkaitan dengan faktor-faktor seperti:\\n1. Gaya hidup: Pola makan tidak sehat, obesitas, merokok, dan konsumsi alkohol.\\n2. Kondisi medis: Hernia hiatal, kehamilan, dan beberapa penyakit pencernaan lainnya.\\n3. Obat-obatan: Beberapa jenis obat, terutama obat pereda nyeri dan obat-obatan untuk penyakit jantung.'], 'greeting': ['Hai, ada yang bisa saya bantu?'], 'goodbye': ['Sampai jumpa lagi'], 'thanks': ['Senang bisa membantu'], 'pychan': ['Saya adalah chatbot kesehatan, silahkan masukan pertanyaan anda mengenai asam lambung ^_~'], 'Luar konteks': [\"Maaf saya tidak mengerti\\nSaya adalah chatbot kesehatan, silahkan masukan pertanyaan anda mengenai asam lambung\\n Contoh 'saya sering bersendawa'\"]}\n"
     ]
    }
   ],
   "source": [
    "#separating tags, patterns, and responses from json into lists and dictonary\n",
    "patterns = []\n",
    "tags = []\n",
    "responses = {}\n",
    "\n",
    "for intent in dataMed['intents']:\n",
    "    for pattern in intent['patterns']:\n",
    "        patterns.append(pattern)\n",
    "        tags.append(intent['tags'])\n",
    "    responses[intent['tags']] = intent['responses']\n",
    "\n",
    "for intent in dataGreet['intents']:\n",
    "    for pattern in intent['patterns']:\n",
    "        patterns.append(pattern)\n",
    "        tags.append(intent['tag'])\n",
    "    responses[intent['tag']] = intent['responses']\n",
    "\n",
    "print(len(patterns))\n",
    "print(len(responses))\n",
    "print(len(tags))\n",
    "print(patterns[0:9])\n",
    "print(tags[0:9])\n",
    "print(responses)"
   ]
  },
  {
   "cell_type": "code",
   "execution_count": 194,
   "metadata": {},
   "outputs": [],
   "source": [
    "#steaming patterns for input data\n",
    "SteamPattterns = []\n",
    "\n",
    "for pattern in patterns:\n",
    "    stemming = stemmer.stem(pattern)\n",
    "    SteamPattterns.append(stemming)"
   ]
  },
  {
   "cell_type": "code",
   "execution_count": 195,
   "metadata": {},
   "outputs": [
    {
     "name": "stdout",
     "output_type": "stream",
     "text": [
      "405\n",
      "67\n",
      "405\n",
      "['saya rasa mual jika sedang stress', 'saya sering rasa mual telah makan', 'apa yang bisa bantu hilang mual', 'apa saran untuk reda mual akibat asam lambung', 'bagaimana cara atas rasa mual ini', 'saya rasa mual dan tidak nyaman', 'kenapa saya sering rasa mual telah makan pedas', 'mual saya tidak kunjung reda apa yang bisa laku', 'makan apa saja yang bisa buruk asam lambung']\n",
      "['mual', 'mual', 'mual', 'mual', 'mual', 'mual', 'mual', 'mual', 'makanan_pemicu']\n"
     ]
    }
   ],
   "source": [
    "print(len(SteamPattterns))\n",
    "print(len(responses))\n",
    "print(len(tags))\n",
    "print(SteamPattterns[0:9])\n",
    "print(tags[0:9])"
   ]
  },
  {
   "cell_type": "code",
   "execution_count": 196,
   "metadata": {},
   "outputs": [],
   "source": [
    "#stores response data in pickle form\n",
    "pickle.dump(responses,open('./data/responses.pkl','wb'))"
   ]
  },
  {
   "cell_type": "code",
   "execution_count": 199,
   "metadata": {},
   "outputs": [],
   "source": [
    "#function to split the dataset into training and validation, by selecting 20% for validation, and the data is stored in the form of a tensor.\n",
    "def splitDataset(inputs, labels):\n",
    "    totalData = len(inputs)\n",
    "    valSize = int(totalData * 0.2)\n",
    "    valSplit = list(range(0, valSize * 5, 5))\n",
    "    trainSplit = [i for i in range(totalData) if i not in valSplit]\n",
    "\n",
    "\n",
    "    trainTexts = [inputs[i] for i in trainSplit]\n",
    "    valTexts = [inputs[i] for i in valSplit]\n",
    "    trainLabels = [labels[i] for i in trainSplit]\n",
    "    valLabels = [labels[i] for i in valSplit]\n",
    "\n",
    "    trainDataset = tf.data.Dataset.from_tensor_slices((trainTexts, trainLabels))\n",
    "    valDataset = tf.data.Dataset.from_tensor_slices((valTexts, valLabels))\n",
    "\n",
    "    return trainDataset, valDataset"
   ]
  },
  {
   "cell_type": "code",
   "execution_count": 200,
   "metadata": {},
   "outputs": [
    {
     "name": "stdout",
     "output_type": "stream",
     "text": [
      "Total data Training 324\n",
      "\n",
      "Total data Validation 81\n",
      "\n",
      "<_TensorSliceDataset element_spec=(TensorSpec(shape=(), dtype=tf.string, name=None), TensorSpec(shape=(), dtype=tf.string, name=None))>\n",
      "<_TensorSliceDataset element_spec=(TensorSpec(shape=(), dtype=tf.string, name=None), TensorSpec(shape=(), dtype=tf.string, name=None))>\n"
     ]
    }
   ],
   "source": [
    "#calls the splitDataset function by passing the data frame parameter\n",
    "trainDataset, valDataset = splitDataset(SteamPattterns, tags)\n",
    "\n",
    "print(f\"Total data Training {trainDataset.cardinality()}\\n\")\n",
    "print(f\"Total data Validation {valDataset.cardinality()}\\n\")\n",
    "\n",
    "print(trainDataset)\n",
    "print(valDataset)"
   ]
  },
  {
   "cell_type": "code",
   "execution_count": 201,
   "metadata": {
    "colab": {
     "base_uri": "https://localhost:8080/"
    },
    "id": "u_f9K2m18rl4",
    "outputId": "efc900b9-8f68-4ce3-ac05-a132da0eb5aa"
   },
   "outputs": [
    {
     "name": "stdout",
     "output_type": "stream",
     "text": [
      "(b'saya sering rasa mual telah makan', b'mual')\n",
      "(b'apa yang bisa bantu hilang mual', b'mual')\n",
      "(b'apa saran untuk reda mual akibat asam lambung', b'mual')\n",
      "(b'bagaimana cara atas rasa mual ini', b'mual')\n",
      "(b'kenapa saya sering rasa mual telah makan pedas', b'mual')\n",
      "\n",
      "(b'saya rasa mual jika sedang stress', b'mual')\n",
      "(b'saya rasa mual dan tidak nyaman', b'mual')\n",
      "(b'apa makan yang harus saya hindar', b'makanan_pemicu')\n",
      "(b'makan yang picu asam lambung', b'makanan_pemicu')\n",
      "(b'minum apa saja yang buruk asam lambung', b'minumam_beresiko')\n"
     ]
    }
   ],
   "source": [
    "#checking the result of data split\n",
    "for data in trainDataset.take(5).as_numpy_iterator():\n",
    "    print(data)\n",
    "\n",
    "print(\"\")\n",
    "\n",
    "for data in valDataset.take(5).as_numpy_iterator():\n",
    "    print(data)"
   ]
  },
  {
   "cell_type": "code",
   "execution_count": 202,
   "metadata": {
    "colab": {
     "base_uri": "https://localhost:8080/"
    },
    "id": "WeiKkZ7O8yxa",
    "outputId": "6339a210-79e9-44a9-ba6c-891d295fa001"
   },
   "outputs": [
    {
     "name": "stdout",
     "output_type": "stream",
     "text": [
      "['ada', 'adalah', 'adanya', 'adapun', 'agak', 'agaknya', 'agar', 'akan', 'akankah', 'akhir', 'akhiri', 'akhirnya', 'aku', 'akulah', 'amat', 'amatlah', 'anda', 'andalah', 'antar', 'antara', 'antaranya', 'apa', 'apaan', 'apabila', 'apakah', 'apalagi', 'apatah', 'artinya', 'asal', 'asalkan', 'atas', 'atau', 'ataukah', 'ataupun', 'awal', 'awalnya', 'bagai', 'bagaikan', 'bagaimana', 'bagaimanakah', 'bagaimanapun', 'bagi', 'bagian', 'bahkan', 'bahwa', 'bahwasanya', 'baik', 'bakal', 'bakalan', 'balik', 'banyak', 'bapak', 'baru', 'bawah', 'beberapa', 'begini', 'beginian', 'beginikah', 'beginilah', 'begitu', 'begitukah', 'begitulah', 'begitupun', 'bekerja', 'belakang', 'belakangan', 'belum', 'belumlah', 'benar', 'benarkah', 'benarlah', 'berada', 'berakhir', 'berakhirlah', 'berakhirnya', 'berapa', 'berapakah', 'berapalah', 'berapapun', 'berarti', 'berawal', 'berbagai', 'berdatangan', 'beri', 'berikan', 'berikut', 'berikutnya', 'berjumlah', 'berkali-kali', 'berkata', 'berkehendak', 'berkeinginan', 'berkenaan', 'berlainan', 'berlalu', 'berlangsung', 'berlebihan', 'bermacam', 'bermacam-macam', 'bermaksud', 'bermula', 'bersama', 'bersama-sama', 'bersiap', 'bersiap-siap', 'bertanya', 'bertanya-tanya', 'berturut', 'berturut-turut', 'bertutur', 'berujar', 'berupa', 'besar', 'betul', 'betulkah', 'biasa', 'biasanya', 'bila', 'bilakah', 'bisa', 'bisakah', 'boleh', 'bolehkah', 'bolehlah', 'buat', 'bukan', 'bukankah', 'bukanlah', 'bukannya', 'bulan', 'bung', 'cara', 'caranya', 'cukup', 'cukupkah', 'cukuplah', 'cuma', 'dahulu', 'dalam', 'dan', 'dapat', 'dari', 'daripada', 'datang', 'dekat', 'demi', 'demikian', 'demikianlah', 'dengan', 'depan', 'di', 'dia', 'diakhiri', 'diakhirinya', 'dialah', 'diantara', 'diantaranya', 'diberi', 'diberikan', 'diberikannya', 'dibuat', 'dibuatnya', 'didapat', 'didatangkan', 'digunakan', 'diibaratkan', 'diibaratkannya', 'diingat', 'diingatkan', 'diinginkan', 'dijawab', 'dijelaskan', 'dijelaskannya', 'dikarenakan', 'dikatakan', 'dikatakannya', 'dikerjakan', 'diketahui', 'diketahuinya', 'dikira', 'dilakukan', 'dilalui', 'dilihat', 'dimaksud', 'dimaksudkan', 'dimaksudkannya', 'dimaksudnya', 'diminta', 'dimintai', 'dimisalkan', 'dimulai', 'dimulailah', 'dimulainya', 'dimungkinkan', 'dini', 'dipastikan', 'diperbuat', 'diperbuatnya', 'dipergunakan', 'diperkirakan', 'diperlihatkan', 'diperlukan', 'diperlukannya', 'dipersoalkan', 'dipertanyakan', 'dipunyai', 'diri', 'dirinya', 'disampaikan', 'disebut', 'disebutkan', 'disebutkannya', 'disini', 'disinilah', 'ditambahkan', 'ditandaskan', 'ditanya', 'ditanyai', 'ditanyakan', 'ditegaskan', 'ditujukan', 'ditunjuk', 'ditunjuki', 'ditunjukkan', 'ditunjukkannya', 'ditunjuknya', 'dituturkan', 'dituturkannya', 'diucapkan', 'diucapkannya', 'diungkapkan', 'dong', 'dua', 'dulu', 'empat', 'enggak', 'enggaknya', 'entah', 'entahlah', 'guna', 'gunakan', 'hal', 'hampir', 'hanya', 'hanyalah', 'hari', 'harus', 'haruslah', 'harusnya', 'hendak', 'hendaklah', 'hendaknya', 'hingga', 'ia', 'ialah', 'ibarat', 'ibaratkan', 'ibaratnya', 'ibu', 'ikut', 'ingat', 'ingat-ingat', 'ingin', 'inginkah', 'inginkan', 'ini', 'inikah', 'inilah', 'itu', 'itukah', 'itulah', 'jadi', 'jadilah', 'jadinya', 'jangan', 'jangankan', 'janganlah', 'jauh', 'jawab', 'jawaban', 'jawabnya', 'jelas', 'jelaskan', 'jelaslah', 'jelasnya', 'jika', 'jikalau', 'juga', 'jumlah', 'jumlahnya', 'justru', 'kala', 'kalau', 'kalaulah', 'kalaupun', 'kalian', 'kami', 'kamilah', 'kamu', 'kamulah', 'kan', 'kapan', 'kapankah', 'kapanpun', 'karena', 'karenanya', 'kasus', 'kata', 'katakan', 'katakanlah', 'katanya', 'ke', 'keadaan', 'kebetulan', 'kecil', 'kedua', 'keduanya', 'keinginan', 'kelamaan', 'kelihatan', 'kelihatannya', 'kelima', 'keluar', 'kembali', 'kemudian', 'kemungkinan', 'kemungkinannya', 'kenapa', 'kepada', 'kepadanya', 'kesampaian', 'keseluruhan', 'keseluruhannya', 'keterlaluan', 'ketika', 'khususnya', 'kini', 'kinilah', 'kira', 'kira-kira', 'kiranya', 'kita', 'kitalah', 'kok', 'kurang', 'lagi', 'lagian', 'lah', 'lain', 'lainnya', 'lalu', 'lama', 'lamanya', 'lanjut', 'lanjutnya', 'lebih', 'lewat', 'lima', 'luar', 'macam', 'maka', 'makanya', 'makin', 'malah', 'malahan', 'mampu', 'mampukah', 'mana', 'manakala', 'manalagi', 'masa', 'masalah', 'masalahnya', 'masih', 'masihkah', 'masing', 'masing-masing', 'mau', 'maupun', 'melainkan', 'melakukan', 'melalui', 'melihat', 'melihatnya', 'memang', 'memastikan', 'memberi', 'memberikan', 'membuat', 'memerlukan', 'memihak', 'meminta', 'memintakan', 'memisalkan', 'memperbuat', 'mempergunakan', 'memperkirakan', 'memperlihatkan', 'mempersiapkan', 'mempersoalkan', 'mempertanyakan', 'mempunyai', 'memulai', 'memungkinkan', 'menaiki', 'menambahkan', 'menandaskan', 'menanti', 'menanti-nanti', 'menantikan', 'menanya', 'menanyai', 'menanyakan', 'mendapat', 'mendapatkan', 'mendatang', 'mendatangi', 'mendatangkan', 'menegaskan', 'mengakhiri', 'mengapa', 'mengatakan', 'mengatakannya', 'mengenai', 'mengerjakan', 'mengetahui', 'menggunakan', 'menghendaki', 'mengibaratkan', 'mengibaratkannya', 'mengingat', 'mengingatkan', 'menginginkan', 'mengira', 'mengucapkan', 'mengucapkannya', 'mengungkapkan', 'menjadi', 'menjawab', 'menjelaskan', 'menuju', 'menunjuk', 'menunjuki', 'menunjukkan', 'menunjuknya', 'menurut', 'menuturkan', 'menyampaikan', 'menyangkut', 'menyatakan', 'menyebutkan', 'menyeluruh', 'menyiapkan', 'merasa', 'mereka', 'merekalah', 'merupakan', 'meski', 'meskipun', 'meyakini', 'meyakinkan', 'minta', 'mirip', 'misal', 'misalkan', 'misalnya', 'mula', 'mulai', 'mulailah', 'mulanya', 'mungkin', 'mungkinkah', 'nah', 'naik', 'namun', 'nanti', 'nantinya', 'nyaris', 'nyatanya', 'oleh', 'olehnya', 'pada', 'padahal', 'padanya', 'pak', 'paling', 'panjang', 'pantas', 'para', 'pasti', 'pastilah', 'penting', 'pentingnya', 'per', 'percuma', 'perlu', 'perlukah', 'perlunya', 'pernah', 'persoalan', 'pertama', 'pertama-tama', 'pertanyaan', 'pertanyakan', 'pihak', 'pihaknya', 'pukul', 'pula', 'pun', 'punya', 'rasa', 'rasanya', 'rata', 'rupanya', 'saat', 'saatnya', 'saja', 'sajalah', 'saling', 'sama', 'sama-sama', 'sambil', 'sampai', 'sampai-sampai', 'sampaikan', 'sana', 'sangat', 'sangatlah', 'satu', 'saya', 'sayalah', 'se', 'sebab', 'sebabnya', 'sebagai', 'sebagaimana', 'sebagainya', 'sebagian', 'sebaik', 'sebaik-baiknya', 'sebaiknya', 'sebaliknya', 'sebanyak', 'sebegini', 'sebegitu', 'sebelum', 'sebelumnya', 'sebenarnya', 'seberapa', 'sebesar', 'sebetulnya', 'sebisanya', 'sebuah', 'sebut', 'sebutlah', 'sebutnya', 'secara', 'secukupnya', 'sedang', 'sedangkan', 'sedemikian', 'sedikit', 'sedikitnya', 'seenaknya', 'segala', 'segalanya', 'segera', 'seharusnya', 'sehingga', 'seingat', 'sejak', 'sejauh', 'sejenak', 'sejumlah', 'sekadar', 'sekadarnya', 'sekali', 'sekali-kali', 'sekalian', 'sekaligus', 'sekalipun', 'sekarang', 'sekarang', 'sekecil', 'seketika', 'sekiranya', 'sekitar', 'sekitarnya', 'sekurang-kurangnya', 'sekurangnya', 'sela', 'selain', 'selaku', 'selalu', 'selama', 'selama-lamanya', 'selamanya', 'selanjutnya', 'seluruh', 'seluruhnya', 'semacam', 'semakin', 'semampu', 'semampunya', 'semasa', 'semasih', 'semata', 'semata-mata', 'semaunya', 'sementara', 'semisal', 'semisalnya', 'sempat', 'semua', 'semuanya', 'semula', 'sendiri', 'sendirian', 'sendirinya', 'seolah', 'seolah-olah', 'seorang', 'sepanjang', 'sepantasnya', 'sepantasnyalah', 'seperlunya', 'seperti', 'sepertinya', 'sepihak', 'sering', 'seringnya', 'serta', 'serupa', 'sesaat', 'sesama', 'sesampai', 'sesegera', 'sesekali', 'seseorang', 'sesuatu', 'sesuatunya', 'sesudah', 'sesudahnya', 'setelah', 'setempat', 'setengah', 'seterusnya', 'setiap', 'setiba', 'setibanya', 'setidak-tidaknya', 'setidaknya', 'setinggi', 'seusai', 'sewaktu', 'siap', 'siapa', 'siapakah', 'siapapun', 'sini', 'sinilah', 'soal', 'soalnya', 'suatu', 'sudah', 'sudahkah', 'sudahlah', 'supaya', 'tadi', 'tadinya', 'tahu', 'tahun', 'tak', 'tambah', 'tambahnya', 'tampak', 'tampaknya', 'tandas', 'tandasnya', 'tanpa', 'tanya', 'tanyakan', 'tanyanya', 'tapi', 'tegas', 'tegasnya', 'telah', 'tempat', 'tengah', 'tentang', 'tentu', 'tentulah', 'tentunya', 'tepat', 'terakhir', 'terasa', 'terbanyak', 'terdahulu', 'terdapat', 'terdiri', 'terhadap', 'terhadapnya', 'teringat', 'teringat-ingat', 'terjadi', 'terjadilah', 'terjadinya', 'terkira', 'terlalu', 'terlebih', 'terlihat', 'termasuk', 'ternyata', 'tersampaikan', 'tersebut', 'tersebutlah', 'tertentu', 'tertuju', 'terus', 'terutama', 'tetap', 'tetapi', 'tiap', 'tiba', 'tiba-tiba', 'tidak', 'tidakkah', 'tidaklah', 'tiga', 'tinggi', 'toh', 'tunjuk', 'turut', 'tutur', 'tuturnya', 'ucap', 'ucapnya', 'ujar', 'ujarnya', 'umum', 'umumnya', 'ungkap', 'ungkapnya', 'untuk', 'usah', 'usai', 'waduh', 'wah', 'wahai', 'waktu', 'waktunya', 'walau', 'walaupun', 'wong', 'yaitu', 'yakin', 'yakni', 'yang']\n"
     ]
    }
   ],
   "source": [
    "#inialization Stopwords \n",
    "stopWords = stopwords.words('indonesian')\n",
    "print(stopWords)"
   ]
  },
  {
   "cell_type": "code",
   "execution_count": 203,
   "metadata": {
    "id": "496qQ9qn88iM"
   },
   "outputs": [],
   "source": [
    "#standardize text to all lowercase letters, cut stopwords and symbols\n",
    "def standardizeFunc(sentence):\n",
    "    stopwords = stopWords\n",
    "    \n",
    "    sentence = tf.strings.lower(sentence)\n",
    "\n",
    "    for word in stopwords:\n",
    "        if word[0] == \"'\":\n",
    "            sentence = tf.strings.regex_replace(sentence, rf\"{word}\\b\", \"\")\n",
    "        else:\n",
    "            sentence = tf.strings.regex_replace(sentence, rf\"\\b{word}\\b\", \"\")\n",
    "    sentence = tf.strings.regex_replace(sentence, r'[!\"#$%&()\\*\\+,-\\./:;<=>?@\\[\\\\\\]^_`{|}~\\']', \"\")\n",
    "\n",
    "    return sentence"
   ]
  },
  {
   "cell_type": "code",
   "execution_count": 204,
   "metadata": {},
   "outputs": [],
   "source": [
    "with open('./data/standardizeFunc.pkl', 'wb') as file:\n",
    "    pickle.dump(standardizeFunc, file)"
   ]
  },
  {
   "cell_type": "code",
   "execution_count": 205,
   "metadata": {
    "id": "dwmNSmLj9CNw"
   },
   "outputs": [],
   "source": [
    "#create a vectorizer function for the text that will be input to the model\n",
    "maxLeght = 30\n",
    "def fitVectorizer(trainSentences, standardizeFunc):\n",
    "  vectorizer = tf.keras.layers.TextVectorization(\n",
    "    standardize=standardizeFunc,\n",
    "    output_sequence_length=maxLeght\n",
    "  )\n",
    "\n",
    "  vectorizer.adapt(trainSentences)\n",
    "  return vectorizer"
   ]
  },
  {
   "cell_type": "code",
   "execution_count": 206,
   "metadata": {
    "colab": {
     "base_uri": "https://localhost:8080/"
    },
    "id": "p_gFkqd29HB1",
    "outputId": "6c4fde5a-4c24-46af-f1ef-d930081b303c"
   },
   "outputs": [
    {
     "name": "stdout",
     "output_type": "stream",
     "text": [
      "Vocabulary contains 204 words\n",
      "\n"
     ]
    }
   ],
   "source": [
    "#create a vertoriser by providing question data to the train for adapt.\n",
    "textDataset = trainDataset.map(lambda text, label: text)\n",
    "vectorizer = fitVectorizer(textDataset, standardizeFunc)\n",
    "vocabSize = vectorizer.vocabulary_size()\n",
    "\n",
    "print(f\"Vocabulary contains {vocabSize} words\\n\")"
   ]
  },
  {
   "cell_type": "code",
   "execution_count": 207,
   "metadata": {},
   "outputs": [
    {
     "name": "stdout",
     "output_type": "stream",
     "text": [
      "Vocabulary: ['', '[UNK]', 'asam', 'lambung', 'makan', 'derita', 'pengaruh', 'buruk', 'minum', 'sakit', 'risiko', 'laku', 'akibat', 'gejala', 'stres', 'air', 'tingkat', 'obat', 'bantu', 'picu', 'hubung', 'bahaya', 'orang', 'kena', 'hidup', 'diet', 'tular', 'pahit', 'mulut', 'hadap', 'genetik', 'aman', 'alami', 'sehat', 'reda', 'parah', 'kanker', 'kambuh', 'dampak', 'turun', 'tanda', 'sesak', 'napas', 'mual', 'kopi', 'hindar', 'gerd', 'dada', 'cegah', 'alkohol', 'ulu', 'tidur', 'soda', 'serius', 'sembuh', 'rokok', 'perut', 'pedas', 'panas', 'lemak', 'kondisi', 'kembung', 'hati', 'vegetarian', 'tua', 'sendawa', 'putih', 'olahraga', 'nasi', 'konsumsi', 'komplikasi', 'kerongkongan', 'kentang', 'kelapa', 'hilang', 'goreng', 'faktor', 'es', 'efek', 'dingin', 'buah', 'baring', 'badan', 'tubuh', 'tenggorok', 'tel', 'sulit', 'saran', 'refluks', 'pola', 'perih', 'nyeri', 'madu', 'maag', 'kelola', 'gaya', 'cokelat', 'cerna', 'berat', 'beda', 'aktivitas', 'wanita', 'usia', 'umur', 'tips', 'solusi', 'selamat', 'ringan', 'rentan', 'rekomendasi', 'pria', 'obesitas', 'nggak', 'mulas', 'mudah', 'minyak', 'milik', 'manfaat', 'kualitas', 'karbonasi', 'jenis', 'jalan', 'halo', 'ganggu', 'fisik', 'fatal', 'cuka', 'camil', 'bikin', 'atur', 'asa', 'waris', 'ukur', 'tomat', 'tinggal', 'timbul', 'terimakasih', 'telat', 'tawar', 'tangan', 'suara', 'serak', 'sepenuh', 'sensitif', 'rupa', 'pylori', 'pychan', 'proses', 'produksi', 'pisang', 'pilih', 'permanen', 'peran', 'pantang', 'olah', 'muncul', 'muda', 'mendiagnosa', 'medis', 'mati', 'maksud', 'main', 'layan', 'langsung', 'langkah', 'lambat', 'kunjung', 'kritis', 'kontribusi', 'keren', 'keras', 'kendali', 'keluarga', 'kelamin', 'kadar', 'jangka', 'jam', 'idap', 'henti', 'hebat', 'hai', 'h', 'goodbye', 'genetika', 'gen', 'fungsi', 'esofagus', 'erti', 'efektif', 'darurat', 'dadak', 'ciri', 'cenderung', 'cemilan', 'capai', 'cabai', 'butuh', 'biar', 'bakteri', 'bagus', 'apel', 'anggap', 'anak', '23']\n",
      "Vocabulary size: 204\n"
     ]
    }
   ],
   "source": [
    "#view vocabulary results from the vectorizer\n",
    "vocabulary = vectorizer.get_vocabulary()\n",
    "print(\"Vocabulary:\", vocabulary)\n",
    "print(\"Vocabulary size:\", len(vocabulary))\n"
   ]
  },
  {
   "cell_type": "code",
   "execution_count": 208,
   "metadata": {},
   "outputs": [],
   "source": [
    "#retrieves the text data used for the vectorizer, and saves it in the form of a pickle.\n",
    "textData = []\n",
    "\n",
    "for text, label in trainDataset:\n",
    "    textData.append(text.numpy())\n",
    "\n",
    "with open('./data/dataset.pkl', 'wb') as file:\n",
    "    pickle.dump((textData), file)"
   ]
  },
  {
   "cell_type": "code",
   "execution_count": 209,
   "metadata": {
    "id": "5aP1mQyf9OWE"
   },
   "outputs": [],
   "source": [
    "#create a function to convert the label to encode\n",
    "def fitLabelEncoder(trainLabel, valLabel):\n",
    "    trainLabel = list(trainLabel.as_numpy_iterator())\n",
    "    valLabel = list(valLabel.as_numpy_iterator())\n",
    "    labels = trainLabel + valLabel\n",
    "\n",
    "    labelEncoder = tf.keras.layers.StringLookup(num_oov_indices=0)\n",
    "    labelEncoder.adapt(labels)\n",
    "\n",
    "    return labelEncoder"
   ]
  },
  {
   "cell_type": "code",
   "execution_count": 210,
   "metadata": {
    "colab": {
     "base_uri": "https://localhost:8080/"
    },
    "id": "4xd5fMz69PZL",
    "outputId": "ab20c231-ff36-48f2-b0e4-551065b026b9"
   },
   "outputs": [
    {
     "name": "stdout",
     "output_type": "stream",
     "text": [
      "Unique labels: ['pahit_di_mulut', 'menular', 'mengelola_stres', 'genetik', 'air_dingin', 'soda', 'mengobati', 'makanan_pemicu', 'faktor_umur', 'bahaya', 'tidur_dan_berbaring_setelah_makan', 'sesak_napas', 'pengaruh_asam_lambung_pada_kehidupan', 'mual', 'minumam_beresiko', 'kopi', 'kematian', 'gejala', 'alkohol', 'rekomendasi_buah', 'perut_kembung', 'penyakit_turunan', 'panas_di_dada', 'olahraga', 'merokok', 'kanker', 'waktu_makan_terbaik', 'thanks', 'sembuh', 'pola_hidup_pengaruh_asam_lambung', 'penyebab', 'pedas', 'makanan_penunjang', 'makan tidak teratur', 'definisi', 'berat_badan', 'bahaya_dari_diet', 'nasi_putih', 'menghindari', 'kentang_goreng', 'kambuh', 'diagnosa', 'cemilan_sehat', 'bersendawa', 'asam', 'tinggi_badan', 'tanda_parah', 'sulit_menelan', 'stress', 'sakit_tenggorokan', 'pychan', 'mengatasi_rasa_perih_di_ulu_hati', 'makanan_berminyak', 'madu_meredakan', 'maag', 'konsumsi_obat', 'kondisi_kritis', 'jenis_kelamin', 'hidup_sehat_untuk_penderita', 'greeting', 'diet_vegetarian', 'cokelat', 'cara_Kerja', 'berlemak', 'air_kelapa', 'goodbye']\n",
      "Num of unique labels: 66\n"
     ]
    }
   ],
   "source": [
    "#retrieves labels from training and validation data to be adapted to the labelEncoder function.\n",
    "trainLabels = trainDataset.map(lambda text, label: label)\n",
    "valLabels = valDataset.map(lambda text, label: label)\n",
    "\n",
    "labelEncoder = fitLabelEncoder(trainLabels,valLabels)\n",
    "uniqLabel = len(labelEncoder.get_vocabulary())\n",
    "\n",
    "print(f'Unique labels: {labelEncoder.get_vocabulary()}')\n",
    "print(f'Num of unique labels: {uniqLabel}')"
   ]
  },
  {
   "cell_type": "code",
   "execution_count": 211,
   "metadata": {},
   "outputs": [],
   "source": [
    "#saves the vocabulary label result into a pickle\n",
    "vocab = labelEncoder.get_vocabulary()\n",
    "with open('./data/labelVocab.pkl', 'wb') as file:\n",
    "    pickle.dump(vocab, file)"
   ]
  },
  {
   "cell_type": "code",
   "execution_count": 212,
   "metadata": {
    "id": "kvsZcsA09lRE"
   },
   "outputs": [],
   "source": [
    "#mapping the functions of the vectorizer for text, and the encoder for labels, and making a batch of\n",
    "def preprocessDataset(dataset, textVectorizer, labelEncoder):\n",
    "    dataset = dataset.map(lambda text, label: (textVectorizer(text), labelEncoder(label)))\n",
    "    dataset = dataset.batch(8)\n",
    "\n",
    "    return dataset"
   ]
  },
  {
   "cell_type": "code",
   "execution_count": 213,
   "metadata": {
    "colab": {
     "base_uri": "https://localhost:8080/"
    },
    "id": "j1-v-fIB9uGd",
    "outputId": "d4d9be24-eaca-4c03-8eb5-52b35c6ae550"
   },
   "outputs": [
    {
     "name": "stdout",
     "output_type": "stream",
     "text": [
      "Total train Batch: 41\n",
      "Total validation Batch: 11\n",
      "Shape train batch: (8, 30)\n",
      "Shape validation batch: (8, 30)\n"
     ]
    }
   ],
   "source": [
    "#apply preprocessing functions to training and validation data\n",
    "trainProcDataset = preprocessDataset(trainDataset, vectorizer, labelEncoder)\n",
    "valProcDataset = preprocessDataset(valDataset, vectorizer, labelEncoder)\n",
    "\n",
    "print(f\"Total train Batch: {trainProcDataset.cardinality()}\")\n",
    "print(f\"Total validation Batch: {valProcDataset.cardinality()}\")\n",
    "\n",
    "trainBatch = next(trainProcDataset.as_numpy_iterator())\n",
    "valBatch = next(valProcDataset.as_numpy_iterator())\n",
    "\n",
    "print(f\"Shape train batch: {trainBatch[0].shape}\")\n",
    "print(f\"Shape validation batch: {valBatch[0].shape}\")"
   ]
  },
  {
   "cell_type": "code",
   "execution_count": 214,
   "metadata": {
    "colab": {
     "base_uri": "https://localhost:8080/"
    },
    "id": "EWVNZUXw9yTk",
    "outputId": "e21d355c-33bd-4545-d28b-4ee2e48fe092"
   },
   "outputs": [
    {
     "name": "stdout",
     "output_type": "stream",
     "text": [
      "Sample text: [[ 43   4   0   0   0   0   0   0   0   0   0   0   0   0   0   0   0   0\n",
      "    0   0   0   0   0   0   0   0   0   0   0   0]\n",
      " [ 18  74  43   0   0   0   0   0   0   0   0   0   0   0   0   0   0   0\n",
      "    0   0   0   0   0   0   0   0   0   0   0   0]\n",
      " [ 87  34  43  12   2   3   0   0   0   0   0   0   0   0   0   0   0   0\n",
      "    0   0   0   0   0   0   0   0   0   0   0   0]\n",
      " [ 43   0   0   0   0   0   0   0   0   0   0   0   0   0   0   0   0   0\n",
      "    0   0   0   0   0   0   0   0   0   0   0   0]\n",
      " [ 43   4  57   0   0   0   0   0   0   0   0   0   0   0   0   0   0   0\n",
      "    0   0   0   0   0   0   0   0   0   0   0   0]\n",
      " [ 43 166  34  11   0   0   0   0   0   0   0   0   0   0   0   0   0   0\n",
      "    0   0   0   0   0   0   0   0   0   0   0   0]\n",
      " [  4   7   2   3   0   0   0   0   0   0   0   0   0   0   0   0   0   0\n",
      "    0   0   0   0   0   0   0   0   0   0   0   0]\n",
      " [  4  19   2   3   0   0   0   0   0   0   0   0   0   0   0   0   0   0\n",
      "    0   0   0   0   0   0   0   0   0   0   0   0]]\n",
      "Sample label: [13 13 13 13 13 13  7  7]\n",
      "Sample text: [[  4   2   3   0   0   0   0   0   0   0   0   0   0   0   0   0   0   0\n",
      "    0   0   0   0   0   0   0   0   0   0   0   0]\n",
      " [  4  35  60   2   3   0   0   0   0   0   0   0   0   0   0   0   0   0\n",
      "    0   0   0   0   0   0   0   0   0   0   0   0]\n",
      " [  4   4   5   2   3   0   0   0   0   0   0   0   0   0   0   0   0   0\n",
      "    0   0   0   0   0   0   0   0   0   0   0   0]\n",
      " [153   4   5   2   3   0   0   0   0   0   0   0   0   0   0   0   0   0\n",
      "    0   0   0   0   0   0   0   0   0   0   0   0]\n",
      " [  4  16  10   2   3   0   0   0   0   0   0   0   0   0   0   0   0   0\n",
      "    0   0   0   0   0   0   0   0   0   0   0   0]\n",
      " [  8   2   3   0   0   0   0   0   0   0   0   0   0   0   0   0   0   0\n",
      "    0   0   0   0   0   0   0   0   0   0   0   0]\n",
      " [  8  19   2   3   0   0   0   0   0   0   0   0   0   0   0   0   0   0\n",
      "    0   0   0   0   0   0   0   0   0   0   0   0]\n",
      " [  8  45   2   3   0   0   0   0   0   0   0   0   0   0   0   0   0   0\n",
      "    0   0   0   0   0   0   0   0   0   0   0   0]]\n",
      "Sample label: [ 7  7  7  7  7 14 14 14]\n",
      "Sample text: [[120   8  35   2   3   0   0   0   0   0   0   0   0   0   0   0   0   0\n",
      "    0   0   0   0   0   0   0   0   0   0   0   0]\n",
      " [  8   2   3   0   0   0   0   0   0   0   0   0   0   0   0   0   0   0\n",
      "    0   0   0   0   0   0   0   0   0   0   0   0]\n",
      " [  8  19   2   3   0   0   0   0   0   0   0   0   0   0   0   0   0   0\n",
      "    0   0   0   0   0   0   0   0   0   0   0   0]\n",
      " [  8  16  10   2   3   0   0   0   0   0   0   0   0   0   0   0   0   0\n",
      "    0   0   0   0   0   0   0   0   0   0   0   0]\n",
      " [ 55  21   2   3   0   0   0   0   0   0   0   0   0   0   0   0   0   0\n",
      "    0   0   0   0   0   0   0   0   0   0   0   0]\n",
      " [ 55   2   3   0   0   0   0   0   0   0   0   0   0   0   0   0   0   0\n",
      "    0   0   0   0   0   0   0   0   0   0   0   0]\n",
      " [ 55   6   2   3   0   0   0   0   0   0   0   0   0   0   0   0   0   0\n",
      "    0   0   0   0   0   0   0   0   0   0   0   0]\n",
      " [ 55  35   2   3   0   0   0   0   0   0   0   0   0   0   0   0   0   0\n",
      "    0   0   0   0   0   0   0   0   0   0   0   0]]\n",
      "Sample label: [14 14 14 14 24 24 24 24]\n",
      "Sample text: [[55 16 10  2  3  0  0  0  0  0  0  0  0  0  0  0  0  0  0  0  0  0  0  0\n",
      "   0  0  0  0  0  0]\n",
      " [13  2  3  0  0  0  0  0  0  0  0  0  0  0  0  0  0  0  0  0  0  0  0  0\n",
      "   0  0  0  0  0  0]\n",
      " [22 23  2  3  0  0  0  0  0  0  0  0  0  0  0  0  0  0  0  0  0  0  0  0\n",
      "   0  0  0  0  0  0]\n",
      " [13 32  5  2  3  0  0  0  0  0  0  0  0  0  0  0  0  0  0  0  0  0  0  0\n",
      "   0  0  0  0  0  0]\n",
      " [13  2  3  0  0  0  0  0  0  0  0  0  0  0  0  0  0  0  0  0  0  0  0  0\n",
      "   0  0  0  0  0  0]\n",
      " [40 83  2  3  0  0  0  0  0  0  0  0  0  0  0  0  0  0  0  0  0  0  0  0\n",
      "   0  0  0  0  0  0]\n",
      " [40 40  2  3 35  0  0  0  0  0  0  0  0  0  0  0  0  0  0  0  0  0  0  0\n",
      "   0  0  0  0  0  0]\n",
      " [13  2  3  0  0  0  0  0  0  0  0  0  0  0  0  0  0  0  0  0  0  0  0  0\n",
      "   0  0  0  0  0  0]]\n",
      "Sample label: [24 17 17 17 17 17 17 17]\n",
      "Sample text: [[ 23   2   3   0   0   0   0   0   0   0   0   0   0   0   0   0   0   0\n",
      "    0   0   0   0   0   0   0   0   0   0   0   0]\n",
      " [157   2   3   0   0   0   0   0   0   0   0   0   0   0   0   0   0   0\n",
      "    0   0   0   0   0   0   0   0   0   0   0   0]\n",
      " [ 32  46   0   0   0   0   0   0   0   0   0   0   0   0   0   0   0   0\n",
      "    0   0   0   0   0   0   0   0   0   0   0   0]\n",
      " [114 177   2   3   0   0   0   0   0   0   0   0   0   0   0   0   0   0\n",
      "    0   0   0   0   0   0   0   0   0   0   0   0]\n",
      " [  2   3  37  11   0   0   0   0   0   0   0   0   0   0   0   0   0   0\n",
      "    0   0   0   0   0   0   0   0   0   0   0   0]\n",
      " [ 11   2   3  37 190   0   0   0   0   0   0   0   0   0   0   0   0   0\n",
      "    0   0   0   0   0   0   0   0   0   0   0   0]\n",
      " [ 34   2   3  37   0   0   0   0   0   0   0   0   0   0   0   0   0   0\n",
      "    0   0   0   0   0   0   0   0   0   0   0   0]\n",
      " [ 11   2   3  37   0   0   0   0   0   0   0   0   0   0   0   0   0   0\n",
      "    0   0   0   0   0   0   0   0   0   0   0   0]]\n",
      "Sample label: [41 41 41 41 40 40 40 40]\n",
      "\n",
      "Sample text: [[43  1  0  0  0  0  0  0  0  0  0  0  0  0  0  0  0  0  0  0  0  0  0  0\n",
      "   0  0  0  0  0  0]\n",
      " [43  1  0  0  0  0  0  0  0  0  0  0  0  0  0  0  0  0  0  0  0  0  0  0\n",
      "   0  0  0  0  0  0]\n",
      " [ 4 45  0  0  0  0  0  0  0  0  0  0  0  0  0  0  0  0  0  0  0  0  0  0\n",
      "   0  0  0  0  0  0]\n",
      " [ 4 19  2  3  0  0  0  0  0  0  0  0  0  0  0  0  0  0  0  0  0  0  0  0\n",
      "   0  0  0  0  0  0]\n",
      " [ 8  7  2  3  0  0  0  0  0  0  0  0  0  0  0  0  0  0  0  0  0  0  0  0\n",
      "   0  0  0  0  0  0]\n",
      " [55  0  0  0  0  0  0  0  0  0  0  0  0  0  0  0  0  0  0  0  0  0  0  0\n",
      "   0  0  0  0  0  0]\n",
      " [55 20  2  3  0  0  0  0  0  0  0  0  0  0  0  0  0  0  0  0  0  0  0  0\n",
      "   0  0  0  0  0  0]\n",
      " [ 2  3  0  0  0  0  0  0  0  0  0  0  0  0  0  0  0  0  0  0  0  0  0  0\n",
      "   0  0  0  0  0  0]]\n",
      "Sample label: [13 13  7  7 14 24 24 17]\n",
      "Sample text: [[23  2  3  0  0  0  0  0  0  0  0  0  0  0  0  0  0  0  0  0  0  0  0  0\n",
      "   0  0  0  0  0  0]\n",
      " [ 2  3 37  0  0  0  0  0  0  0  0  0  0  0  0  0  0  0  0  0  0  0  0  0\n",
      "   0  0  0  0  0  0]\n",
      " [56 61  0  0  0  0  0  0  0  0  0  0  0  0  0  0  0  0  0  0  0  0  0  0\n",
      "   0  0  0  0  0  0]\n",
      " [56 61  4  0  0  0  0  0  0  0  0  0  0  0  0  0  0  0  0  0  0  0  0  0\n",
      "   0  0  0  0  0  0]\n",
      " [51  4 10  2  3  0  0  0  0  0  0  0  0  0  0  0  0  0  0  0  0  0  0  0\n",
      "   0  0  0  0  0  0]\n",
      " [58 47  4 81  0  0  0  0  0  0  0  0  0  0  0  0  0  0  0  0  0  0  0  0\n",
      "   0  0  0  0  0  0]\n",
      " [58 47  4  2  3  0  0  0  0  0  0  0  0  0  0  0  0  0  0  0  0  0  0  0\n",
      "   0  0  0  0  0  0]\n",
      " [ 6 49 29  2  3  0  0  0  0  0  0  0  0  0  0  0  0  0  0  0  0  0  0  0\n",
      "   0  0  0  0  0  0]]\n",
      "Sample label: [41 40 20 20 10 22 22 18]\n",
      "Sample text: [[  8  44   2   3   0   0   0   0   0   0   0   0   0   0   0   0   0   0\n",
      "    0   0   0   0   0   0   0   0   0   0   0   0]\n",
      " [ 44  16 148   2   3   0   0   0   0   0   0   0   0   0   0   0   0   0\n",
      "    0   0   0   0   0   0   0   0   0   0   0   0]\n",
      " [ 52   6   2   3   0   0   0   0   0   0   0   0   0   0   0   0   0   0\n",
      "    0   0   0   0   0   0   0   0   0   0   0   0]\n",
      " [  8  52   5   2   3   0   0   0   0   0   0   0   0   0   0   0   0   0\n",
      "    0   0   0   0   0   0   0   0   0   0   0   0]\n",
      " [  6  98  82  29   2   3   0   0   0   0   0   0   0   0   0   0   0   0\n",
      "    0   0   0   0   0   0   0   0   0   0   0   0]\n",
      " [ 78   7   2   3   0   0   0   0   0   0   0   0   0   0   0   0   0   0\n",
      "    0   0   0   0   0   0   0   0   0   0   0   0]\n",
      " [ 12 175   2   3   0   0   0   0   0   0   0   0   0   0   0   0   0   0\n",
      "    0   0   0   0   0   0   0   0   0   0   0   0]\n",
      " [ 11  17   2   3   0   0   0   0   0   0   0   0   0   0   0   0   0   0\n",
      "    0   0   0   0   0   0   0   0   0   0   0   0]]\n",
      "Sample label: [15 15  5  5 35  9  9  6]\n",
      "Sample text: [[164   1  32   2   3   0   0   0   0   0   0   0   0   0   0   0   0   0\n",
      "    0   0   0   0   0   0   0   0   0   0   0   0]\n",
      " [164  45   2   3   0   0   0   0   0   0   0   0   0   0   0   0   0   0\n",
      "    0   0   0   0   0   0   0   0   0   0   0   0]\n",
      " [  2   3 131 172   0   0   0   0   0   0   0   0   0   0   0   0   0   0\n",
      "    0   0   0   0   0   0   0   0   0   0   0   0]\n",
      " [ 76   2   3   0   0   0   0   0   0   0   0   0   0   0   0   0   0   0\n",
      "    0   0   0   0   0   0   0   0   0   0   0   0]\n",
      " [  4  87   5   2   3   0   0   0   0   0   0   0   0   0   0   0   0   0\n",
      "    0   0   0   0   0   0   0   0   0   0   0   0]\n",
      " [  9   2   3  54   1   0   0   0   0   0   0   0   0   0   0   0   0   0\n",
      "    0   0   0   0   0   0   0   0   0   0   0   0]\n",
      " [ 22  54  46   2   3   0   0   0   0   0   0   0   0   0   0   0   0   0\n",
      "    0   0   0   0   0   0   0   0   0   0   0   0]\n",
      " [ 89  24   6   2   3   0   0   0   0   0   0   0   0   0   0   0   0   0\n",
      "    0   0   0   0   0   0   0   0   0   0   0   0]]\n",
      "Sample label: [ 6 38 21 30 32 28 28 29]\n",
      "Sample text: [[ 38  21   9   2   3 139   0   0   0   0   0   0   0   0   0   0   0   0\n",
      "    0   0   0   0   0   0   0   0   0   0   0   0]\n",
      " [  1  67  16  10   2   3   0   0   0   0   0   0   0   0   0   0   0   0\n",
      "    0   0   0   0   0   0   0   0   0   0   0   0]\n",
      " [  1  67  13   2   3   0   0   0   0   0   0   0   0   0   0   0   0   0\n",
      "    0   0   0   0   0   0   0   0   0   0   0   0]\n",
      " [  2   3   9  93   0   0   0   0   0   0   0   0   0   0   0   0   0   0\n",
      "    0   0   0   0   0   0   0   0   0   0   0   0]\n",
      " [  2   3   0   0   0   0   0   0   0   0   0   0   0   0   0   0   0   0\n",
      "    0   0   0   0   0   0   0   0   0   0   0   0]\n",
      " [ 23   2   3 152  97   0   0   0   0   0   0   0   0   0   0   0   0   0\n",
      "    0   0   0   0   0   0   0   0   0   0   0   0]\n",
      " [ 20  89   4   2   3   0   0   0   0   0   0   0   0   0   0   0   0   0\n",
      "    0   0   0   0   0   0   0   0   0   0   0   0]\n",
      " [ 20   1   2   3   0   0   0   0   0   0   0   0   0   0   0   0   0   0\n",
      "    0   0   0   0   0   0   0   0   0   0   0   0]]\n",
      "Sample label: [56 23 23 54 34 34 33 33]\n"
     ]
    }
   ],
   "source": [
    "#view results of preprocessing\n",
    "for text, label in trainProcDataset.take(5):\n",
    "    print(\"Sample text:\", text.numpy())\n",
    "    print(\"Sample label:\", label.numpy())\n",
    "\n",
    "print(\"\")\n",
    "\n",
    "for text, label in valProcDataset.take(5):\n",
    "    print(\"Sample text:\", text.numpy())\n",
    "    print(\"Sample label:\", label.numpy())"
   ]
  },
  {
   "cell_type": "code",
   "execution_count": 215,
   "metadata": {
    "id": "6AmMPNGg93U_"
   },
   "outputs": [],
   "source": [
    "#designing the model structure\n",
    "def createModel():\n",
    "    inputLayer = tf.keras.Input(shape=(None,))\n",
    "\n",
    "    embedLayer = tf.keras.layers.Embedding(input_dim=vectorizer.vocabulary_size(), output_dim=64)(inputLayer)\n",
    "    bilLSTM1 = tf.keras.layers.Bidirectional(tf.keras.layers.LSTM(32, return_sequences=False))(embedLayer)\n",
    "    dense1 = tf.keras.layers.Dense(32, activation='relu')(bilLSTM1)\n",
    "    dropout1 = tf.keras.layers.Dropout(0.5)(dense1)\n",
    "    outputLayer = tf.keras.layers.Dense(len(labelEncoder.get_vocabulary()), activation='softmax')(dropout1)\n",
    "    \n",
    "    model = Model(inputs=inputLayer, outputs=outputLayer)\n",
    "\n",
    "    model.compile(\n",
    "        loss='sparse_categorical_crossentropy',\n",
    "        optimizer=tf.keras.optimizers.Adam(learning_rate=0.001),\n",
    "        metrics=['accuracy']\n",
    "    )\n",
    "\n",
    "    return model"
   ]
  },
  {
   "cell_type": "code",
   "execution_count": 216,
   "metadata": {},
   "outputs": [
    {
     "data": {
      "text/html": [
       "<pre style=\"white-space:pre;overflow-x:auto;line-height:normal;font-family:Menlo,'DejaVu Sans Mono',consolas,'Courier New',monospace\"><span style=\"font-weight: bold\">Model: \"functional_9\"</span>\n",
       "</pre>\n"
      ],
      "text/plain": [
       "\u001b[1mModel: \"functional_9\"\u001b[0m\n"
      ]
     },
     "metadata": {},
     "output_type": "display_data"
    },
    {
     "data": {
      "text/html": [
       "<pre style=\"white-space:pre;overflow-x:auto;line-height:normal;font-family:Menlo,'DejaVu Sans Mono',consolas,'Courier New',monospace\">┏━━━━━━━━━━━━━━━━━━━━━━━━━━━━━━━━━┳━━━━━━━━━━━━━━━━━━━━━━━━┳━━━━━━━━━━━━━━━┓\n",
       "┃<span style=\"font-weight: bold\"> Layer (type)                    </span>┃<span style=\"font-weight: bold\"> Output Shape           </span>┃<span style=\"font-weight: bold\">       Param # </span>┃\n",
       "┡━━━━━━━━━━━━━━━━━━━━━━━━━━━━━━━━━╇━━━━━━━━━━━━━━━━━━━━━━━━╇━━━━━━━━━━━━━━━┩\n",
       "│ input_layer_9 (<span style=\"color: #0087ff; text-decoration-color: #0087ff\">InputLayer</span>)      │ (<span style=\"color: #00d7ff; text-decoration-color: #00d7ff\">None</span>, <span style=\"color: #00d7ff; text-decoration-color: #00d7ff\">None</span>)           │             <span style=\"color: #00af00; text-decoration-color: #00af00\">0</span> │\n",
       "├─────────────────────────────────┼────────────────────────┼───────────────┤\n",
       "│ embedding_9 (<span style=\"color: #0087ff; text-decoration-color: #0087ff\">Embedding</span>)         │ (<span style=\"color: #00d7ff; text-decoration-color: #00d7ff\">None</span>, <span style=\"color: #00d7ff; text-decoration-color: #00d7ff\">None</span>, <span style=\"color: #00af00; text-decoration-color: #00af00\">64</span>)       │        <span style=\"color: #00af00; text-decoration-color: #00af00\">13,056</span> │\n",
       "├─────────────────────────────────┼────────────────────────┼───────────────┤\n",
       "│ bidirectional_9 (<span style=\"color: #0087ff; text-decoration-color: #0087ff\">Bidirectional</span>) │ (<span style=\"color: #00d7ff; text-decoration-color: #00d7ff\">None</span>, <span style=\"color: #00af00; text-decoration-color: #00af00\">64</span>)             │        <span style=\"color: #00af00; text-decoration-color: #00af00\">24,832</span> │\n",
       "├─────────────────────────────────┼────────────────────────┼───────────────┤\n",
       "│ dense_18 (<span style=\"color: #0087ff; text-decoration-color: #0087ff\">Dense</span>)                │ (<span style=\"color: #00d7ff; text-decoration-color: #00d7ff\">None</span>, <span style=\"color: #00af00; text-decoration-color: #00af00\">32</span>)             │         <span style=\"color: #00af00; text-decoration-color: #00af00\">2,080</span> │\n",
       "├─────────────────────────────────┼────────────────────────┼───────────────┤\n",
       "│ dropout_9 (<span style=\"color: #0087ff; text-decoration-color: #0087ff\">Dropout</span>)             │ (<span style=\"color: #00d7ff; text-decoration-color: #00d7ff\">None</span>, <span style=\"color: #00af00; text-decoration-color: #00af00\">32</span>)             │             <span style=\"color: #00af00; text-decoration-color: #00af00\">0</span> │\n",
       "├─────────────────────────────────┼────────────────────────┼───────────────┤\n",
       "│ dense_19 (<span style=\"color: #0087ff; text-decoration-color: #0087ff\">Dense</span>)                │ (<span style=\"color: #00d7ff; text-decoration-color: #00d7ff\">None</span>, <span style=\"color: #00af00; text-decoration-color: #00af00\">66</span>)             │         <span style=\"color: #00af00; text-decoration-color: #00af00\">2,178</span> │\n",
       "└─────────────────────────────────┴────────────────────────┴───────────────┘\n",
       "</pre>\n"
      ],
      "text/plain": [
       "┏━━━━━━━━━━━━━━━━━━━━━━━━━━━━━━━━━┳━━━━━━━━━━━━━━━━━━━━━━━━┳━━━━━━━━━━━━━━━┓\n",
       "┃\u001b[1m \u001b[0m\u001b[1mLayer (type)                   \u001b[0m\u001b[1m \u001b[0m┃\u001b[1m \u001b[0m\u001b[1mOutput Shape          \u001b[0m\u001b[1m \u001b[0m┃\u001b[1m \u001b[0m\u001b[1m      Param #\u001b[0m\u001b[1m \u001b[0m┃\n",
       "┡━━━━━━━━━━━━━━━━━━━━━━━━━━━━━━━━━╇━━━━━━━━━━━━━━━━━━━━━━━━╇━━━━━━━━━━━━━━━┩\n",
       "│ input_layer_9 (\u001b[38;5;33mInputLayer\u001b[0m)      │ (\u001b[38;5;45mNone\u001b[0m, \u001b[38;5;45mNone\u001b[0m)           │             \u001b[38;5;34m0\u001b[0m │\n",
       "├─────────────────────────────────┼────────────────────────┼───────────────┤\n",
       "│ embedding_9 (\u001b[38;5;33mEmbedding\u001b[0m)         │ (\u001b[38;5;45mNone\u001b[0m, \u001b[38;5;45mNone\u001b[0m, \u001b[38;5;34m64\u001b[0m)       │        \u001b[38;5;34m13,056\u001b[0m │\n",
       "├─────────────────────────────────┼────────────────────────┼───────────────┤\n",
       "│ bidirectional_9 (\u001b[38;5;33mBidirectional\u001b[0m) │ (\u001b[38;5;45mNone\u001b[0m, \u001b[38;5;34m64\u001b[0m)             │        \u001b[38;5;34m24,832\u001b[0m │\n",
       "├─────────────────────────────────┼────────────────────────┼───────────────┤\n",
       "│ dense_18 (\u001b[38;5;33mDense\u001b[0m)                │ (\u001b[38;5;45mNone\u001b[0m, \u001b[38;5;34m32\u001b[0m)             │         \u001b[38;5;34m2,080\u001b[0m │\n",
       "├─────────────────────────────────┼────────────────────────┼───────────────┤\n",
       "│ dropout_9 (\u001b[38;5;33mDropout\u001b[0m)             │ (\u001b[38;5;45mNone\u001b[0m, \u001b[38;5;34m32\u001b[0m)             │             \u001b[38;5;34m0\u001b[0m │\n",
       "├─────────────────────────────────┼────────────────────────┼───────────────┤\n",
       "│ dense_19 (\u001b[38;5;33mDense\u001b[0m)                │ (\u001b[38;5;45mNone\u001b[0m, \u001b[38;5;34m66\u001b[0m)             │         \u001b[38;5;34m2,178\u001b[0m │\n",
       "└─────────────────────────────────┴────────────────────────┴───────────────┘\n"
      ]
     },
     "metadata": {},
     "output_type": "display_data"
    },
    {
     "data": {
      "text/html": [
       "<pre style=\"white-space:pre;overflow-x:auto;line-height:normal;font-family:Menlo,'DejaVu Sans Mono',consolas,'Courier New',monospace\"><span style=\"font-weight: bold\"> Total params: </span><span style=\"color: #00af00; text-decoration-color: #00af00\">42,146</span> (164.63 KB)\n",
       "</pre>\n"
      ],
      "text/plain": [
       "\u001b[1m Total params: \u001b[0m\u001b[38;5;34m42,146\u001b[0m (164.63 KB)\n"
      ]
     },
     "metadata": {},
     "output_type": "display_data"
    },
    {
     "data": {
      "text/html": [
       "<pre style=\"white-space:pre;overflow-x:auto;line-height:normal;font-family:Menlo,'DejaVu Sans Mono',consolas,'Courier New',monospace\"><span style=\"font-weight: bold\"> Trainable params: </span><span style=\"color: #00af00; text-decoration-color: #00af00\">42,146</span> (164.63 KB)\n",
       "</pre>\n"
      ],
      "text/plain": [
       "\u001b[1m Trainable params: \u001b[0m\u001b[38;5;34m42,146\u001b[0m (164.63 KB)\n"
      ]
     },
     "metadata": {},
     "output_type": "display_data"
    },
    {
     "data": {
      "text/html": [
       "<pre style=\"white-space:pre;overflow-x:auto;line-height:normal;font-family:Menlo,'DejaVu Sans Mono',consolas,'Courier New',monospace\"><span style=\"font-weight: bold\"> Non-trainable params: </span><span style=\"color: #00af00; text-decoration-color: #00af00\">0</span> (0.00 B)\n",
       "</pre>\n"
      ],
      "text/plain": [
       "\u001b[1m Non-trainable params: \u001b[0m\u001b[38;5;34m0\u001b[0m (0.00 B)\n"
      ]
     },
     "metadata": {},
     "output_type": "display_data"
    }
   ],
   "source": [
    "#create and display models\n",
    "modelPhychan = createModel()\n",
    "modelPhychan.summary()"
   ]
  },
  {
   "cell_type": "code",
   "execution_count": 217,
   "metadata": {},
   "outputs": [],
   "source": [
    "#make a Callback\n",
    "class myCallback(tf.keras.callbacks.Callback):\n",
    "    def on_epoch_end(self, epoch, logs=None):\n",
    "        train_acc = logs.get('accuracy')\n",
    "        val_acc = logs.get('val_accuracy')\n",
    "\n",
    "        if train_acc >= 0.75 and val_acc >= 0.7:\n",
    "            self.model.stop_training = True"
   ]
  },
  {
   "cell_type": "code",
   "execution_count": 218,
   "metadata": {
    "colab": {
     "base_uri": "https://localhost:8080/"
    },
    "id": "PWpnPSR2-Oew",
    "outputId": "761861b3-542b-46ce-c788-761b6054c004"
   },
   "outputs": [
    {
     "name": "stdout",
     "output_type": "stream",
     "text": [
      "Epoch 1/100\n"
     ]
    },
    {
     "name": "stdout",
     "output_type": "stream",
     "text": [
      "\u001b[1m41/41\u001b[0m \u001b[32m━━━━━━━━━━━━━━━━━━━━\u001b[0m\u001b[37m\u001b[0m \u001b[1m10s\u001b[0m 70ms/step - accuracy: 0.0200 - loss: 4.1945 - val_accuracy: 0.0247 - val_loss: 4.1840\n",
      "Epoch 2/100\n",
      "\u001b[1m41/41\u001b[0m \u001b[32m━━━━━━━━━━━━━━━━━━━━\u001b[0m\u001b[37m\u001b[0m \u001b[1m3s\u001b[0m 54ms/step - accuracy: 0.0126 - loss: 4.1813 - val_accuracy: 0.0617 - val_loss: 4.1810\n",
      "Epoch 3/100\n",
      "\u001b[1m41/41\u001b[0m \u001b[32m━━━━━━━━━━━━━━━━━━━━\u001b[0m\u001b[37m\u001b[0m \u001b[1m3s\u001b[0m 54ms/step - accuracy: 0.0547 - loss: 4.1666 - val_accuracy: 0.0247 - val_loss: 4.1755\n",
      "Epoch 4/100\n",
      "\u001b[1m41/41\u001b[0m \u001b[32m━━━━━━━━━━━━━━━━━━━━\u001b[0m\u001b[37m\u001b[0m \u001b[1m3s\u001b[0m 56ms/step - accuracy: 0.0505 - loss: 4.1577 - val_accuracy: 0.0494 - val_loss: 4.1592\n",
      "Epoch 5/100\n",
      "\u001b[1m41/41\u001b[0m \u001b[32m━━━━━━━━━━━━━━━━━━━━\u001b[0m\u001b[37m\u001b[0m \u001b[1m3s\u001b[0m 53ms/step - accuracy: 0.0368 - loss: 4.1433 - val_accuracy: 0.0617 - val_loss: 4.1290\n",
      "Epoch 6/100\n",
      "\u001b[1m41/41\u001b[0m \u001b[32m━━━━━━━━━━━━━━━━━━━━\u001b[0m\u001b[37m\u001b[0m \u001b[1m3s\u001b[0m 57ms/step - accuracy: 0.0871 - loss: 4.0967 - val_accuracy: 0.0617 - val_loss: 4.0537\n",
      "Epoch 7/100\n",
      "\u001b[1m41/41\u001b[0m \u001b[32m━━━━━━━━━━━━━━━━━━━━\u001b[0m\u001b[37m\u001b[0m \u001b[1m3s\u001b[0m 60ms/step - accuracy: 0.0784 - loss: 3.9951 - val_accuracy: 0.0864 - val_loss: 3.9281\n",
      "Epoch 8/100\n",
      "\u001b[1m41/41\u001b[0m \u001b[32m━━━━━━━━━━━━━━━━━━━━\u001b[0m\u001b[37m\u001b[0m \u001b[1m3s\u001b[0m 64ms/step - accuracy: 0.0298 - loss: 3.8768 - val_accuracy: 0.0988 - val_loss: 3.8096\n",
      "Epoch 9/100\n",
      "\u001b[1m41/41\u001b[0m \u001b[32m━━━━━━━━━━━━━━━━━━━━\u001b[0m\u001b[37m\u001b[0m \u001b[1m3s\u001b[0m 64ms/step - accuracy: 0.0585 - loss: 3.6819 - val_accuracy: 0.1111 - val_loss: 3.6309\n",
      "Epoch 10/100\n",
      "\u001b[1m41/41\u001b[0m \u001b[32m━━━━━━━━━━━━━━━━━━━━\u001b[0m\u001b[37m\u001b[0m \u001b[1m3s\u001b[0m 57ms/step - accuracy: 0.1157 - loss: 3.5178 - val_accuracy: 0.1481 - val_loss: 3.5236\n",
      "Epoch 11/100\n",
      "\u001b[1m41/41\u001b[0m \u001b[32m━━━━━━━━━━━━━━━━━━━━\u001b[0m\u001b[37m\u001b[0m \u001b[1m3s\u001b[0m 53ms/step - accuracy: 0.1137 - loss: 3.3542 - val_accuracy: 0.1975 - val_loss: 3.3946\n",
      "Epoch 12/100\n",
      "\u001b[1m41/41\u001b[0m \u001b[32m━━━━━━━━━━━━━━━━━━━━\u001b[0m\u001b[37m\u001b[0m \u001b[1m3s\u001b[0m 53ms/step - accuracy: 0.1504 - loss: 3.2750 - val_accuracy: 0.2222 - val_loss: 3.3130\n",
      "Epoch 13/100\n",
      "\u001b[1m41/41\u001b[0m \u001b[32m━━━━━━━━━━━━━━━━━━━━\u001b[0m\u001b[37m\u001b[0m \u001b[1m3s\u001b[0m 57ms/step - accuracy: 0.1468 - loss: 3.1166 - val_accuracy: 0.2840 - val_loss: 3.1519\n",
      "Epoch 14/100\n",
      "\u001b[1m41/41\u001b[0m \u001b[32m━━━━━━━━━━━━━━━━━━━━\u001b[0m\u001b[37m\u001b[0m \u001b[1m3s\u001b[0m 54ms/step - accuracy: 0.1970 - loss: 2.9904 - val_accuracy: 0.2840 - val_loss: 3.0213\n",
      "Epoch 15/100\n",
      "\u001b[1m41/41\u001b[0m \u001b[32m━━━━━━━━━━━━━━━━━━━━\u001b[0m\u001b[37m\u001b[0m \u001b[1m3s\u001b[0m 54ms/step - accuracy: 0.1954 - loss: 2.9410 - val_accuracy: 0.3210 - val_loss: 2.8939\n",
      "Epoch 16/100\n",
      "\u001b[1m41/41\u001b[0m \u001b[32m━━━━━━━━━━━━━━━━━━━━\u001b[0m\u001b[37m\u001b[0m \u001b[1m3s\u001b[0m 54ms/step - accuracy: 0.2483 - loss: 2.7436 - val_accuracy: 0.3580 - val_loss: 2.8124\n",
      "Epoch 17/100\n",
      "\u001b[1m41/41\u001b[0m \u001b[32m━━━━━━━━━━━━━━━━━━━━\u001b[0m\u001b[37m\u001b[0m \u001b[1m3s\u001b[0m 54ms/step - accuracy: 0.2220 - loss: 2.7197 - val_accuracy: 0.3210 - val_loss: 2.8420\n",
      "Epoch 18/100\n",
      "\u001b[1m41/41\u001b[0m \u001b[32m━━━━━━━━━━━━━━━━━━━━\u001b[0m\u001b[37m\u001b[0m \u001b[1m3s\u001b[0m 52ms/step - accuracy: 0.2653 - loss: 2.5983 - val_accuracy: 0.3951 - val_loss: 2.6123\n",
      "Epoch 19/100\n",
      "\u001b[1m41/41\u001b[0m \u001b[32m━━━━━━━━━━━━━━━━━━━━\u001b[0m\u001b[37m\u001b[0m \u001b[1m3s\u001b[0m 58ms/step - accuracy: 0.3596 - loss: 2.3003 - val_accuracy: 0.4321 - val_loss: 2.4331\n",
      "Epoch 20/100\n",
      "\u001b[1m41/41\u001b[0m \u001b[32m━━━━━━━━━━━━━━━━━━━━\u001b[0m\u001b[37m\u001b[0m \u001b[1m3s\u001b[0m 54ms/step - accuracy: 0.3382 - loss: 2.3764 - val_accuracy: 0.4815 - val_loss: 2.3541\n",
      "Epoch 21/100\n",
      "\u001b[1m41/41\u001b[0m \u001b[32m━━━━━━━━━━━━━━━━━━━━\u001b[0m\u001b[37m\u001b[0m \u001b[1m3s\u001b[0m 55ms/step - accuracy: 0.3474 - loss: 2.3028 - val_accuracy: 0.5062 - val_loss: 2.2114\n",
      "Epoch 22/100\n",
      "\u001b[1m41/41\u001b[0m \u001b[32m━━━━━━━━━━━━━━━━━━━━\u001b[0m\u001b[37m\u001b[0m \u001b[1m3s\u001b[0m 56ms/step - accuracy: 0.3485 - loss: 2.1745 - val_accuracy: 0.5309 - val_loss: 2.1686\n",
      "Epoch 23/100\n",
      "\u001b[1m41/41\u001b[0m \u001b[32m━━━━━━━━━━━━━━━━━━━━\u001b[0m\u001b[37m\u001b[0m \u001b[1m3s\u001b[0m 54ms/step - accuracy: 0.4523 - loss: 1.9182 - val_accuracy: 0.5432 - val_loss: 2.0897\n",
      "Epoch 24/100\n",
      "\u001b[1m41/41\u001b[0m \u001b[32m━━━━━━━━━━━━━━━━━━━━\u001b[0m\u001b[37m\u001b[0m \u001b[1m3s\u001b[0m 57ms/step - accuracy: 0.3781 - loss: 2.1066 - val_accuracy: 0.5556 - val_loss: 1.9991\n",
      "Epoch 25/100\n",
      "\u001b[1m41/41\u001b[0m \u001b[32m━━━━━━━━━━━━━━━━━━━━\u001b[0m\u001b[37m\u001b[0m \u001b[1m3s\u001b[0m 56ms/step - accuracy: 0.4634 - loss: 1.8364 - val_accuracy: 0.6049 - val_loss: 1.9665\n",
      "Epoch 26/100\n",
      "\u001b[1m41/41\u001b[0m \u001b[32m━━━━━━━━━━━━━━━━━━━━\u001b[0m\u001b[37m\u001b[0m \u001b[1m3s\u001b[0m 54ms/step - accuracy: 0.4386 - loss: 1.8912 - val_accuracy: 0.5556 - val_loss: 1.8899\n",
      "Epoch 27/100\n",
      "\u001b[1m41/41\u001b[0m \u001b[32m━━━━━━━━━━━━━━━━━━━━\u001b[0m\u001b[37m\u001b[0m \u001b[1m3s\u001b[0m 57ms/step - accuracy: 0.4896 - loss: 1.6961 - val_accuracy: 0.5679 - val_loss: 1.8846\n",
      "Epoch 28/100\n",
      "\u001b[1m41/41\u001b[0m \u001b[32m━━━━━━━━━━━━━━━━━━━━\u001b[0m\u001b[37m\u001b[0m \u001b[1m3s\u001b[0m 57ms/step - accuracy: 0.4249 - loss: 1.7899 - val_accuracy: 0.6049 - val_loss: 1.8283\n",
      "Epoch 29/100\n",
      "\u001b[1m41/41\u001b[0m \u001b[32m━━━━━━━━━━━━━━━━━━━━\u001b[0m\u001b[37m\u001b[0m \u001b[1m3s\u001b[0m 56ms/step - accuracy: 0.4766 - loss: 1.7103 - val_accuracy: 0.5926 - val_loss: 1.7569\n",
      "Epoch 30/100\n",
      "\u001b[1m41/41\u001b[0m \u001b[32m━━━━━━━━━━━━━━━━━━━━\u001b[0m\u001b[37m\u001b[0m \u001b[1m3s\u001b[0m 56ms/step - accuracy: 0.5623 - loss: 1.5788 - val_accuracy: 0.5926 - val_loss: 1.7334\n",
      "Epoch 31/100\n",
      "\u001b[1m41/41\u001b[0m \u001b[32m━━━━━━━━━━━━━━━━━━━━\u001b[0m\u001b[37m\u001b[0m \u001b[1m3s\u001b[0m 58ms/step - accuracy: 0.5278 - loss: 1.5964 - val_accuracy: 0.6173 - val_loss: 1.6648\n",
      "Epoch 32/100\n",
      "\u001b[1m41/41\u001b[0m \u001b[32m━━━━━━━━━━━━━━━━━━━━\u001b[0m\u001b[37m\u001b[0m \u001b[1m3s\u001b[0m 54ms/step - accuracy: 0.5214 - loss: 1.5312 - val_accuracy: 0.5679 - val_loss: 1.7102\n",
      "Epoch 33/100\n",
      "\u001b[1m41/41\u001b[0m \u001b[32m━━━━━━━━━━━━━━━━━━━━\u001b[0m\u001b[37m\u001b[0m \u001b[1m3s\u001b[0m 54ms/step - accuracy: 0.5822 - loss: 1.4534 - val_accuracy: 0.6173 - val_loss: 1.5852\n",
      "Epoch 34/100\n",
      "\u001b[1m41/41\u001b[0m \u001b[32m━━━━━━━━━━━━━━━━━━━━\u001b[0m\u001b[37m\u001b[0m \u001b[1m3s\u001b[0m 67ms/step - accuracy: 0.5092 - loss: 1.5615 - val_accuracy: 0.5802 - val_loss: 1.5864\n",
      "Epoch 35/100\n",
      "\u001b[1m41/41\u001b[0m \u001b[32m━━━━━━━━━━━━━━━━━━━━\u001b[0m\u001b[37m\u001b[0m \u001b[1m3s\u001b[0m 56ms/step - accuracy: 0.5999 - loss: 1.4520 - val_accuracy: 0.5679 - val_loss: 1.5719\n",
      "Epoch 36/100\n",
      "\u001b[1m41/41\u001b[0m \u001b[32m━━━━━━━━━━━━━━━━━━━━\u001b[0m\u001b[37m\u001b[0m \u001b[1m3s\u001b[0m 56ms/step - accuracy: 0.6173 - loss: 1.3721 - val_accuracy: 0.5802 - val_loss: 1.5811\n",
      "Epoch 37/100\n",
      "\u001b[1m41/41\u001b[0m \u001b[32m━━━━━━━━━━━━━━━━━━━━\u001b[0m\u001b[37m\u001b[0m \u001b[1m3s\u001b[0m 55ms/step - accuracy: 0.5712 - loss: 1.3982 - val_accuracy: 0.6296 - val_loss: 1.5152\n",
      "Epoch 38/100\n",
      "\u001b[1m41/41\u001b[0m \u001b[32m━━━━━━━━━━━━━━━━━━━━\u001b[0m\u001b[37m\u001b[0m \u001b[1m3s\u001b[0m 63ms/step - accuracy: 0.6579 - loss: 1.1693 - val_accuracy: 0.6296 - val_loss: 1.4902\n",
      "Epoch 39/100\n",
      "\u001b[1m41/41\u001b[0m \u001b[32m━━━━━━━━━━━━━━━━━━━━\u001b[0m\u001b[37m\u001b[0m \u001b[1m3s\u001b[0m 55ms/step - accuracy: 0.6106 - loss: 1.2981 - val_accuracy: 0.6049 - val_loss: 1.4505\n",
      "Epoch 40/100\n",
      "\u001b[1m41/41\u001b[0m \u001b[32m━━━━━━━━━━━━━━━━━━━━\u001b[0m\u001b[37m\u001b[0m \u001b[1m3s\u001b[0m 54ms/step - accuracy: 0.5950 - loss: 1.2947 - val_accuracy: 0.6173 - val_loss: 1.4479\n",
      "Epoch 41/100\n",
      "\u001b[1m41/41\u001b[0m \u001b[32m━━━━━━━━━━━━━━━━━━━━\u001b[0m\u001b[37m\u001b[0m \u001b[1m3s\u001b[0m 55ms/step - accuracy: 0.6318 - loss: 1.2494 - val_accuracy: 0.6049 - val_loss: 1.4609\n",
      "Epoch 42/100\n",
      "\u001b[1m41/41\u001b[0m \u001b[32m━━━━━━━━━━━━━━━━━━━━\u001b[0m\u001b[37m\u001b[0m \u001b[1m3s\u001b[0m 55ms/step - accuracy: 0.6585 - loss: 1.1307 - val_accuracy: 0.6296 - val_loss: 1.4342\n",
      "Epoch 43/100\n",
      "\u001b[1m41/41\u001b[0m \u001b[32m━━━━━━━━━━━━━━━━━━━━\u001b[0m\u001b[37m\u001b[0m \u001b[1m3s\u001b[0m 54ms/step - accuracy: 0.6935 - loss: 1.0617 - val_accuracy: 0.6173 - val_loss: 1.4430\n",
      "Epoch 44/100\n",
      "\u001b[1m41/41\u001b[0m \u001b[32m━━━━━━━━━━━━━━━━━━━━\u001b[0m\u001b[37m\u001b[0m \u001b[1m3s\u001b[0m 54ms/step - accuracy: 0.6326 - loss: 1.2071 - val_accuracy: 0.6296 - val_loss: 1.4953\n",
      "Epoch 45/100\n",
      "\u001b[1m41/41\u001b[0m \u001b[32m━━━━━━━━━━━━━━━━━━━━\u001b[0m\u001b[37m\u001b[0m \u001b[1m3s\u001b[0m 55ms/step - accuracy: 0.5960 - loss: 1.2325 - val_accuracy: 0.6049 - val_loss: 1.4481\n",
      "Epoch 46/100\n",
      "\u001b[1m41/41\u001b[0m \u001b[32m━━━━━━━━━━━━━━━━━━━━\u001b[0m\u001b[37m\u001b[0m \u001b[1m3s\u001b[0m 55ms/step - accuracy: 0.7107 - loss: 1.0020 - val_accuracy: 0.6173 - val_loss: 1.4499\n",
      "Epoch 47/100\n",
      "\u001b[1m41/41\u001b[0m \u001b[32m━━━━━━━━━━━━━━━━━━━━\u001b[0m\u001b[37m\u001b[0m \u001b[1m3s\u001b[0m 54ms/step - accuracy: 0.6782 - loss: 1.0496 - val_accuracy: 0.6173 - val_loss: 1.4034\n",
      "Epoch 48/100\n",
      "\u001b[1m41/41\u001b[0m \u001b[32m━━━━━━━━━━━━━━━━━━━━\u001b[0m\u001b[37m\u001b[0m \u001b[1m3s\u001b[0m 54ms/step - accuracy: 0.7120 - loss: 0.9627 - val_accuracy: 0.6420 - val_loss: 1.3667\n",
      "Epoch 49/100\n",
      "\u001b[1m41/41\u001b[0m \u001b[32m━━━━━━━━━━━━━━━━━━━━\u001b[0m\u001b[37m\u001b[0m \u001b[1m3s\u001b[0m 55ms/step - accuracy: 0.6579 - loss: 1.1318 - val_accuracy: 0.6173 - val_loss: 1.4234\n",
      "Epoch 50/100\n",
      "\u001b[1m41/41\u001b[0m \u001b[32m━━━━━━━━━━━━━━━━━━━━\u001b[0m\u001b[37m\u001b[0m \u001b[1m3s\u001b[0m 55ms/step - accuracy: 0.6600 - loss: 1.0166 - val_accuracy: 0.6420 - val_loss: 1.4046\n",
      "Epoch 51/100\n",
      "\u001b[1m41/41\u001b[0m \u001b[32m━━━━━━━━━━━━━━━━━━━━\u001b[0m\u001b[37m\u001b[0m \u001b[1m3s\u001b[0m 54ms/step - accuracy: 0.6642 - loss: 1.0707 - val_accuracy: 0.6296 - val_loss: 1.4547\n",
      "Epoch 52/100\n",
      "\u001b[1m41/41\u001b[0m \u001b[32m━━━━━━━━━━━━━━━━━━━━\u001b[0m\u001b[37m\u001b[0m \u001b[1m3s\u001b[0m 55ms/step - accuracy: 0.7411 - loss: 0.9438 - val_accuracy: 0.6049 - val_loss: 1.4175\n",
      "Epoch 53/100\n",
      "\u001b[1m41/41\u001b[0m \u001b[32m━━━━━━━━━━━━━━━━━━━━\u001b[0m\u001b[37m\u001b[0m \u001b[1m3s\u001b[0m 56ms/step - accuracy: 0.7263 - loss: 0.9465 - val_accuracy: 0.6049 - val_loss: 1.3897\n",
      "Epoch 54/100\n",
      "\u001b[1m41/41\u001b[0m \u001b[32m━━━━━━━━━━━━━━━━━━━━\u001b[0m\u001b[37m\u001b[0m \u001b[1m3s\u001b[0m 57ms/step - accuracy: 0.7068 - loss: 0.9014 - val_accuracy: 0.6049 - val_loss: 1.4531\n",
      "Epoch 55/100\n",
      "\u001b[1m41/41\u001b[0m \u001b[32m━━━━━━━━━━━━━━━━━━━━\u001b[0m\u001b[37m\u001b[0m \u001b[1m3s\u001b[0m 57ms/step - accuracy: 0.6999 - loss: 0.9332 - val_accuracy: 0.6420 - val_loss: 1.3681\n",
      "Epoch 56/100\n",
      "\u001b[1m41/41\u001b[0m \u001b[32m━━━━━━━━━━━━━━━━━━━━\u001b[0m\u001b[37m\u001b[0m \u001b[1m3s\u001b[0m 56ms/step - accuracy: 0.7313 - loss: 0.8977 - val_accuracy: 0.6049 - val_loss: 1.4266\n",
      "Epoch 57/100\n",
      "\u001b[1m41/41\u001b[0m \u001b[32m━━━━━━━━━━━━━━━━━━━━\u001b[0m\u001b[37m\u001b[0m \u001b[1m3s\u001b[0m 53ms/step - accuracy: 0.7370 - loss: 0.8678 - val_accuracy: 0.6420 - val_loss: 1.4348\n",
      "Epoch 58/100\n",
      "\u001b[1m41/41\u001b[0m \u001b[32m━━━━━━━━━━━━━━━━━━━━\u001b[0m\u001b[37m\u001b[0m \u001b[1m3s\u001b[0m 56ms/step - accuracy: 0.6850 - loss: 0.8201 - val_accuracy: 0.6296 - val_loss: 1.3791\n",
      "Epoch 59/100\n",
      "\u001b[1m41/41\u001b[0m \u001b[32m━━━━━━━━━━━━━━━━━━━━\u001b[0m\u001b[37m\u001b[0m \u001b[1m3s\u001b[0m 56ms/step - accuracy: 0.7453 - loss: 0.8287 - val_accuracy: 0.6543 - val_loss: 1.3748\n",
      "Epoch 60/100\n",
      "\u001b[1m41/41\u001b[0m \u001b[32m━━━━━━━━━━━━━━━━━━━━\u001b[0m\u001b[37m\u001b[0m \u001b[1m3s\u001b[0m 61ms/step - accuracy: 0.7445 - loss: 0.8394 - val_accuracy: 0.6296 - val_loss: 1.3892\n",
      "Epoch 61/100\n",
      "\u001b[1m41/41\u001b[0m \u001b[32m━━━━━━━━━━━━━━━━━━━━\u001b[0m\u001b[37m\u001b[0m \u001b[1m3s\u001b[0m 55ms/step - accuracy: 0.7108 - loss: 0.8930 - val_accuracy: 0.6420 - val_loss: 1.3934\n",
      "Epoch 62/100\n",
      "\u001b[1m41/41\u001b[0m \u001b[32m━━━━━━━━━━━━━━━━━━━━\u001b[0m\u001b[37m\u001b[0m \u001b[1m3s\u001b[0m 58ms/step - accuracy: 0.7185 - loss: 0.9155 - val_accuracy: 0.6296 - val_loss: 1.3584\n",
      "Epoch 63/100\n",
      "\u001b[1m41/41\u001b[0m \u001b[32m━━━━━━━━━━━━━━━━━━━━\u001b[0m\u001b[37m\u001b[0m \u001b[1m3s\u001b[0m 57ms/step - accuracy: 0.7236 - loss: 0.9121 - val_accuracy: 0.6296 - val_loss: 1.3427\n",
      "Epoch 64/100\n",
      "\u001b[1m41/41\u001b[0m \u001b[32m━━━━━━━━━━━━━━━━━━━━\u001b[0m\u001b[37m\u001b[0m \u001b[1m3s\u001b[0m 59ms/step - accuracy: 0.6978 - loss: 0.8823 - val_accuracy: 0.6173 - val_loss: 1.4376\n",
      "Epoch 65/100\n",
      "\u001b[1m41/41\u001b[0m \u001b[32m━━━━━━━━━━━━━━━━━━━━\u001b[0m\u001b[37m\u001b[0m \u001b[1m3s\u001b[0m 59ms/step - accuracy: 0.7131 - loss: 0.9259 - val_accuracy: 0.6049 - val_loss: 1.5481\n",
      "Epoch 66/100\n",
      "\u001b[1m41/41\u001b[0m \u001b[32m━━━━━━━━━━━━━━━━━━━━\u001b[0m\u001b[37m\u001b[0m \u001b[1m3s\u001b[0m 55ms/step - accuracy: 0.7359 - loss: 0.8054 - val_accuracy: 0.6049 - val_loss: 1.4248\n",
      "Epoch 67/100\n",
      "\u001b[1m41/41\u001b[0m \u001b[32m━━━━━━━━━━━━━━━━━━━━\u001b[0m\u001b[37m\u001b[0m \u001b[1m3s\u001b[0m 59ms/step - accuracy: 0.7511 - loss: 0.7635 - val_accuracy: 0.6049 - val_loss: 1.4986\n",
      "Epoch 68/100\n",
      "\u001b[1m41/41\u001b[0m \u001b[32m━━━━━━━━━━━━━━━━━━━━\u001b[0m\u001b[37m\u001b[0m \u001b[1m3s\u001b[0m 61ms/step - accuracy: 0.7310 - loss: 0.8114 - val_accuracy: 0.6420 - val_loss: 1.4162\n",
      "Epoch 69/100\n",
      "\u001b[1m41/41\u001b[0m \u001b[32m━━━━━━━━━━━━━━━━━━━━\u001b[0m\u001b[37m\u001b[0m \u001b[1m3s\u001b[0m 57ms/step - accuracy: 0.7591 - loss: 0.7479 - val_accuracy: 0.6296 - val_loss: 1.4287\n",
      "Epoch 70/100\n",
      "\u001b[1m41/41\u001b[0m \u001b[32m━━━━━━━━━━━━━━━━━━━━\u001b[0m\u001b[37m\u001b[0m \u001b[1m3s\u001b[0m 64ms/step - accuracy: 0.7681 - loss: 0.7112 - val_accuracy: 0.6420 - val_loss: 1.4900\n",
      "Epoch 71/100\n",
      "\u001b[1m41/41\u001b[0m \u001b[32m━━━━━━━━━━━━━━━━━━━━\u001b[0m\u001b[37m\u001b[0m \u001b[1m3s\u001b[0m 58ms/step - accuracy: 0.7415 - loss: 0.7676 - val_accuracy: 0.6049 - val_loss: 1.4567\n",
      "Epoch 72/100\n",
      "\u001b[1m41/41\u001b[0m \u001b[32m━━━━━━━━━━━━━━━━━━━━\u001b[0m\u001b[37m\u001b[0m \u001b[1m3s\u001b[0m 55ms/step - accuracy: 0.7439 - loss: 0.8204 - val_accuracy: 0.6667 - val_loss: 1.4797\n",
      "Epoch 73/100\n",
      "\u001b[1m41/41\u001b[0m \u001b[32m━━━━━━━━━━━━━━━━━━━━\u001b[0m\u001b[37m\u001b[0m \u001b[1m3s\u001b[0m 55ms/step - accuracy: 0.7531 - loss: 0.7948 - val_accuracy: 0.6667 - val_loss: 1.4957\n",
      "Epoch 74/100\n",
      "\u001b[1m41/41\u001b[0m \u001b[32m━━━━━━━━━━━━━━━━━━━━\u001b[0m\u001b[37m\u001b[0m \u001b[1m3s\u001b[0m 54ms/step - accuracy: 0.7939 - loss: 0.6774 - val_accuracy: 0.6420 - val_loss: 1.5349\n",
      "Epoch 75/100\n",
      "\u001b[1m41/41\u001b[0m \u001b[32m━━━━━━━━━━━━━━━━━━━━\u001b[0m\u001b[37m\u001b[0m \u001b[1m3s\u001b[0m 55ms/step - accuracy: 0.7665 - loss: 0.7417 - val_accuracy: 0.6296 - val_loss: 1.4944\n",
      "Epoch 76/100\n",
      "\u001b[1m41/41\u001b[0m \u001b[32m━━━━━━━━━━━━━━━━━━━━\u001b[0m\u001b[37m\u001b[0m \u001b[1m3s\u001b[0m 56ms/step - accuracy: 0.7316 - loss: 0.7747 - val_accuracy: 0.6420 - val_loss: 1.4542\n",
      "Epoch 77/100\n",
      "\u001b[1m41/41\u001b[0m \u001b[32m━━━━━━━━━━━━━━━━━━━━\u001b[0m\u001b[37m\u001b[0m \u001b[1m3s\u001b[0m 53ms/step - accuracy: 0.7752 - loss: 0.6686 - val_accuracy: 0.6667 - val_loss: 1.5289\n",
      "Epoch 78/100\n",
      "\u001b[1m41/41\u001b[0m \u001b[32m━━━━━━━━━━━━━━━━━━━━\u001b[0m\u001b[37m\u001b[0m \u001b[1m3s\u001b[0m 56ms/step - accuracy: 0.7681 - loss: 0.6812 - val_accuracy: 0.6790 - val_loss: 1.6106\n",
      "Epoch 79/100\n",
      "\u001b[1m41/41\u001b[0m \u001b[32m━━━━━━━━━━━━━━━━━━━━\u001b[0m\u001b[37m\u001b[0m \u001b[1m3s\u001b[0m 59ms/step - accuracy: 0.7375 - loss: 0.7530 - val_accuracy: 0.6914 - val_loss: 1.6005\n",
      "Epoch 80/100\n",
      "\u001b[1m41/41\u001b[0m \u001b[32m━━━━━━━━━━━━━━━━━━━━\u001b[0m\u001b[37m\u001b[0m \u001b[1m3s\u001b[0m 60ms/step - accuracy: 0.7565 - loss: 0.7613 - val_accuracy: 0.6667 - val_loss: 1.5962\n",
      "Epoch 81/100\n",
      "\u001b[1m41/41\u001b[0m \u001b[32m━━━━━━━━━━━━━━━━━━━━\u001b[0m\u001b[37m\u001b[0m \u001b[1m3s\u001b[0m 56ms/step - accuracy: 0.7832 - loss: 0.6413 - val_accuracy: 0.6543 - val_loss: 1.4824\n",
      "Epoch 82/100\n",
      "\u001b[1m41/41\u001b[0m \u001b[32m━━━━━━━━━━━━━━━━━━━━\u001b[0m\u001b[37m\u001b[0m \u001b[1m3s\u001b[0m 62ms/step - accuracy: 0.7209 - loss: 0.7666 - val_accuracy: 0.6790 - val_loss: 1.6156\n",
      "Epoch 83/100\n",
      "\u001b[1m41/41\u001b[0m \u001b[32m━━━━━━━━━━━━━━━━━━━━\u001b[0m\u001b[37m\u001b[0m \u001b[1m3s\u001b[0m 55ms/step - accuracy: 0.7362 - loss: 0.7895 - val_accuracy: 0.6543 - val_loss: 1.5454\n",
      "Epoch 84/100\n",
      "\u001b[1m41/41\u001b[0m \u001b[32m━━━━━━━━━━━━━━━━━━━━\u001b[0m\u001b[37m\u001b[0m \u001b[1m3s\u001b[0m 54ms/step - accuracy: 0.8335 - loss: 0.5824 - val_accuracy: 0.6543 - val_loss: 1.6102\n",
      "Epoch 85/100\n",
      "\u001b[1m41/41\u001b[0m \u001b[32m━━━━━━━━━━━━━━━━━━━━\u001b[0m\u001b[37m\u001b[0m \u001b[1m3s\u001b[0m 53ms/step - accuracy: 0.7437 - loss: 0.7175 - val_accuracy: 0.6667 - val_loss: 1.6175\n",
      "Epoch 86/100\n",
      "\u001b[1m41/41\u001b[0m \u001b[32m━━━━━━━━━━━━━━━━━━━━\u001b[0m\u001b[37m\u001b[0m \u001b[1m3s\u001b[0m 57ms/step - accuracy: 0.7496 - loss: 0.7400 - val_accuracy: 0.6790 - val_loss: 1.4965\n",
      "Epoch 87/100\n",
      "\u001b[1m41/41\u001b[0m \u001b[32m━━━━━━━━━━━━━━━━━━━━\u001b[0m\u001b[37m\u001b[0m \u001b[1m3s\u001b[0m 54ms/step - accuracy: 0.8187 - loss: 0.6238 - val_accuracy: 0.6914 - val_loss: 1.5293\n",
      "Epoch 88/100\n",
      "\u001b[1m41/41\u001b[0m \u001b[32m━━━━━━━━━━━━━━━━━━━━\u001b[0m\u001b[37m\u001b[0m \u001b[1m3s\u001b[0m 57ms/step - accuracy: 0.8301 - loss: 0.5496 - val_accuracy: 0.6667 - val_loss: 1.5283\n",
      "Epoch 89/100\n",
      "\u001b[1m41/41\u001b[0m \u001b[32m━━━━━━━━━━━━━━━━━━━━\u001b[0m\u001b[37m\u001b[0m \u001b[1m3s\u001b[0m 62ms/step - accuracy: 0.7974 - loss: 0.6025 - val_accuracy: 0.6543 - val_loss: 1.6502\n",
      "Epoch 90/100\n",
      "\u001b[1m41/41\u001b[0m \u001b[32m━━━━━━━━━━━━━━━━━━━━\u001b[0m\u001b[37m\u001b[0m \u001b[1m3s\u001b[0m 52ms/step - accuracy: 0.7275 - loss: 0.7549 - val_accuracy: 0.6790 - val_loss: 1.5290\n",
      "Epoch 91/100\n",
      "\u001b[1m41/41\u001b[0m \u001b[32m━━━━━━━━━━━━━━━━━━━━\u001b[0m\u001b[37m\u001b[0m \u001b[1m3s\u001b[0m 55ms/step - accuracy: 0.7883 - loss: 0.6594 - val_accuracy: 0.6667 - val_loss: 1.5325\n",
      "Epoch 92/100\n",
      "\u001b[1m41/41\u001b[0m \u001b[32m━━━━━━━━━━━━━━━━━━━━\u001b[0m\u001b[37m\u001b[0m \u001b[1m3s\u001b[0m 55ms/step - accuracy: 0.7878 - loss: 0.6582 - val_accuracy: 0.6790 - val_loss: 1.5588\n",
      "Epoch 93/100\n",
      "\u001b[1m41/41\u001b[0m \u001b[32m━━━━━━━━━━━━━━━━━━━━\u001b[0m\u001b[37m\u001b[0m \u001b[1m3s\u001b[0m 61ms/step - accuracy: 0.7995 - loss: 0.7169 - val_accuracy: 0.6790 - val_loss: 1.7155\n",
      "Epoch 94/100\n",
      "\u001b[1m41/41\u001b[0m \u001b[32m━━━━━━━━━━━━━━━━━━━━\u001b[0m\u001b[37m\u001b[0m \u001b[1m3s\u001b[0m 55ms/step - accuracy: 0.7750 - loss: 0.7205 - val_accuracy: 0.6667 - val_loss: 1.6482\n",
      "Epoch 95/100\n",
      "\u001b[1m41/41\u001b[0m \u001b[32m━━━━━━━━━━━━━━━━━━━━\u001b[0m\u001b[37m\u001b[0m \u001b[1m3s\u001b[0m 55ms/step - accuracy: 0.8162 - loss: 0.5986 - val_accuracy: 0.6790 - val_loss: 1.6899\n",
      "Epoch 96/100\n",
      "\u001b[1m41/41\u001b[0m \u001b[32m━━━━━━━━━━━━━━━━━━━━\u001b[0m\u001b[37m\u001b[0m \u001b[1m3s\u001b[0m 53ms/step - accuracy: 0.8301 - loss: 0.5601 - val_accuracy: 0.6790 - val_loss: 1.7816\n",
      "Epoch 97/100\n",
      "\u001b[1m41/41\u001b[0m \u001b[32m━━━━━━━━━━━━━━━━━━━━\u001b[0m\u001b[37m\u001b[0m \u001b[1m3s\u001b[0m 53ms/step - accuracy: 0.7547 - loss: 0.6419 - val_accuracy: 0.7037 - val_loss: 1.5469\n"
     ]
    }
   ],
   "source": [
    "#train the model\n",
    "ShuTrainProcDataset = trainProcDataset.shuffle(buffer_size=4, seed=42)\n",
    "history = modelPhychan.fit(ShuTrainProcDataset, epochs=100, validation_data=valProcDataset, callbacks=myCallback())"
   ]
  },
  {
   "cell_type": "code",
   "execution_count": 219,
   "metadata": {
    "colab": {
     "base_uri": "https://localhost:8080/",
     "height": 881
    },
    "id": "cHTT17YD-TO2",
    "outputId": "c6e7c519-951f-4292-8392-fe1cd62fb1a2"
   },
   "outputs": [
    {
     "data": {
      "image/png": "[encoded data removed]",
      "text/plain": [
       "<Figure size 640x480 with 1 Axes>"
      ]
     },
     "metadata": {},
     "output_type": "display_data"
    },
    {
     "data": {
      "image/png": "[encoded data removed]",
      "text/plain": [
       "<Figure size 640x480 with 1 Axes>"
      ]
     },
     "metadata": {},
     "output_type": "display_data"
    }
   ],
   "source": [
    "#visualization of accuracy and loss results\n",
    "def plotGraphs(history, metric):\n",
    "    plt.plot(history.history[metric])\n",
    "    plt.plot(history.history[f'val_{metric}'])\n",
    "    plt.xlabel(\"Epochs\")\n",
    "    plt.ylabel(metric)\n",
    "    plt.legend([metric, f'val_{metric}'])\n",
    "    plt.show()\n",
    "\n",
    "plotGraphs(history, \"accuracy\")\n",
    "plotGraphs(history, \"loss\")"
   ]
  },
  {
   "cell_type": "code",
   "execution_count": 252,
   "metadata": {},
   "outputs": [],
   "source": [
    "#determine the minimum confidence and provide response results based on tags\n",
    "def getResponse(predictTag, confidence):\n",
    "    if confidence < 0.55:\n",
    "        return \"Maaf, input yang Anda masukkan kurang jelas.\"\n",
    "    if predictTag == '[UNK]': \n",
    "        return \"Maaf, saya tidak mengerti kata yang Anda masukkan.\"\n",
    "    return np.random.choice(responses[predictTag])"
   ]
  },
  {
   "cell_type": "code",
   "execution_count": 253,
   "metadata": {},
   "outputs": [],
   "source": [
    "#create functions that accept input for preprocessing, prediction, and return response\n",
    "def showRespon(input):\n",
    "    stemming = stemmer.stem(input)\n",
    "    inputA = vectorizer([stemming])\n",
    "    prediction = modelPhychan.predict(inputA)\n",
    "\n",
    "    predictClassIndex = np.argmax(prediction, axis=-1)\n",
    "    confidence = prediction[0][predictClassIndex[0]]\n",
    "    predictTag = labelEncoder.get_vocabulary()[predictClassIndex[0]]\n",
    "    response = getResponse(predictTag, confidence)\n",
    "\n",
    "    return predictTag, response, confidence"
   ]
  },
  {
   "cell_type": "code",
   "execution_count": 268,
   "metadata": {},
   "outputs": [
    {
     "name": "stdout",
     "output_type": "stream",
     "text": [
      "\u001b[1m1/1\u001b[0m \u001b[32m━━━━━━━━━━━━━━━━━━━━\u001b[0m\u001b[37m\u001b[0m \u001b[1m0s\u001b[0m 152ms/step\n",
      "Predicted tag: bahaya_dari_diet\n",
      "Confidence: 0.86\n",
      "Response: Diet yang tidak tepat bisa memperburuk gejala asam lambung. Namun, dengan memilih makanan yang tepat, diet bisa membantu mengendalikan gejala asam lambung. Beberapa makanan pemicu, seperti makanan tinggi lemak, produk olahan susu tinggi lemak, tomat, buah-buahan sitrus, cokelat, makanan pedas, serta minuman berkafein, sebaiknya dihindari oleh penderita asam lambung.\n",
      "Sebaliknya, makanan yang baik untuk penderita asam lambung meliputi protein rendah kolesterol seperti ikan salmon dan ayam tanpa lemak, sayuran hijau seperti brokoli dan bayam, buah-buahan yang kaya serat dan vitamin C seperti apel, pisang, dan alpukat, serta karbohidrat sehat seperti kentang dan biji-bijian.\n"
     ]
    }
   ],
   "source": [
    "#testing input for prediction result\n",
    "testInput = \"apakah penderita asam lambung boleh diet\"\n",
    "predictTag, response, confidence = showRespon(testInput)\n",
    "\n",
    "print(f\"Predicted tag: {predictTag}\")\n",
    "print(f\"Confidence: {confidence:.2f}\")\n",
    "print(f\"Response: {response}\")"
   ]
  },
  {
   "cell_type": "code",
   "execution_count": null,
   "metadata": {},
   "outputs": [
    {
     "name": "stderr",
     "output_type": "stream",
     "text": [
      "WARNING:absl:You are saving your model as an HDF5 file via `model.save()` or `keras.saving.save_model(model)`. This file format is considered legacy. We recommend using instead the native Keras format, e.g. `model.save('my_model.keras')` or `keras.saving.save_model(model, 'my_model.keras')`. \n"
     ]
    }
   ],
   "source": [
    "#Save a model\n",
    "modelPhychan.save(\"./model/chatbotModel.h5\", history)"
   ]
  },
  {
   "cell_type": "code",
   "execution_count": 224,
   "metadata": {},
   "outputs": [],
   "source": [
    "#modelPhychan.save(\"./model/chatbotModel.keras\", history)"
   ]
  }
 ],
 "metadata": {
  "colab": {
   "provenance": []
  },
  "kernelspec": {
   "display_name": "chatbotPhychan-zcRlIu-h",
   "language": "python",
   "name": "python3"
  },
  "language_info": {
   "codemirror_mode": {
    "name": "ipython",
    "version": 3
   },
   "file_extension": ".py",
   "mimetype": "text/x-python",
   "name": "python",
   "nbconvert_exporter": "python",
   "pygments_lexer": "ipython3",
   "version": "3.12.7"
  },
  "widgets": {
   "application/vnd.jupyter.widget-state+json": {
    "004fd7dc4da54bdeae39da3f6de77cc9": {
     "model_module": "@jupyter-widgets/controls",
     "model_module_version": "1.5.0",
     "model_name": "HTMLModel",
     "state": {
      "_dom_classes": [],
      "_model_module": "@jupyter-widgets/controls",
      "_model_module_version": "1.5.0",
      "_model_name": "HTMLModel",
      "_view_count": null,
      "_view_module": "@jupyter-widgets/controls",
      "_view_module_version": "1.5.0",
      "_view_name": "HTMLView",
      "description": "",
      "description_tooltip": null,
      "layout": "IPY_MODEL_6c027d30ca6b42f6b774091c9ca819d6",
      "placeholder": "​",
      "style": "IPY_MODEL_a78c2c08775a4fe58ad5d8d50cd402ed",
      "value": " 49.0/49.0 [00:00&lt;00:00, 348B/s]"
     }
    },
    "04eca109dc0e437b8e41fed3dd7bc197": {
     "model_module": "@jupyter-widgets/base",
     "model_module_version": "1.2.0",
     "model_name": "LayoutModel",
     "state": {
      "_model_module": "@jupyter-widgets/base",
      "_model_module_version": "1.2.0",
      "_model_name": "LayoutModel",
      "_view_count": null,
      "_view_module": "@jupyter-widgets/base",
      "_view_module_version": "1.2.0",
      "_view_name": "LayoutView",
      "align_content": null,
      "align_items": null,
      "align_self": null,
      "border": null,
      "bottom": null,
      "display": null,
      "flex": null,
      "flex_flow": null,
      "grid_area": null,
      "grid_auto_columns": null,
      "grid_auto_flow": null,
      "grid_auto_rows": null,
      "grid_column": null,
      "grid_gap": null,
      "grid_row": null,
      "grid_template_areas": null,
      "grid_template_columns": null,
      "grid_template_rows": null,
      "height": null,
      "justify_content": null,
      "justify_items": null,
      "left": null,
      "margin": null,
      "max_height": null,
      "max_width": null,
      "min_height": null,
      "min_width": null,
      "object_fit": null,
      "object_position": null,
      "order": null,
      "overflow": null,
      "overflow_x": null,
      "overflow_y": null,
      "padding": null,
      "right": null,
      "top": null,
      "visibility": null,
      "width": null
     }
    },
    "0b17730b5f9b4bcaaeff4106f04c0bfd": {
     "model_module": "@jupyter-widgets/base",
     "model_module_version": "1.2.0",
     "model_name": "LayoutModel",
     "state": {
      "_model_module": "@jupyter-widgets/base",
      "_model_module_version": "1.2.0",
      "_model_name": "LayoutModel",
      "_view_count": null,
      "_view_module": "@jupyter-widgets/base",
      "_view_module_version": "1.2.0",
      "_view_name": "LayoutView",
      "align_content": null,
      "align_items": null,
      "align_self": null,
      "border": null,
      "bottom": null,
      "display": null,
      "flex": null,
      "flex_flow": null,
      "grid_area": null,
      "grid_auto_columns": null,
      "grid_auto_flow": null,
      "grid_auto_rows": null,
      "grid_column": null,
      "grid_gap": null,
      "grid_row": null,
      "grid_template_areas": null,
      "grid_template_columns": null,
      "grid_template_rows": null,
      "height": null,
      "justify_content": null,
      "justify_items": null,
      "left": null,
      "margin": null,
      "max_height": null,
      "max_width": null,
      "min_height": null,
      "min_width": null,
      "object_fit": null,
      "object_position": null,
      "order": null,
      "overflow": null,
      "overflow_x": null,
      "overflow_y": null,
      "padding": null,
      "right": null,
      "top": null,
      "visibility": null,
      "width": null
     }
    },
    "109b3419c95d46bfb54af90e42204345": {
     "model_module": "@jupyter-widgets/controls",
     "model_module_version": "1.5.0",
     "model_name": "DescriptionStyleModel",
     "state": {
      "_model_module": "@jupyter-widgets/controls",
      "_model_module_version": "1.5.0",
      "_model_name": "DescriptionStyleModel",
      "_view_count": null,
      "_view_module": "@jupyter-widgets/base",
      "_view_module_version": "1.2.0",
      "_view_name": "StyleView",
      "description_width": ""
     }
    },
    "1546e30a191c4263a45cbf2d0d06ad68": {
     "model_module": "@jupyter-widgets/controls",
     "model_module_version": "1.5.0",
     "model_name": "DescriptionStyleModel",
     "state": {
      "_model_module": "@jupyter-widgets/controls",
      "_model_module_version": "1.5.0",
      "_model_name": "DescriptionStyleModel",
      "_view_count": null,
      "_view_module": "@jupyter-widgets/base",
      "_view_module_version": "1.2.0",
      "_view_name": "StyleView",
      "description_width": ""
     }
    },
    "1903372a67bc4dd196b48cbcaec1c490": {
     "model_module": "@jupyter-widgets/base",
     "model_module_version": "1.2.0",
     "model_name": "LayoutModel",
     "state": {
      "_model_module": "@jupyter-widgets/base",
      "_model_module_version": "1.2.0",
      "_model_name": "LayoutModel",
      "_view_count": null,
      "_view_module": "@jupyter-widgets/base",
      "_view_module_version": "1.2.0",
      "_view_name": "LayoutView",
      "align_content": null,
      "align_items": null,
      "align_self": null,
      "border": null,
      "bottom": null,
      "display": null,
      "flex": null,
      "flex_flow": null,
      "grid_area": null,
      "grid_auto_columns": null,
      "grid_auto_flow": null,
      "grid_auto_rows": null,
      "grid_column": null,
      "grid_gap": null,
      "grid_row": null,
      "grid_template_areas": null,
      "grid_template_columns": null,
      "grid_template_rows": null,
      "height": null,
      "justify_content": null,
      "justify_items": null,
      "left": null,
      "margin": null,
      "max_height": null,
      "max_width": null,
      "min_height": null,
      "min_width": null,
      "object_fit": null,
      "object_position": null,
      "order": null,
      "overflow": null,
      "overflow_x": null,
      "overflow_y": null,
      "padding": null,
      "right": null,
      "top": null,
      "visibility": null,
      "width": null
     }
    },
    "1eecc68cce604bdabf95bfa4057c7e98": {
     "model_module": "@jupyter-widgets/controls",
     "model_module_version": "1.5.0",
     "model_name": "HTMLModel",
     "state": {
      "_dom_classes": [],
      "_model_module": "@jupyter-widgets/controls",
      "_model_module_version": "1.5.0",
      "_model_name": "HTMLModel",
      "_view_count": null,
      "_view_module": "@jupyter-widgets/controls",
      "_view_module_version": "1.5.0",
      "_view_name": "HTMLView",
      "description": "",
      "description_tooltip": null,
      "layout": "IPY_MODEL_246041af7bee43c1be8542877b918bae",
      "placeholder": "​",
      "style": "IPY_MODEL_109b3419c95d46bfb54af90e42204345",
      "value": "special_tokens_map.json: 100%"
     }
    },
    "2177bb65495f46b2a63aae40264d932e": {
     "model_module": "@jupyter-widgets/base",
     "model_module_version": "1.2.0",
     "model_name": "LayoutModel",
     "state": {
      "_model_module": "@jupyter-widgets/base",
      "_model_module_version": "1.2.0",
      "_model_name": "LayoutModel",
      "_view_count": null,
      "_view_module": "@jupyter-widgets/base",
      "_view_module_version": "1.2.0",
      "_view_name": "LayoutView",
      "align_content": null,
      "align_items": null,
      "align_self": null,
      "border": null,
      "bottom": null,
      "display": null,
      "flex": null,
      "flex_flow": null,
      "grid_area": null,
      "grid_auto_columns": null,
      "grid_auto_flow": null,
      "grid_auto_rows": null,
      "grid_column": null,
      "grid_gap": null,
      "grid_row": null,
      "grid_template_areas": null,
      "grid_template_columns": null,
      "grid_template_rows": null,
      "height": null,
      "justify_content": null,
      "justify_items": null,
      "left": null,
      "margin": null,
      "max_height": null,
      "max_width": null,
      "min_height": null,
      "min_width": null,
      "object_fit": null,
      "object_position": null,
      "order": null,
      "overflow": null,
      "overflow_x": null,
      "overflow_y": null,
      "padding": null,
      "right": null,
      "top": null,
      "visibility": null,
      "width": null
     }
    },
    "246041af7bee43c1be8542877b918bae": {
     "model_module": "@jupyter-widgets/base",
     "model_module_version": "1.2.0",
     "model_name": "LayoutModel",
     "state": {
      "_model_module": "@jupyter-widgets/base",
      "_model_module_version": "1.2.0",
      "_model_name": "LayoutModel",
      "_view_count": null,
      "_view_module": "@jupyter-widgets/base",
      "_view_module_version": "1.2.0",
      "_view_name": "LayoutView",
      "align_content": null,
      "align_items": null,
      "align_self": null,
      "border": null,
      "bottom": null,
      "display": null,
      "flex": null,
      "flex_flow": null,
      "grid_area": null,
      "grid_auto_columns": null,
      "grid_auto_flow": null,
      "grid_auto_rows": null,
      "grid_column": null,
      "grid_gap": null,
      "grid_row": null,
      "grid_template_areas": null,
      "grid_template_columns": null,
      "grid_template_rows": null,
      "height": null,
      "justify_content": null,
      "justify_items": null,
      "left": null,
      "margin": null,
      "max_height": null,
      "max_width": null,
      "min_height": null,
      "min_width": null,
      "object_fit": null,
      "object_position": null,
      "order": null,
      "overflow": null,
      "overflow_x": null,
      "overflow_y": null,
      "padding": null,
      "right": null,
      "top": null,
      "visibility": null,
      "width": null
     }
    },
    "25409aa56037480083ed67743d5ed597": {
     "model_module": "@jupyter-widgets/controls",
     "model_module_version": "1.5.0",
     "model_name": "ProgressStyleModel",
     "state": {
      "_model_module": "@jupyter-widgets/controls",
      "_model_module_version": "1.5.0",
      "_model_name": "ProgressStyleModel",
      "_view_count": null,
      "_view_module": "@jupyter-widgets/base",
      "_view_module_version": "1.2.0",
      "_view_name": "StyleView",
      "bar_color": null,
      "description_width": ""
     }
    },
    "2bc3d74e31b547d392dec828ce39ef70": {
     "model_module": "@jupyter-widgets/base",
     "model_module_version": "1.2.0",
     "model_name": "LayoutModel",
     "state": {
      "_model_module": "@jupyter-widgets/base",
      "_model_module_version": "1.2.0",
      "_model_name": "LayoutModel",
      "_view_count": null,
      "_view_module": "@jupyter-widgets/base",
      "_view_module_version": "1.2.0",
      "_view_name": "LayoutView",
      "align_content": null,
      "align_items": null,
      "align_self": null,
      "border": null,
      "bottom": null,
      "display": null,
      "flex": null,
      "flex_flow": null,
      "grid_area": null,
      "grid_auto_columns": null,
      "grid_auto_flow": null,
      "grid_auto_rows": null,
      "grid_column": null,
      "grid_gap": null,
      "grid_row": null,
      "grid_template_areas": null,
      "grid_template_columns": null,
      "grid_template_rows": null,
      "height": null,
      "justify_content": null,
      "justify_items": null,
      "left": null,
      "margin": null,
      "max_height": null,
      "max_width": null,
      "min_height": null,
      "min_width": null,
      "object_fit": null,
      "object_position": null,
      "order": null,
      "overflow": null,
      "overflow_x": null,
      "overflow_y": null,
      "padding": null,
      "right": null,
      "top": null,
      "visibility": null,
      "width": null
     }
    },
    "2c9c456e9d7a4ad68512fc04018d73f6": {
     "model_module": "@jupyter-widgets/controls",
     "model_module_version": "1.5.0",
     "model_name": "HTMLModel",
     "state": {
      "_dom_classes": [],
      "_model_module": "@jupyter-widgets/controls",
      "_model_module_version": "1.5.0",
      "_model_name": "HTMLModel",
      "_view_count": null,
      "_view_module": "@jupyter-widgets/controls",
      "_view_module_version": "1.5.0",
      "_view_name": "HTMLView",
      "description": "",
      "description_tooltip": null,
      "layout": "IPY_MODEL_b3bbfe10df4f4f4aba52cbd4ec46aa8c",
      "placeholder": "​",
      "style": "IPY_MODEL_769437a15805467f82e5b75b3fd3f1e7",
      "value": " 462/462 [00:00&lt;00:00, 3.77kB/s]"
     }
    },
    "2debc273af2a441fb426349e59fd48f7": {
     "model_module": "@jupyter-widgets/base",
     "model_module_version": "1.2.0",
     "model_name": "LayoutModel",
     "state": {
      "_model_module": "@jupyter-widgets/base",
      "_model_module_version": "1.2.0",
      "_model_name": "LayoutModel",
      "_view_count": null,
      "_view_module": "@jupyter-widgets/base",
      "_view_module_version": "1.2.0",
      "_view_name": "LayoutView",
      "align_content": null,
      "align_items": null,
      "align_self": null,
      "border": null,
      "bottom": null,
      "display": null,
      "flex": null,
      "flex_flow": null,
      "grid_area": null,
      "grid_auto_columns": null,
      "grid_auto_flow": null,
      "grid_auto_rows": null,
      "grid_column": null,
      "grid_gap": null,
      "grid_row": null,
      "grid_template_areas": null,
      "grid_template_columns": null,
      "grid_template_rows": null,
      "height": null,
      "justify_content": null,
      "justify_items": null,
      "left": null,
      "margin": null,
      "max_height": null,
      "max_width": null,
      "min_height": null,
      "min_width": null,
      "object_fit": null,
      "object_position": null,
      "order": null,
      "overflow": null,
      "overflow_x": null,
      "overflow_y": null,
      "padding": null,
      "right": null,
      "top": null,
      "visibility": null,
      "width": null
     }
    },
    "2df5c2009657461a83d88f3839993423": {
     "model_module": "@jupyter-widgets/controls",
     "model_module_version": "1.5.0",
     "model_name": "DescriptionStyleModel",
     "state": {
      "_model_module": "@jupyter-widgets/controls",
      "_model_module_version": "1.5.0",
      "_model_name": "DescriptionStyleModel",
      "_view_count": null,
      "_view_module": "@jupyter-widgets/base",
      "_view_module_version": "1.2.0",
      "_view_name": "StyleView",
      "description_width": ""
     }
    },
    "319f35242b454d20abab2076bf8e0143": {
     "model_module": "@jupyter-widgets/controls",
     "model_module_version": "1.5.0",
     "model_name": "FloatProgressModel",
     "state": {
      "_dom_classes": [],
      "_model_module": "@jupyter-widgets/controls",
      "_model_module_version": "1.5.0",
      "_model_name": "FloatProgressModel",
      "_view_count": null,
      "_view_module": "@jupyter-widgets/controls",
      "_view_module_version": "1.5.0",
      "_view_name": "ProgressView",
      "bar_style": "success",
      "description": "",
      "description_tooltip": null,
      "layout": "IPY_MODEL_2debc273af2a441fb426349e59fd48f7",
      "max": 49,
      "min": 0,
      "orientation": "horizontal",
      "style": "IPY_MODEL_25409aa56037480083ed67743d5ed597",
      "value": 49
     }
    },
    "3c0fe6c76d87412a977577b5f5518f85": {
     "model_module": "@jupyter-widgets/controls",
     "model_module_version": "1.5.0",
     "model_name": "HTMLModel",
     "state": {
      "_dom_classes": [],
      "_model_module": "@jupyter-widgets/controls",
      "_model_module_version": "1.5.0",
      "_model_name": "HTMLModel",
      "_view_count": null,
      "_view_module": "@jupyter-widgets/controls",
      "_view_module_version": "1.5.0",
      "_view_name": "HTMLView",
      "description": "",
      "description_tooltip": null,
      "layout": "IPY_MODEL_2177bb65495f46b2a63aae40264d932e",
      "placeholder": "​",
      "style": "IPY_MODEL_1546e30a191c4263a45cbf2d0d06ad68",
      "value": " 213k/213k [00:00&lt;00:00, 2.52MB/s]"
     }
    },
    "40de4fe0f135439b837e72252b93b123": {
     "model_module": "@jupyter-widgets/controls",
     "model_module_version": "1.5.0",
     "model_name": "DescriptionStyleModel",
     "state": {
      "_model_module": "@jupyter-widgets/controls",
      "_model_module_version": "1.5.0",
      "_model_name": "DescriptionStyleModel",
      "_view_count": null,
      "_view_module": "@jupyter-widgets/base",
      "_view_module_version": "1.2.0",
      "_view_name": "StyleView",
      "description_width": ""
     }
    },
    "456f5b2fa5474d519be5da8be4d2848d": {
     "model_module": "@jupyter-widgets/base",
     "model_module_version": "1.2.0",
     "model_name": "LayoutModel",
     "state": {
      "_model_module": "@jupyter-widgets/base",
      "_model_module_version": "1.2.0",
      "_model_name": "LayoutModel",
      "_view_count": null,
      "_view_module": "@jupyter-widgets/base",
      "_view_module_version": "1.2.0",
      "_view_name": "LayoutView",
      "align_content": null,
      "align_items": null,
      "align_self": null,
      "border": null,
      "bottom": null,
      "display": null,
      "flex": null,
      "flex_flow": null,
      "grid_area": null,
      "grid_auto_columns": null,
      "grid_auto_flow": null,
      "grid_auto_rows": null,
      "grid_column": null,
      "grid_gap": null,
      "grid_row": null,
      "grid_template_areas": null,
      "grid_template_columns": null,
      "grid_template_rows": null,
      "height": null,
      "justify_content": null,
      "justify_items": null,
      "left": null,
      "margin": null,
      "max_height": null,
      "max_width": null,
      "min_height": null,
      "min_width": null,
      "object_fit": null,
      "object_position": null,
      "order": null,
      "overflow": null,
      "overflow_x": null,
      "overflow_y": null,
      "padding": null,
      "right": null,
      "top": null,
      "visibility": null,
      "width": null
     }
    },
    "48407d40b8a0485899f0d3440371d3c7": {
     "model_module": "@jupyter-widgets/controls",
     "model_module_version": "1.5.0",
     "model_name": "HTMLModel",
     "state": {
      "_dom_classes": [],
      "_model_module": "@jupyter-widgets/controls",
      "_model_module_version": "1.5.0",
      "_model_name": "HTMLModel",
      "_view_count": null,
      "_view_module": "@jupyter-widgets/controls",
      "_view_module_version": "1.5.0",
      "_view_name": "HTMLView",
      "description": "",
      "description_tooltip": null,
      "layout": "IPY_MODEL_456f5b2fa5474d519be5da8be4d2848d",
      "placeholder": "​",
      "style": "IPY_MODEL_2df5c2009657461a83d88f3839993423",
      "value": "tokenizer_config.json: 100%"
     }
    },
    "557fcc22368c4c93b42ed8e6dd2e00c2": {
     "model_module": "@jupyter-widgets/controls",
     "model_module_version": "1.5.0",
     "model_name": "HBoxModel",
     "state": {
      "_dom_classes": [],
      "_model_module": "@jupyter-widgets/controls",
      "_model_module_version": "1.5.0",
      "_model_name": "HBoxModel",
      "_view_count": null,
      "_view_module": "@jupyter-widgets/controls",
      "_view_module_version": "1.5.0",
      "_view_name": "HBoxView",
      "box_style": "",
      "children": [
       "IPY_MODEL_48407d40b8a0485899f0d3440371d3c7",
       "IPY_MODEL_319f35242b454d20abab2076bf8e0143",
       "IPY_MODEL_004fd7dc4da54bdeae39da3f6de77cc9"
      ],
      "layout": "IPY_MODEL_dda2f8cc19b94756aae367bbe799e3f7"
     }
    },
    "5efaaeda758c458f9f4876311ad18445": {
     "model_module": "@jupyter-widgets/controls",
     "model_module_version": "1.5.0",
     "model_name": "HTMLModel",
     "state": {
      "_dom_classes": [],
      "_model_module": "@jupyter-widgets/controls",
      "_model_module_version": "1.5.0",
      "_model_name": "HTMLModel",
      "_view_count": null,
      "_view_module": "@jupyter-widgets/controls",
      "_view_module_version": "1.5.0",
      "_view_name": "HTMLView",
      "description": "",
      "description_tooltip": null,
      "layout": "IPY_MODEL_04eca109dc0e437b8e41fed3dd7bc197",
      "placeholder": "​",
      "style": "IPY_MODEL_92212bc725f64bd1afa55ac9f831467f",
      "value": "vocab.txt: 100%"
     }
    },
    "6383ff19567844e183fcbfe043324e48": {
     "model_module": "@jupyter-widgets/controls",
     "model_module_version": "1.5.0",
     "model_name": "HTMLModel",
     "state": {
      "_dom_classes": [],
      "_model_module": "@jupyter-widgets/controls",
      "_model_module_version": "1.5.0",
      "_model_name": "HTMLModel",
      "_view_count": null,
      "_view_module": "@jupyter-widgets/controls",
      "_view_module_version": "1.5.0",
      "_view_name": "HTMLView",
      "description": "",
      "description_tooltip": null,
      "layout": "IPY_MODEL_1903372a67bc4dd196b48cbcaec1c490",
      "placeholder": "​",
      "style": "IPY_MODEL_eb08da17d3e145579b2601c6740dc187",
      "value": " 112/112 [00:00&lt;00:00, 891B/s]"
     }
    },
    "6ad4dee5d877496a87863057107e865c": {
     "model_module": "@jupyter-widgets/controls",
     "model_module_version": "1.5.0",
     "model_name": "FloatProgressModel",
     "state": {
      "_dom_classes": [],
      "_model_module": "@jupyter-widgets/controls",
      "_model_module_version": "1.5.0",
      "_model_name": "FloatProgressModel",
      "_view_count": null,
      "_view_module": "@jupyter-widgets/controls",
      "_view_module_version": "1.5.0",
      "_view_name": "ProgressView",
      "bar_style": "success",
      "description": "",
      "description_tooltip": null,
      "layout": "IPY_MODEL_b280b74308c64f32bf350cd64c80d5b0",
      "max": 112,
      "min": 0,
      "orientation": "horizontal",
      "style": "IPY_MODEL_d3d55245ecc04a94926aadb2432cb447",
      "value": 112
     }
    },
    "6c027d30ca6b42f6b774091c9ca819d6": {
     "model_module": "@jupyter-widgets/base",
     "model_module_version": "1.2.0",
     "model_name": "LayoutModel",
     "state": {
      "_model_module": "@jupyter-widgets/base",
      "_model_module_version": "1.2.0",
      "_model_name": "LayoutModel",
      "_view_count": null,
      "_view_module": "@jupyter-widgets/base",
      "_view_module_version": "1.2.0",
      "_view_name": "LayoutView",
      "align_content": null,
      "align_items": null,
      "align_self": null,
      "border": null,
      "bottom": null,
      "display": null,
      "flex": null,
      "flex_flow": null,
      "grid_area": null,
      "grid_auto_columns": null,
      "grid_auto_flow": null,
      "grid_auto_rows": null,
      "grid_column": null,
      "grid_gap": null,
      "grid_row": null,
      "grid_template_areas": null,
      "grid_template_columns": null,
      "grid_template_rows": null,
      "height": null,
      "justify_content": null,
      "justify_items": null,
      "left": null,
      "margin": null,
      "max_height": null,
      "max_width": null,
      "min_height": null,
      "min_width": null,
      "object_fit": null,
      "object_position": null,
      "order": null,
      "overflow": null,
      "overflow_x": null,
      "overflow_y": null,
      "padding": null,
      "right": null,
      "top": null,
      "visibility": null,
      "width": null
     }
    },
    "769437a15805467f82e5b75b3fd3f1e7": {
     "model_module": "@jupyter-widgets/controls",
     "model_module_version": "1.5.0",
     "model_name": "DescriptionStyleModel",
     "state": {
      "_model_module": "@jupyter-widgets/controls",
      "_model_module_version": "1.5.0",
      "_model_name": "DescriptionStyleModel",
      "_view_count": null,
      "_view_module": "@jupyter-widgets/base",
      "_view_module_version": "1.2.0",
      "_view_name": "StyleView",
      "description_width": ""
     }
    },
    "7fc426c0e3c0425ba2b9168c7b264c24": {
     "model_module": "@jupyter-widgets/controls",
     "model_module_version": "1.5.0",
     "model_name": "ProgressStyleModel",
     "state": {
      "_model_module": "@jupyter-widgets/controls",
      "_model_module_version": "1.5.0",
      "_model_name": "ProgressStyleModel",
      "_view_count": null,
      "_view_module": "@jupyter-widgets/base",
      "_view_module_version": "1.2.0",
      "_view_name": "StyleView",
      "bar_color": null,
      "description_width": ""
     }
    },
    "8486983dc2ef403bb27a4dab183f7031": {
     "model_module": "@jupyter-widgets/base",
     "model_module_version": "1.2.0",
     "model_name": "LayoutModel",
     "state": {
      "_model_module": "@jupyter-widgets/base",
      "_model_module_version": "1.2.0",
      "_model_name": "LayoutModel",
      "_view_count": null,
      "_view_module": "@jupyter-widgets/base",
      "_view_module_version": "1.2.0",
      "_view_name": "LayoutView",
      "align_content": null,
      "align_items": null,
      "align_self": null,
      "border": null,
      "bottom": null,
      "display": null,
      "flex": null,
      "flex_flow": null,
      "grid_area": null,
      "grid_auto_columns": null,
      "grid_auto_flow": null,
      "grid_auto_rows": null,
      "grid_column": null,
      "grid_gap": null,
      "grid_row": null,
      "grid_template_areas": null,
      "grid_template_columns": null,
      "grid_template_rows": null,
      "height": null,
      "justify_content": null,
      "justify_items": null,
      "left": null,
      "margin": null,
      "max_height": null,
      "max_width": null,
      "min_height": null,
      "min_width": null,
      "object_fit": null,
      "object_position": null,
      "order": null,
      "overflow": null,
      "overflow_x": null,
      "overflow_y": null,
      "padding": null,
      "right": null,
      "top": null,
      "visibility": null,
      "width": null
     }
    },
    "92212bc725f64bd1afa55ac9f831467f": {
     "model_module": "@jupyter-widgets/controls",
     "model_module_version": "1.5.0",
     "model_name": "DescriptionStyleModel",
     "state": {
      "_model_module": "@jupyter-widgets/controls",
      "_model_module_version": "1.5.0",
      "_model_name": "DescriptionStyleModel",
      "_view_count": null,
      "_view_module": "@jupyter-widgets/base",
      "_view_module_version": "1.2.0",
      "_view_name": "StyleView",
      "description_width": ""
     }
    },
    "92a1e578a76b4dc7a98162bc2621d267": {
     "model_module": "@jupyter-widgets/base",
     "model_module_version": "1.2.0",
     "model_name": "LayoutModel",
     "state": {
      "_model_module": "@jupyter-widgets/base",
      "_model_module_version": "1.2.0",
      "_model_name": "LayoutModel",
      "_view_count": null,
      "_view_module": "@jupyter-widgets/base",
      "_view_module_version": "1.2.0",
      "_view_name": "LayoutView",
      "align_content": null,
      "align_items": null,
      "align_self": null,
      "border": null,
      "bottom": null,
      "display": null,
      "flex": null,
      "flex_flow": null,
      "grid_area": null,
      "grid_auto_columns": null,
      "grid_auto_flow": null,
      "grid_auto_rows": null,
      "grid_column": null,
      "grid_gap": null,
      "grid_row": null,
      "grid_template_areas": null,
      "grid_template_columns": null,
      "grid_template_rows": null,
      "height": null,
      "justify_content": null,
      "justify_items": null,
      "left": null,
      "margin": null,
      "max_height": null,
      "max_width": null,
      "min_height": null,
      "min_width": null,
      "object_fit": null,
      "object_position": null,
      "order": null,
      "overflow": null,
      "overflow_x": null,
      "overflow_y": null,
      "padding": null,
      "right": null,
      "top": null,
      "visibility": null,
      "width": null
     }
    },
    "998dd26856b845dbac9834fadcfb579d": {
     "model_module": "@jupyter-widgets/controls",
     "model_module_version": "1.5.0",
     "model_name": "HBoxModel",
     "state": {
      "_dom_classes": [],
      "_model_module": "@jupyter-widgets/controls",
      "_model_module_version": "1.5.0",
      "_model_name": "HBoxModel",
      "_view_count": null,
      "_view_module": "@jupyter-widgets/controls",
      "_view_module_version": "1.5.0",
      "_view_name": "HBoxView",
      "box_style": "",
      "children": [
       "IPY_MODEL_5efaaeda758c458f9f4876311ad18445",
       "IPY_MODEL_c744817445714e61b6364dafd03a2a40",
       "IPY_MODEL_3c0fe6c76d87412a977577b5f5518f85"
      ],
      "layout": "IPY_MODEL_fd23e97bc7db4e5aab62e151d6492da4"
     }
    },
    "9a476ff265314577a846a8386e5be1a4": {
     "model_module": "@jupyter-widgets/controls",
     "model_module_version": "1.5.0",
     "model_name": "HTMLModel",
     "state": {
      "_dom_classes": [],
      "_model_module": "@jupyter-widgets/controls",
      "_model_module_version": "1.5.0",
      "_model_name": "HTMLModel",
      "_view_count": null,
      "_view_module": "@jupyter-widgets/controls",
      "_view_module_version": "1.5.0",
      "_view_name": "HTMLView",
      "description": "",
      "description_tooltip": null,
      "layout": "IPY_MODEL_92a1e578a76b4dc7a98162bc2621d267",
      "placeholder": "​",
      "style": "IPY_MODEL_40de4fe0f135439b837e72252b93b123",
      "value": "config.json: 100%"
     }
    },
    "a70a065095f947f3b4a579e240476afd": {
     "model_module": "@jupyter-widgets/controls",
     "model_module_version": "1.5.0",
     "model_name": "HBoxModel",
     "state": {
      "_dom_classes": [],
      "_model_module": "@jupyter-widgets/controls",
      "_model_module_version": "1.5.0",
      "_model_name": "HBoxModel",
      "_view_count": null,
      "_view_module": "@jupyter-widgets/controls",
      "_view_module_version": "1.5.0",
      "_view_name": "HBoxView",
      "box_style": "",
      "children": [
       "IPY_MODEL_1eecc68cce604bdabf95bfa4057c7e98",
       "IPY_MODEL_6ad4dee5d877496a87863057107e865c",
       "IPY_MODEL_6383ff19567844e183fcbfe043324e48"
      ],
      "layout": "IPY_MODEL_8486983dc2ef403bb27a4dab183f7031"
     }
    },
    "a78c2c08775a4fe58ad5d8d50cd402ed": {
     "model_module": "@jupyter-widgets/controls",
     "model_module_version": "1.5.0",
     "model_name": "DescriptionStyleModel",
     "state": {
      "_model_module": "@jupyter-widgets/controls",
      "_model_module_version": "1.5.0",
      "_model_name": "DescriptionStyleModel",
      "_view_count": null,
      "_view_module": "@jupyter-widgets/base",
      "_view_module_version": "1.2.0",
      "_view_name": "StyleView",
      "description_width": ""
     }
    },
    "ac524145686c4305aac26c5e1e414c8a": {
     "model_module": "@jupyter-widgets/controls",
     "model_module_version": "1.5.0",
     "model_name": "ProgressStyleModel",
     "state": {
      "_model_module": "@jupyter-widgets/controls",
      "_model_module_version": "1.5.0",
      "_model_name": "ProgressStyleModel",
      "_view_count": null,
      "_view_module": "@jupyter-widgets/base",
      "_view_module_version": "1.2.0",
      "_view_name": "StyleView",
      "bar_color": null,
      "description_width": ""
     }
    },
    "b280b74308c64f32bf350cd64c80d5b0": {
     "model_module": "@jupyter-widgets/base",
     "model_module_version": "1.2.0",
     "model_name": "LayoutModel",
     "state": {
      "_model_module": "@jupyter-widgets/base",
      "_model_module_version": "1.2.0",
      "_model_name": "LayoutModel",
      "_view_count": null,
      "_view_module": "@jupyter-widgets/base",
      "_view_module_version": "1.2.0",
      "_view_name": "LayoutView",
      "align_content": null,
      "align_items": null,
      "align_self": null,
      "border": null,
      "bottom": null,
      "display": null,
      "flex": null,
      "flex_flow": null,
      "grid_area": null,
      "grid_auto_columns": null,
      "grid_auto_flow": null,
      "grid_auto_rows": null,
      "grid_column": null,
      "grid_gap": null,
      "grid_row": null,
      "grid_template_areas": null,
      "grid_template_columns": null,
      "grid_template_rows": null,
      "height": null,
      "justify_content": null,
      "justify_items": null,
      "left": null,
      "margin": null,
      "max_height": null,
      "max_width": null,
      "min_height": null,
      "min_width": null,
      "object_fit": null,
      "object_position": null,
      "order": null,
      "overflow": null,
      "overflow_x": null,
      "overflow_y": null,
      "padding": null,
      "right": null,
      "top": null,
      "visibility": null,
      "width": null
     }
    },
    "b3bbfe10df4f4f4aba52cbd4ec46aa8c": {
     "model_module": "@jupyter-widgets/base",
     "model_module_version": "1.2.0",
     "model_name": "LayoutModel",
     "state": {
      "_model_module": "@jupyter-widgets/base",
      "_model_module_version": "1.2.0",
      "_model_name": "LayoutModel",
      "_view_count": null,
      "_view_module": "@jupyter-widgets/base",
      "_view_module_version": "1.2.0",
      "_view_name": "LayoutView",
      "align_content": null,
      "align_items": null,
      "align_self": null,
      "border": null,
      "bottom": null,
      "display": null,
      "flex": null,
      "flex_flow": null,
      "grid_area": null,
      "grid_auto_columns": null,
      "grid_auto_flow": null,
      "grid_auto_rows": null,
      "grid_column": null,
      "grid_gap": null,
      "grid_row": null,
      "grid_template_areas": null,
      "grid_template_columns": null,
      "grid_template_rows": null,
      "height": null,
      "justify_content": null,
      "justify_items": null,
      "left": null,
      "margin": null,
      "max_height": null,
      "max_width": null,
      "min_height": null,
      "min_width": null,
      "object_fit": null,
      "object_position": null,
      "order": null,
      "overflow": null,
      "overflow_x": null,
      "overflow_y": null,
      "padding": null,
      "right": null,
      "top": null,
      "visibility": null,
      "width": null
     }
    },
    "c744817445714e61b6364dafd03a2a40": {
     "model_module": "@jupyter-widgets/controls",
     "model_module_version": "1.5.0",
     "model_name": "FloatProgressModel",
     "state": {
      "_dom_classes": [],
      "_model_module": "@jupyter-widgets/controls",
      "_model_module_version": "1.5.0",
      "_model_name": "FloatProgressModel",
      "_view_count": null,
      "_view_module": "@jupyter-widgets/controls",
      "_view_module_version": "1.5.0",
      "_view_name": "ProgressView",
      "bar_style": "success",
      "description": "",
      "description_tooltip": null,
      "layout": "IPY_MODEL_0b17730b5f9b4bcaaeff4106f04c0bfd",
      "max": 213450,
      "min": 0,
      "orientation": "horizontal",
      "style": "IPY_MODEL_ac524145686c4305aac26c5e1e414c8a",
      "value": 213450
     }
    },
    "d3d55245ecc04a94926aadb2432cb447": {
     "model_module": "@jupyter-widgets/controls",
     "model_module_version": "1.5.0",
     "model_name": "ProgressStyleModel",
     "state": {
      "_model_module": "@jupyter-widgets/controls",
      "_model_module_version": "1.5.0",
      "_model_name": "ProgressStyleModel",
      "_view_count": null,
      "_view_module": "@jupyter-widgets/base",
      "_view_module_version": "1.2.0",
      "_view_name": "StyleView",
      "bar_color": null,
      "description_width": ""
     }
    },
    "d92b7dcfa3e947f2b8db7dea642b8bb5": {
     "model_module": "@jupyter-widgets/controls",
     "model_module_version": "1.5.0",
     "model_name": "HBoxModel",
     "state": {
      "_dom_classes": [],
      "_model_module": "@jupyter-widgets/controls",
      "_model_module_version": "1.5.0",
      "_model_name": "HBoxModel",
      "_view_count": null,
      "_view_module": "@jupyter-widgets/controls",
      "_view_module_version": "1.5.0",
      "_view_name": "HBoxView",
      "box_style": "",
      "children": [
       "IPY_MODEL_9a476ff265314577a846a8386e5be1a4",
       "IPY_MODEL_fe5becfc36614c40bf80fc18261a03f6",
       "IPY_MODEL_2c9c456e9d7a4ad68512fc04018d73f6"
      ],
      "layout": "IPY_MODEL_2bc3d74e31b547d392dec828ce39ef70"
     }
    },
    "dda2f8cc19b94756aae367bbe799e3f7": {
     "model_module": "@jupyter-widgets/base",
     "model_module_version": "1.2.0",
     "model_name": "LayoutModel",
     "state": {
      "_model_module": "@jupyter-widgets/base",
      "_model_module_version": "1.2.0",
      "_model_name": "LayoutModel",
      "_view_count": null,
      "_view_module": "@jupyter-widgets/base",
      "_view_module_version": "1.2.0",
      "_view_name": "LayoutView",
      "align_content": null,
      "align_items": null,
      "align_self": null,
      "border": null,
      "bottom": null,
      "display": null,
      "flex": null,
      "flex_flow": null,
      "grid_area": null,
      "grid_auto_columns": null,
      "grid_auto_flow": null,
      "grid_auto_rows": null,
      "grid_column": null,
      "grid_gap": null,
      "grid_row": null,
      "grid_template_areas": null,
      "grid_template_columns": null,
      "grid_template_rows": null,
      "height": null,
      "justify_content": null,
      "justify_items": null,
      "left": null,
      "margin": null,
      "max_height": null,
      "max_width": null,
      "min_height": null,
      "min_width": null,
      "object_fit": null,
      "object_position": null,
      "order": null,
      "overflow": null,
      "overflow_x": null,
      "overflow_y": null,
      "padding": null,
      "right": null,
      "top": null,
      "visibility": null,
      "width": null
     }
    },
    "eb08da17d3e145579b2601c6740dc187": {
     "model_module": "@jupyter-widgets/controls",
     "model_module_version": "1.5.0",
     "model_name": "DescriptionStyleModel",
     "state": {
      "_model_module": "@jupyter-widgets/controls",
      "_model_module_version": "1.5.0",
      "_model_name": "DescriptionStyleModel",
      "_view_count": null,
      "_view_module": "@jupyter-widgets/base",
      "_view_module_version": "1.2.0",
      "_view_name": "StyleView",
      "description_width": ""
     }
    },
    "f3e7242a0e9346b4ad675f6117f5d826": {
     "model_module": "@jupyter-widgets/base",
     "model_module_version": "1.2.0",
     "model_name": "LayoutModel",
     "state": {
      "_model_module": "@jupyter-widgets/base",
      "_model_module_version": "1.2.0",
      "_model_name": "LayoutModel",
      "_view_count": null,
      "_view_module": "@jupyter-widgets/base",
      "_view_module_version": "1.2.0",
      "_view_name": "LayoutView",
      "align_content": null,
      "align_items": null,
      "align_self": null,
      "border": null,
      "bottom": null,
      "display": null,
      "flex": null,
      "flex_flow": null,
      "grid_area": null,
      "grid_auto_columns": null,
      "grid_auto_flow": null,
      "grid_auto_rows": null,
      "grid_column": null,
      "grid_gap": null,
      "grid_row": null,
      "grid_template_areas": null,
      "grid_template_columns": null,
      "grid_template_rows": null,
      "height": null,
      "justify_content": null,
      "justify_items": null,
      "left": null,
      "margin": null,
      "max_height": null,
      "max_width": null,
      "min_height": null,
      "min_width": null,
      "object_fit": null,
      "object_position": null,
      "order": null,
      "overflow": null,
      "overflow_x": null,
      "overflow_y": null,
      "padding": null,
      "right": null,
      "top": null,
      "visibility": null,
      "width": null
     }
    },
    "fd23e97bc7db4e5aab62e151d6492da4": {
     "model_module": "@jupyter-widgets/base",
     "model_module_version": "1.2.0",
     "model_name": "LayoutModel",
     "state": {
      "_model_module": "@jupyter-widgets/base",
      "_model_module_version": "1.2.0",
      "_model_name": "LayoutModel",
      "_view_count": null,
      "_view_module": "@jupyter-widgets/base",
      "_view_module_version": "1.2.0",
      "_view_name": "LayoutView",
      "align_content": null,
      "align_items": null,
      "align_self": null,
      "border": null,
      "bottom": null,
      "display": null,
      "flex": null,
      "flex_flow": null,
      "grid_area": null,
      "grid_auto_columns": null,
      "grid_auto_flow": null,
      "grid_auto_rows": null,
      "grid_column": null,
      "grid_gap": null,
      "grid_row": null,
      "grid_template_areas": null,
      "grid_template_columns": null,
      "grid_template_rows": null,
      "height": null,
      "justify_content": null,
      "justify_items": null,
      "left": null,
      "margin": null,
      "max_height": null,
      "max_width": null,
      "min_height": null,
      "min_width": null,
      "object_fit": null,
      "object_position": null,
      "order": null,
      "overflow": null,
      "overflow_x": null,
      "overflow_y": null,
      "padding": null,
      "right": null,
      "top": null,
      "visibility": null,
      "width": null
     }
    },
    "fe5becfc36614c40bf80fc18261a03f6": {
     "model_module": "@jupyter-widgets/controls",
     "model_module_version": "1.5.0",
     "model_name": "FloatProgressModel",
     "state": {
      "_dom_classes": [],
      "_model_module": "@jupyter-widgets/controls",
      "_model_module_version": "1.5.0",
      "_model_name": "FloatProgressModel",
      "_view_count": null,
      "_view_module": "@jupyter-widgets/controls",
      "_view_module_version": "1.5.0",
      "_view_name": "ProgressView",
      "bar_style": "success",
      "description": "",
      "description_tooltip": null,
      "layout": "IPY_MODEL_f3e7242a0e9346b4ad675f6117f5d826",
      "max": 462,
      "min": 0,
      "orientation": "horizontal",
      "style": "IPY_MODEL_7fc426c0e3c0425ba2b9168c7b264c24",
      "value": 462
     }
    }
   }
  }
 },
 "nbformat": 4,
 "nbformat_minor": 0
}
