{
 "cells": [
  {
   "cell_type": "code",
   "execution_count": 27,
   "metadata": {},
   "outputs": [
    {
     "name": "stderr",
     "output_type": "stream",
     "text": [
      "[nltk_data] Downloading package stopwords to C:\\Users\\Ari\n",
      "[nltk_data]     Widyatama\\AppData\\Roaming\\nltk_data...\n",
      "[nltk_data]   Package stopwords is already up-to-date!\n"
     ]
    },
    {
     "data": {
      "text/plain": [
       "True"
      ]
     },
     "execution_count": 27,
     "metadata": {},
     "output_type": "execute_result"
    }
   ],
   "source": [
    "from fastapi import FastAPI\n",
    "import pandas as pd\n",
    "import numpy as np\n",
    "import tensorflow as tf\n",
    "import nltk\n",
    "from nltk.corpus import stopwords\n",
    "from Sastrawi.Stemmer.StemmerFactory import StemmerFactory\n",
    "import pickle\n",
    "\n",
    "nltk.download('stopwords')"
   ]
  },
  {
   "cell_type": "code",
   "execution_count": 28,
   "metadata": {},
   "outputs": [],
   "source": [
    "app = FastAPI()"
   ]
  },
  {
   "cell_type": "code",
   "execution_count": 29,
   "metadata": {},
   "outputs": [],
   "source": [
    "#inialization stopWords and Steamer\n",
    "stopWords = stopwords.words('indonesian')\n",
    "\n",
    "factory = StemmerFactory()\n",
    "stemmer = factory.create_stemmer()\n"
   ]
  },
  {
   "cell_type": "markdown",
   "metadata": {},
   "source": [
    "Import data and Model"
   ]
  },
  {
   "cell_type": "code",
   "execution_count": 30,
   "metadata": {},
   "outputs": [],
   "source": [
    "with open('./data/dataset.pkl', 'rb') as file:\n",
    "    patterns = pickle.load(file)"
   ]
  },
  {
   "cell_type": "code",
   "execution_count": 31,
   "metadata": {},
   "outputs": [
    {
     "name": "stderr",
     "output_type": "stream",
     "text": [
      "WARNING:absl:Compiled the loaded model, but the compiled metrics have yet to be built. `model.compile_metrics` will be empty until you train or evaluate the model.\n"
     ]
    }
   ],
   "source": [
    "modelChatbot = tf.keras.models.load_model('./model/chatbotModel.h5')"
   ]
  },
  {
   "cell_type": "code",
   "execution_count": 32,
   "metadata": {},
   "outputs": [
    {
     "name": "stderr",
     "output_type": "stream",
     "text": [
      "WARNING:absl:Compiled the loaded model, but the compiled metrics have yet to be built. `model.compile_metrics` will be empty until you train or evaluate the model.\n"
     ]
    }
   ],
   "source": [
    "modelClass = tf.keras.models.load_model('./model/classfication.h5')"
   ]
  },
  {
   "cell_type": "code",
   "execution_count": 33,
   "metadata": {},
   "outputs": [],
   "source": [
    "with open('./data/responses.pkl','rb') as file:\n",
    "    responses = pickle.load(file)"
   ]
  },
  {
   "cell_type": "code",
   "execution_count": 34,
   "metadata": {},
   "outputs": [],
   "source": [
    "with open('./data/labelVocab.pkl', 'rb') as file:\n",
    "    labelVocab = pickle.load(file)\n"
   ]
  },
  {
   "cell_type": "code",
   "execution_count": 35,
   "metadata": {},
   "outputs": [],
   "source": [
    "#standardize text to all lowercase letters, cut stopwords and symbols\n",
    "def standardizeFunc(sentence):\n",
    "    stopwords = stopWords\n",
    "    \n",
    "    sentence = tf.strings.lower(sentence)\n",
    "\n",
    "    for word in stopwords:\n",
    "        if word[0] == \"'\":\n",
    "            sentence = tf.strings.regex_replace(sentence, rf\"{word}\\b\", \"\")\n",
    "        else:\n",
    "            sentence = tf.strings.regex_replace(sentence, rf\"\\b{word}\\b\", \"\")\n",
    "    sentence = tf.strings.regex_replace(sentence, r'[!\"#$%&()\\*\\+,-\\./:;<=>?@\\[\\\\\\]^_`{|}~\\']', \"\")\n",
    "\n",
    "    return sentence"
   ]
  },
  {
   "cell_type": "code",
   "execution_count": 36,
   "metadata": {},
   "outputs": [],
   "source": [
    "#create a vectorizer function for the text that will be input to predict the model\n",
    "maxLeght = 30\n",
    "def fitVectorizer(trainSentences, standardizeFunc):\n",
    "  vectorizer = tf.keras.layers.TextVectorization(\n",
    "    standardize=standardizeFunc,\n",
    "    output_sequence_length=maxLeght\n",
    "  )\n",
    "\n",
    "  vectorizer.adapt(trainSentences)\n",
    "  return vectorizer"
   ]
  },
  {
   "cell_type": "code",
   "execution_count": 37,
   "metadata": {},
   "outputs": [],
   "source": [
    "#create a vertoriser by providing question data to the train for adapt.\n",
    "vectorizer = fitVectorizer(patterns, standardizeFunc)"
   ]
  },
  {
   "cell_type": "code",
   "execution_count": 38,
   "metadata": {},
   "outputs": [
    {
     "name": "stdout",
     "output_type": "stream",
     "text": [
      "204\n"
     ]
    }
   ],
   "source": [
    "vocabSize = vectorizer.vocabulary_size()\n",
    "print(vocabSize)"
   ]
  },
  {
   "cell_type": "code",
   "execution_count": 39,
   "metadata": {},
   "outputs": [
    {
     "name": "stdout",
     "output_type": "stream",
     "text": [
      "Loaded vocabulary: ['pahit_di_mulut', 'menular', 'mengelola_stres', 'genetik', 'air_dingin', 'soda', 'mengobati', 'makanan_pemicu', 'faktor_umur', 'bahaya', 'tidur_dan_berbaring_setelah_makan', 'sesak_napas', 'pengaruh_asam_lambung_pada_kehidupan', 'mual', 'minumam_beresiko', 'kopi', 'kematian', 'gejala', 'alkohol', 'rekomendasi_buah', 'perut_kembung', 'penyakit_turunan', 'panas_di_dada', 'olahraga', 'merokok', 'kanker', 'waktu_makan_terbaik', 'thanks', 'sembuh', 'pola_hidup_pengaruh_asam_lambung', 'penyebab', 'pedas', 'makanan_penunjang', 'makan tidak teratur', 'definisi', 'berat_badan', 'bahaya_dari_diet', 'nasi_putih', 'menghindari', 'kentang_goreng', 'kambuh', 'diagnosa', 'cemilan_sehat', 'bersendawa', 'asam', 'tinggi_badan', 'tanda_parah', 'sulit_menelan', 'stress', 'sakit_tenggorokan', 'pychan', 'mengatasi_rasa_perih_di_ulu_hati', 'makanan_berminyak', 'madu_meredakan', 'maag', 'konsumsi_obat', 'kondisi_kritis', 'jenis_kelamin', 'hidup_sehat_untuk_penderita', 'greeting', 'diet_vegetarian', 'cokelat', 'cara_Kerja', 'berlemak', 'air_kelapa', 'goodbye']\n"
     ]
    }
   ],
   "source": [
    "#retrieves data to be adapted to the labelEncoder.\n",
    "labelEncoder = tf.keras.layers.StringLookup(num_oov_indices=0)\n",
    "labelEncoder.set_vocabulary(labelVocab)\n",
    "\n",
    "print(f'Loaded vocabulary: {labelEncoder.get_vocabulary()}')"
   ]
  },
  {
   "cell_type": "code",
   "execution_count": 40,
   "metadata": {},
   "outputs": [],
   "source": [
    "#determine the minimum confidence and provide response results based on tags\n",
    "def getResponse(predictTag, confidence):\n",
    "    if confidence < 0.55:\n",
    "        return \"Maaf, input yang Anda masukkan kurang jelas.\"\n",
    "    return np.random.choice(responses[predictTag])"
   ]
  },
  {
   "cell_type": "code",
   "execution_count": 41,
   "metadata": {},
   "outputs": [],
   "source": [
    "#create functions that accept input for preprocessing, prediction, and return response\n",
    "def showRespon(input):\n",
    "    stemming = stemmer.stem(input)\n",
    "    inputA = vectorizer([stemming])\n",
    "    prediction = modelChatbot.predict(inputA)\n",
    "\n",
    "    predictClassIndex = np.argmax(prediction, axis=-1)\n",
    "    confidence = prediction[0][predictClassIndex[0]]\n",
    "    predictTag = labelEncoder.get_vocabulary()[predictClassIndex[0]]\n",
    "    response = getResponse(predictTag, confidence)\n",
    "\n",
    "    return response\n"
   ]
  },
  {
   "cell_type": "code",
   "execution_count": 42,
   "metadata": {},
   "outputs": [
    {
     "name": "stdout",
     "output_type": "stream",
     "text": [
      "\u001b[1m1/1\u001b[0m \u001b[32m━━━━━━━━━━━━━━━━━━━━\u001b[0m\u001b[37m\u001b[0m \u001b[1m1s\u001b[0m 588ms/step\n",
      "Response: Banyak jenis obat memiliki efek samping yang dapat mengganggu sistem pencernaan, termasuk meningkatkan produksi asam lambung atau merusak lapisan pelindung lambung.\n",
      "\n",
      "1. Obat antiinflamasi nonsteroid (OAINS): Obat seperti ibuprofen, naproxen, dan aspirin sering digunakan untuk meredakan nyeri dan peradangan. Namun, obat-obatan ini dapat mengiritasi lapisan lambung dan meningkatkan produksi asam lambung.\n",
      "\n",
      "2. Aspirin: Aspirin dosis rendah sering digunakan untuk mencegah serangan jantung dan stroke. Namun, aspirin juga dapat meningkatkan risiko perdarahan lambung dan iritasi.\n",
      "\n",
      "3. Kortikosteroid: Obat ini sering digunakan untuk mengobati peradangan dan penyakit autoimun. Namun, penggunaan jangka panjang kortikosteroid dapat meningkatkan risiko osteoporosis, meningkatkan tekanan darah, dan juga dapat mengganggu produksi asam lambung.\n",
      "\n",
      "4. Bisfosfonat: Obat ini digunakan untuk mengobati osteoporosis. Beberapa orang yang mengonsumsi bisfosfonat mengalami gejala seperti mual, muntah, dan nyeri ulu hati.\n",
      "\n",
      "5. Beberapa jenis antibiotik: Beberapa antibiotik dapat mengganggu keseimbangan bakteri baik dalam saluran pencernaan, sehingga meningkatkan risiko infeksi dan peradangan.\n"
     ]
    }
   ],
   "source": [
    "testInput = \"apakah sering konsumsi obat dapat memperparah asam lambung\"\n",
    "\n",
    "response = showRespon(testInput)\n",
    "\n",
    "print(f\"Response: {response}\")"
   ]
  },
  {
   "cell_type": "code",
   "execution_count": 43,
   "metadata": {},
   "outputs": [],
   "source": [
    "#function to get prediction result based on input\n",
    "def predictAsamlambung(input_data):\n",
    "    if isinstance(input_data, dict):\n",
    "        input_data = pd.DataFrame([input_data])  \n",
    "    \n",
    "    prediction = modelClass.predict(input_data)\n",
    "    predictedPercentage = prediction[0][0]\n",
    "    \n",
    "    if predictedPercentage >= 0.5:\n",
    "        predictedlabel = \"Ya\"\n",
    "        lifestyle = (\n",
    "            \"Anda terdeteksi terkena Asam Lambung, anda dapat berkonsultasi lebih lanjut melalui Chatbot!\\n\"\n",
    "            \"Terapkan Pola Hidup Sehat berikut ini untuk meredakan gejala Asam Lambung:\\n\\n\"\n",
    "\n",
    "            \"1. Menurunkan Berat Badan\\n\"\n",
    "            \"Obesitas adalah salah satu penyebab utama GERD. Lemak perut berlebih memberikan tekanan pada lambung, sehingga mendorong asam lambung naik ke kerongkongan.\\n\"\n",
    "            \"- Terapkan pola makan sehat dengan rendah lemak dan kalori.\\n\"\n",
    "            \"- Rutin berolahraga untuk menjaga berat badan ideal.\\n\\n\"\n",
    "            \n",
    "            \"2. Hindari Makanan Pemicu Refluks\\n\"\n",
    "            \"Banyak sekali makanan yang mudah memicu refluks asam. Jika kamu mengidap penyakit asam lambung, sebaiknya hindari jenis makanan berikut:\\n\"\n",
    "            \"- Makanan berlemak dan pedas.\\n\"\n",
    "            \"- Makanan asam (jeruk, tomat).\\n\"\n",
    "            \"- Minuman berkafein atau berkarbonasi (kopi, soda).\\n\"\n",
    "            \"- Cokelat, daun mint, dan bawang.\\n\"\n",
    "            \"Hindari atau kurangi konsumsi makanan tersebut untuk mencegah gejala memburuk.\\n\\n\"\n",
    "\n",
    "            \"3. Makan dalam Porsi Kecil\\n\"\n",
    "            \"Makan dalam porsi besar dapat memberikan tekanan lebih pada otot kerongkongan bawah dan memicu refluks asam. Jadi, makanlah dalam porsi kecil.\\n\\n\"\n",
    "\n",
    "            \"4. Jangan Berbaring Setelah Makan\\n\"\n",
    "            \"Berbaring setelah makan sering menjadi kebiasaan yang banyak orang tidak sadari. Padahal, kebiasaan yang satu ini menjadi salah satu penyebab utama naiknya asam lambung.\\n\"\n",
    "            \"Tunggu minimal 2–3 jam sebelum berbaring atau tidur.\\n\\n\"\n",
    "\n",
    "            \"5. Jangan Merokok\\n\"\n",
    "            \"Beberapa penelitian menemukan bahwa nikotin dapat mengendurkan otot-otot kerongkongan bagian bawah dan juga dapat mengganggu kemampuan air liur untuk membersihkan asam dari kerongkongan.\\n\\n\"\n",
    "\n",
    "            \"6. Hindari Alkohol\\n\"\n",
    "            \"Alkohol dapat meningkatkan produksi asam lambung dan mengiritasi kerongkongan. Batasi atau hindari konsumsi alkohol untuk mengelola gejala.\\n\\n\"\n",
    "\n",
    "            \"7. Perhatikan Obat yang Dikonsumsi\\n\"\n",
    "            \"Beberapa obat ini mampu melemaskan otot kerongkongan bagian bawah, mengganggu proses pencernaan, atau mengiritasi kerongkongan yang sudah meradang. Obat-obatan ini seperti:\\n\"\n",
    "            \"- Obat antiinflamasi non-steroid.\\n\"\n",
    "            \"- Penghambat saluran kalsium untuk hipertensi.\\n\"\n",
    "            \"- Obat asma tertentu, antibiotik, atau zat besi.\\n\"\n",
    "            \"Jika sedang mengonsumsi obat ini, konsultasikan dengan dokter agar lebih aman.\\n\\n\"\n",
    "\n",
    "            \"8. Kenakan Pakaian Longgar\\n\"\n",
    "            \"Hindari pakaian ketat atau ikat pinggang yang menekan perut karena dapat memicu naiknya asam lambung.\"\n",
    "        )\n",
    "    else:\n",
    "        predictedlabel = \"Tidak\"\n",
    "        lifestyle = (\n",
    "            \"Anda terdeteksi tidak terkena Asam Lambung, jika ada pertanyaan lebih lanjut, silahkan konsultasikan melalui Chatbot!\\n\"\n",
    "            \"Untuk Selalu terhindar dari Asam Lambung, Anda dapat menjaga lambung agar tetap sehat dengan menerapkan pola hidup sehat berikut ini:\\n\\n\"\n",
    "            \n",
    "            \"1. Cukupi Asupan Cairan\\n\"\n",
    "            \"Minumlah air putih dalam jumlah yang cukup setiap hari untuk membantu proses pencernaan dan menjaga lambung tetap sehat. Disarankan mengonsumsi 6-8 gelas air putih setiap hari.\\n\\n\"\n",
    "            \n",
    "            \"2. Makan Tepat Waktu\\n\"\n",
    "            \"Makanlah tepat waktu agar lambung senantiasa sehat. Makan dengan jadwal yang tidak teratur, bisa meningkatkan refluks asam lambung, hingga memicu gejala maag pada pengidapnya. Oleh sebab itu, konsumsi makanan dan camilan sehat secara teratur. Lalu, usahakan untuk duduk saat makan, dan makan pada waktu yang sama setiap harinya.\\n\\n\"\n",
    "            \n",
    "            \"3. Sempatkan waktu untuk berolahraga\\n\"\n",
    "            \"Olahraga tidak hanya dapat memperkuat tulang dan otot-otot tubuh saja. Aktivitas fisik yang teratur juga bisa menjaga makanan tetap bergerak melalui sistem pencernaan, sehingga dapat mencegah sembelit serta masalah pencernaan lainnya. Di samping itu, olahraga juga bisa mempertahankan berat badan yang ideal yang baik untuk sistem pencernaan.\\n\\n\"\n",
    "            \n",
    "            \"4. Hindari Asupan Alkohol dan Rokok\\n\"\n",
    "            \"Hindari kebiasaan mengonsumsi alkohol dan merokok. Dari kedua kebiasaan ini bisa mengganggu fungsi lambung dan sistem pencernaan secara keseluruhan.\\n\\n\"\n",
    "            \n",
    "            \"5. Kurangi Makanan Berlemak\\n\"\n",
    "            \"Makanan berlemak dapat memperlambat proses pencernaan dan meningkatkan risiko gangguan lambung. Pilih makanan dengan kandungan lemak sehat seperti alpukat atau kacang-kacangan, tetapi tetap dalam porsi yang moderat.\\n\\n\"\n",
    "            \n",
    "            \"6. Makan makanan yang mengandung Serat\\n\"\n",
    "            \"Serat berperan penting dalam menjaga kesehatan saluran pencernaan, termasuk kesehatan lambung. Kamu bisa memperoleh asupan serat dari buah-buahan, sayuran, kacang-kacangan, dan biji-bijian.\\n\\n\"\n",
    "            \n",
    "            \"7. Hindari Konsumsi Makanan Pedas dan Asam Berlebihan\\n\"\n",
    "            \"Walaupun makanan pedas dan asam menggugah selera, konsumsinya secara berlebihan dapat mengiritasi lambung. Batasi konsumsi makanan ini untuk menjaga keseimbangan sistem pencernaan.\\n\\n\"\n",
    "            \n",
    "            \"8. Porsi Makan yang Seimbang\\n\"\n",
    "            \"Hindari makan berlebihan dalam satu waktu. Lebih baik makan dengan porsi kecil namun sering, sehingga lambung tidak bekerja terlalu keras.\"\n",
    "        )\n",
    "    \n",
    "    return predictedlabel, lifestyle"
   ]
  },
  {
   "cell_type": "code",
   "execution_count": 44,
   "metadata": {},
   "outputs": [],
   "source": [
    "#function to match the input data with the data used to train the previous model\n",
    "def userInput(umur,bb,rokok,polaMakan,makanPedas,minumSoda,tidurMakan,olahraga,stres,obat,makanLemak,minumKopi,minumAlkohol,\n",
    "            mual,perutKembung,sakitTenggorokan,kesulitanMenelan,tidakAda,sendawa,panasDada,nyeriPerut):\n",
    "    inputData = {\n",
    "        'umur': umur,\n",
    "        'bb': bb, #Berat Badan\n",
    "        'merokok': rokok, #Tidak = 0, Iya = 1\n",
    "        'polaMakan': polaMakan, #Tidak = 0, Iya =1\n",
    "        'makanPedas': makanPedas, #Skala 1 - 5\n",
    "        'minumSoda': minumSoda, #Skala 1 - 5\n",
    "        'tidurSetelahMakan': tidurMakan, #Skala 1 - 5\n",
    "        'olahraga': olahraga, #Skala 1 - 5\n",
    "        'strees': stres, #Skala 1 - 5\n",
    "        'obatObatan': obat, #Skala 1 - 5\n",
    "        'makanLemak': makanLemak, #Skala 1 - 5\n",
    "        'minumKopi': minumKopi, #Skala 1 - 5\n",
    "        'minumAlkohol':minumAlkohol, #Skala 1 - 5\n",
    "        'Merasa mual jika Stress': mual, #Ada = 1, Tidak Ada = 0\n",
    "        'Perut kembung': perutKembung, #Ada = 1, Tidak Ada = 0\n",
    "        'Sakit tenggorokan atau suara serak': sakitTenggorokan, #Ada = 1, Tidak Ada = 0\n",
    "        'Kesulitan menelan makanan': kesulitanMenelan, #Ada = 1, Tidak Ada = 0\n",
    "        'Tidak ada':tidakAda, #Ada = 1, Tidak Ada = 0\n",
    "        'Sering Bersendawa':sendawa, #Ada = 1, Tidak Ada = 0\n",
    "        'Rasa panas di dada setelah makan atau saat berbaring':panasDada, #Ada = 1, Tidak Ada = 0\n",
    "        'Nyeri di bagian atas perut atau dada':nyeriPerut #Ada = 1, Tidak Ada = 0\n",
    "    }\n",
    "    predictedlabel, lifestyle = predictAsamlambung(inputData)\n",
    "\n",
    "    return  predictedlabel, lifestyle\n"
   ]
  },
  {
   "cell_type": "markdown",
   "metadata": {},
   "source": [
    "Test predict"
   ]
  },
  {
   "cell_type": "code",
   "execution_count": 45,
   "metadata": {},
   "outputs": [
    {
     "data": {
      "text/html": [
       "<div>\n",
       "<style scoped>\n",
       "    .dataframe tbody tr th:only-of-type {\n",
       "        vertical-align: middle;\n",
       "    }\n",
       "\n",
       "    .dataframe tbody tr th {\n",
       "        vertical-align: top;\n",
       "    }\n",
       "\n",
       "    .dataframe thead th {\n",
       "        text-align: right;\n",
       "    }\n",
       "</style>\n",
       "<table border=\"1\" class=\"dataframe\">\n",
       "  <thead>\n",
       "    <tr style=\"text-align: right;\">\n",
       "      <th></th>\n",
       "      <th>umur</th>\n",
       "      <th>bb</th>\n",
       "      <th>merokok</th>\n",
       "      <th>polaMakan</th>\n",
       "      <th>makanPedas</th>\n",
       "      <th>minumSoda</th>\n",
       "      <th>tidurSetelahMakan</th>\n",
       "      <th>olahraga</th>\n",
       "      <th>strees</th>\n",
       "      <th>obatObatan</th>\n",
       "      <th>...</th>\n",
       "      <th>minumKopi</th>\n",
       "      <th>minumAlkohol</th>\n",
       "      <th>Merasa mual jika Stress</th>\n",
       "      <th>Sering Bersendawa</th>\n",
       "      <th>Perut kembung</th>\n",
       "      <th>Nyeri di bagian atas perut atau dada</th>\n",
       "      <th>Tidak ada</th>\n",
       "      <th>Kesulitan menelan makanan</th>\n",
       "      <th>Sakit tenggorokan atau suara serak</th>\n",
       "      <th>Rasa panas di dada setelah makan atau saat berbaring</th>\n",
       "    </tr>\n",
       "  </thead>\n",
       "  <tbody>\n",
       "    <tr>\n",
       "      <th>0</th>\n",
       "      <td>20</td>\n",
       "      <td>67</td>\n",
       "      <td>0</td>\n",
       "      <td>1</td>\n",
       "      <td>5</td>\n",
       "      <td>2</td>\n",
       "      <td>4</td>\n",
       "      <td>2</td>\n",
       "      <td>3</td>\n",
       "      <td>2</td>\n",
       "      <td>...</td>\n",
       "      <td>2</td>\n",
       "      <td>1</td>\n",
       "      <td>0</td>\n",
       "      <td>0</td>\n",
       "      <td>1</td>\n",
       "      <td>0</td>\n",
       "      <td>0</td>\n",
       "      <td>0</td>\n",
       "      <td>0</td>\n",
       "      <td>0</td>\n",
       "    </tr>\n",
       "    <tr>\n",
       "      <th>1</th>\n",
       "      <td>22</td>\n",
       "      <td>52</td>\n",
       "      <td>0</td>\n",
       "      <td>0</td>\n",
       "      <td>1</td>\n",
       "      <td>3</td>\n",
       "      <td>1</td>\n",
       "      <td>2</td>\n",
       "      <td>5</td>\n",
       "      <td>1</td>\n",
       "      <td>...</td>\n",
       "      <td>1</td>\n",
       "      <td>1</td>\n",
       "      <td>0</td>\n",
       "      <td>0</td>\n",
       "      <td>0</td>\n",
       "      <td>0</td>\n",
       "      <td>1</td>\n",
       "      <td>0</td>\n",
       "      <td>0</td>\n",
       "      <td>0</td>\n",
       "    </tr>\n",
       "    <tr>\n",
       "      <th>2</th>\n",
       "      <td>21</td>\n",
       "      <td>54</td>\n",
       "      <td>0</td>\n",
       "      <td>0</td>\n",
       "      <td>3</td>\n",
       "      <td>2</td>\n",
       "      <td>2</td>\n",
       "      <td>3</td>\n",
       "      <td>3</td>\n",
       "      <td>2</td>\n",
       "      <td>...</td>\n",
       "      <td>2</td>\n",
       "      <td>1</td>\n",
       "      <td>0</td>\n",
       "      <td>0</td>\n",
       "      <td>1</td>\n",
       "      <td>0</td>\n",
       "      <td>0</td>\n",
       "      <td>0</td>\n",
       "      <td>1</td>\n",
       "      <td>0</td>\n",
       "    </tr>\n",
       "    <tr>\n",
       "      <th>3</th>\n",
       "      <td>19</td>\n",
       "      <td>40</td>\n",
       "      <td>0</td>\n",
       "      <td>1</td>\n",
       "      <td>5</td>\n",
       "      <td>3</td>\n",
       "      <td>5</td>\n",
       "      <td>2</td>\n",
       "      <td>5</td>\n",
       "      <td>5</td>\n",
       "      <td>...</td>\n",
       "      <td>2</td>\n",
       "      <td>1</td>\n",
       "      <td>1</td>\n",
       "      <td>1</td>\n",
       "      <td>0</td>\n",
       "      <td>1</td>\n",
       "      <td>0</td>\n",
       "      <td>1</td>\n",
       "      <td>0</td>\n",
       "      <td>0</td>\n",
       "    </tr>\n",
       "    <tr>\n",
       "      <th>4</th>\n",
       "      <td>20</td>\n",
       "      <td>48</td>\n",
       "      <td>0</td>\n",
       "      <td>0</td>\n",
       "      <td>1</td>\n",
       "      <td>2</td>\n",
       "      <td>2</td>\n",
       "      <td>3</td>\n",
       "      <td>2</td>\n",
       "      <td>2</td>\n",
       "      <td>...</td>\n",
       "      <td>3</td>\n",
       "      <td>1</td>\n",
       "      <td>0</td>\n",
       "      <td>0</td>\n",
       "      <td>1</td>\n",
       "      <td>0</td>\n",
       "      <td>0</td>\n",
       "      <td>0</td>\n",
       "      <td>0</td>\n",
       "      <td>0</td>\n",
       "    </tr>\n",
       "  </tbody>\n",
       "</table>\n",
       "<p>5 rows × 21 columns</p>\n",
       "</div>"
      ],
      "text/plain": [
       "   umur  bb  merokok  polaMakan  makanPedas  minumSoda  tidurSetelahMakan  \\\n",
       "0    20  67        0          1           5          2                  4   \n",
       "1    22  52        0          0           1          3                  1   \n",
       "2    21  54        0          0           3          2                  2   \n",
       "3    19  40        0          1           5          3                  5   \n",
       "4    20  48        0          0           1          2                  2   \n",
       "\n",
       "   olahraga  strees  obatObatan  ...  minumKopi  minumAlkohol  \\\n",
       "0         2       3           2  ...          2             1   \n",
       "1         2       5           1  ...          1             1   \n",
       "2         3       3           2  ...          2             1   \n",
       "3         2       5           5  ...          2             1   \n",
       "4         3       2           2  ...          3             1   \n",
       "\n",
       "   Merasa mual jika Stress  Sering Bersendawa  Perut kembung  \\\n",
       "0                        0                  0              1   \n",
       "1                        0                  0              0   \n",
       "2                        0                  0              1   \n",
       "3                        1                  1              0   \n",
       "4                        0                  0              1   \n",
       "\n",
       "   Nyeri di bagian atas perut atau dada  Tidak ada  Kesulitan menelan makanan  \\\n",
       "0                                     0          0                          0   \n",
       "1                                     0          1                          0   \n",
       "2                                     0          0                          0   \n",
       "3                                     1          0                          1   \n",
       "4                                     0          0                          0   \n",
       "\n",
       "   Sakit tenggorokan atau suara serak  \\\n",
       "0                                   0   \n",
       "1                                   0   \n",
       "2                                   1   \n",
       "3                                   0   \n",
       "4                                   0   \n",
       "\n",
       "   Rasa panas di dada setelah makan atau saat berbaring  \n",
       "0                                                  0     \n",
       "1                                                  0     \n",
       "2                                                  0     \n",
       "3                                                  0     \n",
       "4                                                  0     \n",
       "\n",
       "[5 rows x 21 columns]"
      ]
     },
     "execution_count": 45,
     "metadata": {},
     "output_type": "execute_result"
    }
   ],
   "source": [
    "dataDF = pd.read_csv(\"./datasets/testAsamLambung.csv\")\n",
    "dataDF"
   ]
  },
  {
   "cell_type": "code",
   "execution_count": 46,
   "metadata": {},
   "outputs": [
    {
     "name": "stdout",
     "output_type": "stream",
     "text": [
      "\u001b[1m1/1\u001b[0m \u001b[32m━━━━━━━━━━━━━━━━━━━━\u001b[0m\u001b[37m\u001b[0m \u001b[1m0s\u001b[0m 144ms/step\n",
      "Predicted Asam Lambung: Ya\n",
      "\u001b[1m1/1\u001b[0m \u001b[32m━━━━━━━━━━━━━━━━━━━━\u001b[0m\u001b[37m\u001b[0m \u001b[1m0s\u001b[0m 85ms/step\n",
      "Predicted Asam Lambung: Tidak\n",
      "\u001b[1m1/1\u001b[0m \u001b[32m━━━━━━━━━━━━━━━━━━━━\u001b[0m\u001b[37m\u001b[0m \u001b[1m0s\u001b[0m 87ms/step\n",
      "Predicted Asam Lambung: Ya\n",
      "\u001b[1m1/1\u001b[0m \u001b[32m━━━━━━━━━━━━━━━━━━━━\u001b[0m\u001b[37m\u001b[0m \u001b[1m0s\u001b[0m 89ms/step\n",
      "Predicted Asam Lambung: Ya\n",
      "\u001b[1m1/1\u001b[0m \u001b[32m━━━━━━━━━━━━━━━━━━━━\u001b[0m\u001b[37m\u001b[0m \u001b[1m0s\u001b[0m 100ms/step\n",
      "Predicted Asam Lambung: Ya\n"
     ]
    }
   ],
   "source": [
    "dataList = dataDF.values.tolist()\n",
    "\n",
    "for i in dataList:\n",
    "    predictedlabel, lifestyle = userInput(*i)\n",
    "\n",
    "    print(f\"Predicted Asam Lambung: {predictedlabel}\")\n"
   ]
  },
  {
   "cell_type": "code",
   "execution_count": 47,
   "metadata": {},
   "outputs": [
    {
     "name": "stdout",
     "output_type": "stream",
     "text": [
      "\u001b[1m1/1\u001b[0m \u001b[32m━━━━━━━━━━━━━━━━━━━━\u001b[0m\u001b[37m\u001b[0m \u001b[1m0s\u001b[0m 80ms/step\n",
      "Predicted Asam Lambung: Tidak\n",
      "Anda terdeteksi tidak terkena Asam Lambung, jika ada pertanyaan lebih lanjut, silahkan konsultasikan melalui Chatbot!\n",
      "Untuk Selalu terhindar dari Asam Lambung, Anda dapat menjaga lambung agar tetap sehat dengan menerapkan pola hidup sehat berikut ini:\n",
      "\n",
      "1. Cukupi Asupan Cairan\n",
      "Minumlah air putih dalam jumlah yang cukup setiap hari untuk membantu proses pencernaan dan menjaga lambung tetap sehat. Disarankan mengonsumsi 6-8 gelas air putih setiap hari.\n",
      "\n",
      "2. Makan Tepat Waktu\n",
      "Makanlah tepat waktu agar lambung senantiasa sehat. Makan dengan jadwal yang tidak teratur, bisa meningkatkan refluks asam lambung, hingga memicu gejala maag pada pengidapnya. Oleh sebab itu, konsumsi makanan dan camilan sehat secara teratur. Lalu, usahakan untuk duduk saat makan, dan makan pada waktu yang sama setiap harinya.\n",
      "\n",
      "3. Sempatkan waktu untuk berolahraga\n",
      "Olahraga tidak hanya dapat memperkuat tulang dan otot-otot tubuh saja. Aktivitas fisik yang teratur juga bisa menjaga makanan tetap bergerak melalui sistem pencernaan, sehingga dapat mencegah sembelit serta masalah pencernaan lainnya. Di samping itu, olahraga juga bisa mempertahankan berat badan yang ideal yang baik untuk sistem pencernaan.\n",
      "\n",
      "4. Hindari Asupan Alkohol dan Rokok\n",
      "Hindari kebiasaan mengonsumsi alkohol dan merokok. Dari kedua kebiasaan ini bisa mengganggu fungsi lambung dan sistem pencernaan secara keseluruhan.\n",
      "\n",
      "5. Kurangi Makanan Berlemak\n",
      "Makanan berlemak dapat memperlambat proses pencernaan dan meningkatkan risiko gangguan lambung. Pilih makanan dengan kandungan lemak sehat seperti alpukat atau kacang-kacangan, tetapi tetap dalam porsi yang moderat.\n",
      "\n",
      "6. Makan makanan yang mengandung Serat\n",
      "Serat berperan penting dalam menjaga kesehatan saluran pencernaan, termasuk kesehatan lambung. Kamu bisa memperoleh asupan serat dari buah-buahan, sayuran, kacang-kacangan, dan biji-bijian.\n",
      "\n",
      "7. Hindari Konsumsi Makanan Pedas dan Asam Berlebihan\n",
      "Walaupun makanan pedas dan asam menggugah selera, konsumsinya secara berlebihan dapat mengiritasi lambung. Batasi konsumsi makanan ini untuk menjaga keseimbangan sistem pencernaan.\n",
      "\n",
      "8. Porsi Makan yang Seimbang\n",
      "Hindari makan berlebihan dalam satu waktu. Lebih baik makan dengan porsi kecil namun sering, sehingga lambung tidak bekerja terlalu keras.\n"
     ]
    }
   ],
   "source": [
    "predictedlabel, lifestyle = userInput(21,53,1,0,2,4,1,3,1,2,1,1,1,0,0,0,0,1,0,0,0)\n",
    "\n",
    "print(f\"Predicted Asam Lambung: {predictedlabel}\")\n",
    "print(lifestyle)"
   ]
  },
  {
   "cell_type": "code",
   "execution_count": 48,
   "metadata": {},
   "outputs": [],
   "source": [
    "#API Chatbot\n",
    "@app.post(\"/show_respon/\")\n",
    "async def get_show_respon(input: str):\n",
    "    response = showRespon(input)\n",
    "    return {\"response\": response}"
   ]
  },
  {
   "cell_type": "code",
   "execution_count": 49,
   "metadata": {},
   "outputs": [],
   "source": [
    "#API Classificaton\n",
    "@app.post(\"/user_input/\")\n",
    "async def get_user_input(umur: int, bb: int, rokok: int, polaMakan: int, makanPedas: int, minumSoda: int,\n",
    "                          tidurMakan: int, olahraga: int, stres: int, obat: int, makanLemak: int, minumKopi: int,\n",
    "                          minumAlkohol: int, mual: int, perutKembung: int, sakitTenggorokan: int, kesulitanMenelan: int,\n",
    "                          tidakAda: int, sendawa: int, panasDada: int, nyeriPerut: int):\n",
    "    predictedlabel, lifestyle = userInput(umur, bb, rokok, polaMakan, makanPedas, minumSoda, tidurMakan, olahraga, stres, obat,\n",
    "                               makanLemak, minumKopi, minumAlkohol, mual, perutKembung, sakitTenggorokan, kesulitanMenelan,\n",
    "                               tidakAda, sendawa, panasDada, nyeriPerut)\n",
    "    return {\n",
    "        \"predicted_label\": predictedlabel,\n",
    "        \"lifestyle\": lifestyle\n",
    "    }"
   ]
  }
 ],
 "metadata": {
  "kernelspec": {
   "display_name": "chatbotPhychan-zcRlIu-h",
   "language": "python",
   "name": "python3"
  },
  "language_info": {
   "codemirror_mode": {
    "name": "ipython",
    "version": 3
   },
   "file_extension": ".py",
   "mimetype": "text/x-python",
   "name": "python",
   "nbconvert_exporter": "python",
   "pygments_lexer": "ipython3",
   "version": "3.12.7"
  }
 },
 "nbformat": 4,
 "nbformat_minor": 2
}
